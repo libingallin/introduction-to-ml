{
 "cells": [
  {
   "cell_type": "code",
   "execution_count": 1,
   "metadata": {
    "ExecuteTime": {
     "end_time": "2018-08-09T08:24:50.824682Z",
     "start_time": "2018-08-09T08:24:49.869264Z"
    }
   },
   "outputs": [],
   "source": [
    "# Common imports\n",
    "import pandas as pd\n",
    "import numpy as np\n",
    "import scipy as sp\n",
    "\n",
    "# To plot pretty figures\n",
    "%matplotlib inline\n",
    "import matplotlib\n",
    "import matplotlib.pyplot as plt\n",
    "from matplotlib.colors import ListedColormap\n",
    "\n",
    "cm2 = ListedColormap(['#0000aa', '#ff2020'])\n",
    "cm3 = ListedColormap(['#0000aa', '#ff2020', '#50ff50'])\n",
    "\n",
    "plt.rcParams['axes.labelsize'] = 14\n",
    "plt.rcParams['xtick.labelsize'] = 12\n",
    "plt.rcParams['ytick.labelsize'] = 12\n",
    "\n",
    "import mglearn"
   ]
  },
  {
   "cell_type": "markdown",
   "metadata": {},
   "source": [
    "## 1 分类变量（Categorical Variables）"
   ]
  },
  {
   "cell_type": "markdown",
   "metadata": {},
   "source": [
    "### 1.1 One-hot编码（虚拟变量）"
   ]
  },
  {
   "cell_type": "markdown",
   "metadata": {},
   "source": [
    "One-Hot-Encoding (Dummy variables)"
   ]
  },
  {
   "cell_type": "markdown",
   "metadata": {},
   "source": [
    "将数据转换成分类变量有两种方法：\n",
    "1. pandas\n",
    "2. sklearn"
   ]
  },
  {
   "cell_type": "code",
   "execution_count": 2,
   "metadata": {
    "ExecuteTime": {
     "end_time": "2018-08-09T08:24:50.829681Z",
     "start_time": "2018-08-09T08:24:50.826673Z"
    }
   },
   "outputs": [],
   "source": [
    "from IPython.display import display"
   ]
  },
  {
   "cell_type": "code",
   "execution_count": 8,
   "metadata": {
    "ExecuteTime": {
     "end_time": "2018-08-09T08:29:19.571571Z",
     "start_time": "2018-08-09T08:29:19.458843Z"
    }
   },
   "outputs": [
    {
     "data": {
      "text/html": [
       "<div>\n",
       "<style scoped>\n",
       "    .dataframe tbody tr th:only-of-type {\n",
       "        vertical-align: middle;\n",
       "    }\n",
       "\n",
       "    .dataframe tbody tr th {\n",
       "        vertical-align: top;\n",
       "    }\n",
       "\n",
       "    .dataframe thead th {\n",
       "        text-align: right;\n",
       "    }\n",
       "</style>\n",
       "<table border=\"1\" class=\"dataframe\">\n",
       "  <thead>\n",
       "    <tr style=\"text-align: right;\">\n",
       "      <th></th>\n",
       "      <th>age</th>\n",
       "      <th>workclass</th>\n",
       "      <th>fnlwgt</th>\n",
       "      <th>education</th>\n",
       "      <th>education-num</th>\n",
       "      <th>marital-status</th>\n",
       "      <th>occupation</th>\n",
       "      <th>relationship</th>\n",
       "      <th>race</th>\n",
       "      <th>gender</th>\n",
       "      <th>capital-gain</th>\n",
       "      <th>capital-loss</th>\n",
       "      <th>hours-per-week</th>\n",
       "      <th>native-country</th>\n",
       "      <th>income</th>\n",
       "    </tr>\n",
       "  </thead>\n",
       "  <tbody>\n",
       "    <tr>\n",
       "      <th>0</th>\n",
       "      <td>39</td>\n",
       "      <td>State-gov</td>\n",
       "      <td>77516</td>\n",
       "      <td>Bachelors</td>\n",
       "      <td>13</td>\n",
       "      <td>Never-married</td>\n",
       "      <td>Adm-clerical</td>\n",
       "      <td>Not-in-family</td>\n",
       "      <td>White</td>\n",
       "      <td>Male</td>\n",
       "      <td>2174</td>\n",
       "      <td>0</td>\n",
       "      <td>40</td>\n",
       "      <td>United-States</td>\n",
       "      <td>&lt;=50K</td>\n",
       "    </tr>\n",
       "    <tr>\n",
       "      <th>1</th>\n",
       "      <td>50</td>\n",
       "      <td>Self-emp-not-inc</td>\n",
       "      <td>83311</td>\n",
       "      <td>Bachelors</td>\n",
       "      <td>13</td>\n",
       "      <td>Married-civ-spouse</td>\n",
       "      <td>Exec-managerial</td>\n",
       "      <td>Husband</td>\n",
       "      <td>White</td>\n",
       "      <td>Male</td>\n",
       "      <td>0</td>\n",
       "      <td>0</td>\n",
       "      <td>13</td>\n",
       "      <td>United-States</td>\n",
       "      <td>&lt;=50K</td>\n",
       "    </tr>\n",
       "    <tr>\n",
       "      <th>2</th>\n",
       "      <td>38</td>\n",
       "      <td>Private</td>\n",
       "      <td>215646</td>\n",
       "      <td>HS-grad</td>\n",
       "      <td>9</td>\n",
       "      <td>Divorced</td>\n",
       "      <td>Handlers-cleaners</td>\n",
       "      <td>Not-in-family</td>\n",
       "      <td>White</td>\n",
       "      <td>Male</td>\n",
       "      <td>0</td>\n",
       "      <td>0</td>\n",
       "      <td>40</td>\n",
       "      <td>United-States</td>\n",
       "      <td>&lt;=50K</td>\n",
       "    </tr>\n",
       "    <tr>\n",
       "      <th>3</th>\n",
       "      <td>53</td>\n",
       "      <td>Private</td>\n",
       "      <td>234721</td>\n",
       "      <td>11th</td>\n",
       "      <td>7</td>\n",
       "      <td>Married-civ-spouse</td>\n",
       "      <td>Handlers-cleaners</td>\n",
       "      <td>Husband</td>\n",
       "      <td>Black</td>\n",
       "      <td>Male</td>\n",
       "      <td>0</td>\n",
       "      <td>0</td>\n",
       "      <td>40</td>\n",
       "      <td>United-States</td>\n",
       "      <td>&lt;=50K</td>\n",
       "    </tr>\n",
       "    <tr>\n",
       "      <th>4</th>\n",
       "      <td>28</td>\n",
       "      <td>Private</td>\n",
       "      <td>338409</td>\n",
       "      <td>Bachelors</td>\n",
       "      <td>13</td>\n",
       "      <td>Married-civ-spouse</td>\n",
       "      <td>Prof-specialty</td>\n",
       "      <td>Wife</td>\n",
       "      <td>Black</td>\n",
       "      <td>Female</td>\n",
       "      <td>0</td>\n",
       "      <td>0</td>\n",
       "      <td>40</td>\n",
       "      <td>Cuba</td>\n",
       "      <td>&lt;=50K</td>\n",
       "    </tr>\n",
       "  </tbody>\n",
       "</table>\n",
       "</div>"
      ],
      "text/plain": [
       "   age          workclass  fnlwgt   education  education-num  \\\n",
       "0   39          State-gov   77516   Bachelors             13   \n",
       "1   50   Self-emp-not-inc   83311   Bachelors             13   \n",
       "2   38            Private  215646     HS-grad              9   \n",
       "3   53            Private  234721        11th              7   \n",
       "4   28            Private  338409   Bachelors             13   \n",
       "\n",
       "        marital-status          occupation    relationship    race   gender  \\\n",
       "0        Never-married        Adm-clerical   Not-in-family   White     Male   \n",
       "1   Married-civ-spouse     Exec-managerial         Husband   White     Male   \n",
       "2             Divorced   Handlers-cleaners   Not-in-family   White     Male   \n",
       "3   Married-civ-spouse   Handlers-cleaners         Husband   Black     Male   \n",
       "4   Married-civ-spouse      Prof-specialty            Wife   Black   Female   \n",
       "\n",
       "   capital-gain  capital-loss  hours-per-week  native-country  income  \n",
       "0          2174             0              40   United-States   <=50K  \n",
       "1             0             0              13   United-States   <=50K  \n",
       "2             0             0              40   United-States   <=50K  \n",
       "3             0             0              40   United-States   <=50K  \n",
       "4             0             0              40            Cuba   <=50K  "
      ]
     },
     "metadata": {},
     "output_type": "display_data"
    }
   ],
   "source": [
    "# 文件中没有含有名称的表头，因此header=None\n",
    "# 在names中显示地提供列名称\n",
    "data = pd.read_csv(\n",
    "    'adult.data', header=None, index_col=False,\n",
    "    names=['age', 'workclass', 'fnlwgt', 'education',  'education-num',\n",
    "           'marital-status', 'occupation', 'relationship', 'race', 'gender',\n",
    "           'capital-gain', 'capital-loss', 'hours-per-week', 'native-country',\n",
    "           'income'])\n",
    "# display可以在notebook中输出漂亮的格式\n",
    "display(data.head())"
   ]
  },
  {
   "cell_type": "markdown",
   "metadata": {},
   "source": [
    "将数据集中的label提取出来："
   ]
  },
  {
   "cell_type": "code",
   "execution_count": 22,
   "metadata": {
    "ExecuteTime": {
     "end_time": "2018-08-09T08:46:35.834538Z",
     "start_time": "2018-08-09T08:46:35.826559Z"
    }
   },
   "outputs": [],
   "source": [
    "X = data.iloc[:, :-1]"
   ]
  },
  {
   "cell_type": "code",
   "execution_count": 29,
   "metadata": {
    "ExecuteTime": {
     "end_time": "2018-08-09T08:47:25.272314Z",
     "start_time": "2018-08-09T08:47:25.268332Z"
    }
   },
   "outputs": [],
   "source": [
    "y = data['income']"
   ]
  },
  {
   "cell_type": "markdown",
   "metadata": {},
   "source": [
    "需要检查数据中的分类变量（类别是一样的）："
   ]
  },
  {
   "cell_type": "markdown",
   "metadata": {},
   "source": [
    "**检查列的内容一个好方法是pandas中的Series的`value_counts`函数。**"
   ]
  },
  {
   "cell_type": "code",
   "execution_count": 31,
   "metadata": {
    "ExecuteTime": {
     "end_time": "2018-08-09T08:47:31.653130Z",
     "start_time": "2018-08-09T08:47:31.642158Z"
    }
   },
   "outputs": [
    {
     "data": {
      "text/plain": [
       " Male      21790\n",
       " Female    10771\n",
       "Name: gender, dtype: int64"
      ]
     },
     "execution_count": 31,
     "metadata": {},
     "output_type": "execute_result"
    }
   ],
   "source": [
    "X['gender'].value_counts()"
   ]
  },
  {
   "cell_type": "code",
   "execution_count": 32,
   "metadata": {
    "ExecuteTime": {
     "end_time": "2018-08-09T08:47:32.315231Z",
     "start_time": "2018-08-09T08:47:32.303290Z"
    }
   },
   "outputs": [
    {
     "data": {
      "text/plain": [
       " Private             22696\n",
       " Self-emp-not-inc     2541\n",
       " Local-gov            2093\n",
       " ?                    1836\n",
       " State-gov            1298\n",
       " Self-emp-inc         1116\n",
       " Federal-gov           960\n",
       " Without-pay            14\n",
       " Never-worked            7\n",
       "Name: workclass, dtype: int64"
      ]
     },
     "execution_count": 32,
     "metadata": {},
     "output_type": "execute_result"
    }
   ],
   "source": [
    "X['workclass'].value_counts()"
   ]
  },
  {
   "cell_type": "markdown",
   "metadata": {},
   "source": [
    "> 实际中，应该这样检查所有的列以便确定是有意义的分类数据。"
   ]
  },
  {
   "cell_type": "code",
   "execution_count": 33,
   "metadata": {
    "ExecuteTime": {
     "end_time": "2018-08-09T08:47:36.237898Z",
     "start_time": "2018-08-09T08:47:36.231943Z"
    }
   },
   "outputs": [
    {
     "data": {
      "text/plain": [
       "Index(['age', 'workclass', 'fnlwgt', 'education', 'education-num',\n",
       "       'marital-status', 'occupation', 'relationship', 'race', 'gender',\n",
       "       'capital-gain', 'capital-loss', 'hours-per-week', 'native-country'],\n",
       "      dtype='object')"
      ]
     },
     "execution_count": 33,
     "metadata": {},
     "output_type": "execute_result"
    }
   ],
   "source": [
    "X.columns"
   ]
  },
  {
   "cell_type": "code",
   "execution_count": 34,
   "metadata": {
    "ExecuteTime": {
     "end_time": "2018-08-09T08:47:36.777797Z",
     "start_time": "2018-08-09T08:47:36.771809Z"
    }
   },
   "outputs": [
    {
     "data": {
      "text/plain": [
       "(32561, 14)"
      ]
     },
     "execution_count": 34,
     "metadata": {},
     "output_type": "execute_result"
    }
   ],
   "source": [
    "X.shape"
   ]
  },
  {
   "cell_type": "markdown",
   "metadata": {},
   "source": [
    "**使用`pd.get_dummies()`转换数据**"
   ]
  },
  {
   "cell_type": "code",
   "execution_count": 38,
   "metadata": {
    "ExecuteTime": {
     "end_time": "2018-08-09T08:47:46.318866Z",
     "start_time": "2018-08-09T08:47:46.280971Z"
    }
   },
   "outputs": [],
   "source": [
    "X_dummies = pd.get_dummies(X)"
   ]
  },
  {
   "cell_type": "code",
   "execution_count": 39,
   "metadata": {
    "ExecuteTime": {
     "end_time": "2018-08-09T08:47:47.263283Z",
     "start_time": "2018-08-09T08:47:47.257300Z"
    },
    "scrolled": true
   },
   "outputs": [
    {
     "data": {
      "text/plain": [
       "(32561, 108)"
      ]
     },
     "execution_count": 39,
     "metadata": {},
     "output_type": "execute_result"
    }
   ],
   "source": [
    "X_dummies.shape"
   ]
  },
  {
   "cell_type": "code",
   "execution_count": 45,
   "metadata": {
    "ExecuteTime": {
     "end_time": "2018-08-09T08:58:52.189097Z",
     "start_time": "2018-08-09T08:58:52.184111Z"
    }
   },
   "outputs": [
    {
     "data": {
      "text/plain": [
       "Index(['age', 'fnlwgt', 'education-num', 'capital-gain', 'capital-loss',\n",
       "       'hours-per-week', 'workclass_ ?', 'workclass_ Federal-gov',\n",
       "       'workclass_ Local-gov', 'workclass_ Never-worked',\n",
       "       ...\n",
       "       'native-country_ Portugal', 'native-country_ Puerto-Rico',\n",
       "       'native-country_ Scotland', 'native-country_ South',\n",
       "       'native-country_ Taiwan', 'native-country_ Thailand',\n",
       "       'native-country_ Trinadad&Tobago', 'native-country_ United-States',\n",
       "       'native-country_ Vietnam', 'native-country_ Yugoslavia'],\n",
       "      dtype='object', length=108)"
      ]
     },
     "execution_count": 45,
     "metadata": {},
     "output_type": "execute_result"
    }
   ],
   "source": [
    "X_dummies.columns"
   ]
  },
  {
   "cell_type": "markdown",
   "metadata": {},
   "source": [
    "连续特征没有变化，分类特征的每个可能取值都被扩展成一个新特征。"
   ]
  },
  {
   "cell_type": "markdown",
   "metadata": {},
   "source": [
    "**`pd.get_dummies()`函数将所有数字看作是连续的，不会为其创建虚拟变量。为解决这个问题可以使用`OneHotEncoder`，指定哪些变量是连续的，哪些变量是离散的。也可以将数据框中的数值列转换为字符串。**"
   ]
  },
  {
   "cell_type": "code",
   "execution_count": 65,
   "metadata": {
    "ExecuteTime": {
     "end_time": "2018-08-09T09:13:16.444245Z",
     "start_time": "2018-08-09T09:13:16.432280Z"
    }
   },
   "outputs": [
    {
     "data": {
      "text/html": [
       "<div>\n",
       "<style scoped>\n",
       "    .dataframe tbody tr th:only-of-type {\n",
       "        vertical-align: middle;\n",
       "    }\n",
       "\n",
       "    .dataframe tbody tr th {\n",
       "        vertical-align: top;\n",
       "    }\n",
       "\n",
       "    .dataframe thead th {\n",
       "        text-align: right;\n",
       "    }\n",
       "</style>\n",
       "<table border=\"1\" class=\"dataframe\">\n",
       "  <thead>\n",
       "    <tr style=\"text-align: right;\">\n",
       "      <th></th>\n",
       "      <th>categorical feature</th>\n",
       "      <th>integer feature</th>\n",
       "    </tr>\n",
       "  </thead>\n",
       "  <tbody>\n",
       "    <tr>\n",
       "      <th>0</th>\n",
       "      <td>s</td>\n",
       "      <td>0</td>\n",
       "    </tr>\n",
       "    <tr>\n",
       "      <th>1</th>\n",
       "      <td>f</td>\n",
       "      <td>1</td>\n",
       "    </tr>\n",
       "    <tr>\n",
       "      <th>2</th>\n",
       "      <td>s</td>\n",
       "      <td>2</td>\n",
       "    </tr>\n",
       "    <tr>\n",
       "      <th>3</th>\n",
       "      <td>b</td>\n",
       "      <td>1</td>\n",
       "    </tr>\n",
       "  </tbody>\n",
       "</table>\n",
       "</div>"
      ],
      "text/plain": [
       "  categorical feature  integer feature\n",
       "0                   s                0\n",
       "1                   f                1\n",
       "2                   s                2\n",
       "3                   b                1"
      ]
     },
     "metadata": {},
     "output_type": "display_data"
    }
   ],
   "source": [
    "demo_df = pd.DataFrame({\"integer feature\": [0, 1, 2, 1],\n",
    "                       \"categorical feature\": ['s', 'f', 's', 'b']})\n",
    "display(demo_df)"
   ]
  },
  {
   "cell_type": "markdown",
   "metadata": {},
   "source": [
    "**使用`pd.get_dummies`只会编码字符串，不会改变整数特征。**"
   ]
  },
  {
   "cell_type": "code",
   "execution_count": 66,
   "metadata": {
    "ExecuteTime": {
     "end_time": "2018-08-09T09:14:30.890709Z",
     "start_time": "2018-08-09T09:14:30.878747Z"
    }
   },
   "outputs": [
    {
     "data": {
      "text/html": [
       "<div>\n",
       "<style scoped>\n",
       "    .dataframe tbody tr th:only-of-type {\n",
       "        vertical-align: middle;\n",
       "    }\n",
       "\n",
       "    .dataframe tbody tr th {\n",
       "        vertical-align: top;\n",
       "    }\n",
       "\n",
       "    .dataframe thead th {\n",
       "        text-align: right;\n",
       "    }\n",
       "</style>\n",
       "<table border=\"1\" class=\"dataframe\">\n",
       "  <thead>\n",
       "    <tr style=\"text-align: right;\">\n",
       "      <th></th>\n",
       "      <th>integer feature</th>\n",
       "      <th>categorical feature_b</th>\n",
       "      <th>categorical feature_f</th>\n",
       "      <th>categorical feature_s</th>\n",
       "    </tr>\n",
       "  </thead>\n",
       "  <tbody>\n",
       "    <tr>\n",
       "      <th>0</th>\n",
       "      <td>0</td>\n",
       "      <td>0</td>\n",
       "      <td>0</td>\n",
       "      <td>1</td>\n",
       "    </tr>\n",
       "    <tr>\n",
       "      <th>1</th>\n",
       "      <td>1</td>\n",
       "      <td>0</td>\n",
       "      <td>1</td>\n",
       "      <td>0</td>\n",
       "    </tr>\n",
       "    <tr>\n",
       "      <th>2</th>\n",
       "      <td>2</td>\n",
       "      <td>0</td>\n",
       "      <td>0</td>\n",
       "      <td>1</td>\n",
       "    </tr>\n",
       "    <tr>\n",
       "      <th>3</th>\n",
       "      <td>1</td>\n",
       "      <td>1</td>\n",
       "      <td>0</td>\n",
       "      <td>0</td>\n",
       "    </tr>\n",
       "  </tbody>\n",
       "</table>\n",
       "</div>"
      ],
      "text/plain": [
       "   integer feature  categorical feature_b  categorical feature_f  \\\n",
       "0                0                      0                      0   \n",
       "1                1                      0                      1   \n",
       "2                2                      0                      0   \n",
       "3                1                      1                      0   \n",
       "\n",
       "   categorical feature_s  \n",
       "0                      1  \n",
       "1                      0  \n",
       "2                      1  \n",
       "3                      0  "
      ]
     },
     "execution_count": 66,
     "metadata": {},
     "output_type": "execute_result"
    }
   ],
   "source": [
    "pd.get_dummies(demo_df)"
   ]
  },
  {
   "cell_type": "markdown",
   "metadata": {},
   "source": [
    "可以显示地指定想要编码的列："
   ]
  },
  {
   "cell_type": "code",
   "execution_count": 68,
   "metadata": {
    "ExecuteTime": {
     "end_time": "2018-08-09T09:16:16.354816Z",
     "start_time": "2018-08-09T09:16:16.342859Z"
    }
   },
   "outputs": [
    {
     "data": {
      "text/html": [
       "<div>\n",
       "<style scoped>\n",
       "    .dataframe tbody tr th:only-of-type {\n",
       "        vertical-align: middle;\n",
       "    }\n",
       "\n",
       "    .dataframe tbody tr th {\n",
       "        vertical-align: top;\n",
       "    }\n",
       "\n",
       "    .dataframe thead th {\n",
       "        text-align: right;\n",
       "    }\n",
       "</style>\n",
       "<table border=\"1\" class=\"dataframe\">\n",
       "  <thead>\n",
       "    <tr style=\"text-align: right;\">\n",
       "      <th></th>\n",
       "      <th>categorical feature_b</th>\n",
       "      <th>categorical feature_f</th>\n",
       "      <th>categorical feature_s</th>\n",
       "      <th>integer feature_0</th>\n",
       "      <th>integer feature_1</th>\n",
       "      <th>integer feature_2</th>\n",
       "    </tr>\n",
       "  </thead>\n",
       "  <tbody>\n",
       "    <tr>\n",
       "      <th>0</th>\n",
       "      <td>0</td>\n",
       "      <td>0</td>\n",
       "      <td>1</td>\n",
       "      <td>1</td>\n",
       "      <td>0</td>\n",
       "      <td>0</td>\n",
       "    </tr>\n",
       "    <tr>\n",
       "      <th>1</th>\n",
       "      <td>0</td>\n",
       "      <td>1</td>\n",
       "      <td>0</td>\n",
       "      <td>0</td>\n",
       "      <td>1</td>\n",
       "      <td>0</td>\n",
       "    </tr>\n",
       "    <tr>\n",
       "      <th>2</th>\n",
       "      <td>0</td>\n",
       "      <td>0</td>\n",
       "      <td>1</td>\n",
       "      <td>0</td>\n",
       "      <td>0</td>\n",
       "      <td>1</td>\n",
       "    </tr>\n",
       "    <tr>\n",
       "      <th>3</th>\n",
       "      <td>1</td>\n",
       "      <td>0</td>\n",
       "      <td>0</td>\n",
       "      <td>0</td>\n",
       "      <td>1</td>\n",
       "      <td>0</td>\n",
       "    </tr>\n",
       "  </tbody>\n",
       "</table>\n",
       "</div>"
      ],
      "text/plain": [
       "   categorical feature_b  categorical feature_f  categorical feature_s  \\\n",
       "0                      0                      0                      1   \n",
       "1                      0                      1                      0   \n",
       "2                      0                      0                      1   \n",
       "3                      1                      0                      0   \n",
       "\n",
       "   integer feature_0  integer feature_1  integer feature_2  \n",
       "0                  1                  0                  0  \n",
       "1                  0                  1                  0  \n",
       "2                  0                  0                  1  \n",
       "3                  0                  1                  0  "
      ]
     },
     "execution_count": 68,
     "metadata": {},
     "output_type": "execute_result"
    }
   ],
   "source": [
    "pd.get_dummies(demo_df, columns=demo_df.columns)"
   ]
  },
  {
   "cell_type": "markdown",
   "metadata": {},
   "source": [
    "**`OneHotEncoder`实现的编码与`pd.get_dummies`相同，但目前只能用于值为整数的分类变量。**"
   ]
  },
  {
   "cell_type": "code",
   "execution_count": 100,
   "metadata": {
    "ExecuteTime": {
     "end_time": "2018-08-09T10:47:40.330776Z",
     "start_time": "2018-08-09T10:47:40.326815Z"
    }
   },
   "outputs": [],
   "source": [
    "X = np.array([[0, 0, 3],\n",
    "              [1, 1, 0],\n",
    "              [0, 2, 1],\n",
    "              [1, 0, 2]])"
   ]
  },
  {
   "cell_type": "code",
   "execution_count": 101,
   "metadata": {
    "ExecuteTime": {
     "end_time": "2018-08-09T10:47:40.782001Z",
     "start_time": "2018-08-09T10:47:40.776048Z"
    }
   },
   "outputs": [],
   "source": [
    "from sklearn.preprocessing import OneHotEncoder\n",
    "\n",
    "one_hot_enc = OneHotEncoder()\n",
    "X_one_hot_enc = one_hot_enc.fit_transform(X)"
   ]
  },
  {
   "cell_type": "code",
   "execution_count": 102,
   "metadata": {
    "ExecuteTime": {
     "end_time": "2018-08-09T10:47:41.246301Z",
     "start_time": "2018-08-09T10:47:41.241304Z"
    }
   },
   "outputs": [
    {
     "data": {
      "text/plain": [
       "<4x9 sparse matrix of type '<class 'numpy.float64'>'\n",
       "\twith 12 stored elements in Compressed Sparse Row format>"
      ]
     },
     "execution_count": 102,
     "metadata": {},
     "output_type": "execute_result"
    }
   ],
   "source": [
    "X_one_hot_enc"
   ]
  },
  {
   "cell_type": "code",
   "execution_count": 103,
   "metadata": {
    "ExecuteTime": {
     "end_time": "2018-08-09T10:47:41.636658Z",
     "start_time": "2018-08-09T10:47:41.631673Z"
    }
   },
   "outputs": [
    {
     "data": {
      "text/plain": [
       "array([[ 1.,  0.,  1.,  0.,  0.,  0.,  0.,  0.,  1.],\n",
       "       [ 0.,  1.,  0.,  1.,  0.,  1.,  0.,  0.,  0.],\n",
       "       [ 1.,  0.,  0.,  0.,  1.,  0.,  1.,  0.,  0.],\n",
       "       [ 0.,  1.,  1.,  0.,  0.,  0.,  0.,  1.,  0.]])"
      ]
     },
     "execution_count": 103,
     "metadata": {},
     "output_type": "execute_result"
    }
   ],
   "source": [
    "# 可以在OneHotEncoder中使用sparse=False返回数组\n",
    "X_one_hot_enc.toarray()"
   ]
  },
  {
   "cell_type": "code",
   "execution_count": 104,
   "metadata": {
    "ExecuteTime": {
     "end_time": "2018-08-09T10:48:28.663064Z",
     "start_time": "2018-08-09T10:48:28.658077Z"
    }
   },
   "outputs": [
    {
     "data": {
      "text/plain": [
       "array([2, 3, 4])"
      ]
     },
     "execution_count": 104,
     "metadata": {},
     "output_type": "execute_result"
    }
   ],
   "source": [
    "# Maximum number of values per feature\n",
    "one_hot_enc.n_values_"
   ]
  },
  {
   "cell_type": "code",
   "execution_count": 105,
   "metadata": {
    "ExecuteTime": {
     "end_time": "2018-08-09T10:48:49.210150Z",
     "start_time": "2018-08-09T10:48:49.206158Z"
    }
   },
   "outputs": [
    {
     "data": {
      "text/plain": [
       "array([0, 2, 5, 9], dtype=int32)"
      ]
     },
     "execution_count": 105,
     "metadata": {},
     "output_type": "execute_result"
    }
   ],
   "source": [
    "# Indices to feature ranges\n",
    "one_hot_enc.feature_indices_"
   ]
  },
  {
   "cell_type": "markdown",
   "metadata": {},
   "source": [
    "> `X_one_hot_enc.toarray()`的0-2(不含)个列为第一个特征，2-5(不含)为第二个特征，5-9(不含)为第三个特征。"
   ]
  },
  {
   "cell_type": "markdown",
   "metadata": {},
   "source": [
    "## 2 分箱、离散化、线性模型与树"
   ]
  },
  {
   "cell_type": "markdown",
   "metadata": {},
   "source": [
    "数据表示的最佳方法不仅取决于数据的语义，还取决于所使用的模型种类。"
   ]
  },
  {
   "cell_type": "code",
   "execution_count": 118,
   "metadata": {
    "ExecuteTime": {
     "end_time": "2018-08-09T10:58:57.724508Z",
     "start_time": "2018-08-09T10:58:57.553022Z"
    }
   },
   "outputs": [
    {
     "data": {
      "image/png": "[encoded data removed]",
      "text/plain": [
       "<Figure size 720x432 with 1 Axes>"
      ]
     },
     "metadata": {},
     "output_type": "display_data"
    }
   ],
   "source": [
    "from sklearn.linear_model import LinearRegression\n",
    "from sklearn.tree import DecisionTreeRegressor\n",
    "\n",
    "\n",
    "# X.shape=(100, 1)\n",
    "X, y = mglearn.datasets.make_wave(n_samples=100)\n",
    "X_grid = np.linspace(X.min(), X.max(), 1000).reshape(-1, 1)\n",
    "\n",
    "linear_reg =  LinearRegression()\n",
    "linear_reg.fit(X, y)\n",
    "\n",
    "dt_reg = DecisionTreeRegressor(min_samples_split=3, random_state=42)\n",
    "dt_reg.fit(X, y)\n",
    "\n",
    "plt.figure(figsize=(10, 6))\n",
    "plt.plot(X[:, 0], y, 'ko')\n",
    "plt.plot(X_grid, linear_reg.predict(X_grid), 'r', label=\"X_gridar Regression\")\n",
    "plt.plot(X_grid, dt_reg.predict(X_grid), 'g', label=\"DecisionTree Regression\")\n",
    "plt.legend(loc=\"best\", fontsize='large')\n",
    "plt.xlim(X.min(), X.max())\n",
    "plt.xlabel(\"input feature\", fontsize=14)\n",
    "plt.ylabel(\"Regression output\", fontsize=14)\n",
    "plt.title(\"linear_reg v.s. DT_reg\", fontsize=16)\n",
    "plt.show()"
   ]
  },
  {
   "cell_type": "markdown",
   "metadata": {},
   "source": [
    "线性模型只能对线性关系建模。决策树可以构建更为复杂的数据模型，但这强烈依赖于数据表示。\n",
    "\n",
    "**有一种方法可以让线性模型在连续数据上变得更加强大，就是使用分箱（bining)/离散化（discretiza）将其划分为多个特征。**\n",
    "\n",
    "将特征的输入范围划分成固定个数的箱子（bin），那么数据点就可以用它所在的箱子表示。"
   ]
  },
  {
   "cell_type": "code",
   "execution_count": 87,
   "metadata": {
    "ExecuteTime": {
     "end_time": "2018-08-09T10:36:42.815985Z",
     "start_time": "2018-08-09T10:36:42.808998Z"
    }
   },
   "outputs": [
    {
     "data": {
      "text/plain": [
       "array([-3. , -2.4, -1.8, -1.2, -0.6,  0. ,  0.6,  1.2,  1.8,  2.4,  3. ])"
      ]
     },
     "execution_count": 87,
     "metadata": {},
     "output_type": "execute_result"
    }
   ],
   "source": [
    "# 定义10个均匀分布的箱子(bin)\n",
    "bins = np.linspace(np.floor(X.min()), np.ceil(X.max()), 11)\n",
    "bins"
   ]
  },
  {
   "cell_type": "markdown",
   "metadata": {},
   "source": [
    "将数据集X中单个连续输入特征变换为一个分类特征，用于表示数据点所在的bin："
   ]
  },
  {
   "cell_type": "code",
   "execution_count": 90,
   "metadata": {
    "ExecuteTime": {
     "end_time": "2018-08-09T10:41:45.590672Z",
     "start_time": "2018-08-09T10:41:45.587682Z"
    }
   },
   "outputs": [],
   "source": [
    "# 记录每个点属于的bin\n",
    "which_bin = np.digitize(X, bins)"
   ]
  },
  {
   "cell_type": "code",
   "execution_count": 92,
   "metadata": {
    "ExecuteTime": {
     "end_time": "2018-08-09T10:42:08.287345Z",
     "start_time": "2018-08-09T10:42:08.282353Z"
    }
   },
   "outputs": [
    {
     "data": {
      "text/plain": [
       "array([[-0.75275929],\n",
       "       [ 2.70428584],\n",
       "       [ 1.39196365],\n",
       "       [ 0.59195091],\n",
       "       [-2.06388816]])"
      ]
     },
     "execution_count": 92,
     "metadata": {},
     "output_type": "execute_result"
    }
   ],
   "source": [
    "X[:5]"
   ]
  },
  {
   "cell_type": "code",
   "execution_count": 93,
   "metadata": {
    "ExecuteTime": {
     "end_time": "2018-08-09T10:42:12.668262Z",
     "start_time": "2018-08-09T10:42:12.663261Z"
    }
   },
   "outputs": [
    {
     "data": {
      "text/plain": [
       "array([[ 4],\n",
       "       [10],\n",
       "       [ 8],\n",
       "       [ 6],\n",
       "       [ 2]], dtype=int64)"
      ]
     },
     "execution_count": 93,
     "metadata": {},
     "output_type": "execute_result"
    }
   ],
   "source": [
    "which_bin[:5]"
   ]
  },
  {
   "cell_type": "markdown",
   "metadata": {},
   "source": [
    "然后利用`OneHotEncoder`将分类特征编码："
   ]
  },
  {
   "cell_type": "code",
   "execution_count": 111,
   "metadata": {
    "ExecuteTime": {
     "end_time": "2018-08-09T10:55:55.877256Z",
     "start_time": "2018-08-09T10:55:55.871296Z"
    }
   },
   "outputs": [],
   "source": [
    "one_hot_enc = OneHotEncoder(sparse=False)\n",
    "X_binned = one_hot_enc.fit_transform(which_bin)"
   ]
  },
  {
   "cell_type": "code",
   "execution_count": 112,
   "metadata": {
    "ExecuteTime": {
     "end_time": "2018-08-09T10:56:05.162724Z",
     "start_time": "2018-08-09T10:56:05.155755Z"
    }
   },
   "outputs": [
    {
     "data": {
      "text/plain": [
       "array([[ 0.,  0.,  0.,  1.,  0.,  0.,  0.,  0.,  0.,  0.],\n",
       "       [ 0.,  0.,  0.,  0.,  0.,  0.,  0.,  0.,  0.,  1.],\n",
       "       [ 0.,  0.,  0.,  0.,  0.,  0.,  0.,  1.,  0.,  0.],\n",
       "       [ 0.,  0.,  0.,  0.,  0.,  1.,  0.,  0.,  0.,  0.],\n",
       "       [ 0.,  1.,  0.,  0.,  0.,  0.,  0.,  0.,  0.,  0.]])"
      ]
     },
     "execution_count": 112,
     "metadata": {},
     "output_type": "execute_result"
    }
   ],
   "source": [
    "X_binned[:5]"
   ]
  },
  {
   "cell_type": "code",
   "execution_count": 113,
   "metadata": {
    "ExecuteTime": {
     "end_time": "2018-08-09T10:56:11.596167Z",
     "start_time": "2018-08-09T10:56:11.591178Z"
    }
   },
   "outputs": [
    {
     "data": {
      "text/plain": [
       "(100, 10)"
      ]
     },
     "execution_count": 113,
     "metadata": {},
     "output_type": "execute_result"
    }
   ],
   "source": [
    "X_binned.shape"
   ]
  },
  {
   "cell_type": "markdown",
   "metadata": {},
   "source": [
    "在one-hot编码后的数据上构建新的线性模型和新的决策树模型："
   ]
  },
  {
   "cell_type": "code",
   "execution_count": 137,
   "metadata": {
    "ExecuteTime": {
     "end_time": "2018-08-09T13:25:33.354905Z",
     "start_time": "2018-08-09T13:25:33.193383Z"
    }
   },
   "outputs": [
    {
     "data": {
      "image/png": "[encoded data removed]",
      "text/plain": [
       "<Figure size 720x432 with 1 Axes>"
      ]
     },
     "metadata": {},
     "output_type": "display_data"
    }
   ],
   "source": [
    "X_grid_binned = one_hot_enc.transform(np.digitize(X_grid, bins))\n",
    "\n",
    "linear_reg = LinearRegression().fit(X_binned, y)\n",
    "dt_reg = DecisionTreeRegressor(random_state=42).fit(X_binned, y)\n",
    "\n",
    "plt.figure(figsize=(10, 6))\n",
    "plt.plot(X[:, 0], y, 'ko')\n",
    "plt.plot(X_grid, linear_reg.predict(X_grid_binned), 'r', linewidth=3,\n",
    "         alpha=.6, label=\"Linear Regression\")\n",
    "plt.plot(X_grid, dt_reg.predict(X_grid_binned), 'g--',\n",
    "         label=\"DecisionTree Regression\")\n",
    "plt.vlines(bins, -3, 3, linestyle='--', color='grey')\n",
    "plt.legend(loc=\"best\", fontsize=14)\n",
    "plt.xlim(X.min(), X.max())\n",
    "plt.ylim(-3, 3)\n",
    "plt.xlabel(\"input feature\", fontsize=14)\n",
    "plt.ylabel(\"regression output\", fontsize=14)\n",
    "plt.show()"
   ]
  },
  {
   "cell_type": "markdown",
   "metadata": {},
   "source": [
    "> 对于每个箱子，二者预测的结果一样，都为一个常数值。因为每个bin内的特征是不变的，所以对于一个箱子内的所有点，任何模型都会预测相同的值。"
   ]
  },
  {
   "cell_type": "markdown",
   "metadata": {},
   "source": [
    "## 3 交互特征和多项式特征"
   ]
  },
  {
   "cell_type": "markdown",
   "metadata": {},
   "source": [
    "想要丰富的特征表示，特别是对线性模型而言，另一种方法是**添加原始数据的交互特征（interaction feature）和多项式特征（polynomial feature）**。"
   ]
  },
  {
   "cell_type": "markdown",
   "metadata": {},
   "source": [
    "线性模型不仅可以学习偏移，还可以学习斜率。想要向分箱数据上的线性模型添加斜率，一种方法是重新加入原始特征。"
   ]
  },
  {
   "cell_type": "code",
   "execution_count": 141,
   "metadata": {
    "ExecuteTime": {
     "end_time": "2018-08-09T14:35:59.718352Z",
     "start_time": "2018-08-09T14:35:59.714364Z"
    }
   },
   "outputs": [],
   "source": [
    "X_combined = np.hstack((X, X_binned))"
   ]
  },
  {
   "cell_type": "code",
   "execution_count": 143,
   "metadata": {
    "ExecuteTime": {
     "end_time": "2018-08-09T14:36:08.943904Z",
     "start_time": "2018-08-09T14:36:08.938916Z"
    }
   },
   "outputs": [
    {
     "data": {
      "text/plain": [
       "(100, 11)"
      ]
     },
     "execution_count": 143,
     "metadata": {},
     "output_type": "execute_result"
    }
   ],
   "source": [
    "X_combined.shape"
   ]
  },
  {
   "cell_type": "code",
   "execution_count": 150,
   "metadata": {
    "ExecuteTime": {
     "end_time": "2018-08-09T14:40:54.740987Z",
     "start_time": "2018-08-09T14:40:54.591361Z"
    }
   },
   "outputs": [
    {
     "data": {
      "image/png": "[encoded data removed]",
      "text/plain": [
       "<Figure size 720x432 with 1 Axes>"
      ]
     },
     "metadata": {},
     "output_type": "display_data"
    }
   ],
   "source": [
    "X_grid_binned = one_hot_enc.transform(np.digitize(X_grid, bins))\n",
    "X_grid_combined = np.hstack((X_grid, X_grid_binned))\n",
    "\n",
    "linear_reg = LinearRegression().fit(X_combined, y)\n",
    "\n",
    "plt.figure(figsize=(10, 6))\n",
    "plt.plot(X[:, 0], y, 'bo')\n",
    "plt.plot(X_grid, linear_reg.predict(X_grid_combined), 'r', linewidth=3,\n",
    "         label=\"Linear Regression Combined\")\n",
    "plt.vlines(bins, -3, 3, linestyle='--', color='grey')\n",
    "plt.legend(loc=\"best\", fontsize=14)\n",
    "plt.xlim(X.min(), X.max())\n",
    "plt.ylim(-3, 3)\n",
    "plt.xlabel(\"input feature\", fontsize=14)\n",
    "plt.ylabel(\"regression output\", fontsize=14)\n",
    "plt.show()"
   ]
  },
  {
   "cell_type": "markdown",
   "metadata": {
    "ExecuteTime": {
     "end_time": "2018-08-09T14:41:59.019955Z",
     "start_time": "2018-08-09T14:41:59.012976Z"
    }
   },
   "source": [
    "> 学到的斜率是向下的，并且在所有bin中都相同——只有一个X轴特征，也就只有一个斜率。斜率都是相同的，可能不是很有用。"
   ]
  },
  {
   "cell_type": "markdown",
   "metadata": {},
   "source": [
    "希望**每个bin都有一个不同的斜率**。可以**添加交互特征或乘积特征，用来表示数据点所在的bin以及数据点在X轴上位置**。这个特征是bin指示符与原始特征的乘积。"
   ]
  },
  {
   "cell_type": "code",
   "execution_count": 152,
   "metadata": {
    "ExecuteTime": {
     "end_time": "2018-08-09T14:44:34.135494Z",
     "start_time": "2018-08-09T14:44:34.129513Z"
    }
   },
   "outputs": [
    {
     "data": {
      "text/plain": [
       "(100, 20)"
      ]
     },
     "execution_count": 152,
     "metadata": {},
     "output_type": "execute_result"
    }
   ],
   "source": [
    "X_product = np.hstack([X_binned, X * X_binned])\n",
    "X_product.shape"
   ]
  },
  {
   "cell_type": "markdown",
   "metadata": {},
   "source": [
    "> 20个特征：数据点所在bin的指示符和原始特征与bin指示符的乘积。可以将乘积特征看作每个bin X轴特征的副本。它在bin内等于原始特征，在其他位置等于0。"
   ]
  },
  {
   "cell_type": "code",
   "execution_count": 154,
   "metadata": {
    "ExecuteTime": {
     "end_time": "2018-08-09T14:49:52.706659Z",
     "start_time": "2018-08-09T14:49:52.552075Z"
    }
   },
   "outputs": [
    {
     "data": {
      "image/png": "[encoded data removed]",
      "text/plain": [
       "<Figure size 720x432 with 1 Axes>"
      ]
     },
     "metadata": {},
     "output_type": "display_data"
    }
   ],
   "source": [
    "X_grid_binned = one_hot_enc.transform(np.digitize(X_grid, bins))\n",
    "X_grid_product = np.hstack((X_grid_binned, X_grid * X_grid_binned))\n",
    "\n",
    "linear_reg = LinearRegression().fit(X_product, y)\n",
    "\n",
    "plt.figure(figsize=(10, 6))\n",
    "plt.plot(X[:, 0], y, 'bo')\n",
    "plt.plot(X_grid, linear_reg.predict(X_grid_product), 'r', linewidth=3,\n",
    "         label=\"Linear Regression Product\")\n",
    "plt.vlines(bins, -3, 3, linestyle='--', color='grey')\n",
    "plt.legend(loc=\"best\", fontsize=14)\n",
    "plt.xlim(X.min(), X.max())\n",
    "plt.ylim(-3, 3)\n",
    "plt.xlabel(\"input feature\", fontsize=14)\n",
    "plt.ylabel(\"regression output\", fontsize=14)\n",
    "plt.show()"
   ]
  },
  {
   "cell_type": "markdown",
   "metadata": {},
   "source": [
    "> 这个模型中每个bin都有自己的偏移和斜率。"
   ]
  },
  {
   "cell_type": "markdown",
   "metadata": {},
   "source": [
    "**使用分箱**是**扩展连续特征**的一种方法。另一种方法是**使用原始的多项式**。"
   ]
  },
  {
   "cell_type": "code",
   "execution_count": 155,
   "metadata": {
    "ExecuteTime": {
     "end_time": "2018-08-09T14:55:43.607358Z",
     "start_time": "2018-08-09T14:55:43.601399Z"
    }
   },
   "outputs": [],
   "source": [
    "from sklearn.preprocessing import PolynomialFeatures\n",
    "\n",
    "# 包含直到x**10的多项式\n",
    "# 默认的include_bias=True添加恒等于1的常数特征\n",
    "poly_features = PolynomialFeatures(degree=10, include_bias=False)  # 不含常数特征\n",
    "X_poly = poly_features.fit_transform(X)"
   ]
  },
  {
   "cell_type": "code",
   "execution_count": 156,
   "metadata": {
    "ExecuteTime": {
     "end_time": "2018-08-09T14:56:11.958873Z",
     "start_time": "2018-08-09T14:56:11.953918Z"
    }
   },
   "outputs": [
    {
     "data": {
      "text/plain": [
       "(100, 10)"
      ]
     },
     "execution_count": 156,
     "metadata": {},
     "output_type": "execute_result"
    }
   ],
   "source": [
    "X_poly.shape"
   ]
  },
  {
   "cell_type": "code",
   "execution_count": 157,
   "metadata": {
    "ExecuteTime": {
     "end_time": "2018-08-09T14:56:24.753402Z",
     "start_time": "2018-08-09T14:56:24.748414Z"
    }
   },
   "outputs": [
    {
     "data": {
      "text/plain": [
       "1"
      ]
     },
     "execution_count": 157,
     "metadata": {},
     "output_type": "execute_result"
    }
   ],
   "source": [
    "# 总输入特征数\n",
    "poly_features.n_input_features_"
   ]
  },
  {
   "cell_type": "code",
   "execution_count": 158,
   "metadata": {
    "ExecuteTime": {
     "end_time": "2018-08-09T14:57:03.811341Z",
     "start_time": "2018-08-09T14:57:03.807324Z"
    }
   },
   "outputs": [
    {
     "data": {
      "text/plain": [
       "10"
      ]
     },
     "execution_count": 158,
     "metadata": {},
     "output_type": "execute_result"
    }
   ],
   "source": [
    "# 总输出特征数\n",
    "poly_features.n_output_features_"
   ]
  },
  {
   "cell_type": "code",
   "execution_count": 160,
   "metadata": {
    "ExecuteTime": {
     "end_time": "2018-08-09T14:57:39.183411Z",
     "start_time": "2018-08-09T14:57:39.177435Z"
    }
   },
   "outputs": [
    {
     "data": {
      "text/plain": [
       "array([[-0.75275929],\n",
       "       [ 2.70428584],\n",
       "       [ 1.39196365],\n",
       "       [ 0.59195091],\n",
       "       [-2.06388816]])"
      ]
     },
     "execution_count": 160,
     "metadata": {},
     "output_type": "execute_result"
    }
   ],
   "source": [
    "X[:5]"
   ]
  },
  {
   "cell_type": "code",
   "execution_count": 161,
   "metadata": {
    "ExecuteTime": {
     "end_time": "2018-08-09T14:57:45.258347Z",
     "start_time": "2018-08-09T14:57:45.252331Z"
    }
   },
   "outputs": [
    {
     "data": {
      "text/plain": [
       "array([[ -7.52759287e-01,   5.66646544e-01,  -4.26548448e-01,\n",
       "          3.21088306e-01,  -2.41702204e-01,   1.81943579e-01,\n",
       "         -1.36959719e-01,   1.03097700e-01,  -7.76077513e-02,\n",
       "          5.84199555e-02],\n",
       "       [  2.70428584e+00,   7.31316190e+00,   1.97768801e+01,\n",
       "          5.34823369e+01,   1.44631526e+02,   3.91124988e+02,\n",
       "          1.05771377e+03,   2.86036036e+03,   7.73523202e+03,\n",
       "          2.09182784e+04],\n",
       "       [  1.39196365e+00,   1.93756281e+00,   2.69701700e+00,\n",
       "          3.75414962e+00,   5.22563982e+00,   7.27390068e+00,\n",
       "          1.01250053e+01,   1.40936394e+01,   1.96178338e+01,\n",
       "          2.73073115e+01],\n",
       "       [  5.91950905e-01,   3.50405874e-01,   2.07423074e-01,\n",
       "          1.22784277e-01,   7.26822637e-02,   4.30243318e-02,\n",
       "          2.54682921e-02,   1.50759786e-02,   8.92423917e-03,\n",
       "          5.28271146e-03],\n",
       "       [ -2.06388816e+00,   4.25963433e+00,  -8.79140884e+00,\n",
       "          1.81444846e+01,  -3.74481869e+01,   7.72888694e+01,\n",
       "         -1.59515582e+02,   3.29222321e+02,  -6.79478050e+02,\n",
       "          1.40236670e+03]])"
      ]
     },
     "execution_count": 161,
     "metadata": {},
     "output_type": "execute_result"
    }
   ],
   "source": [
    "X_poly[:5]"
   ]
  },
  {
   "cell_type": "markdown",
   "metadata": {},
   "source": [
    "可以用`get_feature_names`方法来获取特征的含义，给出每个特征的指数："
   ]
  },
  {
   "cell_type": "code",
   "execution_count": 164,
   "metadata": {
    "ExecuteTime": {
     "end_time": "2018-08-09T14:59:08.133918Z",
     "start_time": "2018-08-09T14:59:08.127933Z"
    }
   },
   "outputs": [
    {
     "data": {
      "text/plain": [
       "['x0', 'x0^2', 'x0^3', 'x0^4', 'x0^5', 'x0^6', 'x0^7', 'x0^8', 'x0^9', 'x0^10']"
      ]
     },
     "execution_count": 164,
     "metadata": {},
     "output_type": "execute_result"
    }
   ],
   "source": [
    "# 输出特征的特征名\n",
    "poly_features.get_feature_names()"
   ]
  },
  {
   "cell_type": "markdown",
   "metadata": {},
   "source": [
    "将多项式特征与线性回归模型一起使用，可以得到经典的**多项式回归（polynomial regression）**模型："
   ]
  },
  {
   "cell_type": "code",
   "execution_count": 166,
   "metadata": {
    "ExecuteTime": {
     "end_time": "2018-08-09T15:05:26.587688Z",
     "start_time": "2018-08-09T15:05:26.449059Z"
    }
   },
   "outputs": [
    {
     "data": {
      "image/png": "[encoded data removed]",
      "text/plain": [
       "<Figure size 720x432 with 1 Axes>"
      ]
     },
     "metadata": {},
     "output_type": "display_data"
    }
   ],
   "source": [
    "linear_reg = LinearRegression().fit(X_poly, y)\n",
    "\n",
    "X_grid = np.linspace(X.min(), X.max(), 1000).reshape(-1, 1)\n",
    "X_grid_poly = poly_features.transform(X_grid)\n",
    "\n",
    "plt.figure(figsize=(10, 6))\n",
    "plt.plot(X[:, 0], y, 'bo')\n",
    "plt.plot(X_grid, linear_reg.predict(X_grid_poly), 'r', linewidth=3,\n",
    "         label=\"polynomial linear regression\")\n",
    "plt.xlim(X.min(), X.max())\n",
    "plt.ylim(-3, 3)\n",
    "plt.xlabel(\"input feature\", fontsize=14)\n",
    "plt.ylabel(\"regression output\", fontsize=14)\n",
    "plt.legend(loc=\"best\", fontsize=14)\n",
    "plt.show()"
   ]
  },
  {
   "cell_type": "code",
   "execution_count": null,
   "metadata": {},
   "outputs": [],
   "source": []
  }
 ],
 "metadata": {
  "kernelspec": {
   "display_name": "Python 3",
   "language": "python",
   "name": "python3"
  },
  "language_info": {
   "codemirror_mode": {
    "name": "ipython",
    "version": 3
   },
   "file_extension": ".py",
   "mimetype": "text/x-python",
   "name": "python",
   "nbconvert_exporter": "python",
   "pygments_lexer": "ipython3",
   "version": "3.6.4"
  },
  "latex_envs": {
   "LaTeX_envs_menu_present": true,
   "autoclose": false,
   "autocomplete": true,
   "bibliofile": "biblio.bib",
   "cite_by": "apalike",
   "current_citInitial": 1,
   "eqLabelWithNumbers": true,
   "eqNumInitial": 1,
   "hotkeys": {
    "equation": "Ctrl-E",
    "itemize": "Ctrl-I"
   },
   "labels_anchors": false,
   "latex_user_defs": false,
   "report_style_numbering": false,
   "user_envs_cfg": false
  },
  "nbTranslate": {
   "displayLangs": [
    "*"
   ],
   "hotkey": "alt-t",
   "langInMainMenu": true,
   "sourceLang": "en",
   "targetLang": "fr",
   "useGoogleTranslate": true
  }
 },
 "nbformat": 4,
 "nbformat_minor": 2
}
