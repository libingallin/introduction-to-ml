{
 "cells": [
  {
   "cell_type": "code",
   "execution_count": 1,
   "metadata": {
    "ExecuteTime": {
     "end_time": "2018-08-12T00:35:30.747182Z",
     "start_time": "2018-08-12T00:35:28.418394Z"
    }
   },
   "outputs": [],
   "source": [
    "# Common imports\n",
    "import pandas as pd\n",
    "import numpy as np\n",
    "import scipy as sp\n",
    "\n",
    "# To plot pretty figures\n",
    "%matplotlib inline\n",
    "import matplotlib\n",
    "import matplotlib.pyplot as plt\n",
    "from matplotlib.colors import ListedColormap\n",
    "\n",
    "cm2 = ListedColormap(['#0000aa', '#ff2020'])\n",
    "cm3 = ListedColormap(['#0000aa', '#ff2020', '#50ff50'])\n",
    "\n",
    "plt.rcParams['axes.labelsize'] = 14\n",
    "plt.rcParams['xtick.labelsize'] = 12\n",
    "plt.rcParams['ytick.labelsize'] = 12\n",
    "\n",
    "import mglearn"
   ]
  },
  {
   "cell_type": "markdown",
   "metadata": {},
   "source": [
    "在两个方面评估模型：\n",
    "1. **交叉验证**：一种更可靠的评估泛化性能的方法\n",
    "2. 评估分类和回归性能的方法：是在默认度量（`score`给出的精度和$R^2$）之外的方法。\n",
    "\n",
    "**网格搜索**：一种调节监督模型参数以获得最佳泛化性能的有效方法。"
   ]
  },
  {
   "cell_type": "markdown",
   "metadata": {},
   "source": [
    "## 5.1 交叉验证（cross-validation, CV）"
   ]
  },
  {
   "cell_type": "markdown",
   "metadata": {},
   "source": [
    "CV的目的只是评估给定算法在特定数据集上训练后的泛化性能好坏。不是一种构建可应用于新数据的模型的方法，不会返回一个模型。"
   ]
  },
  {
   "cell_type": "code",
   "execution_count": 2,
   "metadata": {
    "ExecuteTime": {
     "end_time": "2018-08-12T00:35:30.754155Z",
     "start_time": "2018-08-12T00:35:30.750165Z"
    }
   },
   "outputs": [],
   "source": [
    "from sklearn.datasets import load_iris\n",
    "from sklearn.linear_model import LogisticRegression\n",
    "from sklearn.model_selection import cross_val_score"
   ]
  },
  {
   "cell_type": "code",
   "execution_count": 3,
   "metadata": {
    "ExecuteTime": {
     "end_time": "2018-08-12T00:35:30.767138Z",
     "start_time": "2018-08-12T00:35:30.757136Z"
    }
   },
   "outputs": [],
   "source": [
    "iris = load_iris()"
   ]
  },
  {
   "cell_type": "code",
   "execution_count": 4,
   "metadata": {
    "ExecuteTime": {
     "end_time": "2018-08-12T00:35:30.778089Z",
     "start_time": "2018-08-12T00:35:30.771128Z"
    }
   },
   "outputs": [
    {
     "data": {
      "text/plain": [
       "(150, 4)"
      ]
     },
     "execution_count": 4,
     "metadata": {},
     "output_type": "execute_result"
    }
   ],
   "source": [
    "iris.data.shape"
   ]
  },
  {
   "cell_type": "code",
   "execution_count": 5,
   "metadata": {
    "ExecuteTime": {
     "end_time": "2018-08-12T00:35:30.788063Z",
     "start_time": "2018-08-12T00:35:30.780077Z"
    }
   },
   "outputs": [
    {
     "data": {
      "text/plain": [
       "array([0, 0, 0, 0, 0, 0, 0, 0, 0, 0, 0, 0, 0, 0, 0, 0, 0, 0, 0, 0, 0, 0, 0,\n",
       "       0, 0, 0, 0, 0, 0, 0, 0, 0, 0, 0, 0, 0, 0, 0, 0, 0, 0, 0, 0, 0, 0, 0,\n",
       "       0, 0, 0, 0, 1, 1, 1, 1, 1, 1, 1, 1, 1, 1, 1, 1, 1, 1, 1, 1, 1, 1, 1,\n",
       "       1, 1, 1, 1, 1, 1, 1, 1, 1, 1, 1, 1, 1, 1, 1, 1, 1, 1, 1, 1, 1, 1, 1,\n",
       "       1, 1, 1, 1, 1, 1, 1, 1, 2, 2, 2, 2, 2, 2, 2, 2, 2, 2, 2, 2, 2, 2, 2,\n",
       "       2, 2, 2, 2, 2, 2, 2, 2, 2, 2, 2, 2, 2, 2, 2, 2, 2, 2, 2, 2, 2, 2, 2,\n",
       "       2, 2, 2, 2, 2, 2, 2, 2, 2, 2, 2, 2])"
      ]
     },
     "execution_count": 5,
     "metadata": {},
     "output_type": "execute_result"
    }
   ],
   "source": [
    "iris.target"
   ]
  },
  {
   "cell_type": "code",
   "execution_count": 6,
   "metadata": {
    "ExecuteTime": {
     "end_time": "2018-08-12T00:35:30.795034Z",
     "start_time": "2018-08-12T00:35:30.791045Z"
    }
   },
   "outputs": [],
   "source": [
    "logistic_reg = LogisticRegression(random_state=42)"
   ]
  },
  {
   "cell_type": "markdown",
   "metadata": {},
   "source": [
    "默认情况下，执行3折交叉验证（即`cv=3`），返回3个精度值:"
   ]
  },
  {
   "cell_type": "code",
   "execution_count": 7,
   "metadata": {
    "ExecuteTime": {
     "end_time": "2018-08-12T00:35:30.883835Z",
     "start_time": "2018-08-12T00:35:30.798058Z"
    }
   },
   "outputs": [
    {
     "data": {
      "text/plain": [
       "array([ 0.96078431,  0.92156863,  0.95833333])"
      ]
     },
     "execution_count": 7,
     "metadata": {},
     "output_type": "execute_result"
    }
   ],
   "source": [
    "cross_val_score(logistic_reg, iris.data, iris.target)  # default cv=3"
   ]
  },
  {
   "cell_type": "code",
   "execution_count": 8,
   "metadata": {
    "ExecuteTime": {
     "end_time": "2018-08-12T00:35:30.906735Z",
     "start_time": "2018-08-12T00:35:30.887786Z"
    }
   },
   "outputs": [],
   "source": [
    "scores = cross_val_score(logistic_reg, iris.data, iris.target, cv=5)"
   ]
  },
  {
   "cell_type": "code",
   "execution_count": 9,
   "metadata": {
    "ExecuteTime": {
     "end_time": "2018-08-12T00:35:30.928689Z",
     "start_time": "2018-08-12T00:35:30.908731Z"
    }
   },
   "outputs": [
    {
     "name": "stdout",
     "output_type": "stream",
     "text": [
      "CV score: [ 1.          0.96666667  0.93333333  0.9         1.        ]\n"
     ]
    }
   ],
   "source": [
    "print(\"CV score: {}\".format(scores))"
   ]
  },
  {
   "cell_type": "markdown",
   "metadata": {
    "ExecuteTime": {
     "end_time": "2018-08-10T23:28:30.891377Z",
     "start_time": "2018-08-10T23:28:30.885393Z"
    }
   },
   "source": [
    "**总结CV精度的一种常用方法是计算平均值：**"
   ]
  },
  {
   "cell_type": "code",
   "execution_count": 10,
   "metadata": {
    "ExecuteTime": {
     "end_time": "2018-08-12T00:35:30.936656Z",
     "start_time": "2018-08-12T00:35:30.930673Z"
    }
   },
   "outputs": [
    {
     "name": "stdout",
     "output_type": "stream",
     "text": [
      "Average cv score: 0.9600\n"
     ]
    }
   ],
   "source": [
    "print(\"Average cv score: {:.4f}\".format(scores.mean()))"
   ]
  },
  {
   "cell_type": "markdown",
   "metadata": {},
   "source": [
    "**折与折之间的精度有较大变化（90-100），这可能意味着模型强烈依赖于将某个折用于训练，但也可能是数据集的量太小。**"
   ]
  },
  {
   "cell_type": "markdown",
   "metadata": {},
   "source": [
    "对数据进行多次划分，还可以提供模型的对训练集选择的敏感性信息。上述精度在90到100，它告诉我们将模型应用于新数据时在最坏情况和最好情况下的可能表现。"
   ]
  },
  {
   "cell_type": "markdown",
   "metadata": {},
   "source": [
    "缺点：增加了计算成本。需要训练k个模型，所以交叉验证的速度比数据的单次划分大约慢k倍。"
   ]
  },
  {
   "cell_type": "markdown",
   "metadata": {},
   "source": [
    "### 5.1 分层k折CV和其他交叉验证策略"
   ]
  },
  {
   "cell_type": "markdown",
   "metadata": {},
   "source": [
    "从数据的前k分之一划分，可能并不好："
   ]
  },
  {
   "cell_type": "code",
   "execution_count": 11,
   "metadata": {
    "ExecuteTime": {
     "end_time": "2018-08-12T00:35:30.944635Z",
     "start_time": "2018-08-12T00:35:30.938654Z"
    }
   },
   "outputs": [
    {
     "data": {
      "text/plain": [
       "array([0, 0, 0, 0, 0, 0, 0, 0, 0, 0, 0, 0, 0, 0, 0, 0, 0, 0, 0, 0, 0, 0, 0,\n",
       "       0, 0, 0, 0, 0, 0, 0, 0, 0, 0, 0, 0, 0, 0, 0, 0, 0, 0, 0, 0, 0, 0, 0,\n",
       "       0, 0, 0, 0, 1, 1, 1, 1, 1, 1, 1, 1, 1, 1, 1, 1, 1, 1, 1, 1, 1, 1, 1,\n",
       "       1, 1, 1, 1, 1, 1, 1, 1, 1, 1, 1, 1, 1, 1, 1, 1, 1, 1, 1, 1, 1, 1, 1,\n",
       "       1, 1, 1, 1, 1, 1, 1, 1, 2, 2, 2, 2, 2, 2, 2, 2, 2, 2, 2, 2, 2, 2, 2,\n",
       "       2, 2, 2, 2, 2, 2, 2, 2, 2, 2, 2, 2, 2, 2, 2, 2, 2, 2, 2, 2, 2, 2, 2,\n",
       "       2, 2, 2, 2, 2, 2, 2, 2, 2, 2, 2, 2])"
      ]
     },
     "execution_count": 11,
     "metadata": {},
     "output_type": "execute_result"
    }
   ],
   "source": [
    "iris.target"
   ]
  },
  {
   "cell_type": "markdown",
   "metadata": {},
   "source": [
    "Skl在**分类问题**中使用**分层K折交叉验证（stratified k-fold cross-validation）**。划分数据时使每个折中类别之间的比例与整个数据集中的比例相同。\n",
    "\n",
    "在**回归问题**中默认使用标准k折交叉验证。"
   ]
  },
  {
   "cell_type": "markdown",
   "metadata": {},
   "source": [
    "#### 5.1.1 对交叉验证的更多控制"
   ]
  },
  {
   "cell_type": "markdown",
   "metadata": {},
   "source": [
    "允许提供一个**交叉验证分离器（cross-validation splitter）**作为`cv`参数，来对数据划分过程进行更精细的控制。"
   ]
  },
  {
   "cell_type": "markdown",
   "metadata": {},
   "source": [
    "+ **k-fold**"
   ]
  },
  {
   "cell_type": "markdown",
   "metadata": {},
   "source": [
    "`KFold`没有以'_'结尾的属性，只有`get_n_splits([X, y, groups])`和`split([X, y, groups])`方法。"
   ]
  },
  {
   "cell_type": "code",
   "execution_count": 12,
   "metadata": {
    "ExecuteTime": {
     "end_time": "2018-08-12T00:35:30.958597Z",
     "start_time": "2018-08-12T00:35:30.946629Z"
    }
   },
   "outputs": [
    {
     "data": {
      "text/plain": [
       "KFold(n_splits=2, random_state=42, shuffle=False)"
      ]
     },
     "execution_count": 12,
     "metadata": {},
     "output_type": "execute_result"
    }
   ],
   "source": [
    "from sklearn.model_selection import KFold\n",
    "\n",
    "X = np.array([[1, 2], [3, 4], [5, 6], [7, 8]])\n",
    "y = np.array(list(\"abcd\"))\n",
    "\n",
    "kfold = KFold(n_splits=2, random_state=42)\n",
    "kfold"
   ]
  },
  {
   "cell_type": "code",
   "execution_count": 13,
   "metadata": {
    "ExecuteTime": {
     "end_time": "2018-08-12T00:35:30.968588Z",
     "start_time": "2018-08-12T00:35:30.961611Z"
    }
   },
   "outputs": [
    {
     "data": {
      "text/plain": [
       "2"
      ]
     },
     "execution_count": 13,
     "metadata": {},
     "output_type": "execute_result"
    }
   ],
   "source": [
    "# Returns the number of splitting iterations in the cross-validator\n",
    "kfold.get_n_splits(X)"
   ]
  },
  {
   "cell_type": "code",
   "execution_count": 14,
   "metadata": {
    "ExecuteTime": {
     "end_time": "2018-08-12T00:35:30.975584Z",
     "start_time": "2018-08-12T00:35:30.971563Z"
    }
   },
   "outputs": [],
   "source": [
    "# Generate indices to split data into training and test set\n",
    "train_indices, test_indices = kfold.split(X, y)   # 有y"
   ]
  },
  {
   "cell_type": "code",
   "execution_count": 15,
   "metadata": {
    "ExecuteTime": {
     "end_time": "2018-08-12T00:35:30.984534Z",
     "start_time": "2018-08-12T00:35:30.978545Z"
    }
   },
   "outputs": [
    {
     "name": "stdout",
     "output_type": "stream",
     "text": [
      "Train index:  [2 3] Test index:  [0 1]\n",
      "Train index:  [0 1] Test index:  [2 3]\n"
     ]
    }
   ],
   "source": [
    "for train_index, test_index in kfold.split(X):\n",
    "    print(\"Train index: \", train_index, \"Test index: \", test_index)"
   ]
  },
  {
   "cell_type": "markdown",
   "metadata": {},
   "source": [
    "将`KFold`作为`cv`参数传入`cross_val_score`："
   ]
  },
  {
   "cell_type": "code",
   "execution_count": 16,
   "metadata": {
    "ExecuteTime": {
     "end_time": "2018-08-12T00:35:31.007495Z",
     "start_time": "2018-08-12T00:35:30.986522Z"
    }
   },
   "outputs": [
    {
     "data": {
      "text/plain": [
       "array([ 1.        ,  0.93333333,  0.43333333,  0.96666667,  0.43333333])"
      ]
     },
     "execution_count": 16,
     "metadata": {},
     "output_type": "execute_result"
    }
   ],
   "source": [
    "kfold = KFold(n_splits=5, random_state=42)\n",
    "\n",
    "cross_val_score(logistic_reg, iris.data, iris.target, cv=kfold)"
   ]
  },
  {
   "cell_type": "code",
   "execution_count": 17,
   "metadata": {
    "ExecuteTime": {
     "end_time": "2018-08-12T00:35:31.024421Z",
     "start_time": "2018-08-12T00:35:31.009461Z"
    }
   },
   "outputs": [
    {
     "data": {
      "text/plain": [
       "array([ 0.,  0.,  0.])"
      ]
     },
     "execution_count": 17,
     "metadata": {},
     "output_type": "execute_result"
    }
   ],
   "source": [
    "kfold = KFold(n_splits=3, random_state=42)\n",
    "\n",
    "cross_val_score(logistic_reg, iris.data, iris.target, cv=kfold)"
   ]
  },
  {
   "cell_type": "markdown",
   "metadata": {},
   "source": [
    "> 这样每一折对应一个类别，因此学不到任何东西。"
   ]
  },
  {
   "cell_type": "markdown",
   "metadata": {},
   "source": [
    "另一种解决方法：将数据打乱来代替分层，以打乱样本按标签的排序。可以通过将`KFold`的`shuffle`参数设为`True`来实现这一点。"
   ]
  },
  {
   "cell_type": "code",
   "execution_count": 18,
   "metadata": {
    "ExecuteTime": {
     "end_time": "2018-08-12T00:35:31.038421Z",
     "start_time": "2018-08-12T00:35:31.026420Z"
    }
   },
   "outputs": [
    {
     "data": {
      "text/plain": [
       "array([ 1.  ,  0.92,  1.  ])"
      ]
     },
     "execution_count": 18,
     "metadata": {},
     "output_type": "execute_result"
    }
   ],
   "source": [
    "kfold = KFold(n_splits=3, shuffle=True, random_state=42)\n",
    "\n",
    "cross_val_score(logistic_reg, iris.data, iris.target, cv=kfold)"
   ]
  },
  {
   "cell_type": "markdown",
   "metadata": {},
   "source": [
    "#### 5.1.2 留一法交叉验证（LearveOneOut, LOO)"
   ]
  },
  {
   "cell_type": "markdown",
   "metadata": {},
   "source": [
    "每折只包含一个样本的K折CV。每次划分，选择一个样本点作为测试集。对大型数据集来说非常耗时，但在小型数据集上有时可以给出更好的估计结果。"
   ]
  },
  {
   "cell_type": "markdown",
   "metadata": {},
   "source": [
    "将`LeaveOneOut`作为`cv`参数传入`cross_val_score`："
   ]
  },
  {
   "cell_type": "code",
   "execution_count": 19,
   "metadata": {
    "ExecuteTime": {
     "end_time": "2018-08-12T00:35:31.263780Z",
     "start_time": "2018-08-12T00:35:31.040414Z"
    }
   },
   "outputs": [
    {
     "name": "stdout",
     "output_type": "stream",
     "text": [
      "Number of cv iterations: 150\n",
      "Mean accuracy: 0.9533\n"
     ]
    }
   ],
   "source": [
    "from sklearn.model_selection import LeaveOneOut\n",
    "\n",
    "loo = LeaveOneOut()\n",
    "scores = cross_val_score(logistic_reg, iris.data, iris.target, cv=loo)\n",
    "\n",
    "print(\"Number of cv iterations: {}\".format(len(scores)))\n",
    "print(\"Mean accuracy: {:.4f}\".format(scores.mean()))"
   ]
  },
  {
   "cell_type": "code",
   "execution_count": 20,
   "metadata": {
    "ExecuteTime": {
     "end_time": "2018-08-12T00:35:31.272781Z",
     "start_time": "2018-08-12T00:35:31.266775Z"
    }
   },
   "outputs": [
    {
     "data": {
      "text/plain": [
       "150"
      ]
     },
     "execution_count": 20,
     "metadata": {},
     "output_type": "execute_result"
    }
   ],
   "source": [
    "loo.get_n_splits(iris.data)"
   ]
  },
  {
   "cell_type": "markdown",
   "metadata": {},
   "source": [
    "#### 5.1.3 打乱划分交叉验证（ShufflSplit）"
   ]
  },
  {
   "cell_type": "markdown",
   "metadata": {},
   "source": [
    "每次划分为训练集取样`train_size`个点，为测试集取样`test_size`个（不相交）点。将这一划分重复n_inter次。\n",
    "\n",
    "`train_size`和`test_size`可以和不为1，允许每次迭代使用部分数据。"
   ]
  },
  {
   "cell_type": "code",
   "execution_count": 21,
   "metadata": {
    "ExecuteTime": {
     "end_time": "2018-08-12T00:35:31.290711Z",
     "start_time": "2018-08-12T00:35:31.275750Z"
    }
   },
   "outputs": [
    {
     "data": {
      "text/plain": [
       "ShuffleSplit(n_splits=3, random_state=42, test_size=0.25, train_size=0.5)"
      ]
     },
     "execution_count": 21,
     "metadata": {},
     "output_type": "execute_result"
    }
   ],
   "source": [
    "from sklearn.model_selection import ShuffleSplit\n",
    "\n",
    "X = np.array([[1, 2], [3, 4], [5, 6], [7, 8]])\n",
    "y = np.array([1, 2, 1, 2])\n",
    "\n",
    "shuffle_split = ShuffleSplit(n_splits=3, test_size=0.25, train_size=0.5,\n",
    "                             random_state=42)\n",
    "shuffle_split"
   ]
  },
  {
   "cell_type": "code",
   "execution_count": 22,
   "metadata": {
    "ExecuteTime": {
     "end_time": "2018-08-12T00:35:31.299687Z",
     "start_time": "2018-08-12T00:35:31.293702Z"
    }
   },
   "outputs": [
    {
     "data": {
      "text/plain": [
       "3"
      ]
     },
     "execution_count": 22,
     "metadata": {},
     "output_type": "execute_result"
    }
   ],
   "source": [
    "shuffle_split.get_n_splits()"
   ]
  },
  {
   "cell_type": "code",
   "execution_count": 23,
   "metadata": {
    "ExecuteTime": {
     "end_time": "2018-08-12T00:35:31.312652Z",
     "start_time": "2018-08-12T00:35:31.304672Z"
    }
   },
   "outputs": [
    {
     "name": "stdout",
     "output_type": "stream",
     "text": [
      "Train index:  [3 0] Test index:  [1]\n",
      "Train index:  [3 0] Test index:  [1]\n",
      "Train index:  [0 1] Test index:  [3]\n"
     ]
    }
   ],
   "source": [
    "for train_index, test_index in shuffle_split.split(X):\n",
    "    print(\"Train index: \", train_index, \"Test index: \", test_index)"
   ]
  },
  {
   "cell_type": "markdown",
   "metadata": {},
   "source": [
    "将`ShuffleSplit`作为`cv`参数传入`cross_val_score`："
   ]
  },
  {
   "cell_type": "code",
   "execution_count": 24,
   "metadata": {
    "ExecuteTime": {
     "end_time": "2018-08-12T00:35:31.341602Z",
     "start_time": "2018-08-12T00:35:31.316640Z"
    }
   },
   "outputs": [
    {
     "data": {
      "text/plain": [
       "array([ 0.97333333,  0.94666667,  0.85333333,  0.92      ,  0.92      ,\n",
       "        0.96      ,  0.89333333,  0.88      ,  0.94666667,  0.98666667])"
      ]
     },
     "execution_count": 24,
     "metadata": {},
     "output_type": "execute_result"
    }
   ],
   "source": [
    "shuffle_split = ShuffleSplit(n_splits=10, test_size=0.5, random_state=42)\n",
    "\n",
    "cross_val_score(logistic_reg, iris.data, iris.target, cv=shuffle_split)"
   ]
  },
  {
   "cell_type": "markdown",
   "metadata": {},
   "source": [
    "#### 5.1.4 分组交叉验证"
   ]
  },
  {
   "cell_type": "code",
   "execution_count": 25,
   "metadata": {
    "ExecuteTime": {
     "end_time": "2018-08-12T00:35:31.362518Z",
     "start_time": "2018-08-12T00:35:31.343568Z"
    }
   },
   "outputs": [
    {
     "data": {
      "text/plain": [
       "array([ 0.75      ,  0.8       ,  0.66666667])"
      ]
     },
     "execution_count": 25,
     "metadata": {},
     "output_type": "execute_result"
    }
   ],
   "source": [
    "from sklearn.model_selection import GroupKFold\n",
    "from sklearn.datasets import make_blobs\n",
    "\n",
    "X, y = make_blobs(n_samples=12, random_state=0)\n",
    "groups = [0, 0, 0, 1, 1, 1, 1, 2, 2, 3, 3, 3]\n",
    "\n",
    "cross_val_score(logistic_reg, X, y, groups, cv=GroupKFold(n_splits=3))"
   ]
  },
  {
   "cell_type": "markdown",
   "metadata": {},
   "source": [
    "## 5.2 网格搜索"
   ]
  },
  {
   "cell_type": "markdown",
   "metadata": {},
   "source": [
    "在尝试调参之前，重要的是要理解参数的含义。\n",
    "\n",
    "**网格搜索（grid search）**：主要是尝试关心的参数的所有可能组合。"
   ]
  },
  {
   "cell_type": "markdown",
   "metadata": {},
   "source": [
    "`GridSearchCV`常用的调参方法。"
   ]
  },
  {
   "cell_type": "code",
   "execution_count": 26,
   "metadata": {
    "ExecuteTime": {
     "end_time": "2018-08-12T00:35:31.372501Z",
     "start_time": "2018-08-12T00:35:31.366507Z"
    }
   },
   "outputs": [],
   "source": [
    "param_grid = {\"C\": [0.001, 0.01, 0.1, 1, 10, 100],\n",
    "              \"gamma\": [0.001, 0.01, 0.1, 1, 10, 100]}"
   ]
  },
  {
   "cell_type": "code",
   "execution_count": 27,
   "metadata": {
    "ExecuteTime": {
     "end_time": "2018-08-12T00:35:31.381503Z",
     "start_time": "2018-08-12T00:35:31.375482Z"
    }
   },
   "outputs": [],
   "source": [
    "from sklearn.model_selection import GridSearchCV\n",
    "from sklearn.svm import SVC\n",
    "\n",
    "grid_search = GridSearchCV(SVC(), param_grid=param_grid, cv=5, n_jobs=-1,\n",
    "                          return_train_score=False)"
   ]
  },
  {
   "cell_type": "code",
   "execution_count": 28,
   "metadata": {
    "ExecuteTime": {
     "end_time": "2018-08-12T00:35:31.391460Z",
     "start_time": "2018-08-12T00:35:31.385455Z"
    }
   },
   "outputs": [],
   "source": [
    "from sklearn.model_selection import train_test_split\n",
    "\n",
    "X_train, X_test, y_train, y_test = train_test_split(iris.data, iris.target,\n",
    "                                                    random_state=0)"
   ]
  },
  {
   "cell_type": "markdown",
   "metadata": {},
   "source": [
    "调用`fit`时，会对`param_grid`指定的每种参数组合都运行交叉验证："
   ]
  },
  {
   "cell_type": "code",
   "execution_count": 29,
   "metadata": {
    "ExecuteTime": {
     "end_time": "2018-08-12T00:35:34.164554Z",
     "start_time": "2018-08-12T00:35:31.394435Z"
    }
   },
   "outputs": [
    {
     "data": {
      "text/plain": [
       "GridSearchCV(cv=5, error_score='raise',\n",
       "       estimator=SVC(C=1.0, cache_size=200, class_weight=None, coef0=0.0,\n",
       "  decision_function_shape='ovr', degree=3, gamma='auto', kernel='rbf',\n",
       "  max_iter=-1, probability=False, random_state=None, shrinking=True,\n",
       "  tol=0.001, verbose=False),\n",
       "       fit_params=None, iid=True, n_jobs=-1,\n",
       "       param_grid={'C': [0.001, 0.01, 0.1, 1, 10, 100], 'gamma': [0.001, 0.01, 0.1, 1, 10, 100]},\n",
       "       pre_dispatch='2*n_jobs', refit=True, return_train_score=False,\n",
       "       scoring=None, verbose=0)"
      ]
     },
     "execution_count": 29,
     "metadata": {},
     "output_type": "execute_result"
    }
   ],
   "source": [
    "grid_search.fit(X_train, y_train)"
   ]
  },
  {
   "cell_type": "markdown",
   "metadata": {},
   "source": [
    "**拟合的`GridSearchCV`对象不仅会搜索最佳参数，还会利用得到最佳交叉验证性能的参数在整个训练集上自动拟合一个新模型。**"
   ]
  },
  {
   "cell_type": "markdown",
   "metadata": {},
   "source": [
    "用`predict`和`score`方法来访问重新训练过的模型。"
   ]
  },
  {
   "cell_type": "code",
   "execution_count": 30,
   "metadata": {
    "ExecuteTime": {
     "end_time": "2018-08-12T00:35:34.174525Z",
     "start_time": "2018-08-12T00:35:34.167546Z"
    }
   },
   "outputs": [
    {
     "data": {
      "text/plain": [
       "0.97368421052631582"
      ]
     },
     "execution_count": 30,
     "metadata": {},
     "output_type": "execute_result"
    }
   ],
   "source": [
    "grid_search.score(X_test, y_test)"
   ]
  },
  {
   "cell_type": "markdown",
   "metadata": {},
   "source": [
    "> 没有使用测试集来选择参数。"
   ]
  },
  {
   "cell_type": "code",
   "execution_count": 31,
   "metadata": {
    "ExecuteTime": {
     "end_time": "2018-08-12T00:35:34.186503Z",
     "start_time": "2018-08-12T00:35:34.177518Z"
    }
   },
   "outputs": [
    {
     "data": {
      "text/plain": [
       "SVC(C=100, cache_size=200, class_weight=None, coef0=0.0,\n",
       "  decision_function_shape='ovr', degree=3, gamma=0.01, kernel='rbf',\n",
       "  max_iter=-1, probability=False, random_state=None, shrinking=True,\n",
       "  tol=0.001, verbose=False)"
      ]
     },
     "execution_count": 31,
     "metadata": {},
     "output_type": "execute_result"
    }
   ],
   "source": [
    "# 最佳模型\n",
    "grid_search.best_estimator_"
   ]
  },
  {
   "cell_type": "code",
   "execution_count": 32,
   "metadata": {
    "ExecuteTime": {
     "end_time": "2018-08-12T00:35:34.204445Z",
     "start_time": "2018-08-12T00:35:34.192477Z"
    }
   },
   "outputs": [
    {
     "data": {
      "text/plain": [
       "{'C': 100, 'gamma': 0.01}"
      ]
     },
     "execution_count": 32,
     "metadata": {},
     "output_type": "execute_result"
    }
   ],
   "source": [
    "# 最佳参数\n",
    "grid_search.best_params_"
   ]
  },
  {
   "cell_type": "markdown",
   "metadata": {},
   "source": [
    "`GridSearchCV`本身具有`predict`和`score`方法，可以不使用`best_estimator_`来进行预测或评估模型。"
   ]
  },
  {
   "cell_type": "code",
   "execution_count": 33,
   "metadata": {
    "ExecuteTime": {
     "end_time": "2018-08-12T00:35:34.215421Z",
     "start_time": "2018-08-12T00:35:34.208445Z"
    }
   },
   "outputs": [
    {
     "data": {
      "text/plain": [
       "0.9732142857142857"
      ]
     },
     "execution_count": 33,
     "metadata": {},
     "output_type": "execute_result"
    }
   ],
   "source": [
    "# 交叉验证最佳精度\n",
    "grid_search.best_score_"
   ]
  },
  {
   "cell_type": "markdown",
   "metadata": {},
   "source": [
    "#### 5.2.1 分析交叉验证结果"
   ]
  },
  {
   "cell_type": "markdown",
   "metadata": {},
   "source": [
    "运行网格搜索的成本非常高，所以通常最好从相对比较稀疏且较小的网格开始搜索。然后检查结果，可能也会扩展搜索范围。\n",
    "\n",
    "`grid_search.cv_results_`保存网格搜索的所有结果，是一个字典。"
   ]
  },
  {
   "cell_type": "code",
   "execution_count": 34,
   "metadata": {
    "ExecuteTime": {
     "end_time": "2018-08-12T00:35:34.293155Z",
     "start_time": "2018-08-12T00:35:34.219422Z"
    },
    "scrolled": true
   },
   "outputs": [
    {
     "data": {
      "text/html": [
       "<div>\n",
       "<style scoped>\n",
       "    .dataframe tbody tr th:only-of-type {\n",
       "        vertical-align: middle;\n",
       "    }\n",
       "\n",
       "    .dataframe tbody tr th {\n",
       "        vertical-align: top;\n",
       "    }\n",
       "\n",
       "    .dataframe thead th {\n",
       "        text-align: right;\n",
       "    }\n",
       "</style>\n",
       "<table border=\"1\" class=\"dataframe\">\n",
       "  <thead>\n",
       "    <tr style=\"text-align: right;\">\n",
       "      <th></th>\n",
       "      <th>mean_fit_time</th>\n",
       "      <th>mean_score_time</th>\n",
       "      <th>mean_test_score</th>\n",
       "      <th>param_C</th>\n",
       "      <th>param_gamma</th>\n",
       "      <th>params</th>\n",
       "      <th>rank_test_score</th>\n",
       "      <th>split0_test_score</th>\n",
       "      <th>split1_test_score</th>\n",
       "      <th>split2_test_score</th>\n",
       "      <th>split3_test_score</th>\n",
       "      <th>split4_test_score</th>\n",
       "      <th>std_fit_time</th>\n",
       "      <th>std_score_time</th>\n",
       "      <th>std_test_score</th>\n",
       "    </tr>\n",
       "  </thead>\n",
       "  <tbody>\n",
       "    <tr>\n",
       "      <th>0</th>\n",
       "      <td>0.013565</td>\n",
       "      <td>0.000595</td>\n",
       "      <td>0.366071</td>\n",
       "      <td>0.001</td>\n",
       "      <td>0.001</td>\n",
       "      <td>{'C': 0.001, 'gamma': 0.001}</td>\n",
       "      <td>22</td>\n",
       "      <td>0.375000</td>\n",
       "      <td>0.347826</td>\n",
       "      <td>0.363636</td>\n",
       "      <td>0.363636</td>\n",
       "      <td>0.380952</td>\n",
       "      <td>1.852265e-03</td>\n",
       "      <td>0.000486</td>\n",
       "      <td>0.011371</td>\n",
       "    </tr>\n",
       "    <tr>\n",
       "      <th>1</th>\n",
       "      <td>0.010367</td>\n",
       "      <td>0.000401</td>\n",
       "      <td>0.366071</td>\n",
       "      <td>0.001</td>\n",
       "      <td>0.01</td>\n",
       "      <td>{'C': 0.001, 'gamma': 0.01}</td>\n",
       "      <td>22</td>\n",
       "      <td>0.375000</td>\n",
       "      <td>0.347826</td>\n",
       "      <td>0.363636</td>\n",
       "      <td>0.363636</td>\n",
       "      <td>0.380952</td>\n",
       "      <td>8.379933e-03</td>\n",
       "      <td>0.000492</td>\n",
       "      <td>0.011371</td>\n",
       "    </tr>\n",
       "    <tr>\n",
       "      <th>2</th>\n",
       "      <td>0.001196</td>\n",
       "      <td>0.000798</td>\n",
       "      <td>0.366071</td>\n",
       "      <td>0.001</td>\n",
       "      <td>0.1</td>\n",
       "      <td>{'C': 0.001, 'gamma': 0.1}</td>\n",
       "      <td>22</td>\n",
       "      <td>0.375000</td>\n",
       "      <td>0.347826</td>\n",
       "      <td>0.363636</td>\n",
       "      <td>0.363636</td>\n",
       "      <td>0.380952</td>\n",
       "      <td>3.980698e-04</td>\n",
       "      <td>0.000399</td>\n",
       "      <td>0.011371</td>\n",
       "    </tr>\n",
       "    <tr>\n",
       "      <th>3</th>\n",
       "      <td>0.000999</td>\n",
       "      <td>0.000798</td>\n",
       "      <td>0.366071</td>\n",
       "      <td>0.001</td>\n",
       "      <td>1</td>\n",
       "      <td>{'C': 0.001, 'gamma': 1}</td>\n",
       "      <td>22</td>\n",
       "      <td>0.375000</td>\n",
       "      <td>0.347826</td>\n",
       "      <td>0.363636</td>\n",
       "      <td>0.363636</td>\n",
       "      <td>0.380952</td>\n",
       "      <td>2.027842e-05</td>\n",
       "      <td>0.000399</td>\n",
       "      <td>0.011371</td>\n",
       "    </tr>\n",
       "    <tr>\n",
       "      <th>4</th>\n",
       "      <td>0.001394</td>\n",
       "      <td>0.000800</td>\n",
       "      <td>0.366071</td>\n",
       "      <td>0.001</td>\n",
       "      <td>10</td>\n",
       "      <td>{'C': 0.001, 'gamma': 10}</td>\n",
       "      <td>22</td>\n",
       "      <td>0.375000</td>\n",
       "      <td>0.347826</td>\n",
       "      <td>0.363636</td>\n",
       "      <td>0.363636</td>\n",
       "      <td>0.380952</td>\n",
       "      <td>4.906946e-04</td>\n",
       "      <td>0.000400</td>\n",
       "      <td>0.011371</td>\n",
       "    </tr>\n",
       "    <tr>\n",
       "      <th>5</th>\n",
       "      <td>0.001800</td>\n",
       "      <td>0.000594</td>\n",
       "      <td>0.366071</td>\n",
       "      <td>0.001</td>\n",
       "      <td>100</td>\n",
       "      <td>{'C': 0.001, 'gamma': 100}</td>\n",
       "      <td>22</td>\n",
       "      <td>0.375000</td>\n",
       "      <td>0.347826</td>\n",
       "      <td>0.363636</td>\n",
       "      <td>0.363636</td>\n",
       "      <td>0.380952</td>\n",
       "      <td>3.965267e-04</td>\n",
       "      <td>0.000485</td>\n",
       "      <td>0.011371</td>\n",
       "    </tr>\n",
       "    <tr>\n",
       "      <th>6</th>\n",
       "      <td>0.001192</td>\n",
       "      <td>0.000795</td>\n",
       "      <td>0.366071</td>\n",
       "      <td>0.01</td>\n",
       "      <td>0.001</td>\n",
       "      <td>{'C': 0.01, 'gamma': 0.001}</td>\n",
       "      <td>22</td>\n",
       "      <td>0.375000</td>\n",
       "      <td>0.347826</td>\n",
       "      <td>0.363636</td>\n",
       "      <td>0.363636</td>\n",
       "      <td>0.380952</td>\n",
       "      <td>4.082264e-04</td>\n",
       "      <td>0.000398</td>\n",
       "      <td>0.011371</td>\n",
       "    </tr>\n",
       "    <tr>\n",
       "      <th>7</th>\n",
       "      <td>0.001397</td>\n",
       "      <td>0.000599</td>\n",
       "      <td>0.366071</td>\n",
       "      <td>0.01</td>\n",
       "      <td>0.01</td>\n",
       "      <td>{'C': 0.01, 'gamma': 0.01}</td>\n",
       "      <td>22</td>\n",
       "      <td>0.375000</td>\n",
       "      <td>0.347826</td>\n",
       "      <td>0.363636</td>\n",
       "      <td>0.363636</td>\n",
       "      <td>0.380952</td>\n",
       "      <td>4.918981e-04</td>\n",
       "      <td>0.000489</td>\n",
       "      <td>0.011371</td>\n",
       "    </tr>\n",
       "    <tr>\n",
       "      <th>8</th>\n",
       "      <td>0.000995</td>\n",
       "      <td>0.000200</td>\n",
       "      <td>0.366071</td>\n",
       "      <td>0.01</td>\n",
       "      <td>0.1</td>\n",
       "      <td>{'C': 0.01, 'gamma': 0.1}</td>\n",
       "      <td>22</td>\n",
       "      <td>0.375000</td>\n",
       "      <td>0.347826</td>\n",
       "      <td>0.363636</td>\n",
       "      <td>0.363636</td>\n",
       "      <td>0.380952</td>\n",
       "      <td>1.051207e-06</td>\n",
       "      <td>0.000399</td>\n",
       "      <td>0.011371</td>\n",
       "    </tr>\n",
       "    <tr>\n",
       "      <th>9</th>\n",
       "      <td>0.000997</td>\n",
       "      <td>0.000399</td>\n",
       "      <td>0.366071</td>\n",
       "      <td>0.01</td>\n",
       "      <td>1</td>\n",
       "      <td>{'C': 0.01, 'gamma': 1}</td>\n",
       "      <td>22</td>\n",
       "      <td>0.375000</td>\n",
       "      <td>0.347826</td>\n",
       "      <td>0.363636</td>\n",
       "      <td>0.363636</td>\n",
       "      <td>0.380952</td>\n",
       "      <td>8.176054e-07</td>\n",
       "      <td>0.000489</td>\n",
       "      <td>0.011371</td>\n",
       "    </tr>\n",
       "    <tr>\n",
       "      <th>10</th>\n",
       "      <td>0.000598</td>\n",
       "      <td>0.000399</td>\n",
       "      <td>0.366071</td>\n",
       "      <td>0.01</td>\n",
       "      <td>10</td>\n",
       "      <td>{'C': 0.01, 'gamma': 10}</td>\n",
       "      <td>22</td>\n",
       "      <td>0.375000</td>\n",
       "      <td>0.347826</td>\n",
       "      <td>0.363636</td>\n",
       "      <td>0.363636</td>\n",
       "      <td>0.380952</td>\n",
       "      <td>4.886168e-04</td>\n",
       "      <td>0.000489</td>\n",
       "      <td>0.011371</td>\n",
       "    </tr>\n",
       "    <tr>\n",
       "      <th>11</th>\n",
       "      <td>0.000998</td>\n",
       "      <td>0.000797</td>\n",
       "      <td>0.366071</td>\n",
       "      <td>0.01</td>\n",
       "      <td>100</td>\n",
       "      <td>{'C': 0.01, 'gamma': 100}</td>\n",
       "      <td>22</td>\n",
       "      <td>0.375000</td>\n",
       "      <td>0.347826</td>\n",
       "      <td>0.363636</td>\n",
       "      <td>0.363636</td>\n",
       "      <td>0.380952</td>\n",
       "      <td>1.193046e-06</td>\n",
       "      <td>0.000399</td>\n",
       "      <td>0.011371</td>\n",
       "    </tr>\n",
       "    <tr>\n",
       "      <th>12</th>\n",
       "      <td>0.000998</td>\n",
       "      <td>0.000199</td>\n",
       "      <td>0.366071</td>\n",
       "      <td>0.1</td>\n",
       "      <td>0.001</td>\n",
       "      <td>{'C': 0.1, 'gamma': 0.001}</td>\n",
       "      <td>22</td>\n",
       "      <td>0.375000</td>\n",
       "      <td>0.347826</td>\n",
       "      <td>0.363636</td>\n",
       "      <td>0.363636</td>\n",
       "      <td>0.380952</td>\n",
       "      <td>1.284809e-06</td>\n",
       "      <td>0.000399</td>\n",
       "      <td>0.011371</td>\n",
       "    </tr>\n",
       "    <tr>\n",
       "      <th>13</th>\n",
       "      <td>0.001198</td>\n",
       "      <td>0.000599</td>\n",
       "      <td>0.696429</td>\n",
       "      <td>0.1</td>\n",
       "      <td>0.01</td>\n",
       "      <td>{'C': 0.1, 'gamma': 0.01}</td>\n",
       "      <td>17</td>\n",
       "      <td>0.708333</td>\n",
       "      <td>0.695652</td>\n",
       "      <td>0.681818</td>\n",
       "      <td>0.681818</td>\n",
       "      <td>0.714286</td>\n",
       "      <td>3.993515e-04</td>\n",
       "      <td>0.000489</td>\n",
       "      <td>0.013196</td>\n",
       "    </tr>\n",
       "    <tr>\n",
       "      <th>14</th>\n",
       "      <td>0.000802</td>\n",
       "      <td>0.000201</td>\n",
       "      <td>0.919643</td>\n",
       "      <td>0.1</td>\n",
       "      <td>0.1</td>\n",
       "      <td>{'C': 0.1, 'gamma': 0.1}</td>\n",
       "      <td>13</td>\n",
       "      <td>0.916667</td>\n",
       "      <td>0.913043</td>\n",
       "      <td>1.000000</td>\n",
       "      <td>0.863636</td>\n",
       "      <td>0.904762</td>\n",
       "      <td>4.007990e-04</td>\n",
       "      <td>0.000402</td>\n",
       "      <td>0.044010</td>\n",
       "    </tr>\n",
       "    <tr>\n",
       "      <th>15</th>\n",
       "      <td>0.000601</td>\n",
       "      <td>0.000200</td>\n",
       "      <td>0.955357</td>\n",
       "      <td>0.1</td>\n",
       "      <td>1</td>\n",
       "      <td>{'C': 0.1, 'gamma': 1}</td>\n",
       "      <td>6</td>\n",
       "      <td>1.000000</td>\n",
       "      <td>0.913043</td>\n",
       "      <td>1.000000</td>\n",
       "      <td>0.909091</td>\n",
       "      <td>0.952381</td>\n",
       "      <td>4.908645e-04</td>\n",
       "      <td>0.000399</td>\n",
       "      <td>0.040104</td>\n",
       "    </tr>\n",
       "    <tr>\n",
       "      <th>16</th>\n",
       "      <td>0.000603</td>\n",
       "      <td>0.000397</td>\n",
       "      <td>0.366071</td>\n",
       "      <td>0.1</td>\n",
       "      <td>10</td>\n",
       "      <td>{'C': 0.1, 'gamma': 10}</td>\n",
       "      <td>22</td>\n",
       "      <td>0.375000</td>\n",
       "      <td>0.347826</td>\n",
       "      <td>0.363636</td>\n",
       "      <td>0.363636</td>\n",
       "      <td>0.380952</td>\n",
       "      <td>4.926282e-04</td>\n",
       "      <td>0.000486</td>\n",
       "      <td>0.011371</td>\n",
       "    </tr>\n",
       "    <tr>\n",
       "      <th>17</th>\n",
       "      <td>0.000793</td>\n",
       "      <td>0.000404</td>\n",
       "      <td>0.366071</td>\n",
       "      <td>0.1</td>\n",
       "      <td>100</td>\n",
       "      <td>{'C': 0.1, 'gamma': 100}</td>\n",
       "      <td>22</td>\n",
       "      <td>0.375000</td>\n",
       "      <td>0.347826</td>\n",
       "      <td>0.363636</td>\n",
       "      <td>0.363636</td>\n",
       "      <td>0.380952</td>\n",
       "      <td>3.964978e-04</td>\n",
       "      <td>0.000495</td>\n",
       "      <td>0.011371</td>\n",
       "    </tr>\n",
       "    <tr>\n",
       "      <th>18</th>\n",
       "      <td>0.000997</td>\n",
       "      <td>0.000000</td>\n",
       "      <td>0.696429</td>\n",
       "      <td>1</td>\n",
       "      <td>0.001</td>\n",
       "      <td>{'C': 1, 'gamma': 0.001}</td>\n",
       "      <td>17</td>\n",
       "      <td>0.708333</td>\n",
       "      <td>0.695652</td>\n",
       "      <td>0.681818</td>\n",
       "      <td>0.681818</td>\n",
       "      <td>0.714286</td>\n",
       "      <td>4.002593e-06</td>\n",
       "      <td>0.000000</td>\n",
       "      <td>0.013196</td>\n",
       "    </tr>\n",
       "    <tr>\n",
       "      <th>19</th>\n",
       "      <td>0.000598</td>\n",
       "      <td>0.000000</td>\n",
       "      <td>0.928571</td>\n",
       "      <td>1</td>\n",
       "      <td>0.01</td>\n",
       "      <td>{'C': 1, 'gamma': 0.01}</td>\n",
       "      <td>11</td>\n",
       "      <td>0.875000</td>\n",
       "      <td>0.913043</td>\n",
       "      <td>1.000000</td>\n",
       "      <td>0.909091</td>\n",
       "      <td>0.952381</td>\n",
       "      <td>4.888400e-04</td>\n",
       "      <td>0.000000</td>\n",
       "      <td>0.042983</td>\n",
       "    </tr>\n",
       "    <tr>\n",
       "      <th>20</th>\n",
       "      <td>0.000997</td>\n",
       "      <td>0.000000</td>\n",
       "      <td>0.964286</td>\n",
       "      <td>1</td>\n",
       "      <td>0.1</td>\n",
       "      <td>{'C': 1, 'gamma': 0.1}</td>\n",
       "      <td>2</td>\n",
       "      <td>1.000000</td>\n",
       "      <td>0.956522</td>\n",
       "      <td>1.000000</td>\n",
       "      <td>0.909091</td>\n",
       "      <td>0.952381</td>\n",
       "      <td>3.504023e-07</td>\n",
       "      <td>0.000000</td>\n",
       "      <td>0.034077</td>\n",
       "    </tr>\n",
       "    <tr>\n",
       "      <th>21</th>\n",
       "      <td>0.000199</td>\n",
       "      <td>0.000399</td>\n",
       "      <td>0.946429</td>\n",
       "      <td>1</td>\n",
       "      <td>1</td>\n",
       "      <td>{'C': 1, 'gamma': 1}</td>\n",
       "      <td>8</td>\n",
       "      <td>0.916667</td>\n",
       "      <td>0.956522</td>\n",
       "      <td>1.000000</td>\n",
       "      <td>0.909091</td>\n",
       "      <td>0.952381</td>\n",
       "      <td>3.989220e-04</td>\n",
       "      <td>0.000488</td>\n",
       "      <td>0.032480</td>\n",
       "    </tr>\n",
       "    <tr>\n",
       "      <th>22</th>\n",
       "      <td>0.000997</td>\n",
       "      <td>0.000000</td>\n",
       "      <td>0.919643</td>\n",
       "      <td>1</td>\n",
       "      <td>10</td>\n",
       "      <td>{'C': 1, 'gamma': 10}</td>\n",
       "      <td>13</td>\n",
       "      <td>0.875000</td>\n",
       "      <td>0.956522</td>\n",
       "      <td>1.000000</td>\n",
       "      <td>0.818182</td>\n",
       "      <td>0.952381</td>\n",
       "      <td>1.784161e-07</td>\n",
       "      <td>0.000000</td>\n",
       "      <td>0.064791</td>\n",
       "    </tr>\n",
       "    <tr>\n",
       "      <th>23</th>\n",
       "      <td>0.001199</td>\n",
       "      <td>0.000399</td>\n",
       "      <td>0.508929</td>\n",
       "      <td>1</td>\n",
       "      <td>100</td>\n",
       "      <td>{'C': 1, 'gamma': 100}</td>\n",
       "      <td>21</td>\n",
       "      <td>0.500000</td>\n",
       "      <td>0.434783</td>\n",
       "      <td>0.545455</td>\n",
       "      <td>0.500000</td>\n",
       "      <td>0.571429</td>\n",
       "      <td>4.023794e-04</td>\n",
       "      <td>0.000488</td>\n",
       "      <td>0.046435</td>\n",
       "    </tr>\n",
       "    <tr>\n",
       "      <th>24</th>\n",
       "      <td>0.000598</td>\n",
       "      <td>0.000000</td>\n",
       "      <td>0.928571</td>\n",
       "      <td>10</td>\n",
       "      <td>0.001</td>\n",
       "      <td>{'C': 10, 'gamma': 0.001}</td>\n",
       "      <td>11</td>\n",
       "      <td>0.875000</td>\n",
       "      <td>0.913043</td>\n",
       "      <td>1.000000</td>\n",
       "      <td>0.909091</td>\n",
       "      <td>0.952381</td>\n",
       "      <td>4.886166e-04</td>\n",
       "      <td>0.000000</td>\n",
       "      <td>0.042983</td>\n",
       "    </tr>\n",
       "    <tr>\n",
       "      <th>25</th>\n",
       "      <td>0.000400</td>\n",
       "      <td>0.000198</td>\n",
       "      <td>0.964286</td>\n",
       "      <td>10</td>\n",
       "      <td>0.01</td>\n",
       "      <td>{'C': 10, 'gamma': 0.01}</td>\n",
       "      <td>2</td>\n",
       "      <td>1.000000</td>\n",
       "      <td>0.956522</td>\n",
       "      <td>1.000000</td>\n",
       "      <td>0.909091</td>\n",
       "      <td>0.952381</td>\n",
       "      <td>4.901020e-04</td>\n",
       "      <td>0.000397</td>\n",
       "      <td>0.034077</td>\n",
       "    </tr>\n",
       "    <tr>\n",
       "      <th>26</th>\n",
       "      <td>0.000399</td>\n",
       "      <td>0.000399</td>\n",
       "      <td>0.964286</td>\n",
       "      <td>10</td>\n",
       "      <td>0.1</td>\n",
       "      <td>{'C': 10, 'gamma': 0.1}</td>\n",
       "      <td>2</td>\n",
       "      <td>0.958333</td>\n",
       "      <td>0.956522</td>\n",
       "      <td>1.000000</td>\n",
       "      <td>0.954545</td>\n",
       "      <td>0.952381</td>\n",
       "      <td>4.883444e-04</td>\n",
       "      <td>0.000489</td>\n",
       "      <td>0.017769</td>\n",
       "    </tr>\n",
       "    <tr>\n",
       "      <th>27</th>\n",
       "      <td>0.000199</td>\n",
       "      <td>0.000404</td>\n",
       "      <td>0.937500</td>\n",
       "      <td>10</td>\n",
       "      <td>1</td>\n",
       "      <td>{'C': 10, 'gamma': 1}</td>\n",
       "      <td>10</td>\n",
       "      <td>0.916667</td>\n",
       "      <td>0.956522</td>\n",
       "      <td>1.000000</td>\n",
       "      <td>0.863636</td>\n",
       "      <td>0.952381</td>\n",
       "      <td>3.988266e-04</td>\n",
       "      <td>0.000494</td>\n",
       "      <td>0.045253</td>\n",
       "    </tr>\n",
       "    <tr>\n",
       "      <th>28</th>\n",
       "      <td>0.000798</td>\n",
       "      <td>0.000399</td>\n",
       "      <td>0.919643</td>\n",
       "      <td>10</td>\n",
       "      <td>10</td>\n",
       "      <td>{'C': 10, 'gamma': 10}</td>\n",
       "      <td>13</td>\n",
       "      <td>0.875000</td>\n",
       "      <td>0.956522</td>\n",
       "      <td>1.000000</td>\n",
       "      <td>0.818182</td>\n",
       "      <td>0.952381</td>\n",
       "      <td>3.989698e-04</td>\n",
       "      <td>0.000489</td>\n",
       "      <td>0.064791</td>\n",
       "    </tr>\n",
       "    <tr>\n",
       "      <th>29</th>\n",
       "      <td>0.000798</td>\n",
       "      <td>0.000199</td>\n",
       "      <td>0.562500</td>\n",
       "      <td>10</td>\n",
       "      <td>100</td>\n",
       "      <td>{'C': 10, 'gamma': 100}</td>\n",
       "      <td>19</td>\n",
       "      <td>0.541667</td>\n",
       "      <td>0.478261</td>\n",
       "      <td>0.590909</td>\n",
       "      <td>0.590909</td>\n",
       "      <td>0.619048</td>\n",
       "      <td>3.989220e-04</td>\n",
       "      <td>0.000399</td>\n",
       "      <td>0.049668</td>\n",
       "    </tr>\n",
       "    <tr>\n",
       "      <th>30</th>\n",
       "      <td>0.000599</td>\n",
       "      <td>0.000199</td>\n",
       "      <td>0.964286</td>\n",
       "      <td>100</td>\n",
       "      <td>0.001</td>\n",
       "      <td>{'C': 100, 'gamma': 0.001}</td>\n",
       "      <td>2</td>\n",
       "      <td>1.000000</td>\n",
       "      <td>0.956522</td>\n",
       "      <td>1.000000</td>\n",
       "      <td>0.909091</td>\n",
       "      <td>0.952381</td>\n",
       "      <td>4.886948e-04</td>\n",
       "      <td>0.000399</td>\n",
       "      <td>0.034077</td>\n",
       "    </tr>\n",
       "    <tr>\n",
       "      <th>31</th>\n",
       "      <td>0.000796</td>\n",
       "      <td>0.000199</td>\n",
       "      <td>0.973214</td>\n",
       "      <td>100</td>\n",
       "      <td>0.01</td>\n",
       "      <td>{'C': 100, 'gamma': 0.01}</td>\n",
       "      <td>1</td>\n",
       "      <td>1.000000</td>\n",
       "      <td>0.956522</td>\n",
       "      <td>1.000000</td>\n",
       "      <td>0.954545</td>\n",
       "      <td>0.952381</td>\n",
       "      <td>3.980024e-04</td>\n",
       "      <td>0.000398</td>\n",
       "      <td>0.022400</td>\n",
       "    </tr>\n",
       "    <tr>\n",
       "      <th>32</th>\n",
       "      <td>0.000199</td>\n",
       "      <td>0.000399</td>\n",
       "      <td>0.955357</td>\n",
       "      <td>100</td>\n",
       "      <td>0.1</td>\n",
       "      <td>{'C': 100, 'gamma': 0.1}</td>\n",
       "      <td>6</td>\n",
       "      <td>0.958333</td>\n",
       "      <td>1.000000</td>\n",
       "      <td>1.000000</td>\n",
       "      <td>0.863636</td>\n",
       "      <td>0.952381</td>\n",
       "      <td>3.989220e-04</td>\n",
       "      <td>0.000489</td>\n",
       "      <td>0.049566</td>\n",
       "    </tr>\n",
       "    <tr>\n",
       "      <th>33</th>\n",
       "      <td>0.000998</td>\n",
       "      <td>0.000199</td>\n",
       "      <td>0.946429</td>\n",
       "      <td>100</td>\n",
       "      <td>1</td>\n",
       "      <td>{'C': 100, 'gamma': 1}</td>\n",
       "      <td>8</td>\n",
       "      <td>0.916667</td>\n",
       "      <td>1.000000</td>\n",
       "      <td>1.000000</td>\n",
       "      <td>0.863636</td>\n",
       "      <td>0.952381</td>\n",
       "      <td>5.519789e-07</td>\n",
       "      <td>0.000399</td>\n",
       "      <td>0.051923</td>\n",
       "    </tr>\n",
       "    <tr>\n",
       "      <th>34</th>\n",
       "      <td>0.001402</td>\n",
       "      <td>0.000198</td>\n",
       "      <td>0.919643</td>\n",
       "      <td>100</td>\n",
       "      <td>10</td>\n",
       "      <td>{'C': 100, 'gamma': 10}</td>\n",
       "      <td>13</td>\n",
       "      <td>0.875000</td>\n",
       "      <td>0.956522</td>\n",
       "      <td>1.000000</td>\n",
       "      <td>0.818182</td>\n",
       "      <td>0.952381</td>\n",
       "      <td>4.856036e-04</td>\n",
       "      <td>0.000396</td>\n",
       "      <td>0.064791</td>\n",
       "    </tr>\n",
       "    <tr>\n",
       "      <th>35</th>\n",
       "      <td>0.000797</td>\n",
       "      <td>0.000400</td>\n",
       "      <td>0.562500</td>\n",
       "      <td>100</td>\n",
       "      <td>100</td>\n",
       "      <td>{'C': 100, 'gamma': 100}</td>\n",
       "      <td>19</td>\n",
       "      <td>0.541667</td>\n",
       "      <td>0.478261</td>\n",
       "      <td>0.590909</td>\n",
       "      <td>0.590909</td>\n",
       "      <td>0.619048</td>\n",
       "      <td>7.457057e-04</td>\n",
       "      <td>0.000490</td>\n",
       "      <td>0.049668</td>\n",
       "    </tr>\n",
       "  </tbody>\n",
       "</table>\n",
       "</div>"
      ],
      "text/plain": [
       "    mean_fit_time  mean_score_time  mean_test_score param_C param_gamma  \\\n",
       "0        0.013565         0.000595         0.366071   0.001       0.001   \n",
       "1        0.010367         0.000401         0.366071   0.001        0.01   \n",
       "2        0.001196         0.000798         0.366071   0.001         0.1   \n",
       "3        0.000999         0.000798         0.366071   0.001           1   \n",
       "4        0.001394         0.000800         0.366071   0.001          10   \n",
       "5        0.001800         0.000594         0.366071   0.001         100   \n",
       "6        0.001192         0.000795         0.366071    0.01       0.001   \n",
       "7        0.001397         0.000599         0.366071    0.01        0.01   \n",
       "8        0.000995         0.000200         0.366071    0.01         0.1   \n",
       "9        0.000997         0.000399         0.366071    0.01           1   \n",
       "10       0.000598         0.000399         0.366071    0.01          10   \n",
       "11       0.000998         0.000797         0.366071    0.01         100   \n",
       "12       0.000998         0.000199         0.366071     0.1       0.001   \n",
       "13       0.001198         0.000599         0.696429     0.1        0.01   \n",
       "14       0.000802         0.000201         0.919643     0.1         0.1   \n",
       "15       0.000601         0.000200         0.955357     0.1           1   \n",
       "16       0.000603         0.000397         0.366071     0.1          10   \n",
       "17       0.000793         0.000404         0.366071     0.1         100   \n",
       "18       0.000997         0.000000         0.696429       1       0.001   \n",
       "19       0.000598         0.000000         0.928571       1        0.01   \n",
       "20       0.000997         0.000000         0.964286       1         0.1   \n",
       "21       0.000199         0.000399         0.946429       1           1   \n",
       "22       0.000997         0.000000         0.919643       1          10   \n",
       "23       0.001199         0.000399         0.508929       1         100   \n",
       "24       0.000598         0.000000         0.928571      10       0.001   \n",
       "25       0.000400         0.000198         0.964286      10        0.01   \n",
       "26       0.000399         0.000399         0.964286      10         0.1   \n",
       "27       0.000199         0.000404         0.937500      10           1   \n",
       "28       0.000798         0.000399         0.919643      10          10   \n",
       "29       0.000798         0.000199         0.562500      10         100   \n",
       "30       0.000599         0.000199         0.964286     100       0.001   \n",
       "31       0.000796         0.000199         0.973214     100        0.01   \n",
       "32       0.000199         0.000399         0.955357     100         0.1   \n",
       "33       0.000998         0.000199         0.946429     100           1   \n",
       "34       0.001402         0.000198         0.919643     100          10   \n",
       "35       0.000797         0.000400         0.562500     100         100   \n",
       "\n",
       "                          params  rank_test_score  split0_test_score  \\\n",
       "0   {'C': 0.001, 'gamma': 0.001}               22           0.375000   \n",
       "1    {'C': 0.001, 'gamma': 0.01}               22           0.375000   \n",
       "2     {'C': 0.001, 'gamma': 0.1}               22           0.375000   \n",
       "3       {'C': 0.001, 'gamma': 1}               22           0.375000   \n",
       "4      {'C': 0.001, 'gamma': 10}               22           0.375000   \n",
       "5     {'C': 0.001, 'gamma': 100}               22           0.375000   \n",
       "6    {'C': 0.01, 'gamma': 0.001}               22           0.375000   \n",
       "7     {'C': 0.01, 'gamma': 0.01}               22           0.375000   \n",
       "8      {'C': 0.01, 'gamma': 0.1}               22           0.375000   \n",
       "9        {'C': 0.01, 'gamma': 1}               22           0.375000   \n",
       "10      {'C': 0.01, 'gamma': 10}               22           0.375000   \n",
       "11     {'C': 0.01, 'gamma': 100}               22           0.375000   \n",
       "12    {'C': 0.1, 'gamma': 0.001}               22           0.375000   \n",
       "13     {'C': 0.1, 'gamma': 0.01}               17           0.708333   \n",
       "14      {'C': 0.1, 'gamma': 0.1}               13           0.916667   \n",
       "15        {'C': 0.1, 'gamma': 1}                6           1.000000   \n",
       "16       {'C': 0.1, 'gamma': 10}               22           0.375000   \n",
       "17      {'C': 0.1, 'gamma': 100}               22           0.375000   \n",
       "18      {'C': 1, 'gamma': 0.001}               17           0.708333   \n",
       "19       {'C': 1, 'gamma': 0.01}               11           0.875000   \n",
       "20        {'C': 1, 'gamma': 0.1}                2           1.000000   \n",
       "21          {'C': 1, 'gamma': 1}                8           0.916667   \n",
       "22         {'C': 1, 'gamma': 10}               13           0.875000   \n",
       "23        {'C': 1, 'gamma': 100}               21           0.500000   \n",
       "24     {'C': 10, 'gamma': 0.001}               11           0.875000   \n",
       "25      {'C': 10, 'gamma': 0.01}                2           1.000000   \n",
       "26       {'C': 10, 'gamma': 0.1}                2           0.958333   \n",
       "27         {'C': 10, 'gamma': 1}               10           0.916667   \n",
       "28        {'C': 10, 'gamma': 10}               13           0.875000   \n",
       "29       {'C': 10, 'gamma': 100}               19           0.541667   \n",
       "30    {'C': 100, 'gamma': 0.001}                2           1.000000   \n",
       "31     {'C': 100, 'gamma': 0.01}                1           1.000000   \n",
       "32      {'C': 100, 'gamma': 0.1}                6           0.958333   \n",
       "33        {'C': 100, 'gamma': 1}                8           0.916667   \n",
       "34       {'C': 100, 'gamma': 10}               13           0.875000   \n",
       "35      {'C': 100, 'gamma': 100}               19           0.541667   \n",
       "\n",
       "    split1_test_score  split2_test_score  split3_test_score  \\\n",
       "0            0.347826           0.363636           0.363636   \n",
       "1            0.347826           0.363636           0.363636   \n",
       "2            0.347826           0.363636           0.363636   \n",
       "3            0.347826           0.363636           0.363636   \n",
       "4            0.347826           0.363636           0.363636   \n",
       "5            0.347826           0.363636           0.363636   \n",
       "6            0.347826           0.363636           0.363636   \n",
       "7            0.347826           0.363636           0.363636   \n",
       "8            0.347826           0.363636           0.363636   \n",
       "9            0.347826           0.363636           0.363636   \n",
       "10           0.347826           0.363636           0.363636   \n",
       "11           0.347826           0.363636           0.363636   \n",
       "12           0.347826           0.363636           0.363636   \n",
       "13           0.695652           0.681818           0.681818   \n",
       "14           0.913043           1.000000           0.863636   \n",
       "15           0.913043           1.000000           0.909091   \n",
       "16           0.347826           0.363636           0.363636   \n",
       "17           0.347826           0.363636           0.363636   \n",
       "18           0.695652           0.681818           0.681818   \n",
       "19           0.913043           1.000000           0.909091   \n",
       "20           0.956522           1.000000           0.909091   \n",
       "21           0.956522           1.000000           0.909091   \n",
       "22           0.956522           1.000000           0.818182   \n",
       "23           0.434783           0.545455           0.500000   \n",
       "24           0.913043           1.000000           0.909091   \n",
       "25           0.956522           1.000000           0.909091   \n",
       "26           0.956522           1.000000           0.954545   \n",
       "27           0.956522           1.000000           0.863636   \n",
       "28           0.956522           1.000000           0.818182   \n",
       "29           0.478261           0.590909           0.590909   \n",
       "30           0.956522           1.000000           0.909091   \n",
       "31           0.956522           1.000000           0.954545   \n",
       "32           1.000000           1.000000           0.863636   \n",
       "33           1.000000           1.000000           0.863636   \n",
       "34           0.956522           1.000000           0.818182   \n",
       "35           0.478261           0.590909           0.590909   \n",
       "\n",
       "    split4_test_score  std_fit_time  std_score_time  std_test_score  \n",
       "0            0.380952  1.852265e-03        0.000486        0.011371  \n",
       "1            0.380952  8.379933e-03        0.000492        0.011371  \n",
       "2            0.380952  3.980698e-04        0.000399        0.011371  \n",
       "3            0.380952  2.027842e-05        0.000399        0.011371  \n",
       "4            0.380952  4.906946e-04        0.000400        0.011371  \n",
       "5            0.380952  3.965267e-04        0.000485        0.011371  \n",
       "6            0.380952  4.082264e-04        0.000398        0.011371  \n",
       "7            0.380952  4.918981e-04        0.000489        0.011371  \n",
       "8            0.380952  1.051207e-06        0.000399        0.011371  \n",
       "9            0.380952  8.176054e-07        0.000489        0.011371  \n",
       "10           0.380952  4.886168e-04        0.000489        0.011371  \n",
       "11           0.380952  1.193046e-06        0.000399        0.011371  \n",
       "12           0.380952  1.284809e-06        0.000399        0.011371  \n",
       "13           0.714286  3.993515e-04        0.000489        0.013196  \n",
       "14           0.904762  4.007990e-04        0.000402        0.044010  \n",
       "15           0.952381  4.908645e-04        0.000399        0.040104  \n",
       "16           0.380952  4.926282e-04        0.000486        0.011371  \n",
       "17           0.380952  3.964978e-04        0.000495        0.011371  \n",
       "18           0.714286  4.002593e-06        0.000000        0.013196  \n",
       "19           0.952381  4.888400e-04        0.000000        0.042983  \n",
       "20           0.952381  3.504023e-07        0.000000        0.034077  \n",
       "21           0.952381  3.989220e-04        0.000488        0.032480  \n",
       "22           0.952381  1.784161e-07        0.000000        0.064791  \n",
       "23           0.571429  4.023794e-04        0.000488        0.046435  \n",
       "24           0.952381  4.886166e-04        0.000000        0.042983  \n",
       "25           0.952381  4.901020e-04        0.000397        0.034077  \n",
       "26           0.952381  4.883444e-04        0.000489        0.017769  \n",
       "27           0.952381  3.988266e-04        0.000494        0.045253  \n",
       "28           0.952381  3.989698e-04        0.000489        0.064791  \n",
       "29           0.619048  3.989220e-04        0.000399        0.049668  \n",
       "30           0.952381  4.886948e-04        0.000399        0.034077  \n",
       "31           0.952381  3.980024e-04        0.000398        0.022400  \n",
       "32           0.952381  3.989220e-04        0.000489        0.049566  \n",
       "33           0.952381  5.519789e-07        0.000399        0.051923  \n",
       "34           0.952381  4.856036e-04        0.000396        0.064791  \n",
       "35           0.619048  7.457057e-04        0.000490        0.049668  "
      ]
     },
     "metadata": {},
     "output_type": "display_data"
    }
   ],
   "source": [
    "results = pd.DataFrame(grid_search.cv_results_)\n",
    "# 每一行对应一种特定的参数\n",
    "display(results)  # 参数组合共36种"
   ]
  },
  {
   "cell_type": "markdown",
   "metadata": {},
   "source": [
    "> 每一行对应一种特定的参数设置。对于每种参数设置，交叉验证所有划分的结果都被记录下来，所欲划分的平均值和标准差也被记录下来。"
   ]
  },
  {
   "cell_type": "markdown",
   "metadata": {},
   "source": [
    "搜索的二维参数网格，所以最适合**热图可视化**："
   ]
  },
  {
   "cell_type": "code",
   "execution_count": 42,
   "metadata": {
    "ExecuteTime": {
     "end_time": "2018-08-12T06:22:48.624820Z",
     "start_time": "2018-08-12T06:22:48.417365Z"
    }
   },
   "outputs": [
    {
     "data": {
      "image/png": "[encoded data removed]",
      "text/plain": [
       "<Figure size 576x576 with 1 Axes>"
      ]
     },
     "metadata": {},
     "output_type": "display_data"
    }
   ],
   "source": [
    "# 提取平均验证分数\n",
    "scores = np.array(results[\"mean_test_score\"]).reshape(6, 6)\n",
    "\n",
    "plt.figure(figsize=(8, 8))\n",
    "plt.imshow(scores, cmap=plt.cm.viridis)\n",
    "plt.xlabel(\"Gamma\")\n",
    "plt.ylabel(\"C\")\n",
    "plt.xticks(np.arange(len(param_grid[\"gamma\"])), param_grid[\"gamma\"])\n",
    "plt.yticks(np.arange(len(param_grid[\"C\"])), param_grid[\"C\"])\n",
    "\n",
    "for i in range(len(param_grid[\"C\"])):\n",
    "    for j in range(len(param_grid[\"gamma\"])):\n",
    "        plt.text(i, j, scores[i, j], ha=\"center\", va=\"center\", color=\"w\")\n",
    "plt.show()"
   ]
  },
  {
   "cell_type": "markdown",
   "metadata": {},
   "source": [
    "> 热图中每个点对应于运行一次交叉验证以及一种特定的参数设置。要注意，参数的范围要足够大：每个参数的最佳取值不能位于图像的边界上。"
   ]
  },
  {
   "cell_type": "markdown",
   "metadata": {},
   "source": [
    "#### 5.2.2 在非网格的空间搜索"
   ]
  },
  {
   "cell_type": "markdown",
   "metadata": {},
   "source": [
    "`param_grid`可以是字典组成的列表。列表中的每个字典可扩展为一个独立的网格。"
   ]
  },
  {
   "cell_type": "code",
   "execution_count": 46,
   "metadata": {
    "ExecuteTime": {
     "end_time": "2018-08-12T06:30:47.032297Z",
     "start_time": "2018-08-12T06:30:47.027302Z"
    }
   },
   "outputs": [],
   "source": [
    "param_grid = [{\"kernel\": [\"rbf\"],\n",
    "               \"C\": [0.001, 0.01, 0.1, 1, 10, 100],\n",
    "               \"gamma\": [0.001, 0.01, 0.1, 1, 10, 100]},\n",
    "              {\"kernel\": [\"linear\"],\n",
    "               \"C\": [0.001, 0.01, 0.1, 1, 10, 100]}]"
   ]
  },
  {
   "cell_type": "code",
   "execution_count": 51,
   "metadata": {
    "ExecuteTime": {
     "end_time": "2018-08-12T06:34:14.165622Z",
     "start_time": "2018-08-12T06:34:11.898308Z"
    }
   },
   "outputs": [
    {
     "data": {
      "text/plain": [
       "GridSearchCV(cv=5, error_score='raise',\n",
       "       estimator=SVC(C=1.0, cache_size=200, class_weight=None, coef0=0.0,\n",
       "  decision_function_shape='ovr', degree=3, gamma='auto', kernel='rbf',\n",
       "  max_iter=-1, probability=False, random_state=None, shrinking=True,\n",
       "  tol=0.001, verbose=False),\n",
       "       fit_params=None, iid=True, n_jobs=-1,\n",
       "       param_grid=[{'kernel': ['rbf'], 'C': [0.001, 0.01, 0.1, 1, 10, 100], 'gamma': [0.001, 0.01, 0.1, 1, 10, 100]}, {'kernel': ['linear'], 'C': [0.001, 0.01, 0.1, 1, 10, 100]}],\n",
       "       pre_dispatch='2*n_jobs', refit=True, return_train_score=False,\n",
       "       scoring=None, verbose=0)"
      ]
     },
     "execution_count": 51,
     "metadata": {},
     "output_type": "execute_result"
    }
   ],
   "source": [
    "grid_search = GridSearchCV(SVC(), param_grid=param_grid, cv=5, n_jobs=-1,\n",
    "                           return_train_score=False)\n",
    "grid_search.fit(X_train, y_train)"
   ]
  },
  {
   "cell_type": "code",
   "execution_count": 52,
   "metadata": {
    "ExecuteTime": {
     "end_time": "2018-08-12T06:34:14.934411Z",
     "start_time": "2018-08-12T06:34:14.928425Z"
    }
   },
   "outputs": [
    {
     "data": {
      "text/plain": [
       "{'C': 100, 'gamma': 0.01, 'kernel': 'rbf'}"
      ]
     },
     "execution_count": 52,
     "metadata": {},
     "output_type": "execute_result"
    }
   ],
   "source": [
    "grid_search.best_params_"
   ]
  },
  {
   "cell_type": "code",
   "execution_count": 53,
   "metadata": {
    "ExecuteTime": {
     "end_time": "2018-08-12T06:34:15.727771Z",
     "start_time": "2018-08-12T06:34:15.722816Z"
    }
   },
   "outputs": [
    {
     "data": {
      "text/plain": [
       "0.9732142857142857"
      ]
     },
     "execution_count": 53,
     "metadata": {},
     "output_type": "execute_result"
    }
   ],
   "source": [
    "grid_search.best_score_"
   ]
  },
  {
   "cell_type": "code",
   "execution_count": 54,
   "metadata": {
    "ExecuteTime": {
     "end_time": "2018-08-12T06:34:16.616064Z",
     "start_time": "2018-08-12T06:34:16.558220Z"
    }
   },
   "outputs": [
    {
     "data": {
      "text/html": [
       "<div>\n",
       "<style scoped>\n",
       "    .dataframe tbody tr th:only-of-type {\n",
       "        vertical-align: middle;\n",
       "    }\n",
       "\n",
       "    .dataframe tbody tr th {\n",
       "        vertical-align: top;\n",
       "    }\n",
       "\n",
       "    .dataframe thead th {\n",
       "        text-align: right;\n",
       "    }\n",
       "</style>\n",
       "<table border=\"1\" class=\"dataframe\">\n",
       "  <thead>\n",
       "    <tr style=\"text-align: right;\">\n",
       "      <th></th>\n",
       "      <th>mean_fit_time</th>\n",
       "      <th>mean_score_time</th>\n",
       "      <th>mean_test_score</th>\n",
       "      <th>param_C</th>\n",
       "      <th>param_gamma</th>\n",
       "      <th>param_kernel</th>\n",
       "      <th>params</th>\n",
       "      <th>rank_test_score</th>\n",
       "      <th>split0_test_score</th>\n",
       "      <th>split1_test_score</th>\n",
       "      <th>split2_test_score</th>\n",
       "      <th>split3_test_score</th>\n",
       "      <th>split4_test_score</th>\n",
       "      <th>std_fit_time</th>\n",
       "      <th>std_score_time</th>\n",
       "      <th>std_test_score</th>\n",
       "    </tr>\n",
       "  </thead>\n",
       "  <tbody>\n",
       "    <tr>\n",
       "      <th>0</th>\n",
       "      <td>0.012501</td>\n",
       "      <td>0.000000</td>\n",
       "      <td>0.366071</td>\n",
       "      <td>0.001</td>\n",
       "      <td>0.001</td>\n",
       "      <td>rbf</td>\n",
       "      <td>{'C': 0.001, 'gamma': 0.001, 'kernel': 'rbf'}</td>\n",
       "      <td>27</td>\n",
       "      <td>0.375000</td>\n",
       "      <td>0.347826</td>\n",
       "      <td>0.363636</td>\n",
       "      <td>0.363636</td>\n",
       "      <td>0.380952</td>\n",
       "      <td>0.006250</td>\n",
       "      <td>0.000000</td>\n",
       "      <td>0.011371</td>\n",
       "    </tr>\n",
       "    <tr>\n",
       "      <th>1</th>\n",
       "      <td>0.006243</td>\n",
       "      <td>0.000000</td>\n",
       "      <td>0.366071</td>\n",
       "      <td>0.001</td>\n",
       "      <td>0.01</td>\n",
       "      <td>rbf</td>\n",
       "      <td>{'C': 0.001, 'gamma': 0.01, 'kernel': 'rbf'}</td>\n",
       "      <td>27</td>\n",
       "      <td>0.375000</td>\n",
       "      <td>0.347826</td>\n",
       "      <td>0.363636</td>\n",
       "      <td>0.363636</td>\n",
       "      <td>0.380952</td>\n",
       "      <td>0.007646</td>\n",
       "      <td>0.000000</td>\n",
       "      <td>0.011371</td>\n",
       "    </tr>\n",
       "    <tr>\n",
       "      <th>2</th>\n",
       "      <td>0.000000</td>\n",
       "      <td>0.000000</td>\n",
       "      <td>0.366071</td>\n",
       "      <td>0.001</td>\n",
       "      <td>0.1</td>\n",
       "      <td>rbf</td>\n",
       "      <td>{'C': 0.001, 'gamma': 0.1, 'kernel': 'rbf'}</td>\n",
       "      <td>27</td>\n",
       "      <td>0.375000</td>\n",
       "      <td>0.347826</td>\n",
       "      <td>0.363636</td>\n",
       "      <td>0.363636</td>\n",
       "      <td>0.380952</td>\n",
       "      <td>0.000000</td>\n",
       "      <td>0.000000</td>\n",
       "      <td>0.011371</td>\n",
       "    </tr>\n",
       "    <tr>\n",
       "      <th>3</th>\n",
       "      <td>0.000000</td>\n",
       "      <td>0.000000</td>\n",
       "      <td>0.366071</td>\n",
       "      <td>0.001</td>\n",
       "      <td>1</td>\n",
       "      <td>rbf</td>\n",
       "      <td>{'C': 0.001, 'gamma': 1, 'kernel': 'rbf'}</td>\n",
       "      <td>27</td>\n",
       "      <td>0.375000</td>\n",
       "      <td>0.347826</td>\n",
       "      <td>0.363636</td>\n",
       "      <td>0.363636</td>\n",
       "      <td>0.380952</td>\n",
       "      <td>0.000000</td>\n",
       "      <td>0.000000</td>\n",
       "      <td>0.011371</td>\n",
       "    </tr>\n",
       "    <tr>\n",
       "      <th>4</th>\n",
       "      <td>0.000000</td>\n",
       "      <td>0.000000</td>\n",
       "      <td>0.366071</td>\n",
       "      <td>0.001</td>\n",
       "      <td>10</td>\n",
       "      <td>rbf</td>\n",
       "      <td>{'C': 0.001, 'gamma': 10, 'kernel': 'rbf'}</td>\n",
       "      <td>27</td>\n",
       "      <td>0.375000</td>\n",
       "      <td>0.347826</td>\n",
       "      <td>0.363636</td>\n",
       "      <td>0.363636</td>\n",
       "      <td>0.380952</td>\n",
       "      <td>0.000000</td>\n",
       "      <td>0.000000</td>\n",
       "      <td>0.011371</td>\n",
       "    </tr>\n",
       "    <tr>\n",
       "      <th>5</th>\n",
       "      <td>0.000000</td>\n",
       "      <td>0.000000</td>\n",
       "      <td>0.366071</td>\n",
       "      <td>0.001</td>\n",
       "      <td>100</td>\n",
       "      <td>rbf</td>\n",
       "      <td>{'C': 0.001, 'gamma': 100, 'kernel': 'rbf'}</td>\n",
       "      <td>27</td>\n",
       "      <td>0.375000</td>\n",
       "      <td>0.347826</td>\n",
       "      <td>0.363636</td>\n",
       "      <td>0.363636</td>\n",
       "      <td>0.380952</td>\n",
       "      <td>0.000000</td>\n",
       "      <td>0.000000</td>\n",
       "      <td>0.011371</td>\n",
       "    </tr>\n",
       "    <tr>\n",
       "      <th>6</th>\n",
       "      <td>0.000000</td>\n",
       "      <td>0.000000</td>\n",
       "      <td>0.366071</td>\n",
       "      <td>0.01</td>\n",
       "      <td>0.001</td>\n",
       "      <td>rbf</td>\n",
       "      <td>{'C': 0.01, 'gamma': 0.001, 'kernel': 'rbf'}</td>\n",
       "      <td>27</td>\n",
       "      <td>0.375000</td>\n",
       "      <td>0.347826</td>\n",
       "      <td>0.363636</td>\n",
       "      <td>0.363636</td>\n",
       "      <td>0.380952</td>\n",
       "      <td>0.000000</td>\n",
       "      <td>0.000000</td>\n",
       "      <td>0.011371</td>\n",
       "    </tr>\n",
       "    <tr>\n",
       "      <th>7</th>\n",
       "      <td>0.000000</td>\n",
       "      <td>0.000000</td>\n",
       "      <td>0.366071</td>\n",
       "      <td>0.01</td>\n",
       "      <td>0.01</td>\n",
       "      <td>rbf</td>\n",
       "      <td>{'C': 0.01, 'gamma': 0.01, 'kernel': 'rbf'}</td>\n",
       "      <td>27</td>\n",
       "      <td>0.375000</td>\n",
       "      <td>0.347826</td>\n",
       "      <td>0.363636</td>\n",
       "      <td>0.363636</td>\n",
       "      <td>0.380952</td>\n",
       "      <td>0.000000</td>\n",
       "      <td>0.000000</td>\n",
       "      <td>0.011371</td>\n",
       "    </tr>\n",
       "    <tr>\n",
       "      <th>8</th>\n",
       "      <td>0.000599</td>\n",
       "      <td>0.000200</td>\n",
       "      <td>0.366071</td>\n",
       "      <td>0.01</td>\n",
       "      <td>0.1</td>\n",
       "      <td>rbf</td>\n",
       "      <td>{'C': 0.01, 'gamma': 0.1, 'kernel': 'rbf'}</td>\n",
       "      <td>27</td>\n",
       "      <td>0.375000</td>\n",
       "      <td>0.347826</td>\n",
       "      <td>0.363636</td>\n",
       "      <td>0.363636</td>\n",
       "      <td>0.380952</td>\n",
       "      <td>0.000489</td>\n",
       "      <td>0.000399</td>\n",
       "      <td>0.011371</td>\n",
       "    </tr>\n",
       "    <tr>\n",
       "      <th>9</th>\n",
       "      <td>0.000599</td>\n",
       "      <td>0.000599</td>\n",
       "      <td>0.366071</td>\n",
       "      <td>0.01</td>\n",
       "      <td>1</td>\n",
       "      <td>rbf</td>\n",
       "      <td>{'C': 0.01, 'gamma': 1, 'kernel': 'rbf'}</td>\n",
       "      <td>27</td>\n",
       "      <td>0.375000</td>\n",
       "      <td>0.347826</td>\n",
       "      <td>0.363636</td>\n",
       "      <td>0.363636</td>\n",
       "      <td>0.380952</td>\n",
       "      <td>0.000489</td>\n",
       "      <td>0.000489</td>\n",
       "      <td>0.011371</td>\n",
       "    </tr>\n",
       "    <tr>\n",
       "      <th>10</th>\n",
       "      <td>0.001198</td>\n",
       "      <td>0.000199</td>\n",
       "      <td>0.366071</td>\n",
       "      <td>0.01</td>\n",
       "      <td>10</td>\n",
       "      <td>rbf</td>\n",
       "      <td>{'C': 0.01, 'gamma': 10, 'kernel': 'rbf'}</td>\n",
       "      <td>27</td>\n",
       "      <td>0.375000</td>\n",
       "      <td>0.347826</td>\n",
       "      <td>0.363636</td>\n",
       "      <td>0.363636</td>\n",
       "      <td>0.380952</td>\n",
       "      <td>0.000399</td>\n",
       "      <td>0.000398</td>\n",
       "      <td>0.011371</td>\n",
       "    </tr>\n",
       "    <tr>\n",
       "      <th>11</th>\n",
       "      <td>0.001004</td>\n",
       "      <td>0.000592</td>\n",
       "      <td>0.366071</td>\n",
       "      <td>0.01</td>\n",
       "      <td>100</td>\n",
       "      <td>rbf</td>\n",
       "      <td>{'C': 0.01, 'gamma': 100, 'kernel': 'rbf'}</td>\n",
       "      <td>27</td>\n",
       "      <td>0.375000</td>\n",
       "      <td>0.347826</td>\n",
       "      <td>0.363636</td>\n",
       "      <td>0.363636</td>\n",
       "      <td>0.380952</td>\n",
       "      <td>0.000012</td>\n",
       "      <td>0.000483</td>\n",
       "      <td>0.011371</td>\n",
       "    </tr>\n",
       "    <tr>\n",
       "      <th>12</th>\n",
       "      <td>0.000998</td>\n",
       "      <td>0.000412</td>\n",
       "      <td>0.366071</td>\n",
       "      <td>0.1</td>\n",
       "      <td>0.001</td>\n",
       "      <td>rbf</td>\n",
       "      <td>{'C': 0.1, 'gamma': 0.001, 'kernel': 'rbf'}</td>\n",
       "      <td>27</td>\n",
       "      <td>0.375000</td>\n",
       "      <td>0.347826</td>\n",
       "      <td>0.363636</td>\n",
       "      <td>0.363636</td>\n",
       "      <td>0.380952</td>\n",
       "      <td>0.000020</td>\n",
       "      <td>0.000504</td>\n",
       "      <td>0.011371</td>\n",
       "    </tr>\n",
       "    <tr>\n",
       "      <th>13</th>\n",
       "      <td>0.000605</td>\n",
       "      <td>0.000405</td>\n",
       "      <td>0.696429</td>\n",
       "      <td>0.1</td>\n",
       "      <td>0.01</td>\n",
       "      <td>rbf</td>\n",
       "      <td>{'C': 0.1, 'gamma': 0.01, 'kernel': 'rbf'}</td>\n",
       "      <td>22</td>\n",
       "      <td>0.708333</td>\n",
       "      <td>0.695652</td>\n",
       "      <td>0.681818</td>\n",
       "      <td>0.681818</td>\n",
       "      <td>0.714286</td>\n",
       "      <td>0.000494</td>\n",
       "      <td>0.000496</td>\n",
       "      <td>0.013196</td>\n",
       "    </tr>\n",
       "    <tr>\n",
       "      <th>14</th>\n",
       "      <td>0.000000</td>\n",
       "      <td>0.000000</td>\n",
       "      <td>0.919643</td>\n",
       "      <td>0.1</td>\n",
       "      <td>0.1</td>\n",
       "      <td>rbf</td>\n",
       "      <td>{'C': 0.1, 'gamma': 0.1, 'kernel': 'rbf'}</td>\n",
       "      <td>17</td>\n",
       "      <td>0.916667</td>\n",
       "      <td>0.913043</td>\n",
       "      <td>1.000000</td>\n",
       "      <td>0.863636</td>\n",
       "      <td>0.904762</td>\n",
       "      <td>0.000000</td>\n",
       "      <td>0.000000</td>\n",
       "      <td>0.044010</td>\n",
       "    </tr>\n",
       "    <tr>\n",
       "      <th>15</th>\n",
       "      <td>0.000000</td>\n",
       "      <td>0.000000</td>\n",
       "      <td>0.955357</td>\n",
       "      <td>0.1</td>\n",
       "      <td>1</td>\n",
       "      <td>rbf</td>\n",
       "      <td>{'C': 0.1, 'gamma': 1, 'kernel': 'rbf'}</td>\n",
       "      <td>9</td>\n",
       "      <td>1.000000</td>\n",
       "      <td>0.913043</td>\n",
       "      <td>1.000000</td>\n",
       "      <td>0.909091</td>\n",
       "      <td>0.952381</td>\n",
       "      <td>0.000000</td>\n",
       "      <td>0.000000</td>\n",
       "      <td>0.040104</td>\n",
       "    </tr>\n",
       "    <tr>\n",
       "      <th>16</th>\n",
       "      <td>0.003124</td>\n",
       "      <td>0.000000</td>\n",
       "      <td>0.366071</td>\n",
       "      <td>0.1</td>\n",
       "      <td>10</td>\n",
       "      <td>rbf</td>\n",
       "      <td>{'C': 0.1, 'gamma': 10, 'kernel': 'rbf'}</td>\n",
       "      <td>27</td>\n",
       "      <td>0.375000</td>\n",
       "      <td>0.347826</td>\n",
       "      <td>0.363636</td>\n",
       "      <td>0.363636</td>\n",
       "      <td>0.380952</td>\n",
       "      <td>0.006248</td>\n",
       "      <td>0.000000</td>\n",
       "      <td>0.011371</td>\n",
       "    </tr>\n",
       "    <tr>\n",
       "      <th>17</th>\n",
       "      <td>0.000000</td>\n",
       "      <td>0.000000</td>\n",
       "      <td>0.366071</td>\n",
       "      <td>0.1</td>\n",
       "      <td>100</td>\n",
       "      <td>rbf</td>\n",
       "      <td>{'C': 0.1, 'gamma': 100, 'kernel': 'rbf'}</td>\n",
       "      <td>27</td>\n",
       "      <td>0.375000</td>\n",
       "      <td>0.347826</td>\n",
       "      <td>0.363636</td>\n",
       "      <td>0.363636</td>\n",
       "      <td>0.380952</td>\n",
       "      <td>0.000000</td>\n",
       "      <td>0.000000</td>\n",
       "      <td>0.011371</td>\n",
       "    </tr>\n",
       "    <tr>\n",
       "      <th>18</th>\n",
       "      <td>0.000000</td>\n",
       "      <td>0.000000</td>\n",
       "      <td>0.696429</td>\n",
       "      <td>1</td>\n",
       "      <td>0.001</td>\n",
       "      <td>rbf</td>\n",
       "      <td>{'C': 1, 'gamma': 0.001, 'kernel': 'rbf'}</td>\n",
       "      <td>22</td>\n",
       "      <td>0.708333</td>\n",
       "      <td>0.695652</td>\n",
       "      <td>0.681818</td>\n",
       "      <td>0.681818</td>\n",
       "      <td>0.714286</td>\n",
       "      <td>0.000000</td>\n",
       "      <td>0.000000</td>\n",
       "      <td>0.013196</td>\n",
       "    </tr>\n",
       "    <tr>\n",
       "      <th>19</th>\n",
       "      <td>0.003118</td>\n",
       "      <td>0.000000</td>\n",
       "      <td>0.928571</td>\n",
       "      <td>1</td>\n",
       "      <td>0.01</td>\n",
       "      <td>rbf</td>\n",
       "      <td>{'C': 1, 'gamma': 0.01, 'kernel': 'rbf'}</td>\n",
       "      <td>15</td>\n",
       "      <td>0.875000</td>\n",
       "      <td>0.913043</td>\n",
       "      <td>1.000000</td>\n",
       "      <td>0.909091</td>\n",
       "      <td>0.952381</td>\n",
       "      <td>0.006236</td>\n",
       "      <td>0.000000</td>\n",
       "      <td>0.042983</td>\n",
       "    </tr>\n",
       "    <tr>\n",
       "      <th>20</th>\n",
       "      <td>0.000000</td>\n",
       "      <td>0.000000</td>\n",
       "      <td>0.964286</td>\n",
       "      <td>1</td>\n",
       "      <td>0.1</td>\n",
       "      <td>rbf</td>\n",
       "      <td>{'C': 1, 'gamma': 0.1, 'kernel': 'rbf'}</td>\n",
       "      <td>3</td>\n",
       "      <td>1.000000</td>\n",
       "      <td>0.956522</td>\n",
       "      <td>1.000000</td>\n",
       "      <td>0.909091</td>\n",
       "      <td>0.952381</td>\n",
       "      <td>0.000000</td>\n",
       "      <td>0.000000</td>\n",
       "      <td>0.034077</td>\n",
       "    </tr>\n",
       "    <tr>\n",
       "      <th>21</th>\n",
       "      <td>0.000000</td>\n",
       "      <td>0.000000</td>\n",
       "      <td>0.946429</td>\n",
       "      <td>1</td>\n",
       "      <td>1</td>\n",
       "      <td>rbf</td>\n",
       "      <td>{'C': 1, 'gamma': 1, 'kernel': 'rbf'}</td>\n",
       "      <td>11</td>\n",
       "      <td>0.916667</td>\n",
       "      <td>0.956522</td>\n",
       "      <td>1.000000</td>\n",
       "      <td>0.909091</td>\n",
       "      <td>0.952381</td>\n",
       "      <td>0.000000</td>\n",
       "      <td>0.000000</td>\n",
       "      <td>0.032480</td>\n",
       "    </tr>\n",
       "    <tr>\n",
       "      <th>22</th>\n",
       "      <td>0.000000</td>\n",
       "      <td>0.000000</td>\n",
       "      <td>0.919643</td>\n",
       "      <td>1</td>\n",
       "      <td>10</td>\n",
       "      <td>rbf</td>\n",
       "      <td>{'C': 1, 'gamma': 10, 'kernel': 'rbf'}</td>\n",
       "      <td>17</td>\n",
       "      <td>0.875000</td>\n",
       "      <td>0.956522</td>\n",
       "      <td>1.000000</td>\n",
       "      <td>0.818182</td>\n",
       "      <td>0.952381</td>\n",
       "      <td>0.000000</td>\n",
       "      <td>0.000000</td>\n",
       "      <td>0.064791</td>\n",
       "    </tr>\n",
       "    <tr>\n",
       "      <th>23</th>\n",
       "      <td>0.000000</td>\n",
       "      <td>0.003118</td>\n",
       "      <td>0.508929</td>\n",
       "      <td>1</td>\n",
       "      <td>100</td>\n",
       "      <td>rbf</td>\n",
       "      <td>{'C': 1, 'gamma': 100, 'kernel': 'rbf'}</td>\n",
       "      <td>26</td>\n",
       "      <td>0.500000</td>\n",
       "      <td>0.434783</td>\n",
       "      <td>0.545455</td>\n",
       "      <td>0.500000</td>\n",
       "      <td>0.571429</td>\n",
       "      <td>0.000000</td>\n",
       "      <td>0.006236</td>\n",
       "      <td>0.046435</td>\n",
       "    </tr>\n",
       "    <tr>\n",
       "      <th>24</th>\n",
       "      <td>0.000000</td>\n",
       "      <td>0.000000</td>\n",
       "      <td>0.928571</td>\n",
       "      <td>10</td>\n",
       "      <td>0.001</td>\n",
       "      <td>rbf</td>\n",
       "      <td>{'C': 10, 'gamma': 0.001, 'kernel': 'rbf'}</td>\n",
       "      <td>15</td>\n",
       "      <td>0.875000</td>\n",
       "      <td>0.913043</td>\n",
       "      <td>1.000000</td>\n",
       "      <td>0.909091</td>\n",
       "      <td>0.952381</td>\n",
       "      <td>0.000000</td>\n",
       "      <td>0.000000</td>\n",
       "      <td>0.042983</td>\n",
       "    </tr>\n",
       "    <tr>\n",
       "      <th>25</th>\n",
       "      <td>0.003124</td>\n",
       "      <td>0.000000</td>\n",
       "      <td>0.964286</td>\n",
       "      <td>10</td>\n",
       "      <td>0.01</td>\n",
       "      <td>rbf</td>\n",
       "      <td>{'C': 10, 'gamma': 0.01, 'kernel': 'rbf'}</td>\n",
       "      <td>3</td>\n",
       "      <td>1.000000</td>\n",
       "      <td>0.956522</td>\n",
       "      <td>1.000000</td>\n",
       "      <td>0.909091</td>\n",
       "      <td>0.952381</td>\n",
       "      <td>0.006248</td>\n",
       "      <td>0.000000</td>\n",
       "      <td>0.034077</td>\n",
       "    </tr>\n",
       "    <tr>\n",
       "      <th>26</th>\n",
       "      <td>0.000000</td>\n",
       "      <td>0.000000</td>\n",
       "      <td>0.964286</td>\n",
       "      <td>10</td>\n",
       "      <td>0.1</td>\n",
       "      <td>rbf</td>\n",
       "      <td>{'C': 10, 'gamma': 0.1, 'kernel': 'rbf'}</td>\n",
       "      <td>3</td>\n",
       "      <td>0.958333</td>\n",
       "      <td>0.956522</td>\n",
       "      <td>1.000000</td>\n",
       "      <td>0.954545</td>\n",
       "      <td>0.952381</td>\n",
       "      <td>0.000000</td>\n",
       "      <td>0.000000</td>\n",
       "      <td>0.017769</td>\n",
       "    </tr>\n",
       "    <tr>\n",
       "      <th>27</th>\n",
       "      <td>0.000000</td>\n",
       "      <td>0.000000</td>\n",
       "      <td>0.937500</td>\n",
       "      <td>10</td>\n",
       "      <td>1</td>\n",
       "      <td>rbf</td>\n",
       "      <td>{'C': 10, 'gamma': 1, 'kernel': 'rbf'}</td>\n",
       "      <td>14</td>\n",
       "      <td>0.916667</td>\n",
       "      <td>0.956522</td>\n",
       "      <td>1.000000</td>\n",
       "      <td>0.863636</td>\n",
       "      <td>0.952381</td>\n",
       "      <td>0.000000</td>\n",
       "      <td>0.000000</td>\n",
       "      <td>0.045253</td>\n",
       "    </tr>\n",
       "    <tr>\n",
       "      <th>28</th>\n",
       "      <td>0.000000</td>\n",
       "      <td>0.000000</td>\n",
       "      <td>0.919643</td>\n",
       "      <td>10</td>\n",
       "      <td>10</td>\n",
       "      <td>rbf</td>\n",
       "      <td>{'C': 10, 'gamma': 10, 'kernel': 'rbf'}</td>\n",
       "      <td>17</td>\n",
       "      <td>0.875000</td>\n",
       "      <td>0.956522</td>\n",
       "      <td>1.000000</td>\n",
       "      <td>0.818182</td>\n",
       "      <td>0.952381</td>\n",
       "      <td>0.000000</td>\n",
       "      <td>0.000000</td>\n",
       "      <td>0.064791</td>\n",
       "    </tr>\n",
       "    <tr>\n",
       "      <th>29</th>\n",
       "      <td>0.003118</td>\n",
       "      <td>0.000000</td>\n",
       "      <td>0.562500</td>\n",
       "      <td>10</td>\n",
       "      <td>100</td>\n",
       "      <td>rbf</td>\n",
       "      <td>{'C': 10, 'gamma': 100, 'kernel': 'rbf'}</td>\n",
       "      <td>24</td>\n",
       "      <td>0.541667</td>\n",
       "      <td>0.478261</td>\n",
       "      <td>0.590909</td>\n",
       "      <td>0.590909</td>\n",
       "      <td>0.619048</td>\n",
       "      <td>0.006236</td>\n",
       "      <td>0.000000</td>\n",
       "      <td>0.049668</td>\n",
       "    </tr>\n",
       "    <tr>\n",
       "      <th>30</th>\n",
       "      <td>0.000000</td>\n",
       "      <td>0.000000</td>\n",
       "      <td>0.964286</td>\n",
       "      <td>100</td>\n",
       "      <td>0.001</td>\n",
       "      <td>rbf</td>\n",
       "      <td>{'C': 100, 'gamma': 0.001, 'kernel': 'rbf'}</td>\n",
       "      <td>3</td>\n",
       "      <td>1.000000</td>\n",
       "      <td>0.956522</td>\n",
       "      <td>1.000000</td>\n",
       "      <td>0.909091</td>\n",
       "      <td>0.952381</td>\n",
       "      <td>0.000000</td>\n",
       "      <td>0.000000</td>\n",
       "      <td>0.034077</td>\n",
       "    </tr>\n",
       "    <tr>\n",
       "      <th>31</th>\n",
       "      <td>0.000000</td>\n",
       "      <td>0.000000</td>\n",
       "      <td>0.973214</td>\n",
       "      <td>100</td>\n",
       "      <td>0.01</td>\n",
       "      <td>rbf</td>\n",
       "      <td>{'C': 100, 'gamma': 0.01, 'kernel': 'rbf'}</td>\n",
       "      <td>1</td>\n",
       "      <td>1.000000</td>\n",
       "      <td>0.956522</td>\n",
       "      <td>1.000000</td>\n",
       "      <td>0.954545</td>\n",
       "      <td>0.952381</td>\n",
       "      <td>0.000000</td>\n",
       "      <td>0.000000</td>\n",
       "      <td>0.022400</td>\n",
       "    </tr>\n",
       "    <tr>\n",
       "      <th>32</th>\n",
       "      <td>0.000000</td>\n",
       "      <td>0.000000</td>\n",
       "      <td>0.955357</td>\n",
       "      <td>100</td>\n",
       "      <td>0.1</td>\n",
       "      <td>rbf</td>\n",
       "      <td>{'C': 100, 'gamma': 0.1, 'kernel': 'rbf'}</td>\n",
       "      <td>9</td>\n",
       "      <td>0.958333</td>\n",
       "      <td>1.000000</td>\n",
       "      <td>1.000000</td>\n",
       "      <td>0.863636</td>\n",
       "      <td>0.952381</td>\n",
       "      <td>0.000000</td>\n",
       "      <td>0.000000</td>\n",
       "      <td>0.049566</td>\n",
       "    </tr>\n",
       "    <tr>\n",
       "      <th>33</th>\n",
       "      <td>0.000000</td>\n",
       "      <td>0.000000</td>\n",
       "      <td>0.946429</td>\n",
       "      <td>100</td>\n",
       "      <td>1</td>\n",
       "      <td>rbf</td>\n",
       "      <td>{'C': 100, 'gamma': 1, 'kernel': 'rbf'}</td>\n",
       "      <td>11</td>\n",
       "      <td>0.916667</td>\n",
       "      <td>1.000000</td>\n",
       "      <td>1.000000</td>\n",
       "      <td>0.863636</td>\n",
       "      <td>0.952381</td>\n",
       "      <td>0.000000</td>\n",
       "      <td>0.000000</td>\n",
       "      <td>0.051923</td>\n",
       "    </tr>\n",
       "    <tr>\n",
       "      <th>34</th>\n",
       "      <td>0.000000</td>\n",
       "      <td>0.000000</td>\n",
       "      <td>0.919643</td>\n",
       "      <td>100</td>\n",
       "      <td>10</td>\n",
       "      <td>rbf</td>\n",
       "      <td>{'C': 100, 'gamma': 10, 'kernel': 'rbf'}</td>\n",
       "      <td>17</td>\n",
       "      <td>0.875000</td>\n",
       "      <td>0.956522</td>\n",
       "      <td>1.000000</td>\n",
       "      <td>0.818182</td>\n",
       "      <td>0.952381</td>\n",
       "      <td>0.000000</td>\n",
       "      <td>0.000000</td>\n",
       "      <td>0.064791</td>\n",
       "    </tr>\n",
       "    <tr>\n",
       "      <th>35</th>\n",
       "      <td>0.000000</td>\n",
       "      <td>0.000000</td>\n",
       "      <td>0.562500</td>\n",
       "      <td>100</td>\n",
       "      <td>100</td>\n",
       "      <td>rbf</td>\n",
       "      <td>{'C': 100, 'gamma': 100, 'kernel': 'rbf'}</td>\n",
       "      <td>24</td>\n",
       "      <td>0.541667</td>\n",
       "      <td>0.478261</td>\n",
       "      <td>0.590909</td>\n",
       "      <td>0.590909</td>\n",
       "      <td>0.619048</td>\n",
       "      <td>0.000000</td>\n",
       "      <td>0.000000</td>\n",
       "      <td>0.049668</td>\n",
       "    </tr>\n",
       "    <tr>\n",
       "      <th>36</th>\n",
       "      <td>0.000000</td>\n",
       "      <td>0.000000</td>\n",
       "      <td>0.366071</td>\n",
       "      <td>0.001</td>\n",
       "      <td>NaN</td>\n",
       "      <td>linear</td>\n",
       "      <td>{'C': 0.001, 'kernel': 'linear'}</td>\n",
       "      <td>27</td>\n",
       "      <td>0.375000</td>\n",
       "      <td>0.347826</td>\n",
       "      <td>0.363636</td>\n",
       "      <td>0.363636</td>\n",
       "      <td>0.380952</td>\n",
       "      <td>0.000000</td>\n",
       "      <td>0.000000</td>\n",
       "      <td>0.011371</td>\n",
       "    </tr>\n",
       "    <tr>\n",
       "      <th>37</th>\n",
       "      <td>0.000000</td>\n",
       "      <td>0.000000</td>\n",
       "      <td>0.848214</td>\n",
       "      <td>0.01</td>\n",
       "      <td>NaN</td>\n",
       "      <td>linear</td>\n",
       "      <td>{'C': 0.01, 'kernel': 'linear'}</td>\n",
       "      <td>21</td>\n",
       "      <td>0.916667</td>\n",
       "      <td>0.826087</td>\n",
       "      <td>0.818182</td>\n",
       "      <td>0.772727</td>\n",
       "      <td>0.904762</td>\n",
       "      <td>0.000000</td>\n",
       "      <td>0.000000</td>\n",
       "      <td>0.054778</td>\n",
       "    </tr>\n",
       "    <tr>\n",
       "      <th>38</th>\n",
       "      <td>0.000000</td>\n",
       "      <td>0.000000</td>\n",
       "      <td>0.946429</td>\n",
       "      <td>0.1</td>\n",
       "      <td>NaN</td>\n",
       "      <td>linear</td>\n",
       "      <td>{'C': 0.1, 'kernel': 'linear'}</td>\n",
       "      <td>11</td>\n",
       "      <td>0.958333</td>\n",
       "      <td>0.913043</td>\n",
       "      <td>1.000000</td>\n",
       "      <td>0.909091</td>\n",
       "      <td>0.952381</td>\n",
       "      <td>0.000000</td>\n",
       "      <td>0.000000</td>\n",
       "      <td>0.033218</td>\n",
       "    </tr>\n",
       "    <tr>\n",
       "      <th>39</th>\n",
       "      <td>0.000000</td>\n",
       "      <td>0.000000</td>\n",
       "      <td>0.973214</td>\n",
       "      <td>1</td>\n",
       "      <td>NaN</td>\n",
       "      <td>linear</td>\n",
       "      <td>{'C': 1, 'kernel': 'linear'}</td>\n",
       "      <td>1</td>\n",
       "      <td>1.000000</td>\n",
       "      <td>0.956522</td>\n",
       "      <td>1.000000</td>\n",
       "      <td>0.954545</td>\n",
       "      <td>0.952381</td>\n",
       "      <td>0.000000</td>\n",
       "      <td>0.000000</td>\n",
       "      <td>0.022400</td>\n",
       "    </tr>\n",
       "    <tr>\n",
       "      <th>40</th>\n",
       "      <td>0.000000</td>\n",
       "      <td>0.000000</td>\n",
       "      <td>0.964286</td>\n",
       "      <td>10</td>\n",
       "      <td>NaN</td>\n",
       "      <td>linear</td>\n",
       "      <td>{'C': 10, 'kernel': 'linear'}</td>\n",
       "      <td>3</td>\n",
       "      <td>0.958333</td>\n",
       "      <td>1.000000</td>\n",
       "      <td>1.000000</td>\n",
       "      <td>0.909091</td>\n",
       "      <td>0.952381</td>\n",
       "      <td>0.000000</td>\n",
       "      <td>0.000000</td>\n",
       "      <td>0.033839</td>\n",
       "    </tr>\n",
       "    <tr>\n",
       "      <th>41</th>\n",
       "      <td>0.000000</td>\n",
       "      <td>0.000000</td>\n",
       "      <td>0.964286</td>\n",
       "      <td>100</td>\n",
       "      <td>NaN</td>\n",
       "      <td>linear</td>\n",
       "      <td>{'C': 100, 'kernel': 'linear'}</td>\n",
       "      <td>3</td>\n",
       "      <td>0.958333</td>\n",
       "      <td>1.000000</td>\n",
       "      <td>1.000000</td>\n",
       "      <td>0.909091</td>\n",
       "      <td>0.952381</td>\n",
       "      <td>0.000000</td>\n",
       "      <td>0.000000</td>\n",
       "      <td>0.033839</td>\n",
       "    </tr>\n",
       "  </tbody>\n",
       "</table>\n",
       "</div>"
      ],
      "text/plain": [
       "    mean_fit_time  mean_score_time  mean_test_score param_C param_gamma  \\\n",
       "0        0.012501         0.000000         0.366071   0.001       0.001   \n",
       "1        0.006243         0.000000         0.366071   0.001        0.01   \n",
       "2        0.000000         0.000000         0.366071   0.001         0.1   \n",
       "3        0.000000         0.000000         0.366071   0.001           1   \n",
       "4        0.000000         0.000000         0.366071   0.001          10   \n",
       "5        0.000000         0.000000         0.366071   0.001         100   \n",
       "6        0.000000         0.000000         0.366071    0.01       0.001   \n",
       "7        0.000000         0.000000         0.366071    0.01        0.01   \n",
       "8        0.000599         0.000200         0.366071    0.01         0.1   \n",
       "9        0.000599         0.000599         0.366071    0.01           1   \n",
       "10       0.001198         0.000199         0.366071    0.01          10   \n",
       "11       0.001004         0.000592         0.366071    0.01         100   \n",
       "12       0.000998         0.000412         0.366071     0.1       0.001   \n",
       "13       0.000605         0.000405         0.696429     0.1        0.01   \n",
       "14       0.000000         0.000000         0.919643     0.1         0.1   \n",
       "15       0.000000         0.000000         0.955357     0.1           1   \n",
       "16       0.003124         0.000000         0.366071     0.1          10   \n",
       "17       0.000000         0.000000         0.366071     0.1         100   \n",
       "18       0.000000         0.000000         0.696429       1       0.001   \n",
       "19       0.003118         0.000000         0.928571       1        0.01   \n",
       "20       0.000000         0.000000         0.964286       1         0.1   \n",
       "21       0.000000         0.000000         0.946429       1           1   \n",
       "22       0.000000         0.000000         0.919643       1          10   \n",
       "23       0.000000         0.003118         0.508929       1         100   \n",
       "24       0.000000         0.000000         0.928571      10       0.001   \n",
       "25       0.003124         0.000000         0.964286      10        0.01   \n",
       "26       0.000000         0.000000         0.964286      10         0.1   \n",
       "27       0.000000         0.000000         0.937500      10           1   \n",
       "28       0.000000         0.000000         0.919643      10          10   \n",
       "29       0.003118         0.000000         0.562500      10         100   \n",
       "30       0.000000         0.000000         0.964286     100       0.001   \n",
       "31       0.000000         0.000000         0.973214     100        0.01   \n",
       "32       0.000000         0.000000         0.955357     100         0.1   \n",
       "33       0.000000         0.000000         0.946429     100           1   \n",
       "34       0.000000         0.000000         0.919643     100          10   \n",
       "35       0.000000         0.000000         0.562500     100         100   \n",
       "36       0.000000         0.000000         0.366071   0.001         NaN   \n",
       "37       0.000000         0.000000         0.848214    0.01         NaN   \n",
       "38       0.000000         0.000000         0.946429     0.1         NaN   \n",
       "39       0.000000         0.000000         0.973214       1         NaN   \n",
       "40       0.000000         0.000000         0.964286      10         NaN   \n",
       "41       0.000000         0.000000         0.964286     100         NaN   \n",
       "\n",
       "   param_kernel                                         params  \\\n",
       "0           rbf  {'C': 0.001, 'gamma': 0.001, 'kernel': 'rbf'}   \n",
       "1           rbf   {'C': 0.001, 'gamma': 0.01, 'kernel': 'rbf'}   \n",
       "2           rbf    {'C': 0.001, 'gamma': 0.1, 'kernel': 'rbf'}   \n",
       "3           rbf      {'C': 0.001, 'gamma': 1, 'kernel': 'rbf'}   \n",
       "4           rbf     {'C': 0.001, 'gamma': 10, 'kernel': 'rbf'}   \n",
       "5           rbf    {'C': 0.001, 'gamma': 100, 'kernel': 'rbf'}   \n",
       "6           rbf   {'C': 0.01, 'gamma': 0.001, 'kernel': 'rbf'}   \n",
       "7           rbf    {'C': 0.01, 'gamma': 0.01, 'kernel': 'rbf'}   \n",
       "8           rbf     {'C': 0.01, 'gamma': 0.1, 'kernel': 'rbf'}   \n",
       "9           rbf       {'C': 0.01, 'gamma': 1, 'kernel': 'rbf'}   \n",
       "10          rbf      {'C': 0.01, 'gamma': 10, 'kernel': 'rbf'}   \n",
       "11          rbf     {'C': 0.01, 'gamma': 100, 'kernel': 'rbf'}   \n",
       "12          rbf    {'C': 0.1, 'gamma': 0.001, 'kernel': 'rbf'}   \n",
       "13          rbf     {'C': 0.1, 'gamma': 0.01, 'kernel': 'rbf'}   \n",
       "14          rbf      {'C': 0.1, 'gamma': 0.1, 'kernel': 'rbf'}   \n",
       "15          rbf        {'C': 0.1, 'gamma': 1, 'kernel': 'rbf'}   \n",
       "16          rbf       {'C': 0.1, 'gamma': 10, 'kernel': 'rbf'}   \n",
       "17          rbf      {'C': 0.1, 'gamma': 100, 'kernel': 'rbf'}   \n",
       "18          rbf      {'C': 1, 'gamma': 0.001, 'kernel': 'rbf'}   \n",
       "19          rbf       {'C': 1, 'gamma': 0.01, 'kernel': 'rbf'}   \n",
       "20          rbf        {'C': 1, 'gamma': 0.1, 'kernel': 'rbf'}   \n",
       "21          rbf          {'C': 1, 'gamma': 1, 'kernel': 'rbf'}   \n",
       "22          rbf         {'C': 1, 'gamma': 10, 'kernel': 'rbf'}   \n",
       "23          rbf        {'C': 1, 'gamma': 100, 'kernel': 'rbf'}   \n",
       "24          rbf     {'C': 10, 'gamma': 0.001, 'kernel': 'rbf'}   \n",
       "25          rbf      {'C': 10, 'gamma': 0.01, 'kernel': 'rbf'}   \n",
       "26          rbf       {'C': 10, 'gamma': 0.1, 'kernel': 'rbf'}   \n",
       "27          rbf         {'C': 10, 'gamma': 1, 'kernel': 'rbf'}   \n",
       "28          rbf        {'C': 10, 'gamma': 10, 'kernel': 'rbf'}   \n",
       "29          rbf       {'C': 10, 'gamma': 100, 'kernel': 'rbf'}   \n",
       "30          rbf    {'C': 100, 'gamma': 0.001, 'kernel': 'rbf'}   \n",
       "31          rbf     {'C': 100, 'gamma': 0.01, 'kernel': 'rbf'}   \n",
       "32          rbf      {'C': 100, 'gamma': 0.1, 'kernel': 'rbf'}   \n",
       "33          rbf        {'C': 100, 'gamma': 1, 'kernel': 'rbf'}   \n",
       "34          rbf       {'C': 100, 'gamma': 10, 'kernel': 'rbf'}   \n",
       "35          rbf      {'C': 100, 'gamma': 100, 'kernel': 'rbf'}   \n",
       "36       linear               {'C': 0.001, 'kernel': 'linear'}   \n",
       "37       linear                {'C': 0.01, 'kernel': 'linear'}   \n",
       "38       linear                 {'C': 0.1, 'kernel': 'linear'}   \n",
       "39       linear                   {'C': 1, 'kernel': 'linear'}   \n",
       "40       linear                  {'C': 10, 'kernel': 'linear'}   \n",
       "41       linear                 {'C': 100, 'kernel': 'linear'}   \n",
       "\n",
       "    rank_test_score  split0_test_score  split1_test_score  split2_test_score  \\\n",
       "0                27           0.375000           0.347826           0.363636   \n",
       "1                27           0.375000           0.347826           0.363636   \n",
       "2                27           0.375000           0.347826           0.363636   \n",
       "3                27           0.375000           0.347826           0.363636   \n",
       "4                27           0.375000           0.347826           0.363636   \n",
       "5                27           0.375000           0.347826           0.363636   \n",
       "6                27           0.375000           0.347826           0.363636   \n",
       "7                27           0.375000           0.347826           0.363636   \n",
       "8                27           0.375000           0.347826           0.363636   \n",
       "9                27           0.375000           0.347826           0.363636   \n",
       "10               27           0.375000           0.347826           0.363636   \n",
       "11               27           0.375000           0.347826           0.363636   \n",
       "12               27           0.375000           0.347826           0.363636   \n",
       "13               22           0.708333           0.695652           0.681818   \n",
       "14               17           0.916667           0.913043           1.000000   \n",
       "15                9           1.000000           0.913043           1.000000   \n",
       "16               27           0.375000           0.347826           0.363636   \n",
       "17               27           0.375000           0.347826           0.363636   \n",
       "18               22           0.708333           0.695652           0.681818   \n",
       "19               15           0.875000           0.913043           1.000000   \n",
       "20                3           1.000000           0.956522           1.000000   \n",
       "21               11           0.916667           0.956522           1.000000   \n",
       "22               17           0.875000           0.956522           1.000000   \n",
       "23               26           0.500000           0.434783           0.545455   \n",
       "24               15           0.875000           0.913043           1.000000   \n",
       "25                3           1.000000           0.956522           1.000000   \n",
       "26                3           0.958333           0.956522           1.000000   \n",
       "27               14           0.916667           0.956522           1.000000   \n",
       "28               17           0.875000           0.956522           1.000000   \n",
       "29               24           0.541667           0.478261           0.590909   \n",
       "30                3           1.000000           0.956522           1.000000   \n",
       "31                1           1.000000           0.956522           1.000000   \n",
       "32                9           0.958333           1.000000           1.000000   \n",
       "33               11           0.916667           1.000000           1.000000   \n",
       "34               17           0.875000           0.956522           1.000000   \n",
       "35               24           0.541667           0.478261           0.590909   \n",
       "36               27           0.375000           0.347826           0.363636   \n",
       "37               21           0.916667           0.826087           0.818182   \n",
       "38               11           0.958333           0.913043           1.000000   \n",
       "39                1           1.000000           0.956522           1.000000   \n",
       "40                3           0.958333           1.000000           1.000000   \n",
       "41                3           0.958333           1.000000           1.000000   \n",
       "\n",
       "    split3_test_score  split4_test_score  std_fit_time  std_score_time  \\\n",
       "0            0.363636           0.380952      0.006250        0.000000   \n",
       "1            0.363636           0.380952      0.007646        0.000000   \n",
       "2            0.363636           0.380952      0.000000        0.000000   \n",
       "3            0.363636           0.380952      0.000000        0.000000   \n",
       "4            0.363636           0.380952      0.000000        0.000000   \n",
       "5            0.363636           0.380952      0.000000        0.000000   \n",
       "6            0.363636           0.380952      0.000000        0.000000   \n",
       "7            0.363636           0.380952      0.000000        0.000000   \n",
       "8            0.363636           0.380952      0.000489        0.000399   \n",
       "9            0.363636           0.380952      0.000489        0.000489   \n",
       "10           0.363636           0.380952      0.000399        0.000398   \n",
       "11           0.363636           0.380952      0.000012        0.000483   \n",
       "12           0.363636           0.380952      0.000020        0.000504   \n",
       "13           0.681818           0.714286      0.000494        0.000496   \n",
       "14           0.863636           0.904762      0.000000        0.000000   \n",
       "15           0.909091           0.952381      0.000000        0.000000   \n",
       "16           0.363636           0.380952      0.006248        0.000000   \n",
       "17           0.363636           0.380952      0.000000        0.000000   \n",
       "18           0.681818           0.714286      0.000000        0.000000   \n",
       "19           0.909091           0.952381      0.006236        0.000000   \n",
       "20           0.909091           0.952381      0.000000        0.000000   \n",
       "21           0.909091           0.952381      0.000000        0.000000   \n",
       "22           0.818182           0.952381      0.000000        0.000000   \n",
       "23           0.500000           0.571429      0.000000        0.006236   \n",
       "24           0.909091           0.952381      0.000000        0.000000   \n",
       "25           0.909091           0.952381      0.006248        0.000000   \n",
       "26           0.954545           0.952381      0.000000        0.000000   \n",
       "27           0.863636           0.952381      0.000000        0.000000   \n",
       "28           0.818182           0.952381      0.000000        0.000000   \n",
       "29           0.590909           0.619048      0.006236        0.000000   \n",
       "30           0.909091           0.952381      0.000000        0.000000   \n",
       "31           0.954545           0.952381      0.000000        0.000000   \n",
       "32           0.863636           0.952381      0.000000        0.000000   \n",
       "33           0.863636           0.952381      0.000000        0.000000   \n",
       "34           0.818182           0.952381      0.000000        0.000000   \n",
       "35           0.590909           0.619048      0.000000        0.000000   \n",
       "36           0.363636           0.380952      0.000000        0.000000   \n",
       "37           0.772727           0.904762      0.000000        0.000000   \n",
       "38           0.909091           0.952381      0.000000        0.000000   \n",
       "39           0.954545           0.952381      0.000000        0.000000   \n",
       "40           0.909091           0.952381      0.000000        0.000000   \n",
       "41           0.909091           0.952381      0.000000        0.000000   \n",
       "\n",
       "    std_test_score  \n",
       "0         0.011371  \n",
       "1         0.011371  \n",
       "2         0.011371  \n",
       "3         0.011371  \n",
       "4         0.011371  \n",
       "5         0.011371  \n",
       "6         0.011371  \n",
       "7         0.011371  \n",
       "8         0.011371  \n",
       "9         0.011371  \n",
       "10        0.011371  \n",
       "11        0.011371  \n",
       "12        0.011371  \n",
       "13        0.013196  \n",
       "14        0.044010  \n",
       "15        0.040104  \n",
       "16        0.011371  \n",
       "17        0.011371  \n",
       "18        0.013196  \n",
       "19        0.042983  \n",
       "20        0.034077  \n",
       "21        0.032480  \n",
       "22        0.064791  \n",
       "23        0.046435  \n",
       "24        0.042983  \n",
       "25        0.034077  \n",
       "26        0.017769  \n",
       "27        0.045253  \n",
       "28        0.064791  \n",
       "29        0.049668  \n",
       "30        0.034077  \n",
       "31        0.022400  \n",
       "32        0.049566  \n",
       "33        0.051923  \n",
       "34        0.064791  \n",
       "35        0.049668  \n",
       "36        0.011371  \n",
       "37        0.054778  \n",
       "38        0.033218  \n",
       "39        0.022400  \n",
       "40        0.033839  \n",
       "41        0.033839  "
      ]
     },
     "execution_count": 54,
     "metadata": {},
     "output_type": "execute_result"
    }
   ],
   "source": [
    "pd.DataFrame(grid_search.cv_results_)"
   ]
  },
  {
   "cell_type": "markdown",
   "metadata": {},
   "source": [
    "#### 2.4.3 使用不同的交叉验证策略进行网格搜索"
   ]
  },
  {
   "cell_type": "markdown",
   "metadata": {},
   "source": [
    "`GridSearchCV`对分类问题默认使用分层K折交叉验证，对回归问题默认使用K折交叉验证。但可以传入任何交叉验证分离器作为`GridSearchCV`的`cv`参数。\n",
    "\n",
    "如果只想将数据单次划分为训练集和验证集，可以使用`ShuffleSplit`或StratifiedShuffleSplit`，并设置n_iter=1。这对于非常大的数据集或非常慢的模型可能有帮助。"
   ]
  },
  {
   "cell_type": "markdown",
   "metadata": {},
   "source": [
    "+ **嵌套交叉验证（nested cross-validation）**"
   ]
  },
  {
   "cell_type": "markdown",
   "metadata": {},
   "source": [
    "不是只将原始数据一次划分为训练集和测试集，而是使用交叉验证进行多次划分。有一个外层循环，遍历将数据划分为训练集和测试集的所有划分。对于每一种划分都运行一次网格搜索（对于外层循环的每种划分可能会得到不同的最佳参数）。然后，对于每种外层划分，利用最佳参数设置计算得到测试分数。\n",
    "\n",
    "这一过程的结果是由分数组成的列表——不是一个模型，也不是一种参数设置。这些分数告诉我们在网格中找到的最佳参数模型下泛化能力好坏。\n",
    "\n",
    "由于**嵌套交叉验证不提供可用于新数据的模型**，所以**在寻找可用于未来数据的预测模型时很少用到它**。但是它**对于评估模型在特定数据集上的效果很有用**。"
   ]
  },
  {
   "cell_type": "code",
   "execution_count": 59,
   "metadata": {
    "ExecuteTime": {
     "end_time": "2018-08-12T06:55:22.444430Z",
     "start_time": "2018-08-12T06:55:20.430007Z"
    }
   },
   "outputs": [],
   "source": [
    "scores = cross_val_score(\n",
    "    GridSearchCV(SVC(), param_grid=param_grid, cv=5, n_jobs=-1,\n",
    "                 return_train_score=False), iris.data, iris.target, cv=5, n_jobs=-1)"
   ]
  },
  {
   "cell_type": "code",
   "execution_count": 56,
   "metadata": {
    "ExecuteTime": {
     "end_time": "2018-08-12T06:51:40.803932Z",
     "start_time": "2018-08-12T06:51:40.798948Z"
    }
   },
   "outputs": [
    {
     "data": {
      "text/plain": [
       "array([ 0.96666667,  1.        ,  0.9       ,  0.96666667,  1.        ])"
      ]
     },
     "execution_count": 56,
     "metadata": {},
     "output_type": "execute_result"
    }
   ],
   "source": [
    "scores"
   ]
  },
  {
   "cell_type": "code",
   "execution_count": 57,
   "metadata": {
    "ExecuteTime": {
     "end_time": "2018-08-12T06:52:43.145495Z",
     "start_time": "2018-08-12T06:52:43.140518Z"
    }
   },
   "outputs": [
    {
     "data": {
      "text/plain": [
       "0.96666666666666679"
      ]
     },
     "execution_count": 57,
     "metadata": {},
     "output_type": "execute_result"
    }
   ],
   "source": [
    "scores.mean()"
   ]
  },
  {
   "cell_type": "markdown",
   "metadata": {},
   "source": [
    "> 可以总结为SVC在iris数据集上的交叉验证平均精度为96.7%。"
   ]
  },
  {
   "cell_type": "markdown",
   "metadata": {
    "ExecuteTime": {
     "end_time": "2018-08-12T06:56:25.582170Z",
     "start_time": "2018-08-12T06:56:25.577183Z"
    }
   },
   "source": [
    "## 5.3 评估指标与评分"
   ]
  },
  {
   "cell_type": "markdown",
   "metadata": {},
   "source": [
    "在选择模型与调参时，选择正确的指标是很重要的。\n",
    "\n",
    "选择指标时，应该始终牢记机器学习应用的最终目标。"
   ]
  },
  {
   "cell_type": "markdown",
   "metadata": {},
   "source": [
    "### 5.3.1 二分类指标"
   ]
  },
  {
   "cell_type": "markdown",
   "metadata": {},
   "source": [
    "对二分类问题，通常会说**正类（positive class）**和**反类（negative class），而正类是要寻找的类。"
   ]
  },
  {
   "cell_type": "markdown",
   "metadata": {},
   "source": [
    "+ **1  错误类型**"
   ]
  },
  {
   "cell_type": "markdown",
   "metadata": {},
   "source": [
    "假正类（false positive）/第一类错误（type I error）\n",
    "\n",
    "假反类（false negative）/第二类错误（type II error）"
   ]
  },
  {
   "cell_type": "markdown",
   "metadata": {},
   "source": [
    "+ **2 不平衡数据集**"
   ]
  },
  {
   "cell_type": "markdown",
   "metadata": {},
   "source": [
    "一个类别比另一个类别出现次数多很多的数据集，通常叫做**不平衡数据集**或**具有不平衡类别的数据集**。在实际中，不平衡数据集才是常态，而数据中感兴趣的出现次数相同或相似的情况十分罕见。"
   ]
  },
  {
   "cell_type": "markdown",
   "metadata": {},
   "source": [
    "将digits数据集中的9与其他几类加以区分："
   ]
  },
  {
   "cell_type": "code",
   "execution_count": 61,
   "metadata": {
    "ExecuteTime": {
     "end_time": "2018-08-12T07:19:19.366044Z",
     "start_time": "2018-08-12T07:19:19.246349Z"
    }
   },
   "outputs": [],
   "source": [
    "from sklearn.datasets import load_digits\n",
    "\n",
    "digits = load_digits()\n",
    "y = digits.target == 9\n",
    "\n",
    "X_train, X_test, y_train, y_test = train_test_split(digits.data, y,\n",
    "                                                    random_state=42)"
   ]
  },
  {
   "cell_type": "code",
   "execution_count": 65,
   "metadata": {
    "ExecuteTime": {
     "end_time": "2018-08-12T07:35:18.673956Z",
     "start_time": "2018-08-12T07:35:18.668972Z"
    }
   },
   "outputs": [
    {
     "name": "stdout",
     "output_type": "stream",
     "text": [
      "shape of X_train: (1347, 64)\n",
      "shape of X_test: (450, 64)\n"
     ]
    }
   ],
   "source": [
    "print(\"shape of X_train: {}\".format(X_train.shape))\n",
    "print(\"shape of X_test: {}\".format(X_test.shape))"
   ]
  },
  {
   "cell_type": "markdown",
   "metadata": {},
   "source": [
    "使用**`DummyClassifier`**来始终预测多数类："
   ]
  },
  {
   "cell_type": "code",
   "execution_count": 67,
   "metadata": {
    "ExecuteTime": {
     "end_time": "2018-08-12T07:36:18.078595Z",
     "start_time": "2018-08-12T07:36:18.070592Z"
    }
   },
   "outputs": [
    {
     "data": {
      "text/plain": [
       "DummyClassifier(constant=None, random_state=42, strategy='most_frequent')"
      ]
     },
     "execution_count": 67,
     "metadata": {},
     "output_type": "execute_result"
    }
   ],
   "source": [
    "from sklearn.dummy import DummyClassifier\n",
    "\n",
    "dummy_clf = DummyClassifier(strategy=\"most_frequent\", random_state=42)\n",
    "dummy_clf.fit(X_train, y_train)"
   ]
  },
  {
   "cell_type": "code",
   "execution_count": 68,
   "metadata": {
    "ExecuteTime": {
     "end_time": "2018-08-12T07:36:26.178591Z",
     "start_time": "2018-08-12T07:36:26.171642Z"
    }
   },
   "outputs": [
    {
     "data": {
      "text/plain": [
       "(array([False], dtype=bool), array([450], dtype=int64))"
      ]
     },
     "execution_count": 68,
     "metadata": {},
     "output_type": "execute_result"
    }
   ],
   "source": [
    "# 预测的结果\n",
    "pred_most_freq = dummy_clf.predict(X_test)\n",
    "np.unique(pred_most_freq, return_counts=True)"
   ]
  },
  {
   "cell_type": "code",
   "execution_count": 70,
   "metadata": {
    "ExecuteTime": {
     "end_time": "2018-08-12T07:36:32.716651Z",
     "start_time": "2018-08-12T07:36:32.711660Z"
    }
   },
   "outputs": [
    {
     "data": {
      "text/plain": [
       "(array([False,  True], dtype=bool), array([402,  48], dtype=int64))"
      ]
     },
     "execution_count": 70,
     "metadata": {},
     "output_type": "execute_result"
    }
   ],
   "source": [
    "# 真实情况\n",
    "np.unique(y_test, return_counts=True)"
   ]
  },
  {
   "cell_type": "code",
   "execution_count": 71,
   "metadata": {
    "ExecuteTime": {
     "end_time": "2018-08-12T07:36:52.682649Z",
     "start_time": "2018-08-12T07:36:52.676692Z"
    }
   },
   "outputs": [
    {
     "data": {
      "text/plain": [
       "0.89333333333333331"
      ]
     },
     "execution_count": 71,
     "metadata": {},
     "output_type": "execute_result"
    }
   ],
   "source": [
    "dummy_clf.score(X_test, y_test)"
   ]
  },
  {
   "cell_type": "markdown",
   "metadata": {},
   "source": [
    "> 精度89%，但没有学到任何内容。"
   ]
  },
  {
   "cell_type": "markdown",
   "metadata": {},
   "source": [
    "使用决策树进行分类："
   ]
  },
  {
   "cell_type": "code",
   "execution_count": 74,
   "metadata": {
    "ExecuteTime": {
     "end_time": "2018-08-12T07:46:08.896299Z",
     "start_time": "2018-08-12T07:46:08.881337Z"
    }
   },
   "outputs": [
    {
     "data": {
      "text/plain": [
       "0.91555555555555557"
      ]
     },
     "execution_count": 74,
     "metadata": {},
     "output_type": "execute_result"
    }
   ],
   "source": [
    "from sklearn.tree import DecisionTreeClassifier\n",
    "\n",
    "dt_clf = DecisionTreeClassifier(max_depth=2, random_state=42).fit(X_train, y_train)\n",
    "pred_dt = dt_clf.predict(X_test)\n",
    "dt_clf.score(X_test, y_test)"
   ]
  },
  {
   "cell_type": "markdown",
   "metadata": {},
   "source": [
    "> 仅比常数预测好一点，这可能表示使用决策树有误，也可能是精度不是一个很好的度量。"
   ]
  },
  {
   "cell_type": "markdown",
   "metadata": {},
   "source": [
    "再对比两个分类器——`LogisticRegression`和默认的`DummyClassifier`（随机预测，但预测类别的比例与训练集中相同）："
   ]
  },
  {
   "cell_type": "code",
   "execution_count": 75,
   "metadata": {
    "ExecuteTime": {
     "end_time": "2018-08-12T07:46:27.317391Z",
     "start_time": "2018-08-12T07:46:27.285480Z"
    }
   },
   "outputs": [
    {
     "data": {
      "text/plain": [
       "0.97555555555555551"
      ]
     },
     "execution_count": 75,
     "metadata": {},
     "output_type": "execute_result"
    }
   ],
   "source": [
    "from sklearn.linear_model import LogisticRegression\n",
    "\n",
    "log_reg = LogisticRegression(random_state=42).fit(X_train, y_train)\n",
    "pred_logreg = log_reg.predict(X_test)\n",
    "log_reg.score(X_test, y_test)"
   ]
  },
  {
   "cell_type": "code",
   "execution_count": 76,
   "metadata": {
    "ExecuteTime": {
     "end_time": "2018-08-12T07:47:50.904119Z",
     "start_time": "2018-08-12T07:47:50.896171Z"
    }
   },
   "outputs": [
    {
     "data": {
      "text/plain": [
       "0.81333333333333335"
      ]
     },
     "execution_count": 76,
     "metadata": {},
     "output_type": "execute_result"
    }
   ],
   "source": [
    "dummy_clf = DummyClassifier(random_state=42).fit(X_train, y_train)\n",
    "pred_dummy = dummy_clf.predict(X_test)\n",
    "dummy_clf.score(X_test, y_test)"
   ]
  },
  {
   "cell_type": "markdown",
   "metadata": {},
   "source": [
    "> 随机输出的分类器最差，但也有81%的精度。这样很难判断哪些结果是真正有帮助的。"
   ]
  },
  {
   "cell_type": "markdown",
   "metadata": {},
   "source": [
    "**要想对这种不平衡数据的性能进行量化，精度并不是一种合适的度量。**"
   ]
  },
  {
   "cell_type": "markdown",
   "metadata": {},
   "source": [
    "+ **3 混淆矩阵（confusion matrix）**"
   ]
  },
  {
   "cell_type": "markdown",
   "metadata": {},
   "source": [
    "对于分类问题的评估，一种最全面的表示方法是使用**混淆矩阵**。"
   ]
  },
  {
   "cell_type": "code",
   "execution_count": 82,
   "metadata": {
    "ExecuteTime": {
     "end_time": "2018-08-12T08:21:17.800759Z",
     "start_time": "2018-08-12T08:21:17.796769Z"
    }
   },
   "outputs": [
    {
     "data": {
      "text/plain": [
       "array([False,  True], dtype=bool)"
      ]
     },
     "execution_count": 82,
     "metadata": {},
     "output_type": "execute_result"
    }
   ],
   "source": [
    "dt_clf.classes_"
   ]
  },
  {
   "cell_type": "markdown",
   "metadata": {},
   "source": [
    "**对于二分类问题，“反类”始终是`classes_`属性的第一个元素，“正类”是第二个元素。**"
   ]
  },
  {
   "cell_type": "code",
   "execution_count": 84,
   "metadata": {
    "ExecuteTime": {
     "end_time": "2018-08-12T08:24:19.605863Z",
     "start_time": "2018-08-12T08:24:19.599882Z"
    }
   },
   "outputs": [
    {
     "data": {
      "text/plain": [
       "(array([False,  True], dtype=bool), array([402,  48], dtype=int64))"
      ]
     },
     "execution_count": 84,
     "metadata": {},
     "output_type": "execute_result"
    }
   ],
   "source": [
    "np.unique(y_test, return_counts=True)"
   ]
  },
  {
   "cell_type": "code",
   "execution_count": 77,
   "metadata": {
    "ExecuteTime": {
     "end_time": "2018-08-12T08:12:49.864520Z",
     "start_time": "2018-08-12T08:12:49.860554Z"
    }
   },
   "outputs": [],
   "source": [
    "from sklearn.metrics import confusion_matrix"
   ]
  },
  {
   "cell_type": "code",
   "execution_count": 78,
   "metadata": {
    "ExecuteTime": {
     "end_time": "2018-08-12T08:15:05.798655Z",
     "start_time": "2018-08-12T08:15:05.790648Z"
    }
   },
   "outputs": [
    {
     "data": {
      "text/plain": [
       "array([[397,   5],\n",
       "       [  6,  42]], dtype=int64)"
      ]
     },
     "execution_count": 78,
     "metadata": {},
     "output_type": "execute_result"
    }
   ],
   "source": [
    "confusion_matrix(y_test, pred_logreg)"
   ]
  },
  {
   "cell_type": "markdown",
   "metadata": {},
   "source": [
    "行对应于真实的类别，列对应于预测的类别。数组中每个元素给出该行对应类别的样本被分到该列对应的类别中的数量。"
   ]
  },
  {
   "cell_type": "markdown",
   "metadata": {},
   "source": [
    "混淆矩阵的解释："
   ]
  },
  {
   "cell_type": "code",
   "execution_count": 79,
   "metadata": {
    "ExecuteTime": {
     "end_time": "2018-08-12T08:18:11.507102Z",
     "start_time": "2018-08-12T08:18:11.433269Z"
    }
   },
   "outputs": [
    {
     "data": {
      "image/png": "[encoded data removed]",
      "text/plain": [
       "<Figure size 432x288 with 1 Axes>"
      ]
     },
     "metadata": {},
     "output_type": "display_data"
    }
   ],
   "source": [
    "mglearn.plots.plot_binary_confusion_matrix()"
   ]
  },
  {
   "cell_type": "markdown",
   "metadata": {},
   "source": [
    "混淆矩阵主对角线上对应于正确的分类，而其他元素告诉我们一个类别中有多少样本被错误地划分到其他类别中。"
   ]
  },
  {
   "cell_type": "code",
   "execution_count": 80,
   "metadata": {
    "ExecuteTime": {
     "end_time": "2018-08-12T08:20:34.997578Z",
     "start_time": "2018-08-12T08:20:34.985585Z"
    }
   },
   "outputs": [
    {
     "name": "stdout",
     "output_type": "stream",
     "text": [
      "most frequent class:\n",
      "[[402   0]\n",
      " [ 48   0]]\n",
      "\n",
      "dummy model:\n",
      "[[362  40]\n",
      " [ 44   4]]\n",
      "\n",
      "decision tree:\n",
      "[[376  26]\n",
      " [ 12  36]]\n",
      "\n",
      "logistic regression:\n",
      "[[397   5]\n",
      " [  6  42]]\n"
     ]
    }
   ],
   "source": [
    "print(\"most frequent class:\")\n",
    "print(confusion_matrix(y_test, pred_most_freq))\n",
    "print(\"\\ndummy model:\")\n",
    "print(confusion_matrix(y_test, pred_dummy))\n",
    "print(\"\\ndecision tree:\")\n",
    "print(confusion_matrix(y_test, pred_dt))\n",
    "print(\"\\nlogistic regression:\")\n",
    "print(confusion_matrix(y_test, pred_logreg))"
   ]
  },
  {
   "cell_type": "markdown",
   "metadata": {},
   "source": [
    "> 可以看出决策树和Logistic回归给出了合理的结果，并且Logistic回归的效果优于决策树。"
   ]
  },
  {
   "cell_type": "markdown",
   "metadata": {},
   "source": [
    "**Accuracy**：是正确预测的数量（TP和TN）除以所有样本的数量。\n",
    "\n",
    "$$Accuracy = \\frac{{TP} + {TN}}{{TP}+{TN}+{FP}+{FN}}$$"
   ]
  },
  {
   "cell_type": "markdown",
   "metadata": {
    "ExecuteTime": {
     "end_time": "2018-08-12T08:47:42.880524Z",
     "start_time": "2018-08-12T08:47:42.874566Z"
    }
   },
   "source": [
    "**Precision**：被预测为正类的样本中有多少是真正的正类。如果目标是限制假正类的数量，可用。\n",
    "\n",
    "$$Precision=\\frac{TP}{TP+FP}$$\n"
   ]
  },
  {
   "cell_type": "markdown",
   "metadata": {},
   "source": [
    "**Recall**：度量的是正类样本中有多少被预测为正类。如果需要找出所有的正类样本即避免反类很重要的情况下，使用recall作为性能指标。\n",
    "\n",
    "$$Recall = \\frac{TP}{TP+FN}$$"
   ]
  },
  {
   "cell_type": "markdown",
   "metadata": {},
   "source": [
    "**在优化Precision和Recall之间需要折中。**在机器学习中，二者是最常用的二分类度量指标。"
   ]
  },
  {
   "cell_type": "markdown",
   "metadata": {},
   "source": [
    "**F1-score/F-score/F-measure**：将recall和precision进行汇总的一种方法，是两者的调和平均。同时考虑了precision和recall，所以**对于不平衡的二分类数据集来说是一种比accuarcy更好的度量**。\n",
    "\n",
    "$$F-score = 2 \\times {\\frac{precision \\times recall}{precision+recall}}$$"
   ]
  },
  {
   "cell_type": "code",
   "execution_count": 87,
   "metadata": {
    "ExecuteTime": {
     "end_time": "2018-08-12T09:02:32.790136Z",
     "start_time": "2018-08-12T09:02:32.773154Z"
    }
   },
   "outputs": [
    {
     "name": "stdout",
     "output_type": "stream",
     "text": [
      "most frequent class:\n",
      "0.0\n",
      "\n",
      "dummy model:\n",
      "0.0869565217391\n",
      "\n",
      "decision tree:\n",
      "0.654545454545\n",
      "\n",
      "logistic regression:\n",
      "0.884210526316\n"
     ]
    },
    {
     "name": "stderr",
     "output_type": "stream",
     "text": [
      "C:\\Users\\libin\\Anaconda3\\lib\\site-packages\\sklearn\\metrics\\classification.py:1135: UndefinedMetricWarning: F-score is ill-defined and being set to 0.0 due to no predicted samples.\n",
      "  'precision', 'predicted', average, warn_for)\n"
     ]
    }
   ],
   "source": [
    "from sklearn.metrics import f1_score\n",
    "\n",
    "print(\"most frequent class:\")\n",
    "print(f1_score(y_test, pred_most_freq))\n",
    "print(\"\\ndummy model:\")\n",
    "print(f1_score(y_test, pred_dummy))\n",
    "print(\"\\ndecision tree:\")\n",
    "print(f1_score(y_test, pred_dt))\n",
    "print(\"\\nlogistic regression:\")\n",
    "print(f1_score(y_test, pred_logreg))"
   ]
  },
  {
   "cell_type": "markdown",
   "metadata": {},
   "source": [
    "> 警告的原因：most frequent class中计算`f1_score`时分母为0。"
   ]
  },
  {
   "cell_type": "markdown",
   "metadata": {},
   "source": [
    "可以看到虚拟预测与模型之间的差异很大，利用`f1_score`进行评估效果更好。\n",
    "\n",
    "但是，**f_score**比精度更加难以解释。"
   ]
  },
  {
   "cell_type": "markdown",
   "metadata": {},
   "source": [
    "**`classification_report`**同时计算这三个值："
   ]
  },
  {
   "cell_type": "code",
   "execution_count": 89,
   "metadata": {
    "ExecuteTime": {
     "end_time": "2018-08-12T11:10:12.630373Z",
     "start_time": "2018-08-12T11:10:12.623400Z"
    }
   },
   "outputs": [
    {
     "name": "stdout",
     "output_type": "stream",
     "text": [
      "             precision    recall  f1-score   support\n",
      "\n",
      "   not nine       0.89      1.00      0.94       402\n",
      "       nine       0.00      0.00      0.00        48\n",
      "\n",
      "avg / total       0.80      0.89      0.84       450\n",
      "\n"
     ]
    },
    {
     "name": "stderr",
     "output_type": "stream",
     "text": [
      "C:\\Users\\libin\\Anaconda3\\lib\\site-packages\\sklearn\\metrics\\classification.py:1135: UndefinedMetricWarning: Precision and F-score are ill-defined and being set to 0.0 in labels with no predicted samples.\n",
      "  'precision', 'predicted', average, warn_for)\n"
     ]
    }
   ],
   "source": [
    "from sklearn.metrics import classification_report\n",
    "\n",
    "print(classification_report(y_test, pred_most_freq,\n",
    "                            target_names=[\"not nine\", \"nine\"]))"
   ]
  },
  {
   "cell_type": "code",
   "execution_count": 90,
   "metadata": {
    "ExecuteTime": {
     "end_time": "2018-08-12T11:10:29.299509Z",
     "start_time": "2018-08-12T11:10:29.292531Z"
    }
   },
   "outputs": [
    {
     "name": "stdout",
     "output_type": "stream",
     "text": [
      "             precision    recall  f1-score   support\n",
      "\n",
      "   not nine       0.89      0.90      0.90       402\n",
      "       nine       0.09      0.08      0.09        48\n",
      "\n",
      "avg / total       0.81      0.81      0.81       450\n",
      "\n"
     ]
    }
   ],
   "source": [
    "from sklearn.metrics import classification_report\n",
    "\n",
    "print(classification_report(y_test, pred_dummy,\n",
    "                            target_names=[\"not nine\", \"nine\"]))"
   ]
  },
  {
   "cell_type": "code",
   "execution_count": 91,
   "metadata": {
    "ExecuteTime": {
     "end_time": "2018-08-12T11:10:43.110173Z",
     "start_time": "2018-08-12T11:10:43.103222Z"
    }
   },
   "outputs": [
    {
     "name": "stdout",
     "output_type": "stream",
     "text": [
      "             precision    recall  f1-score   support\n",
      "\n",
      "   not nine       0.97      0.94      0.95       402\n",
      "       nine       0.58      0.75      0.65        48\n",
      "\n",
      "avg / total       0.93      0.92      0.92       450\n",
      "\n"
     ]
    }
   ],
   "source": [
    "from sklearn.metrics import classification_report\n",
    "\n",
    "print(classification_report(y_test, pred_dt,\n",
    "                            target_names=[\"not nine\", \"nine\"]))"
   ]
  },
  {
   "cell_type": "code",
   "execution_count": 92,
   "metadata": {
    "ExecuteTime": {
     "end_time": "2018-08-12T11:10:51.736111Z",
     "start_time": "2018-08-12T11:10:51.729132Z"
    }
   },
   "outputs": [
    {
     "name": "stdout",
     "output_type": "stream",
     "text": [
      "             precision    recall  f1-score   support\n",
      "\n",
      "   not nine       0.99      0.99      0.99       402\n",
      "       nine       0.89      0.88      0.88        48\n",
      "\n",
      "avg / total       0.98      0.98      0.98       450\n",
      "\n"
     ]
    }
   ],
   "source": [
    "from sklearn.metrics import classification_report\n",
    "\n",
    "print(classification_report(y_test, pred_logreg,\n",
    "                            target_names=[\"not nine\", \"nine\"]))"
   ]
  },
  {
   "cell_type": "markdown",
   "metadata": {},
   "source": [
    "`classification_report`函数为每个类别（这里是True和False）生成一行，并给出以该类别作为正类的precision、recall和f-score。最后一行显示的是对应指标的加权平均（按每个类别中的样本个数加权）。"
   ]
  },
  {
   "cell_type": "markdown",
   "metadata": {},
   "source": [
    "**选择哪个作为正类对指标有很大影响。**而且，同时查看所有情况可以给出非常准确的图像，可以清楚看到Logistic回归的优势。"
   ]
  },
  {
   "cell_type": "markdown",
   "metadata": {},
   "source": [
    "+ **4 考虑不确定性**"
   ]
  },
  {
   "cell_type": "markdown",
   "metadata": {},
   "source": [
    "`confusion_matrix`和`classification_report`为一组特定的预测提供了非常详细的分析。但是，预测本身已经丢弃了模型中包含的大量信息。"
   ]
  },
  {
   "cell_type": "code",
   "execution_count": 100,
   "metadata": {
    "ExecuteTime": {
     "end_time": "2018-08-12T12:10:32.777378Z",
     "start_time": "2018-08-12T12:10:32.770395Z"
    }
   },
   "outputs": [],
   "source": [
    "from mglearn.datasets import make_blobs\n",
    "\n",
    "X, y = make_blobs(n_samples=(400, 50), centers=2, cluster_std=[7.0, 2],\n",
    "                  random_state=22)\n",
    "X_train, X_test, y_train, y_test = train_test_split(X, y, random_state=0)"
   ]
  },
  {
   "cell_type": "code",
   "execution_count": 102,
   "metadata": {
    "ExecuteTime": {
     "end_time": "2018-08-12T12:11:19.534882Z",
     "start_time": "2018-08-12T12:11:19.525904Z"
    }
   },
   "outputs": [
    {
     "data": {
      "text/plain": [
       "(array([0, 1]), array([400,  50], dtype=int64))"
      ]
     },
     "execution_count": 102,
     "metadata": {},
     "output_type": "execute_result"
    }
   ],
   "source": [
    "np.unique(y, return_counts=True)"
   ]
  },
  {
   "cell_type": "markdown",
   "metadata": {},
   "source": [
    "> 不平衡二分类。反类有400个，正类只有50个。"
   ]
  },
  {
   "cell_type": "code",
   "execution_count": 103,
   "metadata": {
    "ExecuteTime": {
     "end_time": "2018-08-12T12:12:20.255788Z",
     "start_time": "2018-08-12T12:12:20.246840Z"
    }
   },
   "outputs": [
    {
     "data": {
      "text/plain": [
       "(array([0, 1]), array([296,  41], dtype=int64))"
      ]
     },
     "execution_count": 103,
     "metadata": {},
     "output_type": "execute_result"
    }
   ],
   "source": [
    "np.unique(y_train, return_counts=True)"
   ]
  },
  {
   "cell_type": "code",
   "execution_count": 110,
   "metadata": {
    "ExecuteTime": {
     "end_time": "2018-08-12T12:14:10.089101Z",
     "start_time": "2018-08-12T12:14:09.943277Z"
    }
   },
   "outputs": [
    {
     "data": {
      "image/png": "[encoded data removed]",
      "text/plain": [
       "<Figure size 720x432 with 1 Axes>"
      ]
     },
     "metadata": {},
     "output_type": "display_data"
    }
   ],
   "source": [
    "plt.figure(figsize=(10, 6))\n",
    "plt.scatter(X_train[:, 0], X_train[:, 1], c=y_train, s=150, edgecolors=\"k\")\n",
    "plt.title(\"Training set\")\n",
    "plt.show()"
   ]
  },
  {
   "cell_type": "code",
   "execution_count": 134,
   "metadata": {
    "ExecuteTime": {
     "end_time": "2018-08-12T14:02:20.826694Z",
     "start_time": "2018-08-12T14:02:20.821710Z"
    }
   },
   "outputs": [],
   "source": [
    "svc = SVC(gamma=0.05).fit(X_train, y_train)"
   ]
  },
  {
   "cell_type": "code",
   "execution_count": 135,
   "metadata": {
    "ExecuteTime": {
     "end_time": "2018-08-12T14:02:21.622661Z",
     "start_time": "2018-08-12T14:02:21.616679Z"
    }
   },
   "outputs": [
    {
     "name": "stdout",
     "output_type": "stream",
     "text": [
      "             precision    recall  f1-score   support\n",
      "\n",
      "          0       0.97      0.89      0.93       104\n",
      "          1       0.35      0.67      0.46         9\n",
      "\n",
      "avg / total       0.92      0.88      0.89       113\n",
      "\n"
     ]
    }
   ],
   "source": [
    "print(classification_report(y_test, svc.predict(X_test)))"
   ]
  },
  {
   "cell_type": "markdown",
   "metadata": {},
   "source": [
    "> 对于类别1，precision相当低，而recall则令人mixed。由于类别0要大得多，所以分类器将重点放在类别0分类正确，而不是较小的类别1。"
   ]
  },
  {
   "cell_type": "markdown",
   "metadata": {},
   "source": [
    "假设类别1具有高recall更加重要，这意味着愿意有更多的假类别1，以换取更多的真类别1（增大recall）。\n",
    "\n",
    "可以通过改变决策阈值不等于0来将预测重点放在使类别1的recall更高。**默认情况下，`decision_function`值大于0的点被预测为类别1。希望将更多的点划分为1，需要减小阈值**："
   ]
  },
  {
   "cell_type": "code",
   "execution_count": 136,
   "metadata": {
    "ExecuteTime": {
     "end_time": "2018-08-12T14:02:25.710071Z",
     "start_time": "2018-08-12T14:02:25.702048Z"
    }
   },
   "outputs": [
    {
     "data": {
      "text/plain": [
       "array([-0.99973208, -1.00148617, -1.1386043 , -0.98505482, -1.01044247,\n",
       "       -1.00027441, -1.00609413,  0.88395198, -1.00467053, -1.00283866,\n",
       "       -1.00097712,  1.07030762, -1.02076344, -0.40435353, -0.48739733,\n",
       "       -1.00121046, -1.09560781, -1.44572917, -0.99908802, -1.00070245,\n",
       "       -0.44364565, -1.01170286, -0.99918954, -1.0861769 , -1.33291363,\n",
       "       -1.00320657, -0.99076097, -1.09564958,  0.63212214, -0.99238394,\n",
       "       -1.47090403,  0.19153373,  0.74430046, -1.0084656 , -1.15104651,\n",
       "       -1.02852903, -1.00840776, -1.23180696, -1.0031964 , -1.00023926,\n",
       "       -1.0013854 , -1.00003771, -1.10114776, -0.98779744, -1.05818617,\n",
       "       -1.00105363,  0.5230006 ,  0.97789353, -0.99559099,  0.52008479,\n",
       "       -1.25711078, -1.08267667, -0.99828696, -1.00385465,  0.08620484,\n",
       "       -0.99871026, -1.06221884, -1.02415268, -1.08797969, -1.06010122,\n",
       "        0.36988055, -1.05630237, -0.99981001, -0.24173165, -1.02857919,\n",
       "       -1.00058106, -0.99968788, -1.00115386, -0.99882791,  1.25059991,\n",
       "       -1.09244855, -1.01536282, -1.02871902,  0.53195462,  0.87212596,\n",
       "       -1.39761864, -0.80757022, -1.00013144,  0.14630375, -1.15545358,\n",
       "       -1.03883369,  1.08436417, -1.03205267, -1.01026633,  1.00010384,\n",
       "       -1.00213323,  0.88002558, -1.0164695 , -0.1601932 , -1.0010796 ,\n",
       "       -1.0102922 , -0.16644845, -1.00097537, -1.00119305, -1.02388163,\n",
       "       -0.19257469, -1.29378285, -0.99891055, -1.01311932, -0.17852475,\n",
       "       -0.98660479, -1.34087674, -1.00747736, -0.7512563 , -1.26590436,\n",
       "       -0.98479852, -0.58749402, -1.03405525, -1.387124  , -0.99557702,\n",
       "       -0.28965335, -1.03679143, -0.9997917 ])"
      ]
     },
     "execution_count": 136,
     "metadata": {},
     "output_type": "execute_result"
    }
   ],
   "source": [
    "# 默认情况下，阈值为0\n",
    "svc.decision_function(X_test)"
   ]
  },
  {
   "cell_type": "code",
   "execution_count": 137,
   "metadata": {
    "ExecuteTime": {
     "end_time": "2018-08-12T14:02:26.624087Z",
     "start_time": "2018-08-12T14:02:26.616112Z"
    }
   },
   "outputs": [
    {
     "data": {
      "text/plain": [
       "array([0, 0, 0, 0, 0, 0, 0, 1, 0, 0, 0, 1, 0, 0, 0, 0, 0, 0, 0, 0, 0, 0, 0,\n",
       "       0, 0, 0, 0, 0, 1, 0, 0, 1, 1, 0, 0, 0, 0, 0, 0, 0, 0, 0, 0, 0, 0, 0,\n",
       "       1, 1, 0, 1, 0, 0, 0, 0, 1, 0, 0, 0, 0, 0, 1, 0, 0, 0, 0, 0, 0, 0, 0,\n",
       "       1, 0, 0, 0, 1, 1, 0, 0, 0, 1, 0, 0, 1, 0, 0, 1, 0, 1, 0, 0, 0, 0, 0,\n",
       "       0, 0, 0, 0, 0, 0, 0, 0, 0, 0, 0, 0, 0, 0, 0, 0, 0, 0, 0, 0, 0])"
      ]
     },
     "execution_count": 137,
     "metadata": {},
     "output_type": "execute_result"
    }
   ],
   "source": [
    "svc.predict(X_test)"
   ]
  },
  {
   "cell_type": "markdown",
   "metadata": {},
   "source": [
    "减小阈值至-0.8："
   ]
  },
  {
   "cell_type": "code",
   "execution_count": 138,
   "metadata": {
    "ExecuteTime": {
     "end_time": "2018-08-12T14:02:29.119409Z",
     "start_time": "2018-08-12T14:02:29.113410Z"
    }
   },
   "outputs": [
    {
     "data": {
      "text/plain": [
       "array([False, False, False, False, False, False, False,  True, False,\n",
       "       False, False,  True, False,  True,  True, False, False, False,\n",
       "       False, False,  True, False, False, False, False, False, False,\n",
       "       False,  True, False, False,  True,  True, False, False, False,\n",
       "       False, False, False, False, False, False, False, False, False,\n",
       "       False,  True,  True, False,  True, False, False, False, False,\n",
       "        True, False, False, False, False, False,  True, False, False,\n",
       "        True, False, False, False, False, False,  True, False, False,\n",
       "       False,  True,  True, False, False, False,  True, False, False,\n",
       "        True, False, False,  True, False,  True, False,  True, False,\n",
       "       False,  True, False, False, False,  True, False, False, False,\n",
       "        True, False, False, False,  True, False, False,  True, False,\n",
       "       False, False,  True, False, False], dtype=bool)"
      ]
     },
     "execution_count": 138,
     "metadata": {},
     "output_type": "execute_result"
    }
   ],
   "source": [
    "svc.decision_function(X_test) > -0.8"
   ]
  },
  {
   "cell_type": "code",
   "execution_count": 139,
   "metadata": {
    "ExecuteTime": {
     "end_time": "2018-08-12T14:02:29.929596Z",
     "start_time": "2018-08-12T14:02:29.924576Z"
    }
   },
   "outputs": [],
   "source": [
    "y_pred_lower_threshold = svc.decision_function(X_test) > -0.8"
   ]
  },
  {
   "cell_type": "code",
   "execution_count": 140,
   "metadata": {
    "ExecuteTime": {
     "end_time": "2018-08-12T14:02:30.547329Z",
     "start_time": "2018-08-12T14:02:30.540346Z"
    }
   },
   "outputs": [
    {
     "name": "stdout",
     "output_type": "stream",
     "text": [
      "             precision    recall  f1-score   support\n",
      "\n",
      "          0       1.00      0.82      0.90       104\n",
      "          1       0.32      1.00      0.49         9\n",
      "\n",
      "avg / total       0.95      0.83      0.87       113\n",
      "\n"
     ]
    }
   ],
   "source": [
    "print(classification_report(y_test, y_pred_lower_threshold))"
   ]
  },
  {
   "cell_type": "markdown",
   "metadata": {},
   "source": [
    "> 类别1的recall增大。"
   ]
  },
  {
   "cell_type": "markdown",
   "metadata": {},
   "source": [
    "如果认为precision比recall更重要，或者反过来，或者数据严重不平衡，那么改变决策阈值是得到更好结果的最简单方法。由于`decision_function`的取值可能在任意范围内，所以很难提供关于如何选取阈值的经验法则。\n",
    "\n",
    "如果设置了阈值，那么小心不要在测试集上这么做。与其他任何参数一样，在测试集上设置决策阈值可能会得到过于乐观的结果。可以使用验证集或交叉验证来代替。\n",
    "\n",
    "对于实现了`predict_proba`方法的模型来说，选择阈值可能更简单。默认情况下，0.5的阈值表示，如果模型超过0.5的概率”确信“一个点属于正类，那么就将其划分为正类。增大阈值意味着模型需要更加确信才能做出正类的判断（较低程度的确信就可以做出反类的判断）。"
   ]
  },
  {
   "cell_type": "markdown",
   "metadata": {},
   "source": [
    "**改变模型中用于做出分类决策的阈值，是一种调节给定分类器的precision和recall之间折中的方法。**"
   ]
  },
  {
   "cell_type": "markdown",
   "metadata": {},
   "source": [
    "+ **5 precision-recall曲线**"
   ]
  },
  {
   "cell_type": "markdown",
   "metadata": {},
   "source": [
    "总是可以设定一个阈值来满足特定的目标。**难点**在于开发一个模型，在满足这个阈值的同时仍具有合理的precision。\n",
    "\n",
    "对分类器设置要求（如90%的recall）通常被称为设置**工作点（operating point）**。设置工作点通常有助于为客户或组织内的其他小组提供性能保证。\n",
    "\n",
    "在开发新模型时，并完全不清楚工作点在哪里。同时查看所有可能的阈值或所有可能的recall和precision的折中。使用`precision_recall_curve`可以做到。"
   ]
  },
  {
   "cell_type": "code",
   "execution_count": 141,
   "metadata": {
    "ExecuteTime": {
     "end_time": "2018-08-12T14:02:37.830321Z",
     "start_time": "2018-08-12T14:02:37.824338Z"
    }
   },
   "outputs": [],
   "source": [
    "from sklearn.metrics import precision_recall_curve\n",
    "\n",
    "precision, recall, thresholds = precision_recall_curve(y_test, svc.decision_function(X_test))"
   ]
  },
  {
   "cell_type": "markdown",
   "metadata": {},
   "source": [
    "> 函数返回一个列表，包含按升序排序的所有可能阈值以及对应的precision和recall(按降序排)。"
   ]
  },
  {
   "cell_type": "code",
   "execution_count": 142,
   "metadata": {
    "ExecuteTime": {
     "end_time": "2018-08-12T14:02:39.463118Z",
     "start_time": "2018-08-12T14:02:39.457156Z"
    }
   },
   "outputs": [
    {
     "data": {
      "text/plain": [
       "array([ 0.32142857,  0.2962963 ,  0.30769231,  0.32      ,  0.33333333,\n",
       "        0.34782609,  0.36363636,  0.38095238,  0.4       ,  0.36842105,\n",
       "        0.33333333,  0.35294118,  0.375     ,  0.4       ,  0.42857143,\n",
       "        0.38461538,  0.41666667,  0.45454545,  0.4       ,  0.44444444,\n",
       "        0.5       ,  0.57142857,  0.66666667,  0.6       ,  0.5       ,\n",
       "        0.66666667,  0.5       ,  1.        ,  1.        ])"
      ]
     },
     "execution_count": 142,
     "metadata": {},
     "output_type": "execute_result"
    }
   ],
   "source": [
    "precision"
   ]
  },
  {
   "cell_type": "code",
   "execution_count": 143,
   "metadata": {
    "ExecuteTime": {
     "end_time": "2018-08-12T14:02:40.378069Z",
     "start_time": "2018-08-12T14:02:40.371085Z"
    }
   },
   "outputs": [
    {
     "data": {
      "text/plain": [
       "array([ 1.        ,  0.88888889,  0.88888889,  0.88888889,  0.88888889,\n",
       "        0.88888889,  0.88888889,  0.88888889,  0.88888889,  0.77777778,\n",
       "        0.66666667,  0.66666667,  0.66666667,  0.66666667,  0.66666667,\n",
       "        0.55555556,  0.55555556,  0.55555556,  0.44444444,  0.44444444,\n",
       "        0.44444444,  0.44444444,  0.44444444,  0.33333333,  0.22222222,\n",
       "        0.22222222,  0.11111111,  0.11111111,  0.        ])"
      ]
     },
     "execution_count": 143,
     "metadata": {},
     "output_type": "execute_result"
    }
   ],
   "source": [
    "recall"
   ]
  },
  {
   "cell_type": "code",
   "execution_count": 144,
   "metadata": {
    "ExecuteTime": {
     "end_time": "2018-08-12T14:02:40.911844Z",
     "start_time": "2018-08-12T14:02:40.906860Z"
    }
   },
   "outputs": [
    {
     "data": {
      "text/plain": [
       "array([-0.7512563 , -0.58749402, -0.48739733, -0.44364565, -0.40435353,\n",
       "       -0.28965335, -0.24173165, -0.19257469, -0.17852475, -0.16644845,\n",
       "       -0.1601932 ,  0.08620484,  0.14630375,  0.19153373,  0.36988055,\n",
       "        0.52008479,  0.5230006 ,  0.53195462,  0.63212214,  0.74430046,\n",
       "        0.87212596,  0.88002558,  0.88395198,  0.97789353,  1.00010384,\n",
       "        1.07030762,  1.08436417,  1.25059991])"
      ]
     },
     "execution_count": 144,
     "metadata": {},
     "output_type": "execute_result"
    }
   ],
   "source": [
    "thresholds"
   ]
  },
  {
   "cell_type": "markdown",
   "metadata": {},
   "source": [
    "> `precision`和`recall`的最后一个值分别为1.和0.，固定的，不对应任何阈值，故它俩的长度比`thresholds`大1。"
   ]
  },
  {
   "cell_type": "code",
   "execution_count": 158,
   "metadata": {
    "ExecuteTime": {
     "end_time": "2018-08-12T14:22:20.390813Z",
     "start_time": "2018-08-12T14:22:20.368872Z"
    }
   },
   "outputs": [
    {
     "data": {
      "text/plain": [
       "array([ 0.59,  0.  ,  0.  , ...,  0.  ,  0.11,  0.  ])"
      ]
     },
     "execution_count": 158,
     "metadata": {},
     "output_type": "execute_result"
    }
   ],
   "source": [
    "rf_clf.predict_proba(X_test)[:, 1]"
   ]
  },
  {
   "cell_type": "code",
   "execution_count": 159,
   "metadata": {
    "ExecuteTime": {
     "end_time": "2018-08-12T14:23:27.200803Z",
     "start_time": "2018-08-12T14:23:26.969423Z"
    }
   },
   "outputs": [
    {
     "data": {
      "image/png": "[encoded data removed]",
      "text/plain": [
       "<Figure size 720x432 with 1 Axes>"
      ]
     },
     "metadata": {},
     "output_type": "display_data"
    }
   ],
   "source": [
    "X, y = make_blobs(n_samples=(4000, 500), centers=2, cluster_std=[7.0, 2.],\n",
    "                  random_state=22)\n",
    "X_train, X_test, y_train, y_test = train_test_split(X, y, random_state=22)\n",
    "svc = SVC(gamma=.05, random_state=42).fit(X_train, y_train)\n",
    "precisions, recalls, thresholds = precision_recall_curve(\n",
    "    y_test, svc.decision_function(X_test))\n",
    "\n",
    "plt.figure(figsize=(10, 6))\n",
    "# 0是decision_function的默认阈值，找到最近0的阈值\n",
    "close2zero = np.argmin(np.abs(thresholds))\n",
    "plt.plot(precisions[close2zero], recalls[close2zero], \"ro\", markersize=10,\n",
    "         label=\"threshold zero\", fillstyle=\"none\", mew=2)\n",
    "plt.plot(precisions, recalls, linewidth=3, label=\"precision recall curve\")\n",
    "plt.legend(loc=\"best\")\n",
    "plt.xlim(0.0, 1.)\n",
    "plt.ylim(0.0, 1.0)\n",
    "plt.xlabel(\"Precision\", fontsize=14)\n",
    "plt.ylabel(\"Recall\", fontsize=14)\n",
    "plt.title(\"Precision Recall Curve\", fontsize=16)\n",
    "plt.show()"
   ]
  },
  {
   "cell_type": "markdown",
   "metadata": {},
   "source": [
    "曲线上每一个点都对应`decision_function`的一个可能阈值。红色圈表示阈值为0的点，0是`decision_function`的默认阈值，这个点是在调用`predict`方法时所选择的折中点。\n",
    "\n",
    "**曲线越靠近右上角，则分类器越好。**右上角的点表示同一个阈值，precision和recall都很高。曲线从左上角开始，这里对应非常低的阈值，将所有样本都划分为正类。提高阈值可以让曲线向precision更高的方向移动，但同时recall降低。继续增大阈值，大多数点被分类正类的点都是真正类，此时precision很高，但recall更低。**随着precision的升高，模型越能够保持较高的recall，则模型越好。**\n",
    "\n",
    "想要更高的precision，那么就必须牺牲很多recall。"
   ]
  },
  {
   "cell_type": "markdown",
   "metadata": {},
   "source": [
    "比较SVM和随机森林："
   ]
  },
  {
   "cell_type": "code",
   "execution_count": 161,
   "metadata": {
    "ExecuteTime": {
     "end_time": "2018-08-12T14:26:09.426515Z",
     "start_time": "2018-08-12T14:26:09.419535Z"
    }
   },
   "outputs": [
    {
     "data": {
      "text/plain": [
       "array([ 0.  ,  0.01,  0.02,  0.03,  0.04,  0.05,  0.06,  0.07,  0.08,\n",
       "        0.09,  0.1 ,  0.11,  0.12,  0.13,  0.15,  0.16,  0.17,  0.18,\n",
       "        0.19,  0.2 ,  0.21,  0.22,  0.23,  0.24,  0.25,  0.26,  0.27,\n",
       "        0.28,  0.29,  0.3 ,  0.31,  0.32,  0.33,  0.34,  0.35,  0.37,\n",
       "        0.39,  0.4 ,  0.41,  0.42,  0.43,  0.44,  0.45,  0.46,  0.47,\n",
       "        0.48,  0.49,  0.5 ,  0.51,  0.52,  0.53,  0.54,  0.55,  0.56,\n",
       "        0.57,  0.58,  0.59,  0.6 ,  0.61,  0.62,  0.63,  0.64,  0.65,\n",
       "        0.67,  0.68,  0.69,  0.7 ,  0.71,  0.72,  0.73,  0.74,  0.75,\n",
       "        0.76,  0.77,  0.78,  0.8 ,  0.81,  0.82,  0.83,  0.84,  0.85,\n",
       "        0.86,  0.87,  0.88,  0.89,  0.91,  0.93,  0.95,  0.96,  0.97,\n",
       "        0.98,  0.99,  1.  ])"
      ]
     },
     "execution_count": 161,
     "metadata": {},
     "output_type": "execute_result"
    }
   ],
   "source": [
    "thresholds_rf"
   ]
  },
  {
   "cell_type": "code",
   "execution_count": 174,
   "metadata": {
    "ExecuteTime": {
     "end_time": "2018-08-12T14:37:32.167802Z",
     "start_time": "2018-08-12T14:37:31.583333Z"
    }
   },
   "outputs": [
    {
     "data": {
      "image/png": "[encoded data removed]",
      "text/plain": [
       "<Figure size 720x432 with 1 Axes>"
      ]
     },
     "metadata": {},
     "output_type": "display_data"
    }
   ],
   "source": [
    "from sklearn.ensemble import RandomForestClassifier\n",
    "\n",
    "rf_clf = RandomForestClassifier(\n",
    "    n_estimators=100, max_features=2, random_state=0)\n",
    "rf_clf.fit(X_train, y_train)\n",
    "\n",
    "# 传入样本属于类别1的概率\n",
    "precisions_rf, recalls_rf, thresholds_rf = precision_recall_curve(\n",
    "    y_test, rf_clf.predict_proba(X_test)[:, 1])\n",
    "\n",
    "plt.figure(figsize=(10, 6))\n",
    "# predict_proba的阈值是0.5，标出这个点\n",
    "close_default_rf = np.argmin(np.abs(thresholds_rf - 0.5))\n",
    "# 0是decision_function的默认阈值，找到最近0的阈值\n",
    "close2zero = np.argmin(np.abs(thresholds))\n",
    "plt.plot(precisions[close2zero], recalls[close2zero], \"ro\", markersize=10,\n",
    "         mew=2, label=\"svc threshold zero\", fillstyle=\"none\")\n",
    "plt.plot(precisions_rf[close_default_rf], recalls_rf[close_default_rf], \"b^\",\n",
    "         markersize=10, mew=2, label=\"rf threshold 0.5\", fillstyle=\"none\")\n",
    "\n",
    "plt.plot(precisions, recalls, \"r-\", label=\"SVC P-R curve\")\n",
    "plt.plot(precisions_rf, recalls_rf, \"b--\", label=\"RF P-R curve\")\n",
    "\n",
    "plt.text(0.49, 0.6, \"RF\", color=\"b\", fontdict={\"fontsize\": 18})\n",
    "plt.text(0.7, 0.6, \"SVC\", color=\"r\", fontdict={\"fontsize\": 18})\n",
    "plt.legend(loc=\"best\", fontsize=\"large\")\n",
    "plt.xlim(0.0, 1.)\n",
    "plt.ylim(0.0, 1.0)\n",
    "plt.xlabel(\"Precision\", fontsize=14)\n",
    "plt.ylabel(\"Recall\", fontsize=14)\n",
    "plt.title(\"Precision Recall Curve\", fontsize=16)\n",
    "plt.show()"
   ]
  },
  {
   "cell_type": "markdown",
   "metadata": {},
   "source": [
    "f-score只反映precision-recall曲线上的一个点，即默认阈值对应的那个点："
   ]
  },
  {
   "cell_type": "code",
   "execution_count": 176,
   "metadata": {
    "ExecuteTime": {
     "end_time": "2018-08-12T14:40:25.903441Z",
     "start_time": "2018-08-12T14:40:25.869529Z"
    }
   },
   "outputs": [
    {
     "name": "stdout",
     "output_type": "stream",
     "text": [
      "f-score of RF: 0.5850\n",
      "f-score of SVC: 0.6506\n"
     ]
    }
   ],
   "source": [
    "print(\"f-score of RF: {:.4f}\".format(f1_score(y_test, rf_clf.predict(X_test))))\n",
    "print(\"f-score of SVC: {:.4f}\".format(f1_score(y_test, svc.predict(X_test))))"
   ]
  },
  {
   "cell_type": "markdown",
   "metadata": {},
   "source": [
    "对于自动化模型对比，希望可以总结曲线中包含的信息，而不限于某个特定的阈值或工作点。**总结precision-recall曲线的一种方法是计算该曲线下的积分或面积**，叫做**平均准确率（average precision）**。"
   ]
  },
  {
   "cell_type": "code",
   "execution_count": 178,
   "metadata": {
    "ExecuteTime": {
     "end_time": "2018-08-12T14:55:50.617939Z",
     "start_time": "2018-08-12T14:55:50.583006Z"
    }
   },
   "outputs": [
    {
     "name": "stdout",
     "output_type": "stream",
     "text": [
      "Average precision of RF: 0.5639\n",
      "Average precision of SVC: 0.6582\n"
     ]
    }
   ],
   "source": [
    "from sklearn.metrics import average_precision_score\n",
    "\n",
    "ap_rf = average_precision_score(y_test, rf_clf.predict_proba(X_test)[:, 1])\n",
    "ap_svc = average_precision_score(y_test, svc.decision_function(X_test))\n",
    "\n",
    "print(\"Average precision of RF: {:.4f}\".format(ap_rf))\n",
    "print(\"Average precision of SVC: {:.4f}\".format(ap_svc))"
   ]
  },
  {
   "cell_type": "markdown",
   "metadata": {},
   "source": [
    "+ **6 ROC与AUC**"
   ]
  },
  {
   "cell_type": "markdown",
   "metadata": {},
   "source": [
    "**ROC曲线**是分析不同阈值的分类器行为另一种常用工具。与P-R曲线类似，ROC曲线考虑了给定分类器的所有可能的阈值，但它**显示的是假正类率（false positive rate, FPR）和真正类率（true positive rate, TPR）**，而不是报告precision和recall。\n",
    "\n",
    "**真正类率（true positive rate, TPR）**是recall的另一个名称。\n",
    "$$TPR(recall) = \\frac{TP}{TP+FN}$$\n",
    "\n",
    "**假正类率（false positive rate, FPR）**是假正类占所有反类样本的比例。\n",
    "$$FPR=\\frac{FP}{FP+TN}$$"
   ]
  },
  {
   "cell_type": "code",
   "execution_count": 179,
   "metadata": {
    "ExecuteTime": {
     "end_time": "2018-08-12T15:09:58.424939Z",
     "start_time": "2018-08-12T15:09:58.407953Z"
    }
   },
   "outputs": [],
   "source": [
    "from sklearn.metrics import roc_curve\n",
    "fpr, tpr, thresholds = roc_curve(y_test, svc.decision_function(X_test))"
   ]
  },
  {
   "cell_type": "code",
   "execution_count": 180,
   "metadata": {
    "ExecuteTime": {
     "end_time": "2018-08-12T15:10:00.856921Z",
     "start_time": "2018-08-12T15:10:00.850931Z"
    }
   },
   "outputs": [
    {
     "data": {
      "text/plain": [
       "array([  0.00000000e+00,   0.00000000e+00,   9.94035785e-04,\n",
       "         9.94035785e-04,   1.98807157e-03,   1.98807157e-03,\n",
       "         2.98210736e-03,   2.98210736e-03,   4.97017893e-03,\n",
       "         4.97017893e-03,   5.96421471e-03,   5.96421471e-03,\n",
       "         6.95825050e-03,   6.95825050e-03,   7.95228628e-03,\n",
       "         7.95228628e-03,   8.94632207e-03,   8.94632207e-03,\n",
       "         9.94035785e-03,   9.94035785e-03,   1.09343936e-02,\n",
       "         1.09343936e-02,   1.19284294e-02,   1.19284294e-02,\n",
       "         1.39165010e-02,   1.39165010e-02,   1.49105368e-02,\n",
       "         1.49105368e-02,   1.68986083e-02,   1.68986083e-02,\n",
       "         1.88866799e-02,   1.88866799e-02,   2.28628231e-02,\n",
       "         2.28628231e-02,   2.58449304e-02,   2.58449304e-02,\n",
       "         2.68389662e-02,   2.68389662e-02,   2.88270378e-02,\n",
       "         2.88270378e-02,   3.18091451e-02,   3.18091451e-02,\n",
       "         3.28031809e-02,   3.28031809e-02,   3.37972167e-02,\n",
       "         3.37972167e-02,   3.47912525e-02,   3.47912525e-02,\n",
       "         3.57852883e-02,   3.57852883e-02,   3.67793241e-02,\n",
       "         3.67793241e-02,   3.77733598e-02,   3.77733598e-02,\n",
       "         4.27435388e-02,   4.27435388e-02,   4.87077535e-02,\n",
       "         4.87077535e-02,   5.06958250e-02,   5.06958250e-02,\n",
       "         5.46719682e-02,   5.46719682e-02,   5.56660040e-02,\n",
       "         5.56660040e-02,   5.86481113e-02,   5.86481113e-02,\n",
       "         6.06361829e-02,   6.06361829e-02,   6.16302187e-02,\n",
       "         6.16302187e-02,   6.36182903e-02,   6.36182903e-02,\n",
       "         6.56063618e-02,   6.56063618e-02,   6.95825050e-02,\n",
       "         6.95825050e-02,   7.15705765e-02,   7.15705765e-02,\n",
       "         7.25646123e-02,   7.25646123e-02,   7.55467197e-02,\n",
       "         7.55467197e-02,   7.65407555e-02,   7.65407555e-02,\n",
       "         7.75347913e-02,   7.75347913e-02,   7.85288270e-02,\n",
       "         7.85288270e-02,   8.34990060e-02,   8.34990060e-02,\n",
       "         8.44930417e-02,   8.44930417e-02,   9.24453280e-02,\n",
       "         9.24453280e-02,   9.64214712e-02,   9.64214712e-02,\n",
       "         1.33200795e-01,   1.33200795e-01,   2.15705765e-01,\n",
       "         2.15705765e-01,   3.66799205e-01,   3.66799205e-01,\n",
       "         4.98011928e-01,   4.98011928e-01,   6.79920477e-01,\n",
       "         6.79920477e-01,   7.17693837e-01,   7.17693837e-01,\n",
       "         7.33598410e-01,   7.33598410e-01,   8.83697813e-01,\n",
       "         8.83697813e-01,   1.00000000e+00])"
      ]
     },
     "execution_count": 180,
     "metadata": {},
     "output_type": "execute_result"
    }
   ],
   "source": [
    "fpr"
   ]
  },
  {
   "cell_type": "code",
   "execution_count": 181,
   "metadata": {
    "ExecuteTime": {
     "end_time": "2018-08-12T15:10:10.382098Z",
     "start_time": "2018-08-12T15:10:10.375115Z"
    }
   },
   "outputs": [
    {
     "data": {
      "text/plain": [
       "array([ 0.00840336,  0.03361345,  0.03361345,  0.04201681,  0.04201681,\n",
       "        0.08403361,  0.08403361,  0.09243697,  0.09243697,  0.10084034,\n",
       "        0.10084034,  0.11764706,  0.11764706,  0.12605042,  0.12605042,\n",
       "        0.13445378,  0.13445378,  0.14285714,  0.14285714,  0.18487395,\n",
       "        0.18487395,  0.22689076,  0.22689076,  0.31932773,  0.31932773,\n",
       "        0.35294118,  0.35294118,  0.39495798,  0.39495798,  0.41176471,\n",
       "        0.41176471,  0.43697479,  0.43697479,  0.47058824,  0.47058824,\n",
       "        0.51260504,  0.51260504,  0.5210084 ,  0.5210084 ,  0.56302521,\n",
       "        0.56302521,  0.58823529,  0.58823529,  0.61344538,  0.61344538,\n",
       "        0.62184874,  0.62184874,  0.6302521 ,  0.6302521 ,  0.63865546,\n",
       "        0.63865546,  0.64705882,  0.64705882,  0.65546218,  0.65546218,\n",
       "        0.67226891,  0.67226891,  0.69747899,  0.69747899,  0.71428571,\n",
       "        0.71428571,  0.72268908,  0.72268908,  0.74789916,  0.74789916,\n",
       "        0.78151261,  0.78151261,  0.78991597,  0.78991597,  0.79831933,\n",
       "        0.79831933,  0.81512605,  0.81512605,  0.82352941,  0.82352941,\n",
       "        0.83193277,  0.83193277,  0.8487395 ,  0.8487395 ,  0.85714286,\n",
       "        0.85714286,  0.86554622,  0.86554622,  0.87394958,  0.87394958,\n",
       "        0.88235294,  0.88235294,  0.8907563 ,  0.8907563 ,  0.89915966,\n",
       "        0.89915966,  0.91596639,  0.91596639,  0.92436975,  0.92436975,\n",
       "        0.93277311,  0.93277311,  0.94117647,  0.94117647,  0.94957983,\n",
       "        0.94957983,  0.95798319,  0.95798319,  0.96638655,  0.96638655,\n",
       "        0.97478992,  0.97478992,  0.98319328,  0.98319328,  0.99159664,\n",
       "        0.99159664,  1.        ,  1.        ])"
      ]
     },
     "execution_count": 181,
     "metadata": {},
     "output_type": "execute_result"
    }
   ],
   "source": [
    "tpr"
   ]
  },
  {
   "cell_type": "code",
   "execution_count": 182,
   "metadata": {
    "ExecuteTime": {
     "end_time": "2018-08-12T15:10:17.088098Z",
     "start_time": "2018-08-12T15:10:17.081116Z"
    }
   },
   "outputs": [
    {
     "data": {
      "text/plain": [
       "array([ 1.44298211,  1.40134791,  1.3975429 ,  1.38758898,  1.38278276,\n",
       "        1.32948813,  1.32173581,  1.31930821,  1.29857712,  1.29218234,\n",
       "        1.28110419,  1.24007113,  1.23141424,  1.22893034,  1.22218086,\n",
       "        1.22117673,  1.21100544,  1.20716553,  1.20389872,  1.17476892,\n",
       "        1.16858499,  1.1404164 ,  1.13205005,  1.00772875,  0.98365543,\n",
       "        0.92245317,  0.90045061,  0.82753516,  0.81813586,  0.81091518,\n",
       "        0.78895562,  0.77188417,  0.72928687,  0.70730122,  0.67965771,\n",
       "        0.63392527,  0.60983555,  0.60699679,  0.5902446 ,  0.49677837,\n",
       "        0.44136415,  0.37841613,  0.37840264,  0.35633969,  0.34869415,\n",
       "        0.33740349,  0.32443636,  0.322434  ,  0.28840151,  0.28832802,\n",
       "        0.28204345,  0.27485506,  0.26181866,  0.25769925,  0.18304461,\n",
       "        0.17265065,  0.03882988, -0.06357833, -0.10568517, -0.14421264,\n",
       "       -0.1903719 , -0.19090777, -0.19644623, -0.27448098, -0.30322017,\n",
       "       -0.33140164, -0.34277311, -0.34360853, -0.34502207, -0.35126657,\n",
       "       -0.38382677, -0.42752798, -0.48846048, -0.55570705, -0.59554063,\n",
       "       -0.60423923, -0.62468297, -0.63534724, -0.63563919, -0.64092059,\n",
       "       -0.66060527, -0.67080022, -0.67552762, -0.69223673, -0.70204859,\n",
       "       -0.71691405, -0.72529245, -0.72699495, -0.85716671, -0.85929669,\n",
       "       -0.86192724, -0.87225156, -0.94969458, -0.95030079, -0.96179468,\n",
       "       -0.96370524, -1.00546194, -1.00547503, -1.05369724, -1.05386253,\n",
       "       -1.06276592, -1.06295117, -1.08332671, -1.08354211, -1.13952112,\n",
       "       -1.13997975, -1.15285734, -1.15307533, -1.15810707, -1.15814802,\n",
       "       -1.21931534, -1.21980763, -1.59422089])"
      ]
     },
     "execution_count": 182,
     "metadata": {},
     "output_type": "execute_result"
    }
   ],
   "source": [
    "thresholds"
   ]
  },
  {
   "cell_type": "code",
   "execution_count": 183,
   "metadata": {
    "ExecuteTime": {
     "end_time": "2018-08-12T15:11:25.260280Z",
     "start_time": "2018-08-12T15:11:25.253288Z"
    }
   },
   "outputs": [
    {
     "name": "stdout",
     "output_type": "stream",
     "text": [
      "length of fpr: 113\n",
      "length of tpr: 113\n",
      "length of thresholds: 113\n"
     ]
    }
   ],
   "source": [
    "print(\"length of fpr: {}\".format(len(fpr)))\n",
    "print(\"length of tpr: {}\".format(len(tpr)))\n",
    "print(\"length of thresholds: {}\".format(len(thresholds)))"
   ]
  },
  {
   "cell_type": "code",
   "execution_count": 185,
   "metadata": {
    "ExecuteTime": {
     "end_time": "2018-08-12T15:14:42.400569Z",
     "start_time": "2018-08-12T15:14:42.283878Z"
    }
   },
   "outputs": [
    {
     "data": {
      "image/png": "[encoded data removed]",
      "text/plain": [
       "<Figure size 720x432 with 1 Axes>"
      ]
     },
     "metadata": {},
     "output_type": "display_data"
    }
   ],
   "source": [
    "plt.figure(figsize=(10, 6))\n",
    "plt.plot(fpr, tpr, label=\"ROC curve\")\n",
    "# 0是decision_function的默认阈值，找到最近0的阈值\n",
    "close2zero = np.argmin(np.abs(thresholds))\n",
    "plt.plot(fpr[close2zero], tpr[close2zero], \"ro\", markersize=10,\n",
    "         mew=2, label=\"svc threshold zero\", fillstyle=\"none\")\n",
    "plt.legend(loc=\"best\")\n",
    "plt.xlim(0.0, 1.)\n",
    "plt.ylim(0.0, 1.0)\n",
    "plt.xlabel(\"FPR\", fontsize=14)\n",
    "plt.ylabel(\"TPR(recall)\", fontsize=14)\n",
    "plt.show()"
   ]
  },
  {
   "cell_type": "markdown",
   "metadata": {},
   "source": [
    "**理想的ROC曲线要靠近左上角：分类器的准确率很高，同时保证假正类率（FPR）很低。**\n",
    "\n",
    "最接近左上角的点可能是比默认选择更好的工作点。\n",
    "\n",
    "同样，不应该在测试集上选择阈值，而是应该在单独的验证集上选择。"
   ]
  },
  {
   "cell_type": "markdown",
   "metadata": {
    "ExecuteTime": {
     "end_time": "2018-08-12T15:22:42.758902Z",
     "start_time": "2018-08-12T15:22:42.753884Z"
    }
   },
   "source": [
    "对比SVC和随机森林："
   ]
  },
  {
   "cell_type": "code",
   "execution_count": 188,
   "metadata": {
    "ExecuteTime": {
     "end_time": "2018-08-12T15:29:04.493290Z",
     "start_time": "2018-08-12T15:29:04.327736Z"
    }
   },
   "outputs": [
    {
     "data": {
      "image/png": "[encoded data removed]",
      "text/plain": [
       "<Figure size 720x432 with 1 Axes>"
      ]
     },
     "metadata": {},
     "output_type": "display_data"
    }
   ],
   "source": [
    "# 随机森林的ROC\n",
    "fpr_rf, tpr_rf, thresholds_rf = roc_curve(\n",
    "    y_test, rf_clf.predict_proba(X_test)[:, 1])\n",
    "\n",
    "plt.figure(figsize=(10, 6))\n",
    "plt.plot(fpr, tpr, \"r-\", label=\"SVC ROC curve\")\n",
    "plt.plot(fpr_rf, tpr_rf, \"b--\", label=\"RF ROC curve\")\n",
    "\n",
    "# 0是decision_function的默认阈值，找到最近0的阈值\n",
    "close2zero = np.argmin(np.abs(thresholds))\n",
    "plt.plot(fpr[close2zero], tpr[close2zero], \"ro\", markersize=10,\n",
    "         mew=2, label=\"svc threshold zero\", fillstyle=\"none\")\n",
    "# 0.5是predict_proba的默认阈值，找打最接近0.5的阈值\n",
    "close_default_rf = np.argmin(np.abs(thresholds_rf - 0.5))\n",
    "plt.plot(fpr_rf[close2zero], tpr_rf[close2zero], \"bo\", markersize=10,\n",
    "         mew=2, label=\"RF threshold 0.5\", fillstyle=\"none\")\n",
    "plt.legend(loc=\"best\", fontsize=\"large\")\n",
    "plt.xlim(0.0, 1.)\n",
    "plt.ylim(0.0, 1.0)\n",
    "plt.xlabel(\"FPR\", fontsize=14)\n",
    "plt.ylabel(\"TPR(recall)\", fontsize=14)\n",
    "plt.show()"
   ]
  },
  {
   "cell_type": "markdown",
   "metadata": {},
   "source": [
    "**用AUC（ROC曲线下的面积）来总结ROC曲线**："
   ]
  },
  {
   "cell_type": "code",
   "execution_count": 191,
   "metadata": {
    "ExecuteTime": {
     "end_time": "2018-08-12T15:34:00.841663Z",
     "start_time": "2018-08-12T15:34:00.807720Z"
    }
   },
   "outputs": [
    {
     "name": "stdout",
     "output_type": "stream",
     "text": [
      "AUC for RF: 0.9305\n",
      "AUC for SVC: 0.9358\n"
     ]
    }
   ],
   "source": [
    "from sklearn.metrics import roc_auc_score\n",
    "\n",
    "auc_rf = roc_auc_score(y_test, rf_clf.predict_proba(X_test)[:, 1])\n",
    "auc_svc = roc_auc_score(y_test, svc.decision_function(X_test))\n",
    "\n",
    "print(\"AUC for RF: {:.4f}\".format(auc_rf))\n",
    "print(\"AUC for SVC: {:.4f}\".format(auc_svc))"
   ]
  },
  {
   "cell_type": "code",
   "execution_count": null,
   "metadata": {},
   "outputs": [],
   "source": []
  }
 ],
 "metadata": {
  "kernelspec": {
   "display_name": "Python 3",
   "language": "python",
   "name": "python3"
  },
  "language_info": {
   "codemirror_mode": {
    "name": "ipython",
    "version": 3
   },
   "file_extension": ".py",
   "mimetype": "text/x-python",
   "name": "python",
   "nbconvert_exporter": "python",
   "pygments_lexer": "ipython3",
   "version": "3.6.4"
  },
  "latex_envs": {
   "LaTeX_envs_menu_present": true,
   "autoclose": false,
   "autocomplete": true,
   "bibliofile": "biblio.bib",
   "cite_by": "apalike",
   "current_citInitial": 1,
   "eqLabelWithNumbers": true,
   "eqNumInitial": 1,
   "hotkeys": {
    "equation": "Ctrl-E",
    "itemize": "Ctrl-I"
   },
   "labels_anchors": false,
   "latex_user_defs": false,
   "report_style_numbering": false,
   "user_envs_cfg": false
  },
  "nbTranslate": {
   "displayLangs": [
    "*"
   ],
   "hotkey": "alt-t",
   "langInMainMenu": true,
   "sourceLang": "en",
   "targetLang": "fr",
   "useGoogleTranslate": true
  }
 },
 "nbformat": 4,
 "nbformat_minor": 2
}
