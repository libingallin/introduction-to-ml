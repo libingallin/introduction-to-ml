{
 "cells": [
  {
   "cell_type": "code",
   "execution_count": 1,
   "metadata": {
    "ExecuteTime": {
     "end_time": "2018-08-10T22:39:29.703250Z",
     "start_time": "2018-08-10T22:39:28.775666Z"
    }
   },
   "outputs": [],
   "source": [
    "# Common imports\n",
    "import pandas as pd\n",
    "import numpy as np\n",
    "import scipy as sp\n",
    "\n",
    "# To plot pretty figures\n",
    "%matplotlib inline\n",
    "import matplotlib\n",
    "import matplotlib.pyplot as plt\n",
    "from matplotlib.colors import ListedColormap\n",
    "\n",
    "cm2 = ListedColormap(['#0000aa', '#ff2020'])\n",
    "cm3 = ListedColormap(['#0000aa', '#ff2020', '#50ff50'])\n",
    "\n",
    "plt.rcParams['axes.labelsize'] = 14\n",
    "plt.rcParams['xtick.labelsize'] = 12\n",
    "plt.rcParams['ytick.labelsize'] = 12\n",
    "\n",
    "import mglearn"
   ]
  },
  {
   "cell_type": "markdown",
   "metadata": {},
   "source": [
    "在两个方面评估模型：\n",
    "1. **交叉验证**：一种更可靠的评估泛化性能的方法\n",
    "2. 评估分类和回归性能的方法：是在默认度量（`score`给出的精度和$R^2$）之外的方法。\n",
    "\n",
    "**网格搜索**：一种调节监督模型参数以获得最佳泛化性能的有效方法。"
   ]
  },
  {
   "cell_type": "markdown",
   "metadata": {},
   "source": [
    "## 5.1 交叉验证（cross-validation, CV）"
   ]
  },
  {
   "cell_type": "markdown",
   "metadata": {},
   "source": [
    "CV的目的只是评估给定算法在特定数据集上训练后的泛化性能好坏。不是一种构建可应用于新数据的模型的方法，不会返回一个模型。"
   ]
  },
  {
   "cell_type": "code",
   "execution_count": 2,
   "metadata": {
    "ExecuteTime": {
     "end_time": "2018-08-10T23:24:36.376098Z",
     "start_time": "2018-08-10T23:24:36.371080Z"
    }
   },
   "outputs": [],
   "source": [
    "from sklearn.datasets import load_iris\n",
    "from sklearn.linear_model import LogisticRegression\n",
    "from sklearn.model_selection import cross_val_score"
   ]
  },
  {
   "cell_type": "code",
   "execution_count": 3,
   "metadata": {
    "ExecuteTime": {
     "end_time": "2018-08-10T23:24:52.565306Z",
     "start_time": "2018-08-10T23:24:52.556299Z"
    }
   },
   "outputs": [],
   "source": [
    "iris = load_iris()"
   ]
  },
  {
   "cell_type": "code",
   "execution_count": 4,
   "metadata": {
    "ExecuteTime": {
     "end_time": "2018-08-10T23:24:55.803214Z",
     "start_time": "2018-08-10T23:24:55.796261Z"
    }
   },
   "outputs": [
    {
     "data": {
      "text/plain": [
       "(150, 4)"
      ]
     },
     "execution_count": 4,
     "metadata": {},
     "output_type": "execute_result"
    }
   ],
   "source": [
    "iris.data.shape"
   ]
  },
  {
   "cell_type": "code",
   "execution_count": 5,
   "metadata": {
    "ExecuteTime": {
     "end_time": "2018-08-10T23:25:06.183304Z",
     "start_time": "2018-08-10T23:25:06.177344Z"
    }
   },
   "outputs": [
    {
     "data": {
      "text/plain": [
       "array([0, 0, 0, 0, 0, 0, 0, 0, 0, 0, 0, 0, 0, 0, 0, 0, 0, 0, 0, 0, 0, 0, 0,\n",
       "       0, 0, 0, 0, 0, 0, 0, 0, 0, 0, 0, 0, 0, 0, 0, 0, 0, 0, 0, 0, 0, 0, 0,\n",
       "       0, 0, 0, 0, 1, 1, 1, 1, 1, 1, 1, 1, 1, 1, 1, 1, 1, 1, 1, 1, 1, 1, 1,\n",
       "       1, 1, 1, 1, 1, 1, 1, 1, 1, 1, 1, 1, 1, 1, 1, 1, 1, 1, 1, 1, 1, 1, 1,\n",
       "       1, 1, 1, 1, 1, 1, 1, 1, 2, 2, 2, 2, 2, 2, 2, 2, 2, 2, 2, 2, 2, 2, 2,\n",
       "       2, 2, 2, 2, 2, 2, 2, 2, 2, 2, 2, 2, 2, 2, 2, 2, 2, 2, 2, 2, 2, 2, 2,\n",
       "       2, 2, 2, 2, 2, 2, 2, 2, 2, 2, 2, 2])"
      ]
     },
     "execution_count": 5,
     "metadata": {},
     "output_type": "execute_result"
    }
   ],
   "source": [
    "iris.target"
   ]
  },
  {
   "cell_type": "code",
   "execution_count": 6,
   "metadata": {
    "ExecuteTime": {
     "end_time": "2018-08-10T23:25:32.145579Z",
     "start_time": "2018-08-10T23:25:32.142607Z"
    }
   },
   "outputs": [],
   "source": [
    "logistic_reg = LogisticRegression(random_state=42)"
   ]
  },
  {
   "cell_type": "markdown",
   "metadata": {},
   "source": [
    "默认情况下，执行3折交叉验证（即`cv=3`），返回3个精度值:"
   ]
  },
  {
   "cell_type": "code",
   "execution_count": 8,
   "metadata": {
    "ExecuteTime": {
     "end_time": "2018-08-10T23:26:46.346371Z",
     "start_time": "2018-08-10T23:26:46.333376Z"
    }
   },
   "outputs": [
    {
     "data": {
      "text/plain": [
       "array([ 0.96078431,  0.92156863,  0.95833333])"
      ]
     },
     "execution_count": 8,
     "metadata": {},
     "output_type": "execute_result"
    }
   ],
   "source": [
    "cross_val_score(logistic_reg, iris.data, iris.target)  # default cv=3"
   ]
  },
  {
   "cell_type": "code",
   "execution_count": 11,
   "metadata": {
    "ExecuteTime": {
     "end_time": "2018-08-10T23:29:07.377488Z",
     "start_time": "2018-08-10T23:29:07.363520Z"
    }
   },
   "outputs": [],
   "source": [
    "scores = cross_val_score(logistic_reg, iris.data, iris.target, cv=5)"
   ]
  },
  {
   "cell_type": "code",
   "execution_count": 12,
   "metadata": {
    "ExecuteTime": {
     "end_time": "2018-08-10T23:29:36.031392Z",
     "start_time": "2018-08-10T23:29:36.014436Z"
    }
   },
   "outputs": [
    {
     "name": "stdout",
     "output_type": "stream",
     "text": [
      "CV score: [ 1.          0.96666667  0.93333333  0.9         1.        ]\n"
     ]
    }
   ],
   "source": [
    "print(\"CV score: {}\".format(scores))"
   ]
  },
  {
   "cell_type": "markdown",
   "metadata": {
    "ExecuteTime": {
     "end_time": "2018-08-10T23:28:30.891377Z",
     "start_time": "2018-08-10T23:28:30.885393Z"
    }
   },
   "source": [
    "**总结CV精度的一种常用方法是计算平均值：**"
   ]
  },
  {
   "cell_type": "code",
   "execution_count": 13,
   "metadata": {
    "ExecuteTime": {
     "end_time": "2018-08-10T23:29:52.158061Z",
     "start_time": "2018-08-10T23:29:52.155087Z"
    }
   },
   "outputs": [
    {
     "name": "stdout",
     "output_type": "stream",
     "text": [
      "Average cv score: 0.9600\n"
     ]
    }
   ],
   "source": [
    "print(\"Average cv score: {:.4f}\".format(scores.mean()))"
   ]
  },
  {
   "cell_type": "markdown",
   "metadata": {},
   "source": [
    "**折与折之间的精度有较大变化（90-100），这可能意味着模型强烈依赖于将某个折用于训练，但也可能是数据集的量太小。**"
   ]
  },
  {
   "cell_type": "markdown",
   "metadata": {},
   "source": [
    "对数据进行多次划分，还可以提供模型的对训练集选择的敏感性信息。上述精度在90到100，它告诉我们将模型应用于新数据时在最坏情况和最好情况下的可能表现。"
   ]
  },
  {
   "cell_type": "markdown",
   "metadata": {},
   "source": [
    "缺点：增加了计算成本。需要训练k个模型，所以交叉验证的速度比数据的单次划分大约慢k倍。"
   ]
  },
  {
   "cell_type": "markdown",
   "metadata": {},
   "source": [
    "### 5.1 分层k折CV和其他交叉验证策略"
   ]
  },
  {
   "cell_type": "markdown",
   "metadata": {},
   "source": [
    "从数据的前k分之一划分，可能并不好："
   ]
  },
  {
   "cell_type": "code",
   "execution_count": 14,
   "metadata": {
    "ExecuteTime": {
     "end_time": "2018-08-11T01:30:19.141498Z",
     "start_time": "2018-08-11T01:30:19.134540Z"
    }
   },
   "outputs": [
    {
     "data": {
      "text/plain": [
       "array([0, 0, 0, 0, 0, 0, 0, 0, 0, 0, 0, 0, 0, 0, 0, 0, 0, 0, 0, 0, 0, 0, 0,\n",
       "       0, 0, 0, 0, 0, 0, 0, 0, 0, 0, 0, 0, 0, 0, 0, 0, 0, 0, 0, 0, 0, 0, 0,\n",
       "       0, 0, 0, 0, 1, 1, 1, 1, 1, 1, 1, 1, 1, 1, 1, 1, 1, 1, 1, 1, 1, 1, 1,\n",
       "       1, 1, 1, 1, 1, 1, 1, 1, 1, 1, 1, 1, 1, 1, 1, 1, 1, 1, 1, 1, 1, 1, 1,\n",
       "       1, 1, 1, 1, 1, 1, 1, 1, 2, 2, 2, 2, 2, 2, 2, 2, 2, 2, 2, 2, 2, 2, 2,\n",
       "       2, 2, 2, 2, 2, 2, 2, 2, 2, 2, 2, 2, 2, 2, 2, 2, 2, 2, 2, 2, 2, 2, 2,\n",
       "       2, 2, 2, 2, 2, 2, 2, 2, 2, 2, 2, 2])"
      ]
     },
     "execution_count": 14,
     "metadata": {},
     "output_type": "execute_result"
    }
   ],
   "source": [
    "iris.target"
   ]
  },
  {
   "cell_type": "markdown",
   "metadata": {},
   "source": [
    "Skl在**分类问题**中使用**分层K折交叉验证（stratified k-fold cross-validation）**。划分数据时使每个折中类别之间的比例与整个数据集中的比例相同。\n",
    "\n",
    "在**回归问题**中默认使用标准k折交叉验证。"
   ]
  },
  {
   "cell_type": "markdown",
   "metadata": {},
   "source": [
    "#### 5.1.1 对交叉验证的更多控制"
   ]
  },
  {
   "cell_type": "markdown",
   "metadata": {},
   "source": [
    "允许提供一个**交叉验证分离器（cross-validation splitter）**作为`cv`参数，来对数据划分过程进行更精细的控制。"
   ]
  },
  {
   "cell_type": "markdown",
   "metadata": {},
   "source": [
    "+ **k-fold**"
   ]
  },
  {
   "cell_type": "markdown",
   "metadata": {},
   "source": [
    "`KFold`没有以'_'结尾的属性，只有`get_n_splits([X, y, groups])`和`split([X, y, groups])`方法。"
   ]
  },
  {
   "cell_type": "code",
   "execution_count": 44,
   "metadata": {
    "ExecuteTime": {
     "end_time": "2018-08-11T02:59:10.225560Z",
     "start_time": "2018-08-11T02:59:10.215586Z"
    }
   },
   "outputs": [
    {
     "data": {
      "text/plain": [
       "KFold(n_splits=2, random_state=42, shuffle=False)"
      ]
     },
     "execution_count": 44,
     "metadata": {},
     "output_type": "execute_result"
    }
   ],
   "source": [
    "from sklearn.model_selection import KFold\n",
    "\n",
    "X = np.array([[1, 2], [3, 4], [5, 6], [7, 8]])\n",
    "y = np.array(list(\"abcd\"))\n",
    "\n",
    "kfold = KFold(n_splits=2, random_state=42)\n",
    "kfold"
   ]
  },
  {
   "cell_type": "code",
   "execution_count": 45,
   "metadata": {
    "ExecuteTime": {
     "end_time": "2018-08-11T02:59:10.898769Z",
     "start_time": "2018-08-11T02:59:10.892785Z"
    }
   },
   "outputs": [
    {
     "data": {
      "text/plain": [
       "2"
      ]
     },
     "execution_count": 45,
     "metadata": {},
     "output_type": "execute_result"
    }
   ],
   "source": [
    "# Returns the number of splitting iterations in the cross-validator\n",
    "kfold.get_n_splits(X)"
   ]
  },
  {
   "cell_type": "code",
   "execution_count": 46,
   "metadata": {
    "ExecuteTime": {
     "end_time": "2018-08-11T02:59:12.665265Z",
     "start_time": "2018-08-11T02:59:12.660278Z"
    }
   },
   "outputs": [],
   "source": [
    "# Generate indices to split data into training and test set\n",
    "train_indices, test_indices = kfold.split(X, y)   # 有y"
   ]
  },
  {
   "cell_type": "code",
   "execution_count": 47,
   "metadata": {
    "ExecuteTime": {
     "end_time": "2018-08-11T03:00:14.873054Z",
     "start_time": "2018-08-11T03:00:14.867099Z"
    }
   },
   "outputs": [
    {
     "name": "stdout",
     "output_type": "stream",
     "text": [
      "Train index:  [2 3] Test index:  [0 1]\n",
      "Train index:  [0 1] Test index:  [2 3]\n"
     ]
    }
   ],
   "source": [
    "for train_index, test_index in kfold.split(X):\n",
    "    print(\"Train index: \", train_index, \"Test index: \", test_index)"
   ]
  },
  {
   "cell_type": "markdown",
   "metadata": {},
   "source": [
    "将`KFold`作为`cv`参数传入`cross_val_score`："
   ]
  },
  {
   "cell_type": "code",
   "execution_count": 35,
   "metadata": {
    "ExecuteTime": {
     "end_time": "2018-08-11T02:00:17.426093Z",
     "start_time": "2018-08-11T02:00:17.412153Z"
    }
   },
   "outputs": [
    {
     "data": {
      "text/plain": [
       "array([ 1.        ,  0.93333333,  0.43333333,  0.96666667,  0.43333333])"
      ]
     },
     "execution_count": 35,
     "metadata": {},
     "output_type": "execute_result"
    }
   ],
   "source": [
    "kfold = KFold(n_splits=5, random_state=42)\n",
    "\n",
    "cross_val_score(logistic_reg, iris.data, iris.target, cv=kfold)"
   ]
  },
  {
   "cell_type": "code",
   "execution_count": 36,
   "metadata": {
    "ExecuteTime": {
     "end_time": "2018-08-11T02:00:45.625159Z",
     "start_time": "2018-08-11T02:00:45.612193Z"
    }
   },
   "outputs": [
    {
     "data": {
      "text/plain": [
       "array([ 0.,  0.,  0.])"
      ]
     },
     "execution_count": 36,
     "metadata": {},
     "output_type": "execute_result"
    }
   ],
   "source": [
    "kfold = KFold(n_splits=3, random_state=42)\n",
    "\n",
    "cross_val_score(logistic_reg, iris.data, iris.target, cv=kfold)"
   ]
  },
  {
   "cell_type": "markdown",
   "metadata": {},
   "source": [
    "> 这样每一折对应一个类别，因此学不到任何东西。"
   ]
  },
  {
   "cell_type": "markdown",
   "metadata": {},
   "source": [
    "另一种解决方法：将数据打乱来代替分层，以打乱样本按标签的排序。可以通过将`KFold`的`shuffle`参数设为`True`来实现这一点。"
   ]
  },
  {
   "cell_type": "code",
   "execution_count": 37,
   "metadata": {
    "ExecuteTime": {
     "end_time": "2018-08-11T02:06:30.028384Z",
     "start_time": "2018-08-11T02:06:30.016415Z"
    }
   },
   "outputs": [
    {
     "data": {
      "text/plain": [
       "array([ 1.  ,  0.92,  1.  ])"
      ]
     },
     "execution_count": 37,
     "metadata": {},
     "output_type": "execute_result"
    }
   ],
   "source": [
    "kfold = KFold(n_splits=3, shuffle=True, random_state=42)\n",
    "\n",
    "cross_val_score(logistic_reg, iris.data, iris.target, cv=kfold)"
   ]
  },
  {
   "cell_type": "markdown",
   "metadata": {},
   "source": [
    "#### 5.1.2 留一法交叉验证（LearveOneOut, LOO)"
   ]
  },
  {
   "cell_type": "markdown",
   "metadata": {},
   "source": [
    "每折只包含一个样本的K折CV。每次划分，选择一个样本点作为测试集。对大型数据集来说非常耗时，但在小型数据集上有时可以给出更好的估计结果。"
   ]
  },
  {
   "cell_type": "markdown",
   "metadata": {},
   "source": [
    "将`LeaveOneOut`作为`cv`参数传入`cross_val_score`："
   ]
  },
  {
   "cell_type": "code",
   "execution_count": 38,
   "metadata": {
    "ExecuteTime": {
     "end_time": "2018-08-11T02:38:23.008344Z",
     "start_time": "2018-08-11T02:38:22.806902Z"
    }
   },
   "outputs": [
    {
     "name": "stdout",
     "output_type": "stream",
     "text": [
      "Number of cv iterations: 150\n",
      "Mean accuracy: 0.9533\n"
     ]
    }
   ],
   "source": [
    "from sklearn.model_selection import LeaveOneOut\n",
    "\n",
    "loo = LeaveOneOut()\n",
    "scores = cross_val_score(logistic_reg, iris.data, iris.target, cv=loo)\n",
    "\n",
    "print(\"Number of cv iterations: {}\".format(len(scores)))\n",
    "print(\"Mean accuracy: {:.4f}\".format(scores.mean()))"
   ]
  },
  {
   "cell_type": "code",
   "execution_count": 40,
   "metadata": {
    "ExecuteTime": {
     "end_time": "2018-08-11T02:41:33.927161Z",
     "start_time": "2018-08-11T02:41:33.921197Z"
    }
   },
   "outputs": [
    {
     "data": {
      "text/plain": [
       "150"
      ]
     },
     "execution_count": 40,
     "metadata": {},
     "output_type": "execute_result"
    }
   ],
   "source": [
    "loo.get_n_splits(iris.data)"
   ]
  },
  {
   "cell_type": "markdown",
   "metadata": {},
   "source": [
    "#### 5.1.3 打乱划分交叉验证（ShufflSplit）"
   ]
  },
  {
   "cell_type": "markdown",
   "metadata": {},
   "source": [
    "每次划分为训练集取样`train_size`个点，为测试集取样`test_size`个（不相交）点。将这一划分重复n_inter次。\n",
    "\n",
    "`train_size`和`test_size`可以和不为1，允许每次迭代使用部分数据。"
   ]
  },
  {
   "cell_type": "code",
   "execution_count": 49,
   "metadata": {
    "ExecuteTime": {
     "end_time": "2018-08-11T03:02:10.721677Z",
     "start_time": "2018-08-11T03:02:10.712706Z"
    }
   },
   "outputs": [
    {
     "data": {
      "text/plain": [
       "ShuffleSplit(n_splits=3, random_state=42, test_size=0.25, train_size=0.5)"
      ]
     },
     "execution_count": 49,
     "metadata": {},
     "output_type": "execute_result"
    }
   ],
   "source": [
    "from sklearn.model_selection import ShuffleSplit\n",
    "\n",
    "X = np.array([[1, 2], [3, 4], [5, 6], [7, 8]])\n",
    "y = np.array([1, 2, 1, 2])\n",
    "\n",
    "shuffle_split = ShuffleSplit(n_splits=3, test_size=0.25, train_size=0.5,\n",
    "                             random_state=42)\n",
    "shuffle_split"
   ]
  },
  {
   "cell_type": "code",
   "execution_count": 50,
   "metadata": {
    "ExecuteTime": {
     "end_time": "2018-08-11T03:02:11.213439Z",
     "start_time": "2018-08-11T03:02:11.208446Z"
    }
   },
   "outputs": [
    {
     "data": {
      "text/plain": [
       "3"
      ]
     },
     "execution_count": 50,
     "metadata": {},
     "output_type": "execute_result"
    }
   ],
   "source": [
    "shuffle_split.get_n_splits()"
   ]
  },
  {
   "cell_type": "code",
   "execution_count": 51,
   "metadata": {
    "ExecuteTime": {
     "end_time": "2018-08-11T03:02:14.048978Z",
     "start_time": "2018-08-11T03:02:14.041993Z"
    }
   },
   "outputs": [
    {
     "name": "stdout",
     "output_type": "stream",
     "text": [
      "Train index:  [3 0] Test index:  [1]\n",
      "Train index:  [3 0] Test index:  [1]\n",
      "Train index:  [0 1] Test index:  [3]\n"
     ]
    }
   ],
   "source": [
    "for train_index, test_index in shuffle_split.split(X):\n",
    "    print(\"Train index: \", train_index, \"Test index: \", test_index)"
   ]
  },
  {
   "cell_type": "markdown",
   "metadata": {},
   "source": [
    "将`ShuffleSplit`作为`cv`参数传入`cross_val_score`："
   ]
  },
  {
   "cell_type": "code",
   "execution_count": 52,
   "metadata": {
    "ExecuteTime": {
     "end_time": "2018-08-11T03:04:02.631487Z",
     "start_time": "2018-08-11T03:04:02.613557Z"
    }
   },
   "outputs": [
    {
     "data": {
      "text/plain": [
       "array([ 0.97333333,  0.94666667,  0.85333333,  0.92      ,  0.92      ,\n",
       "        0.96      ,  0.89333333,  0.88      ,  0.94666667,  0.98666667])"
      ]
     },
     "execution_count": 52,
     "metadata": {},
     "output_type": "execute_result"
    }
   ],
   "source": [
    "shuffle_split = ShuffleSplit(n_splits=10, test_size=0.5, random_state=42)\n",
    "\n",
    "cross_val_score(logistic_reg, iris.data, iris.target, cv=shuffle_split)"
   ]
  },
  {
   "cell_type": "markdown",
   "metadata": {},
   "source": [
    "#### 5.1.4 分组交叉验证"
   ]
  },
  {
   "cell_type": "code",
   "execution_count": 53,
   "metadata": {
    "ExecuteTime": {
     "end_time": "2018-08-11T03:28:41.613339Z",
     "start_time": "2018-08-11T03:28:41.597355Z"
    }
   },
   "outputs": [
    {
     "data": {
      "text/plain": [
       "array([ 0.75      ,  0.8       ,  0.66666667])"
      ]
     },
     "execution_count": 53,
     "metadata": {},
     "output_type": "execute_result"
    }
   ],
   "source": [
    "from sklearn.model_selection import GroupKFold\n",
    "from sklearn.datasets import make_blobs\n",
    "\n",
    "X, y = make_blobs(n_samples=12, random_state=0)\n",
    "groups = [0, 0, 0, 1, 1, 1, 1, 2, 2, 3, 3, 3]\n",
    "\n",
    "cross_val_score(logistic_reg, X, y, groups, cv=GroupKFold(n_splits=3))"
   ]
  },
  {
   "cell_type": "markdown",
   "metadata": {},
   "source": [
    "## 5.2 网格搜索"
   ]
  },
  {
   "cell_type": "markdown",
   "metadata": {},
   "source": [
    "在尝试调参之前，重要的是要理解参数的含义。\n",
    "\n",
    "**网格搜索（grid search）**：主要是尝试关心的参数的所有可能组合。"
   ]
  },
  {
   "cell_type": "markdown",
   "metadata": {},
   "source": [
    "`GridSearchCV`常用的调参方法。"
   ]
  },
  {
   "cell_type": "code",
   "execution_count": 54,
   "metadata": {
    "ExecuteTime": {
     "end_time": "2018-08-11T11:37:01.984936Z",
     "start_time": "2018-08-11T11:37:01.968972Z"
    }
   },
   "outputs": [],
   "source": [
    "param_grid = {\"C\": [0.001, 0.01, 0.1, 1, 10, 100],\n",
    "              \"gamma\": [0.001, 0.01, 0.1, 1, 10, 100]}"
   ]
  },
  {
   "cell_type": "code",
   "execution_count": 67,
   "metadata": {
    "ExecuteTime": {
     "end_time": "2018-08-11T11:54:57.805426Z",
     "start_time": "2018-08-11T11:54:57.800440Z"
    }
   },
   "outputs": [],
   "source": [
    "from sklearn.model_selection import GridSearchCV\n",
    "from sklearn.svm import SVC\n",
    "\n",
    "grid_serch = GridSearchCV(SVC(), param_grid=param_grid, cv=5, n_jobs=-1,\n",
    "                          return_train_score=False)"
   ]
  },
  {
   "cell_type": "code",
   "execution_count": 68,
   "metadata": {
    "ExecuteTime": {
     "end_time": "2018-08-11T11:54:59.933731Z",
     "start_time": "2018-08-11T11:54:59.929732Z"
    }
   },
   "outputs": [],
   "source": [
    "from sklearn.model_selection import train_test_split\n",
    "\n",
    "X_train, X_test, y_train, y_test = train_test_split(iris.data, iris.target,\n",
    "                                                    random_state=0)"
   ]
  },
  {
   "cell_type": "markdown",
   "metadata": {},
   "source": [
    "调用`fit`时，会对`param_grid`指定的每种参数组合都运行交叉验证："
   ]
  },
  {
   "cell_type": "code",
   "execution_count": 69,
   "metadata": {
    "ExecuteTime": {
     "end_time": "2018-08-11T11:55:03.806769Z",
     "start_time": "2018-08-11T11:55:01.211302Z"
    }
   },
   "outputs": [
    {
     "data": {
      "text/plain": [
       "GridSearchCV(cv=5, error_score='raise',\n",
       "       estimator=SVC(C=1.0, cache_size=200, class_weight=None, coef0=0.0,\n",
       "  decision_function_shape='ovr', degree=3, gamma='auto', kernel='rbf',\n",
       "  max_iter=-1, probability=False, random_state=None, shrinking=True,\n",
       "  tol=0.001, verbose=False),\n",
       "       fit_params=None, iid=True, n_jobs=-1,\n",
       "       param_grid={'C': [0.001, 0.01, 0.1, 1, 10, 100], 'gamma': [0.001, 0.01, 0.1, 1, 10, 100]},\n",
       "       pre_dispatch='2*n_jobs', refit=True, return_train_score=False,\n",
       "       scoring=None, verbose=0)"
      ]
     },
     "execution_count": 69,
     "metadata": {},
     "output_type": "execute_result"
    }
   ],
   "source": [
    "grid_serch.fit(X_train, y_train)"
   ]
  },
  {
   "cell_type": "markdown",
   "metadata": {},
   "source": [
    "**拟合的`GridSearchCV`对象不仅会搜索最佳参数，还会利用得到最佳交叉验证性能的参数在整个训练集上自动拟合一个新模型。**"
   ]
  },
  {
   "cell_type": "markdown",
   "metadata": {},
   "source": [
    "用`predict`和`score`方法来访问重新训练过的模型。"
   ]
  },
  {
   "cell_type": "code",
   "execution_count": 70,
   "metadata": {
    "ExecuteTime": {
     "end_time": "2018-08-11T11:55:06.591805Z",
     "start_time": "2018-08-11T11:55:06.583840Z"
    }
   },
   "outputs": [
    {
     "data": {
      "text/plain": [
       "0.97368421052631582"
      ]
     },
     "execution_count": 70,
     "metadata": {},
     "output_type": "execute_result"
    }
   ],
   "source": [
    "grid_serch.score(X_test, y_test)"
   ]
  },
  {
   "cell_type": "markdown",
   "metadata": {},
   "source": [
    "> 没有使用测试集来选择参数。"
   ]
  },
  {
   "cell_type": "code",
   "execution_count": 71,
   "metadata": {
    "ExecuteTime": {
     "end_time": "2018-08-11T11:55:07.767620Z",
     "start_time": "2018-08-11T11:55:07.760639Z"
    }
   },
   "outputs": [
    {
     "data": {
      "text/plain": [
       "SVC(C=100, cache_size=200, class_weight=None, coef0=0.0,\n",
       "  decision_function_shape='ovr', degree=3, gamma=0.01, kernel='rbf',\n",
       "  max_iter=-1, probability=False, random_state=None, shrinking=True,\n",
       "  tol=0.001, verbose=False)"
      ]
     },
     "execution_count": 71,
     "metadata": {},
     "output_type": "execute_result"
    }
   ],
   "source": [
    "# 最佳模型\n",
    "grid_serch.best_estimator_"
   ]
  },
  {
   "cell_type": "code",
   "execution_count": 72,
   "metadata": {
    "ExecuteTime": {
     "end_time": "2018-08-11T11:55:08.992938Z",
     "start_time": "2018-08-11T11:55:08.985963Z"
    }
   },
   "outputs": [
    {
     "data": {
      "text/plain": [
       "{'C': 100, 'gamma': 0.01}"
      ]
     },
     "execution_count": 72,
     "metadata": {},
     "output_type": "execute_result"
    }
   ],
   "source": [
    "# 最佳参数\n",
    "grid_serch.best_params_"
   ]
  },
  {
   "cell_type": "markdown",
   "metadata": {},
   "source": [
    "`GridSearchCV`本身具有`predict`和`score`方法，可以不使用`best_estimator_`来进行预测或评估模型。"
   ]
  },
  {
   "cell_type": "code",
   "execution_count": 73,
   "metadata": {
    "ExecuteTime": {
     "end_time": "2018-08-11T11:55:10.602546Z",
     "start_time": "2018-08-11T11:55:10.597582Z"
    }
   },
   "outputs": [
    {
     "data": {
      "text/plain": [
       "0.9732142857142857"
      ]
     },
     "execution_count": 73,
     "metadata": {},
     "output_type": "execute_result"
    }
   ],
   "source": [
    "# 交叉验证最佳精度\n",
    "grid_serch.best_score_"
   ]
  },
  {
   "cell_type": "markdown",
   "metadata": {},
   "source": [
    "#### 5.2.1 分析交叉验证结果"
   ]
  },
  {
   "cell_type": "markdown",
   "metadata": {},
   "source": [
    "运行网格搜索的成本非常高，所以通常最好从相对比较稀疏且较小的网格开始搜索。然后检查结果，可能也会扩展搜索范围。\n",
    "\n",
    "`grid_search.cv_results_`保存网格搜索的所有结果，是一个字典。"
   ]
  },
  {
   "cell_type": "code",
   "execution_count": 75,
   "metadata": {
    "ExecuteTime": {
     "end_time": "2018-08-11T11:55:23.841609Z",
     "start_time": "2018-08-11T11:55:23.800733Z"
    },
    "scrolled": true
   },
   "outputs": [
    {
     "data": {
      "text/html": [
       "<div>\n",
       "<style scoped>\n",
       "    .dataframe tbody tr th:only-of-type {\n",
       "        vertical-align: middle;\n",
       "    }\n",
       "\n",
       "    .dataframe tbody tr th {\n",
       "        vertical-align: top;\n",
       "    }\n",
       "\n",
       "    .dataframe thead th {\n",
       "        text-align: right;\n",
       "    }\n",
       "</style>\n",
       "<table border=\"1\" class=\"dataframe\">\n",
       "  <thead>\n",
       "    <tr style=\"text-align: right;\">\n",
       "      <th></th>\n",
       "      <th>mean_fit_time</th>\n",
       "      <th>mean_score_time</th>\n",
       "      <th>mean_test_score</th>\n",
       "      <th>param_C</th>\n",
       "      <th>param_gamma</th>\n",
       "      <th>params</th>\n",
       "      <th>rank_test_score</th>\n",
       "      <th>split0_test_score</th>\n",
       "      <th>split1_test_score</th>\n",
       "      <th>split2_test_score</th>\n",
       "      <th>split3_test_score</th>\n",
       "      <th>split4_test_score</th>\n",
       "      <th>std_fit_time</th>\n",
       "      <th>std_score_time</th>\n",
       "      <th>std_test_score</th>\n",
       "    </tr>\n",
       "  </thead>\n",
       "  <tbody>\n",
       "    <tr>\n",
       "      <th>0</th>\n",
       "      <td>0.012500</td>\n",
       "      <td>0.000598</td>\n",
       "      <td>0.366071</td>\n",
       "      <td>0.001</td>\n",
       "      <td>0.001</td>\n",
       "      <td>{'C': 0.001, 'gamma': 0.001}</td>\n",
       "      <td>22</td>\n",
       "      <td>0.375000</td>\n",
       "      <td>0.347826</td>\n",
       "      <td>0.363636</td>\n",
       "      <td>0.363636</td>\n",
       "      <td>0.380952</td>\n",
       "      <td>2.246388e-03</td>\n",
       "      <td>0.000489</td>\n",
       "      <td>0.011371</td>\n",
       "    </tr>\n",
       "    <tr>\n",
       "      <th>1</th>\n",
       "      <td>0.009690</td>\n",
       "      <td>0.000602</td>\n",
       "      <td>0.366071</td>\n",
       "      <td>0.001</td>\n",
       "      <td>0.01</td>\n",
       "      <td>{'C': 0.001, 'gamma': 0.01}</td>\n",
       "      <td>22</td>\n",
       "      <td>0.375000</td>\n",
       "      <td>0.347826</td>\n",
       "      <td>0.363636</td>\n",
       "      <td>0.363636</td>\n",
       "      <td>0.380952</td>\n",
       "      <td>7.282823e-03</td>\n",
       "      <td>0.000492</td>\n",
       "      <td>0.011371</td>\n",
       "    </tr>\n",
       "    <tr>\n",
       "      <th>2</th>\n",
       "      <td>0.000998</td>\n",
       "      <td>0.000599</td>\n",
       "      <td>0.366071</td>\n",
       "      <td>0.001</td>\n",
       "      <td>0.1</td>\n",
       "      <td>{'C': 0.001, 'gamma': 0.1}</td>\n",
       "      <td>22</td>\n",
       "      <td>0.375000</td>\n",
       "      <td>0.347826</td>\n",
       "      <td>0.363636</td>\n",
       "      <td>0.363636</td>\n",
       "      <td>0.380952</td>\n",
       "      <td>2.336015e-07</td>\n",
       "      <td>0.000489</td>\n",
       "      <td>0.011371</td>\n",
       "    </tr>\n",
       "    <tr>\n",
       "      <th>3</th>\n",
       "      <td>0.000996</td>\n",
       "      <td>0.000800</td>\n",
       "      <td>0.366071</td>\n",
       "      <td>0.001</td>\n",
       "      <td>1</td>\n",
       "      <td>{'C': 0.001, 'gamma': 1}</td>\n",
       "      <td>22</td>\n",
       "      <td>0.375000</td>\n",
       "      <td>0.347826</td>\n",
       "      <td>0.363636</td>\n",
       "      <td>0.363636</td>\n",
       "      <td>0.380952</td>\n",
       "      <td>2.219215e-06</td>\n",
       "      <td>0.000400</td>\n",
       "      <td>0.011371</td>\n",
       "    </tr>\n",
       "    <tr>\n",
       "      <th>4</th>\n",
       "      <td>0.001796</td>\n",
       "      <td>0.000599</td>\n",
       "      <td>0.366071</td>\n",
       "      <td>0.001</td>\n",
       "      <td>10</td>\n",
       "      <td>{'C': 0.001, 'gamma': 10}</td>\n",
       "      <td>22</td>\n",
       "      <td>0.375000</td>\n",
       "      <td>0.347826</td>\n",
       "      <td>0.363636</td>\n",
       "      <td>0.363636</td>\n",
       "      <td>0.380952</td>\n",
       "      <td>7.468261e-04</td>\n",
       "      <td>0.000489</td>\n",
       "      <td>0.011371</td>\n",
       "    </tr>\n",
       "    <tr>\n",
       "      <th>5</th>\n",
       "      <td>0.001196</td>\n",
       "      <td>0.000399</td>\n",
       "      <td>0.366071</td>\n",
       "      <td>0.001</td>\n",
       "      <td>100</td>\n",
       "      <td>{'C': 0.001, 'gamma': 100}</td>\n",
       "      <td>22</td>\n",
       "      <td>0.375000</td>\n",
       "      <td>0.347826</td>\n",
       "      <td>0.363636</td>\n",
       "      <td>0.363636</td>\n",
       "      <td>0.380952</td>\n",
       "      <td>3.990183e-04</td>\n",
       "      <td>0.000489</td>\n",
       "      <td>0.011371</td>\n",
       "    </tr>\n",
       "    <tr>\n",
       "      <th>6</th>\n",
       "      <td>0.000597</td>\n",
       "      <td>0.000198</td>\n",
       "      <td>0.366071</td>\n",
       "      <td>0.01</td>\n",
       "      <td>0.001</td>\n",
       "      <td>{'C': 0.01, 'gamma': 0.001}</td>\n",
       "      <td>22</td>\n",
       "      <td>0.375000</td>\n",
       "      <td>0.347826</td>\n",
       "      <td>0.363636</td>\n",
       "      <td>0.363636</td>\n",
       "      <td>0.380952</td>\n",
       "      <td>4.871487e-04</td>\n",
       "      <td>0.000395</td>\n",
       "      <td>0.011371</td>\n",
       "    </tr>\n",
       "    <tr>\n",
       "      <th>7</th>\n",
       "      <td>0.000997</td>\n",
       "      <td>0.000598</td>\n",
       "      <td>0.366071</td>\n",
       "      <td>0.01</td>\n",
       "      <td>0.01</td>\n",
       "      <td>{'C': 0.01, 'gamma': 0.01}</td>\n",
       "      <td>22</td>\n",
       "      <td>0.375000</td>\n",
       "      <td>0.347826</td>\n",
       "      <td>0.363636</td>\n",
       "      <td>0.363636</td>\n",
       "      <td>0.380952</td>\n",
       "      <td>3.234067e-07</td>\n",
       "      <td>0.000488</td>\n",
       "      <td>0.011371</td>\n",
       "    </tr>\n",
       "    <tr>\n",
       "      <th>8</th>\n",
       "      <td>0.000785</td>\n",
       "      <td>0.000594</td>\n",
       "      <td>0.366071</td>\n",
       "      <td>0.01</td>\n",
       "      <td>0.1</td>\n",
       "      <td>{'C': 0.01, 'gamma': 0.1}</td>\n",
       "      <td>22</td>\n",
       "      <td>0.375000</td>\n",
       "      <td>0.347826</td>\n",
       "      <td>0.363636</td>\n",
       "      <td>0.363636</td>\n",
       "      <td>0.380952</td>\n",
       "      <td>3.927043e-04</td>\n",
       "      <td>0.000485</td>\n",
       "      <td>0.011371</td>\n",
       "    </tr>\n",
       "    <tr>\n",
       "      <th>9</th>\n",
       "      <td>0.000997</td>\n",
       "      <td>0.000600</td>\n",
       "      <td>0.366071</td>\n",
       "      <td>0.01</td>\n",
       "      <td>1</td>\n",
       "      <td>{'C': 0.01, 'gamma': 1}</td>\n",
       "      <td>22</td>\n",
       "      <td>0.375000</td>\n",
       "      <td>0.347826</td>\n",
       "      <td>0.363636</td>\n",
       "      <td>0.363636</td>\n",
       "      <td>0.380952</td>\n",
       "      <td>2.986996e-06</td>\n",
       "      <td>0.000490</td>\n",
       "      <td>0.011371</td>\n",
       "    </tr>\n",
       "    <tr>\n",
       "      <th>10</th>\n",
       "      <td>0.000792</td>\n",
       "      <td>0.000600</td>\n",
       "      <td>0.366071</td>\n",
       "      <td>0.01</td>\n",
       "      <td>10</td>\n",
       "      <td>{'C': 0.01, 'gamma': 10}</td>\n",
       "      <td>22</td>\n",
       "      <td>0.375000</td>\n",
       "      <td>0.347826</td>\n",
       "      <td>0.363636</td>\n",
       "      <td>0.363636</td>\n",
       "      <td>0.380952</td>\n",
       "      <td>3.961770e-04</td>\n",
       "      <td>0.000490</td>\n",
       "      <td>0.011371</td>\n",
       "    </tr>\n",
       "    <tr>\n",
       "      <th>11</th>\n",
       "      <td>0.000598</td>\n",
       "      <td>0.000598</td>\n",
       "      <td>0.366071</td>\n",
       "      <td>0.01</td>\n",
       "      <td>100</td>\n",
       "      <td>{'C': 0.01, 'gamma': 100}</td>\n",
       "      <td>22</td>\n",
       "      <td>0.375000</td>\n",
       "      <td>0.347826</td>\n",
       "      <td>0.363636</td>\n",
       "      <td>0.363636</td>\n",
       "      <td>0.380952</td>\n",
       "      <td>4.885388e-04</td>\n",
       "      <td>0.000488</td>\n",
       "      <td>0.011371</td>\n",
       "    </tr>\n",
       "    <tr>\n",
       "      <th>12</th>\n",
       "      <td>0.000605</td>\n",
       "      <td>0.000798</td>\n",
       "      <td>0.366071</td>\n",
       "      <td>0.1</td>\n",
       "      <td>0.001</td>\n",
       "      <td>{'C': 0.1, 'gamma': 0.001}</td>\n",
       "      <td>22</td>\n",
       "      <td>0.375000</td>\n",
       "      <td>0.347826</td>\n",
       "      <td>0.363636</td>\n",
       "      <td>0.363636</td>\n",
       "      <td>0.380952</td>\n",
       "      <td>4.937724e-04</td>\n",
       "      <td>0.000399</td>\n",
       "      <td>0.011371</td>\n",
       "    </tr>\n",
       "    <tr>\n",
       "      <th>13</th>\n",
       "      <td>0.001199</td>\n",
       "      <td>0.000200</td>\n",
       "      <td>0.696429</td>\n",
       "      <td>0.1</td>\n",
       "      <td>0.01</td>\n",
       "      <td>{'C': 0.1, 'gamma': 0.01}</td>\n",
       "      <td>17</td>\n",
       "      <td>0.708333</td>\n",
       "      <td>0.695652</td>\n",
       "      <td>0.681818</td>\n",
       "      <td>0.681818</td>\n",
       "      <td>0.714286</td>\n",
       "      <td>3.978185e-04</td>\n",
       "      <td>0.000399</td>\n",
       "      <td>0.013196</td>\n",
       "    </tr>\n",
       "    <tr>\n",
       "      <th>14</th>\n",
       "      <td>0.000802</td>\n",
       "      <td>0.000200</td>\n",
       "      <td>0.919643</td>\n",
       "      <td>0.1</td>\n",
       "      <td>0.1</td>\n",
       "      <td>{'C': 0.1, 'gamma': 0.1}</td>\n",
       "      <td>13</td>\n",
       "      <td>0.916667</td>\n",
       "      <td>0.913043</td>\n",
       "      <td>1.000000</td>\n",
       "      <td>0.863636</td>\n",
       "      <td>0.904762</td>\n",
       "      <td>4.008737e-04</td>\n",
       "      <td>0.000399</td>\n",
       "      <td>0.044010</td>\n",
       "    </tr>\n",
       "    <tr>\n",
       "      <th>15</th>\n",
       "      <td>0.000997</td>\n",
       "      <td>0.000198</td>\n",
       "      <td>0.955357</td>\n",
       "      <td>0.1</td>\n",
       "      <td>1</td>\n",
       "      <td>{'C': 0.1, 'gamma': 1}</td>\n",
       "      <td>6</td>\n",
       "      <td>1.000000</td>\n",
       "      <td>0.913043</td>\n",
       "      <td>1.000000</td>\n",
       "      <td>0.909091</td>\n",
       "      <td>0.952381</td>\n",
       "      <td>8.556005e-06</td>\n",
       "      <td>0.000395</td>\n",
       "      <td>0.040104</td>\n",
       "    </tr>\n",
       "    <tr>\n",
       "      <th>16</th>\n",
       "      <td>0.000997</td>\n",
       "      <td>0.000199</td>\n",
       "      <td>0.366071</td>\n",
       "      <td>0.1</td>\n",
       "      <td>10</td>\n",
       "      <td>{'C': 0.1, 'gamma': 10}</td>\n",
       "      <td>22</td>\n",
       "      <td>0.375000</td>\n",
       "      <td>0.347826</td>\n",
       "      <td>0.363636</td>\n",
       "      <td>0.363636</td>\n",
       "      <td>0.380952</td>\n",
       "      <td>5.638788e-06</td>\n",
       "      <td>0.000397</td>\n",
       "      <td>0.011371</td>\n",
       "    </tr>\n",
       "    <tr>\n",
       "      <th>17</th>\n",
       "      <td>0.000993</td>\n",
       "      <td>0.000200</td>\n",
       "      <td>0.366071</td>\n",
       "      <td>0.1</td>\n",
       "      <td>100</td>\n",
       "      <td>{'C': 0.1, 'gamma': 100}</td>\n",
       "      <td>22</td>\n",
       "      <td>0.375000</td>\n",
       "      <td>0.347826</td>\n",
       "      <td>0.363636</td>\n",
       "      <td>0.363636</td>\n",
       "      <td>0.380952</td>\n",
       "      <td>5.527199e-06</td>\n",
       "      <td>0.000399</td>\n",
       "      <td>0.011371</td>\n",
       "    </tr>\n",
       "    <tr>\n",
       "      <th>18</th>\n",
       "      <td>0.000598</td>\n",
       "      <td>0.000399</td>\n",
       "      <td>0.696429</td>\n",
       "      <td>1</td>\n",
       "      <td>0.001</td>\n",
       "      <td>{'C': 1, 'gamma': 0.001}</td>\n",
       "      <td>17</td>\n",
       "      <td>0.708333</td>\n",
       "      <td>0.695652</td>\n",
       "      <td>0.681818</td>\n",
       "      <td>0.681818</td>\n",
       "      <td>0.714286</td>\n",
       "      <td>4.886167e-04</td>\n",
       "      <td>0.000489</td>\n",
       "      <td>0.013196</td>\n",
       "    </tr>\n",
       "    <tr>\n",
       "      <th>19</th>\n",
       "      <td>0.000397</td>\n",
       "      <td>0.000200</td>\n",
       "      <td>0.928571</td>\n",
       "      <td>1</td>\n",
       "      <td>0.01</td>\n",
       "      <td>{'C': 1, 'gamma': 0.01}</td>\n",
       "      <td>11</td>\n",
       "      <td>0.875000</td>\n",
       "      <td>0.913043</td>\n",
       "      <td>1.000000</td>\n",
       "      <td>0.909091</td>\n",
       "      <td>0.952381</td>\n",
       "      <td>4.864812e-04</td>\n",
       "      <td>0.000399</td>\n",
       "      <td>0.042983</td>\n",
       "    </tr>\n",
       "    <tr>\n",
       "      <th>20</th>\n",
       "      <td>0.000000</td>\n",
       "      <td>0.000598</td>\n",
       "      <td>0.964286</td>\n",
       "      <td>1</td>\n",
       "      <td>0.1</td>\n",
       "      <td>{'C': 1, 'gamma': 0.1}</td>\n",
       "      <td>2</td>\n",
       "      <td>1.000000</td>\n",
       "      <td>0.956522</td>\n",
       "      <td>1.000000</td>\n",
       "      <td>0.909091</td>\n",
       "      <td>0.952381</td>\n",
       "      <td>0.000000e+00</td>\n",
       "      <td>0.000488</td>\n",
       "      <td>0.034077</td>\n",
       "    </tr>\n",
       "    <tr>\n",
       "      <th>21</th>\n",
       "      <td>0.000798</td>\n",
       "      <td>0.000199</td>\n",
       "      <td>0.946429</td>\n",
       "      <td>1</td>\n",
       "      <td>1</td>\n",
       "      <td>{'C': 1, 'gamma': 1}</td>\n",
       "      <td>8</td>\n",
       "      <td>0.916667</td>\n",
       "      <td>0.956522</td>\n",
       "      <td>1.000000</td>\n",
       "      <td>0.909091</td>\n",
       "      <td>0.952381</td>\n",
       "      <td>3.989301e-04</td>\n",
       "      <td>0.000399</td>\n",
       "      <td>0.032480</td>\n",
       "    </tr>\n",
       "    <tr>\n",
       "      <th>22</th>\n",
       "      <td>0.000598</td>\n",
       "      <td>0.000000</td>\n",
       "      <td>0.919643</td>\n",
       "      <td>1</td>\n",
       "      <td>10</td>\n",
       "      <td>{'C': 1, 'gamma': 10}</td>\n",
       "      <td>13</td>\n",
       "      <td>0.875000</td>\n",
       "      <td>0.956522</td>\n",
       "      <td>1.000000</td>\n",
       "      <td>0.818182</td>\n",
       "      <td>0.952381</td>\n",
       "      <td>4.884220e-04</td>\n",
       "      <td>0.000000</td>\n",
       "      <td>0.064791</td>\n",
       "    </tr>\n",
       "    <tr>\n",
       "      <th>23</th>\n",
       "      <td>0.000997</td>\n",
       "      <td>0.000399</td>\n",
       "      <td>0.508929</td>\n",
       "      <td>1</td>\n",
       "      <td>100</td>\n",
       "      <td>{'C': 1, 'gamma': 100}</td>\n",
       "      <td>21</td>\n",
       "      <td>0.500000</td>\n",
       "      <td>0.434783</td>\n",
       "      <td>0.545455</td>\n",
       "      <td>0.500000</td>\n",
       "      <td>0.571429</td>\n",
       "      <td>5.761645e-07</td>\n",
       "      <td>0.000489</td>\n",
       "      <td>0.046435</td>\n",
       "    </tr>\n",
       "    <tr>\n",
       "      <th>24</th>\n",
       "      <td>0.000399</td>\n",
       "      <td>0.000199</td>\n",
       "      <td>0.928571</td>\n",
       "      <td>10</td>\n",
       "      <td>0.001</td>\n",
       "      <td>{'C': 10, 'gamma': 0.001}</td>\n",
       "      <td>11</td>\n",
       "      <td>0.875000</td>\n",
       "      <td>0.913043</td>\n",
       "      <td>1.000000</td>\n",
       "      <td>0.909091</td>\n",
       "      <td>0.952381</td>\n",
       "      <td>4.884024e-04</td>\n",
       "      <td>0.000399</td>\n",
       "      <td>0.042983</td>\n",
       "    </tr>\n",
       "    <tr>\n",
       "      <th>25</th>\n",
       "      <td>0.000399</td>\n",
       "      <td>0.000398</td>\n",
       "      <td>0.964286</td>\n",
       "      <td>10</td>\n",
       "      <td>0.01</td>\n",
       "      <td>{'C': 10, 'gamma': 0.01}</td>\n",
       "      <td>2</td>\n",
       "      <td>1.000000</td>\n",
       "      <td>0.956522</td>\n",
       "      <td>1.000000</td>\n",
       "      <td>0.909091</td>\n",
       "      <td>0.952381</td>\n",
       "      <td>4.891625e-04</td>\n",
       "      <td>0.000488</td>\n",
       "      <td>0.034077</td>\n",
       "    </tr>\n",
       "    <tr>\n",
       "      <th>26</th>\n",
       "      <td>0.000402</td>\n",
       "      <td>0.000399</td>\n",
       "      <td>0.964286</td>\n",
       "      <td>10</td>\n",
       "      <td>0.1</td>\n",
       "      <td>{'C': 10, 'gamma': 0.1}</td>\n",
       "      <td>2</td>\n",
       "      <td>0.958333</td>\n",
       "      <td>0.956522</td>\n",
       "      <td>1.000000</td>\n",
       "      <td>0.954545</td>\n",
       "      <td>0.952381</td>\n",
       "      <td>4.925956e-04</td>\n",
       "      <td>0.000489</td>\n",
       "      <td>0.017769</td>\n",
       "    </tr>\n",
       "    <tr>\n",
       "      <th>27</th>\n",
       "      <td>0.000798</td>\n",
       "      <td>0.000199</td>\n",
       "      <td>0.937500</td>\n",
       "      <td>10</td>\n",
       "      <td>1</td>\n",
       "      <td>{'C': 10, 'gamma': 1}</td>\n",
       "      <td>10</td>\n",
       "      <td>0.916667</td>\n",
       "      <td>0.956522</td>\n",
       "      <td>1.000000</td>\n",
       "      <td>0.863636</td>\n",
       "      <td>0.952381</td>\n",
       "      <td>3.989221e-04</td>\n",
       "      <td>0.000399</td>\n",
       "      <td>0.045253</td>\n",
       "    </tr>\n",
       "    <tr>\n",
       "      <th>28</th>\n",
       "      <td>0.000996</td>\n",
       "      <td>0.000201</td>\n",
       "      <td>0.919643</td>\n",
       "      <td>10</td>\n",
       "      <td>10</td>\n",
       "      <td>{'C': 10, 'gamma': 10}</td>\n",
       "      <td>13</td>\n",
       "      <td>0.875000</td>\n",
       "      <td>0.956522</td>\n",
       "      <td>1.000000</td>\n",
       "      <td>0.818182</td>\n",
       "      <td>0.952381</td>\n",
       "      <td>3.281527e-06</td>\n",
       "      <td>0.000402</td>\n",
       "      <td>0.064791</td>\n",
       "    </tr>\n",
       "    <tr>\n",
       "      <th>29</th>\n",
       "      <td>0.000998</td>\n",
       "      <td>0.000398</td>\n",
       "      <td>0.562500</td>\n",
       "      <td>10</td>\n",
       "      <td>100</td>\n",
       "      <td>{'C': 10, 'gamma': 100}</td>\n",
       "      <td>19</td>\n",
       "      <td>0.541667</td>\n",
       "      <td>0.478261</td>\n",
       "      <td>0.590909</td>\n",
       "      <td>0.590909</td>\n",
       "      <td>0.619048</td>\n",
       "      <td>3.251596e-06</td>\n",
       "      <td>0.000488</td>\n",
       "      <td>0.049668</td>\n",
       "    </tr>\n",
       "    <tr>\n",
       "      <th>30</th>\n",
       "      <td>0.000399</td>\n",
       "      <td>0.000399</td>\n",
       "      <td>0.964286</td>\n",
       "      <td>100</td>\n",
       "      <td>0.001</td>\n",
       "      <td>{'C': 100, 'gamma': 0.001}</td>\n",
       "      <td>2</td>\n",
       "      <td>1.000000</td>\n",
       "      <td>0.956522</td>\n",
       "      <td>1.000000</td>\n",
       "      <td>0.909091</td>\n",
       "      <td>0.952381</td>\n",
       "      <td>4.884609e-04</td>\n",
       "      <td>0.000489</td>\n",
       "      <td>0.034077</td>\n",
       "    </tr>\n",
       "    <tr>\n",
       "      <th>31</th>\n",
       "      <td>0.000399</td>\n",
       "      <td>0.000199</td>\n",
       "      <td>0.973214</td>\n",
       "      <td>100</td>\n",
       "      <td>0.01</td>\n",
       "      <td>{'C': 100, 'gamma': 0.01}</td>\n",
       "      <td>1</td>\n",
       "      <td>1.000000</td>\n",
       "      <td>0.956522</td>\n",
       "      <td>1.000000</td>\n",
       "      <td>0.954545</td>\n",
       "      <td>0.952381</td>\n",
       "      <td>4.885192e-04</td>\n",
       "      <td>0.000399</td>\n",
       "      <td>0.022400</td>\n",
       "    </tr>\n",
       "    <tr>\n",
       "      <th>32</th>\n",
       "      <td>0.000399</td>\n",
       "      <td>0.000000</td>\n",
       "      <td>0.955357</td>\n",
       "      <td>100</td>\n",
       "      <td>0.1</td>\n",
       "      <td>{'C': 100, 'gamma': 0.1}</td>\n",
       "      <td>6</td>\n",
       "      <td>0.958333</td>\n",
       "      <td>1.000000</td>\n",
       "      <td>1.000000</td>\n",
       "      <td>0.863636</td>\n",
       "      <td>0.952381</td>\n",
       "      <td>4.883441e-04</td>\n",
       "      <td>0.000000</td>\n",
       "      <td>0.049566</td>\n",
       "    </tr>\n",
       "    <tr>\n",
       "      <th>33</th>\n",
       "      <td>0.000798</td>\n",
       "      <td>0.000199</td>\n",
       "      <td>0.946429</td>\n",
       "      <td>100</td>\n",
       "      <td>1</td>\n",
       "      <td>{'C': 100, 'gamma': 1}</td>\n",
       "      <td>8</td>\n",
       "      <td>0.916667</td>\n",
       "      <td>1.000000</td>\n",
       "      <td>1.000000</td>\n",
       "      <td>0.863636</td>\n",
       "      <td>0.952381</td>\n",
       "      <td>3.989223e-04</td>\n",
       "      <td>0.000399</td>\n",
       "      <td>0.051923</td>\n",
       "    </tr>\n",
       "    <tr>\n",
       "      <th>34</th>\n",
       "      <td>0.000798</td>\n",
       "      <td>0.000399</td>\n",
       "      <td>0.919643</td>\n",
       "      <td>100</td>\n",
       "      <td>10</td>\n",
       "      <td>{'C': 100, 'gamma': 10}</td>\n",
       "      <td>13</td>\n",
       "      <td>0.875000</td>\n",
       "      <td>0.956522</td>\n",
       "      <td>1.000000</td>\n",
       "      <td>0.818182</td>\n",
       "      <td>0.952381</td>\n",
       "      <td>7.458432e-04</td>\n",
       "      <td>0.000489</td>\n",
       "      <td>0.064791</td>\n",
       "    </tr>\n",
       "    <tr>\n",
       "      <th>35</th>\n",
       "      <td>0.000994</td>\n",
       "      <td>0.001001</td>\n",
       "      <td>0.562500</td>\n",
       "      <td>100</td>\n",
       "      <td>100</td>\n",
       "      <td>{'C': 100, 'gamma': 100}</td>\n",
       "      <td>19</td>\n",
       "      <td>0.541667</td>\n",
       "      <td>0.478261</td>\n",
       "      <td>0.590909</td>\n",
       "      <td>0.590909</td>\n",
       "      <td>0.619048</td>\n",
       "      <td>5.810765e-06</td>\n",
       "      <td>0.000008</td>\n",
       "      <td>0.049668</td>\n",
       "    </tr>\n",
       "  </tbody>\n",
       "</table>\n",
       "</div>"
      ],
      "text/plain": [
       "    mean_fit_time  mean_score_time  mean_test_score param_C param_gamma  \\\n",
       "0        0.012500         0.000598         0.366071   0.001       0.001   \n",
       "1        0.009690         0.000602         0.366071   0.001        0.01   \n",
       "2        0.000998         0.000599         0.366071   0.001         0.1   \n",
       "3        0.000996         0.000800         0.366071   0.001           1   \n",
       "4        0.001796         0.000599         0.366071   0.001          10   \n",
       "5        0.001196         0.000399         0.366071   0.001         100   \n",
       "6        0.000597         0.000198         0.366071    0.01       0.001   \n",
       "7        0.000997         0.000598         0.366071    0.01        0.01   \n",
       "8        0.000785         0.000594         0.366071    0.01         0.1   \n",
       "9        0.000997         0.000600         0.366071    0.01           1   \n",
       "10       0.000792         0.000600         0.366071    0.01          10   \n",
       "11       0.000598         0.000598         0.366071    0.01         100   \n",
       "12       0.000605         0.000798         0.366071     0.1       0.001   \n",
       "13       0.001199         0.000200         0.696429     0.1        0.01   \n",
       "14       0.000802         0.000200         0.919643     0.1         0.1   \n",
       "15       0.000997         0.000198         0.955357     0.1           1   \n",
       "16       0.000997         0.000199         0.366071     0.1          10   \n",
       "17       0.000993         0.000200         0.366071     0.1         100   \n",
       "18       0.000598         0.000399         0.696429       1       0.001   \n",
       "19       0.000397         0.000200         0.928571       1        0.01   \n",
       "20       0.000000         0.000598         0.964286       1         0.1   \n",
       "21       0.000798         0.000199         0.946429       1           1   \n",
       "22       0.000598         0.000000         0.919643       1          10   \n",
       "23       0.000997         0.000399         0.508929       1         100   \n",
       "24       0.000399         0.000199         0.928571      10       0.001   \n",
       "25       0.000399         0.000398         0.964286      10        0.01   \n",
       "26       0.000402         0.000399         0.964286      10         0.1   \n",
       "27       0.000798         0.000199         0.937500      10           1   \n",
       "28       0.000996         0.000201         0.919643      10          10   \n",
       "29       0.000998         0.000398         0.562500      10         100   \n",
       "30       0.000399         0.000399         0.964286     100       0.001   \n",
       "31       0.000399         0.000199         0.973214     100        0.01   \n",
       "32       0.000399         0.000000         0.955357     100         0.1   \n",
       "33       0.000798         0.000199         0.946429     100           1   \n",
       "34       0.000798         0.000399         0.919643     100          10   \n",
       "35       0.000994         0.001001         0.562500     100         100   \n",
       "\n",
       "                          params  rank_test_score  split0_test_score  \\\n",
       "0   {'C': 0.001, 'gamma': 0.001}               22           0.375000   \n",
       "1    {'C': 0.001, 'gamma': 0.01}               22           0.375000   \n",
       "2     {'C': 0.001, 'gamma': 0.1}               22           0.375000   \n",
       "3       {'C': 0.001, 'gamma': 1}               22           0.375000   \n",
       "4      {'C': 0.001, 'gamma': 10}               22           0.375000   \n",
       "5     {'C': 0.001, 'gamma': 100}               22           0.375000   \n",
       "6    {'C': 0.01, 'gamma': 0.001}               22           0.375000   \n",
       "7     {'C': 0.01, 'gamma': 0.01}               22           0.375000   \n",
       "8      {'C': 0.01, 'gamma': 0.1}               22           0.375000   \n",
       "9        {'C': 0.01, 'gamma': 1}               22           0.375000   \n",
       "10      {'C': 0.01, 'gamma': 10}               22           0.375000   \n",
       "11     {'C': 0.01, 'gamma': 100}               22           0.375000   \n",
       "12    {'C': 0.1, 'gamma': 0.001}               22           0.375000   \n",
       "13     {'C': 0.1, 'gamma': 0.01}               17           0.708333   \n",
       "14      {'C': 0.1, 'gamma': 0.1}               13           0.916667   \n",
       "15        {'C': 0.1, 'gamma': 1}                6           1.000000   \n",
       "16       {'C': 0.1, 'gamma': 10}               22           0.375000   \n",
       "17      {'C': 0.1, 'gamma': 100}               22           0.375000   \n",
       "18      {'C': 1, 'gamma': 0.001}               17           0.708333   \n",
       "19       {'C': 1, 'gamma': 0.01}               11           0.875000   \n",
       "20        {'C': 1, 'gamma': 0.1}                2           1.000000   \n",
       "21          {'C': 1, 'gamma': 1}                8           0.916667   \n",
       "22         {'C': 1, 'gamma': 10}               13           0.875000   \n",
       "23        {'C': 1, 'gamma': 100}               21           0.500000   \n",
       "24     {'C': 10, 'gamma': 0.001}               11           0.875000   \n",
       "25      {'C': 10, 'gamma': 0.01}                2           1.000000   \n",
       "26       {'C': 10, 'gamma': 0.1}                2           0.958333   \n",
       "27         {'C': 10, 'gamma': 1}               10           0.916667   \n",
       "28        {'C': 10, 'gamma': 10}               13           0.875000   \n",
       "29       {'C': 10, 'gamma': 100}               19           0.541667   \n",
       "30    {'C': 100, 'gamma': 0.001}                2           1.000000   \n",
       "31     {'C': 100, 'gamma': 0.01}                1           1.000000   \n",
       "32      {'C': 100, 'gamma': 0.1}                6           0.958333   \n",
       "33        {'C': 100, 'gamma': 1}                8           0.916667   \n",
       "34       {'C': 100, 'gamma': 10}               13           0.875000   \n",
       "35      {'C': 100, 'gamma': 100}               19           0.541667   \n",
       "\n",
       "    split1_test_score  split2_test_score  split3_test_score  \\\n",
       "0            0.347826           0.363636           0.363636   \n",
       "1            0.347826           0.363636           0.363636   \n",
       "2            0.347826           0.363636           0.363636   \n",
       "3            0.347826           0.363636           0.363636   \n",
       "4            0.347826           0.363636           0.363636   \n",
       "5            0.347826           0.363636           0.363636   \n",
       "6            0.347826           0.363636           0.363636   \n",
       "7            0.347826           0.363636           0.363636   \n",
       "8            0.347826           0.363636           0.363636   \n",
       "9            0.347826           0.363636           0.363636   \n",
       "10           0.347826           0.363636           0.363636   \n",
       "11           0.347826           0.363636           0.363636   \n",
       "12           0.347826           0.363636           0.363636   \n",
       "13           0.695652           0.681818           0.681818   \n",
       "14           0.913043           1.000000           0.863636   \n",
       "15           0.913043           1.000000           0.909091   \n",
       "16           0.347826           0.363636           0.363636   \n",
       "17           0.347826           0.363636           0.363636   \n",
       "18           0.695652           0.681818           0.681818   \n",
       "19           0.913043           1.000000           0.909091   \n",
       "20           0.956522           1.000000           0.909091   \n",
       "21           0.956522           1.000000           0.909091   \n",
       "22           0.956522           1.000000           0.818182   \n",
       "23           0.434783           0.545455           0.500000   \n",
       "24           0.913043           1.000000           0.909091   \n",
       "25           0.956522           1.000000           0.909091   \n",
       "26           0.956522           1.000000           0.954545   \n",
       "27           0.956522           1.000000           0.863636   \n",
       "28           0.956522           1.000000           0.818182   \n",
       "29           0.478261           0.590909           0.590909   \n",
       "30           0.956522           1.000000           0.909091   \n",
       "31           0.956522           1.000000           0.954545   \n",
       "32           1.000000           1.000000           0.863636   \n",
       "33           1.000000           1.000000           0.863636   \n",
       "34           0.956522           1.000000           0.818182   \n",
       "35           0.478261           0.590909           0.590909   \n",
       "\n",
       "    split4_test_score  std_fit_time  std_score_time  std_test_score  \n",
       "0            0.380952  2.246388e-03        0.000489        0.011371  \n",
       "1            0.380952  7.282823e-03        0.000492        0.011371  \n",
       "2            0.380952  2.336015e-07        0.000489        0.011371  \n",
       "3            0.380952  2.219215e-06        0.000400        0.011371  \n",
       "4            0.380952  7.468261e-04        0.000489        0.011371  \n",
       "5            0.380952  3.990183e-04        0.000489        0.011371  \n",
       "6            0.380952  4.871487e-04        0.000395        0.011371  \n",
       "7            0.380952  3.234067e-07        0.000488        0.011371  \n",
       "8            0.380952  3.927043e-04        0.000485        0.011371  \n",
       "9            0.380952  2.986996e-06        0.000490        0.011371  \n",
       "10           0.380952  3.961770e-04        0.000490        0.011371  \n",
       "11           0.380952  4.885388e-04        0.000488        0.011371  \n",
       "12           0.380952  4.937724e-04        0.000399        0.011371  \n",
       "13           0.714286  3.978185e-04        0.000399        0.013196  \n",
       "14           0.904762  4.008737e-04        0.000399        0.044010  \n",
       "15           0.952381  8.556005e-06        0.000395        0.040104  \n",
       "16           0.380952  5.638788e-06        0.000397        0.011371  \n",
       "17           0.380952  5.527199e-06        0.000399        0.011371  \n",
       "18           0.714286  4.886167e-04        0.000489        0.013196  \n",
       "19           0.952381  4.864812e-04        0.000399        0.042983  \n",
       "20           0.952381  0.000000e+00        0.000488        0.034077  \n",
       "21           0.952381  3.989301e-04        0.000399        0.032480  \n",
       "22           0.952381  4.884220e-04        0.000000        0.064791  \n",
       "23           0.571429  5.761645e-07        0.000489        0.046435  \n",
       "24           0.952381  4.884024e-04        0.000399        0.042983  \n",
       "25           0.952381  4.891625e-04        0.000488        0.034077  \n",
       "26           0.952381  4.925956e-04        0.000489        0.017769  \n",
       "27           0.952381  3.989221e-04        0.000399        0.045253  \n",
       "28           0.952381  3.281527e-06        0.000402        0.064791  \n",
       "29           0.619048  3.251596e-06        0.000488        0.049668  \n",
       "30           0.952381  4.884609e-04        0.000489        0.034077  \n",
       "31           0.952381  4.885192e-04        0.000399        0.022400  \n",
       "32           0.952381  4.883441e-04        0.000000        0.049566  \n",
       "33           0.952381  3.989223e-04        0.000399        0.051923  \n",
       "34           0.952381  7.458432e-04        0.000489        0.064791  \n",
       "35           0.619048  5.810765e-06        0.000008        0.049668  "
      ]
     },
     "metadata": {},
     "output_type": "display_data"
    }
   ],
   "source": [
    "results = pd.DataFrame(grid_serch.cv_results_)\n",
    "# 每一行对应一种特定的参数\n",
    "display(results)  # 参数组合共36种"
   ]
  },
  {
   "cell_type": "markdown",
   "metadata": {},
   "source": [
    "> 每一行对应一种特定的参数设置。对于每种参数设置，交叉验证所有划分的结果都被记录下来，所欲划分的平均值和标准差也被记录下来。"
   ]
  },
  {
   "cell_type": "markdown",
   "metadata": {},
   "source": [
    "搜索的二维参数网格，所以最适合**热图可视化**："
   ]
  },
  {
   "cell_type": "code",
   "execution_count": 95,
   "metadata": {
    "ExecuteTime": {
     "end_time": "2018-08-11T14:59:56.839777Z",
     "start_time": "2018-08-11T14:59:56.632332Z"
    }
   },
   "outputs": [
    {
     "data": {
      "image/png": "[encoded data removed]",
      "text/plain": [
       "<Figure size 576x576 with 1 Axes>"
      ]
     },
     "metadata": {},
     "output_type": "display_data"
    }
   ],
   "source": [
    "# 提取平均验证分数\n",
    "scores = np.array(results[\"mean_test_score\"]).reshape(6, 6)\n",
    "\n",
    "plt.figure(figsize=(8, 8))\n",
    "plt.imshow(scores, cmap=plt.cm.viridis)\n",
    "plt.xlabel(\"Gamma\")\n",
    "plt.ylabel(\"C\")\n",
    "plt.xticks(np.arange(len(param_grid[\"gamma\"])), param_grid[\"gamma\"])\n",
    "plt.yticks(np.arange(len(param_grid[\"C\"])), param_grid[\"C\"])\n",
    "\n",
    "for i in range(len(param_grid[\"gamma\"])):\n",
    "    for j in range(len(param_grid[\"C\"])):\n",
    "        plt.text(j, i, scores[i, j], ha=\"center\", va=\"center\", color=\"w\")\n",
    "plt.show()"
   ]
  },
  {
   "cell_type": "code",
   "execution_count": null,
   "metadata": {},
   "outputs": [],
   "source": []
  }
 ],
 "metadata": {
  "kernelspec": {
   "display_name": "Python 3",
   "language": "python",
   "name": "python3"
  },
  "language_info": {
   "codemirror_mode": {
    "name": "ipython",
    "version": 3
   },
   "file_extension": ".py",
   "mimetype": "text/x-python",
   "name": "python",
   "nbconvert_exporter": "python",
   "pygments_lexer": "ipython3",
   "version": "3.6.4"
  },
  "latex_envs": {
   "LaTeX_envs_menu_present": true,
   "autoclose": false,
   "autocomplete": true,
   "bibliofile": "biblio.bib",
   "cite_by": "apalike",
   "current_citInitial": 1,
   "eqLabelWithNumbers": true,
   "eqNumInitial": 1,
   "hotkeys": {
    "equation": "Ctrl-E",
    "itemize": "Ctrl-I"
   },
   "labels_anchors": false,
   "latex_user_defs": false,
   "report_style_numbering": false,
   "user_envs_cfg": false
  },
  "nbTranslate": {
   "displayLangs": [
    "*"
   ],
   "hotkey": "alt-t",
   "langInMainMenu": true,
   "sourceLang": "en",
   "targetLang": "fr",
   "useGoogleTranslate": true
  }
 },
 "nbformat": 4,
 "nbformat_minor": 2
}
