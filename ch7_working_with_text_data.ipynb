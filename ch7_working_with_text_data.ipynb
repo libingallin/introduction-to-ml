{
 "cells": [
  {
   "cell_type": "markdown",
   "metadata": {},
   "source": [
    "# Ch7 处理文本数据"
   ]
  },
  {
   "cell_type": "code",
   "execution_count": 1,
   "metadata": {
    "ExecuteTime": {
     "end_time": "2018-07-26T23:23:01.579640Z",
     "start_time": "2018-07-26T23:23:01.020111Z"
    }
   },
   "outputs": [],
   "source": [
    "# Common imports\n",
    "import pandas as pd\n",
    "import numpy as np\n",
    "\n",
    "# To plot figures\n",
    "%matplotlib inline\n",
    "import matplotlib\n",
    "import matplotlib.pyplot as plt"
   ]
  },
  {
   "cell_type": "markdown",
   "metadata": {
    "ExecuteTime": {
     "end_time": "2018-07-23T08:18:45.664531Z",
     "start_time": "2018-07-23T08:18:45.660542Z"
    }
   },
   "source": [
    "## 7.1 用字符串表示的数据类型"
   ]
  },
  {
   "cell_type": "markdown",
   "metadata": {},
   "source": [
    "可能遇到的四种类型的字符串数据：\n",
    "+ 分类数据\n",
    "+ 可以在语义上映射为类别的自由字符串\n",
    "+ 结构化字符串数据\n",
    "+ 文本数据"
   ]
  },
  {
   "cell_type": "markdown",
   "metadata": {},
   "source": [
    "数据集——**语料库（corpus）**\n",
    "\n",
    "每个由单文本表示的数据点——**文档（document）**"
   ]
  },
  {
   "cell_type": "markdown",
   "metadata": {},
   "source": [
    "## 7.2 电影评论的情感分析"
   ]
  },
  {
   "cell_type": "markdown",
   "metadata": {},
   "source": [
    "**数据集**——IMDb（Internet Moive Database）网站的电影评论数据集。  \n",
    "这些数据集包含评论文本，还有一个标签，用于表示该评论是“正面的”还是负面的。"
   ]
  },
  {
   "cell_type": "markdown",
   "metadata": {},
   "source": [
    "`load_file`函数可以加载用这种文件夹结构保存的文件，其中每个子文件夹对应于一个标签。"
   ]
  },
  {
   "cell_type": "code",
   "execution_count": 2,
   "metadata": {
    "ExecuteTime": {
     "end_time": "2018-07-26T23:27:13.673815Z",
     "start_time": "2018-07-26T23:23:01.581612Z"
    }
   },
   "outputs": [],
   "source": [
    "from sklearn.datasets import load_files\n",
    "\n",
    "reviews_train = load_files(\"aclImdb_used/train/\")\n",
    "# load_files returns a bunch, containing training texts and training labels\n",
    "text_train, y_train = reviews_train.data, reviews_train.target"
   ]
  },
  {
   "cell_type": "code",
   "execution_count": 3,
   "metadata": {
    "ExecuteTime": {
     "end_time": "2018-07-26T23:27:13.716594Z",
     "start_time": "2018-07-26T23:27:13.673815Z"
    }
   },
   "outputs": [
    {
     "name": "stdout",
     "output_type": "stream",
     "text": [
      "Type of text_train: <class 'list'>\n",
      "Length of text_train: 25000\n",
      "text_train[1]:\n",
      "b'Words can\\'t describe how bad this movie is. I can\\'t explain it by writing only. You have too see it for yourself to get at grip of how horrible a movie really can be. Not that I recommend you to do that. There are so many clich\\xc3\\xa9s, mistakes (and all other negative things you can imagine) here that will just make you cry. To start with the technical first, there are a LOT of mistakes regarding the airplane. I won\\'t list them here, but just mention the coloring of the plane. They didn\\'t even manage to show an airliner in the colors of a fictional airline, but instead used a 747 painted in the original Boeing livery. Very bad. The plot is stupid and has been done many times before, only much, much better. There are so many ridiculous moments here that i lost count of it really early. Also, I was on the bad guys\\' side all the time in the movie, because the good guys were so stupid. \"Executive Decision\" should without a doubt be you\\'re choice over this one, even the \"Turbulence\"-movies are better. In fact, every other movie in the world is better than this one.'\n"
     ]
    }
   ],
   "source": [
    "print(\"Type of text_train: {}\".format(type(text_train)))\n",
    "print(\"Length of text_train: {}\".format(len(text_train)))\n",
    "print(\"text_train[1]:\\n{}\".format(text_train[1]))"
   ]
  },
  {
   "cell_type": "markdown",
   "metadata": {},
   "source": [
    "评论中包含一些HTML换行符`<br />`，删除这种格式："
   ]
  },
  {
   "cell_type": "code",
   "execution_count": 4,
   "metadata": {
    "ExecuteTime": {
     "end_time": "2018-07-26T23:27:13.818047Z",
     "start_time": "2018-07-26T23:27:13.721581Z"
    }
   },
   "outputs": [],
   "source": [
    "text_train = [doc.replace(b\"<br />\", b\" \") for doc in text_train]"
   ]
  },
  {
   "cell_type": "markdown",
   "metadata": {},
   "source": [
    "收集数据时保持正类和反类的平衡："
   ]
  },
  {
   "cell_type": "code",
   "execution_count": 5,
   "metadata": {
    "ExecuteTime": {
     "end_time": "2018-07-26T23:27:13.829975Z",
     "start_time": "2018-07-26T23:27:13.820000Z"
    }
   },
   "outputs": [
    {
     "data": {
      "text/plain": [
       "(array([0, 1]), array([12500, 12500], dtype=int64))"
      ]
     },
     "execution_count": 5,
     "metadata": {},
     "output_type": "execute_result"
    }
   ],
   "source": [
    "np.unique(y_train, return_counts=True)"
   ]
  },
  {
   "cell_type": "markdown",
   "metadata": {},
   "source": [
    "加载测试集："
   ]
  },
  {
   "cell_type": "code",
   "execution_count": 6,
   "metadata": {
    "ExecuteTime": {
     "end_time": "2018-07-26T23:31:50.451654Z",
     "start_time": "2018-07-26T23:27:13.832976Z"
    }
   },
   "outputs": [],
   "source": [
    "reviews_test = load_files('aclImdb_used/test/')\n",
    "text_test, y_test = reviews_test.data, reviews_test.target"
   ]
  },
  {
   "cell_type": "code",
   "execution_count": 7,
   "metadata": {
    "ExecuteTime": {
     "end_time": "2018-07-26T23:31:50.473129Z",
     "start_time": "2018-07-26T23:31:50.451654Z"
    }
   },
   "outputs": [
    {
     "name": "stdout",
     "output_type": "stream",
     "text": [
      "Number of documents in test data: 25000\n",
      "Samples per class (test): [12500 12500]\n"
     ]
    }
   ],
   "source": [
    "print(\"Number of documents in test data: {}\".format(len(text_test)))\n",
    "print(\"Samples per class (test): {}\".format(np.bincount(y_test)))"
   ]
  },
  {
   "cell_type": "code",
   "execution_count": 8,
   "metadata": {
    "ExecuteTime": {
     "end_time": "2018-07-26T23:31:50.583032Z",
     "start_time": "2018-07-26T23:31:50.480110Z"
    }
   },
   "outputs": [],
   "source": [
    "text_test = [doc.replace(b'<br />', b' ') for doc in text_test]"
   ]
  },
  {
   "cell_type": "markdown",
   "metadata": {},
   "source": [
    "## 7.3 将文本数据表示为词袋"
   ]
  },
  {
   "cell_type": "markdown",
   "metadata": {},
   "source": [
    "**词袋（out-of-words）**，舍弃了输入文本中的大部分结构，如章节、段落、句子和格式，**只计算语料库中每个单词在每个文本中的出现频次**。"
   ]
  },
  {
   "cell_type": "markdown",
   "metadata": {},
   "source": [
    "**对于语料库，计算词袋表示：**\n",
    "1. **分词（tokenization）**。将每个文档划分为出现在其中的单词（称为词例（token）），比如按空格和标点划分。\n",
    "2. **构建词表（vocabulary building）**。收集一个词表，里面包括出现在任意文档中的所有词，并对它们进行编号（比如按字母顺序排序）。\n",
    "3. **编码（encoding）**。对于每个文档，计算词表中每个单词在该文档中的出现频次。"
   ]
  },
  {
   "cell_type": "markdown",
   "metadata": {},
   "source": [
    "**词袋处理过程：**"
   ]
  },
  {
   "cell_type": "markdown",
   "metadata": {},
   "source": [
    "![bag_of_words](https://github.com/libingallin/introduction_to_ml/blob/master/bag_of_words.png)"
   ]
  },
  {
   "cell_type": "markdown",
   "metadata": {},
   "source": [
    "![bag_of_words](bag_of_words.png)"
   ]
  },
  {
   "cell_type": "markdown",
   "metadata": {},
   "source": [
    "### 7.3.1 将词袋应用于玩具数据集"
   ]
  },
  {
   "cell_type": "markdown",
   "metadata": {},
   "source": [
    "**词袋表示是在`CounterVectorizer`中实现的**，它是一个转换器（transformer）。"
   ]
  },
  {
   "cell_type": "code",
   "execution_count": 9,
   "metadata": {
    "ExecuteTime": {
     "end_time": "2018-07-26T23:31:50.589015Z",
     "start_time": "2018-07-26T23:31:50.585065Z"
    }
   },
   "outputs": [],
   "source": [
    "# A toy dataset, consisting of two samples\n",
    "bards_words = [\"The fool doth think he is wise,\",\n",
    "               \"but the wise man knows himself to be a fool\"]"
   ]
  },
  {
   "cell_type": "code",
   "execution_count": 10,
   "metadata": {
    "ExecuteTime": {
     "end_time": "2018-07-26T23:31:50.604974Z",
     "start_time": "2018-07-26T23:31:50.593008Z"
    }
   },
   "outputs": [
    {
     "data": {
      "text/plain": [
       "CountVectorizer(analyzer='word', binary=False, decode_error='strict',\n",
       "        dtype=<class 'numpy.int64'>, encoding='utf-8', input='content',\n",
       "        lowercase=True, max_df=1.0, max_features=None, min_df=1,\n",
       "        ngram_range=(1, 1), preprocessor=None, stop_words=None,\n",
       "        strip_accents=None, token_pattern='(?u)\\\\b\\\\w\\\\w+\\\\b',\n",
       "        tokenizer=None, vocabulary=None)"
      ]
     },
     "execution_count": 10,
     "metadata": {},
     "output_type": "execute_result"
    }
   ],
   "source": [
    "from sklearn.feature_extraction.text import CountVectorizer\n",
    "\n",
    "vect = CountVectorizer()\n",
    "vect.fit(bards_words)"
   ]
  },
  {
   "cell_type": "code",
   "execution_count": 11,
   "metadata": {
    "ExecuteTime": {
     "end_time": "2018-07-26T23:31:50.613951Z",
     "start_time": "2018-07-26T23:31:50.607999Z"
    }
   },
   "outputs": [
    {
     "name": "stdout",
     "output_type": "stream",
     "text": [
      "Vocabulary size: 13\n",
      "Vocabulary content:\n",
      "{'the': 9, 'fool': 3, 'doth': 2, 'think': 10, 'he': 4, 'is': 6, 'wise': 12, 'but': 1, 'man': 8, 'knows': 7, 'himself': 5, 'to': 11, 'be': 0}\n"
     ]
    }
   ],
   "source": [
    "print(\"Vocabulary size: {}\".format(len(vect.vocabulary_)))\n",
    "print(\"Vocabulary content:\\n{}\".format(vect.vocabulary_))"
   ]
  },
  {
   "cell_type": "code",
   "execution_count": 12,
   "metadata": {
    "ExecuteTime": {
     "end_time": "2018-07-26T23:31:50.626914Z",
     "start_time": "2018-07-26T23:31:50.618942Z"
    }
   },
   "outputs": [
    {
     "data": {
      "text/plain": [
       "{'be': 0,\n",
       " 'but': 1,\n",
       " 'doth': 2,\n",
       " 'fool': 3,\n",
       " 'he': 4,\n",
       " 'himself': 5,\n",
       " 'is': 6,\n",
       " 'knows': 7,\n",
       " 'man': 8,\n",
       " 'the': 9,\n",
       " 'think': 10,\n",
       " 'to': 11,\n",
       " 'wise': 12}"
      ]
     },
     "execution_count": 12,
     "metadata": {},
     "output_type": "execute_result"
    }
   ],
   "source": [
    "# A mapping of terms to feature indices.\n",
    "vect.vocabulary_"
   ]
  },
  {
   "cell_type": "markdown",
   "metadata": {},
   "source": [
    "调用`transform`方法来创建训练数据的词袋表示："
   ]
  },
  {
   "cell_type": "code",
   "execution_count": 13,
   "metadata": {
    "ExecuteTime": {
     "end_time": "2018-07-26T23:31:50.634925Z",
     "start_time": "2018-07-26T23:31:50.628910Z"
    }
   },
   "outputs": [
    {
     "name": "stdout",
     "output_type": "stream",
     "text": [
      "bag of words: <2x13 sparse matrix of type '<class 'numpy.int64'>'\n",
      "\twith 16 stored elements in Compressed Sparse Row format>\n"
     ]
    }
   ],
   "source": [
    "bag_of_words = vect.transform(bards_words)\n",
    "print(\"bag of words: {}\".format(repr(bag_of_words)))"
   ]
  },
  {
   "cell_type": "code",
   "execution_count": 14,
   "metadata": {
    "ExecuteTime": {
     "end_time": "2018-07-26T23:31:50.643871Z",
     "start_time": "2018-07-26T23:31:50.637888Z"
    }
   },
   "outputs": [
    {
     "data": {
      "text/plain": [
       "<2x13 sparse matrix of type '<class 'numpy.int64'>'\n",
       "\twith 16 stored elements in Compressed Sparse Row format>"
      ]
     },
     "execution_count": 14,
     "metadata": {},
     "output_type": "execute_result"
    }
   ],
   "source": [
    "bag_of_words"
   ]
  },
  {
   "cell_type": "code",
   "execution_count": 15,
   "metadata": {
    "ExecuteTime": {
     "end_time": "2018-07-26T23:31:50.652846Z",
     "start_time": "2018-07-26T23:31:50.646870Z"
    }
   },
   "outputs": [
    {
     "data": {
      "text/plain": [
       "\"<2x13 sparse matrix of type '<class 'numpy.int64'>'\\n\\twith 16 stored elements in Compressed Sparse Row format>\""
      ]
     },
     "execution_count": 15,
     "metadata": {},
     "output_type": "execute_result"
    }
   ],
   "source": [
    "repr(bag_of_words)"
   ]
  },
  {
   "cell_type": "markdown",
   "metadata": {},
   "source": [
    "bards_words的词袋表示："
   ]
  },
  {
   "cell_type": "code",
   "execution_count": 16,
   "metadata": {
    "ExecuteTime": {
     "end_time": "2018-07-26T23:31:50.662821Z",
     "start_time": "2018-07-26T23:31:50.655872Z"
    }
   },
   "outputs": [
    {
     "data": {
      "text/plain": [
       "array([[0, 0, 1, 1, 1, 0, 1, 0, 0, 1, 1, 0, 1],\n",
       "       [1, 1, 0, 1, 0, 1, 0, 1, 1, 1, 0, 1, 1]], dtype=int64)"
      ]
     },
     "execution_count": 16,
     "metadata": {},
     "output_type": "execute_result"
    }
   ],
   "source": [
    "bag_of_words.toarray()"
   ]
  },
  {
   "cell_type": "markdown",
   "metadata": {},
   "source": [
    "### 7.3.2 将词袋用于电影评论"
   ]
  },
  {
   "cell_type": "markdown",
   "metadata": {},
   "source": [
    "将词袋处理过程应用于电影评论情感分析的任务。"
   ]
  },
  {
   "cell_type": "code",
   "execution_count": 17,
   "metadata": {
    "ExecuteTime": {
     "end_time": "2018-07-26T23:31:58.986225Z",
     "start_time": "2018-07-26T23:31:50.666811Z"
    }
   },
   "outputs": [
    {
     "name": "stdout",
     "output_type": "stream",
     "text": [
      "X_train:\n",
      "<25000x74849 sparse matrix of type '<class 'numpy.int64'>'\n",
      "\twith 3431196 stored elements in Compressed Sparse Row format>\n"
     ]
    }
   ],
   "source": [
    "vect = CountVectorizer().fit(text_train)\n",
    "X_train = vect.transform(text_train)\n",
    "print(\"X_train:\\n{}\".format(repr(X_train)))"
   ]
  },
  {
   "cell_type": "markdown",
   "metadata": {},
   "source": [
    "> 训练数据集有25000个文本，词表中共有74849个单词。"
   ]
  },
  {
   "cell_type": "code",
   "execution_count": 18,
   "metadata": {
    "ExecuteTime": {
     "end_time": "2018-07-26T23:31:58.995200Z",
     "start_time": "2018-07-26T23:31:58.988253Z"
    }
   },
   "outputs": [
    {
     "data": {
      "text/plain": [
       "<25000x74849 sparse matrix of type '<class 'numpy.int64'>'\n",
       "\twith 3431196 stored elements in Compressed Sparse Row format>"
      ]
     },
     "execution_count": 18,
     "metadata": {},
     "output_type": "execute_result"
    }
   ],
   "source": [
    "X_train"
   ]
  },
  {
   "cell_type": "markdown",
   "metadata": {},
   "source": [
    "**访问词表**的另一种方法（第一种是使用`toarray`方法）是使用**向量器（vectorizer）**的`get_feature_names`方法，它将返回一个列表，每个元素对应于一个特征。"
   ]
  },
  {
   "cell_type": "code",
   "execution_count": 19,
   "metadata": {
    "ExecuteTime": {
     "end_time": "2018-07-26T23:31:59.085989Z",
     "start_time": "2018-07-26T23:31:58.997198Z"
    }
   },
   "outputs": [],
   "source": [
    "# Array mapping from feature integer indices to feature name\n",
    "feature_names = vect.get_feature_names()"
   ]
  },
  {
   "cell_type": "code",
   "execution_count": 20,
   "metadata": {
    "ExecuteTime": {
     "end_time": "2018-07-26T23:31:59.096930Z",
     "start_time": "2018-07-26T23:31:59.089948Z"
    }
   },
   "outputs": [
    {
     "name": "stdout",
     "output_type": "stream",
     "text": [
      "Number of features: 74849\n",
      "First 20 features:\n",
      "['00', '000', '0000000000001', '00001', '00015', '000s', '001', '003830', '006', '007', '0079', '0080', '0083', '0093638', '00am', '00pm', '00s', '01', '01pm', '02']\n",
      "Every 2000th feature:\n",
      "['00', 'aesir', 'aquarian', 'barking', 'blustering', 'bête', 'chicanery', 'condensing', 'cunning', 'detox', 'draper', 'enshrined', 'favorit', 'freezer', 'goldman', 'hasan', 'huitieme', 'intelligible', 'kantrowitz', 'lawful', 'maars', 'megalunged', 'mostey', 'norrland', 'padilla', 'pincher', 'promisingly', 'receptionist', 'rivals', 'schnaas', 'shunning', 'sparse', 'subset', 'temptations', 'treatises', 'unproven', 'walkman', 'xylophonist']\n"
     ]
    }
   ],
   "source": [
    "print(\"Number of features: {}\".format(len(feature_names)))\n",
    "print(\"First 20 features:\\n{}\".format(feature_names[:20]))\n",
    "print(\"Every 2000th feature:\\n{}\".format(feature_names[::2000]))"
   ]
  },
  {
   "cell_type": "markdown",
   "metadata": {},
   "source": [
    "词表中有些单词具有密切相关的语义，将它们作为不同的单词进行计数（对应于不同的特征）可能不太合适。"
   ]
  },
  {
   "cell_type": "markdown",
   "metadata": {},
   "source": [
    "构建一个分类器来得到性能的量化度量。"
   ]
  },
  {
   "cell_type": "code",
   "execution_count": 21,
   "metadata": {
    "ExecuteTime": {
     "end_time": "2018-07-26T23:32:21.281165Z",
     "start_time": "2018-07-26T23:31:59.098924Z"
    }
   },
   "outputs": [
    {
     "name": "stdout",
     "output_type": "stream",
     "text": [
      "Mean cross-validation accuracy: 0.88\n"
     ]
    }
   ],
   "source": [
    "from sklearn.model_selection import cross_val_score\n",
    "from sklearn.linear_model import LogisticRegression\n",
    "\n",
    "scores = cross_val_score(LogisticRegression(), X_train, y_train,\n",
    "                         cv=5, n_jobs=-1)\n",
    "print(\"Mean cross-validation accuracy: {:.2f}\".format(np.mean(scores)))"
   ]
  },
  {
   "cell_type": "markdown",
   "metadata": {},
   "source": [
    "> 交叉验证平均分数是0.88，这对于平衡的二分类任务来说是一个合理的性能。"
   ]
  },
  {
   "cell_type": "markdown",
   "metadata": {},
   "source": [
    "通过交叉验证来调节`LogisticRegression`的正则化参数C："
   ]
  },
  {
   "cell_type": "code",
   "execution_count": 22,
   "metadata": {
    "ExecuteTime": {
     "end_time": "2018-07-26T23:33:36.052503Z",
     "start_time": "2018-07-26T23:32:21.285154Z"
    }
   },
   "outputs": [
    {
     "name": "stdout",
     "output_type": "stream",
     "text": [
      "Best cv score: 0.89\n",
      "Best param:  {'C': 0.1}\n"
     ]
    }
   ],
   "source": [
    "from sklearn.model_selection import GridSearchCV\n",
    "\n",
    "param_grid = {\"C\": [0.001, 0.01, 0.1, 1, 100]}\n",
    "grid_search = GridSearchCV(LogisticRegression(), param_grid=param_grid,\n",
    "                           cv=5, n_jobs=-1)\n",
    "grid_search.fit(X_train, y_train)\n",
    "\n",
    "print(\"Best cv score: {:.2f}\".format(grid_search.best_score_))\n",
    "print(\"Best param: \", grid_search.best_params_)"
   ]
  },
  {
   "cell_type": "markdown",
   "metadata": {},
   "source": [
    "在测试集上评估这个参数设置的泛化性能："
   ]
  },
  {
   "cell_type": "code",
   "execution_count": 23,
   "metadata": {
    "ExecuteTime": {
     "end_time": "2018-07-26T23:33:40.033212Z",
     "start_time": "2018-07-26T23:33:36.055495Z"
    }
   },
   "outputs": [
    {
     "name": "stdout",
     "output_type": "stream",
     "text": [
      "0.88\n"
     ]
    }
   ],
   "source": [
    "X_test = vect.transform(text_test)\n",
    "print(\"{:.2f}\".format(grid_search.score(X_test, y_test)))"
   ]
  },
  {
   "cell_type": "markdown",
   "metadata": {},
   "source": [
    "使用至少在5个文档中出现过的词例，仅在一个文档中出现的词例不太可能出现在测试集中，因此没什么用。"
   ]
  },
  {
   "cell_type": "code",
   "execution_count": 24,
   "metadata": {
    "ExecuteTime": {
     "end_time": "2018-07-26T23:33:48.250925Z",
     "start_time": "2018-07-26T23:33:40.036238Z"
    }
   },
   "outputs": [
    {
     "name": "stdout",
     "output_type": "stream",
     "text": [
      "X_train with min_df=5: <25000x27271 sparse matrix of type '<class 'numpy.int64'>'\n",
      "\twith 3354014 stored elements in Compressed Sparse Row format>\n"
     ]
    }
   ],
   "source": [
    "vect = CountVectorizer(min_df=5).fit(text_train)\n",
    "X_train = vect.transform(text_train)\n",
    "print(\"X_train with min_df=5: {}\".format(repr(X_train)))"
   ]
  },
  {
   "cell_type": "code",
   "execution_count": 25,
   "metadata": {
    "ExecuteTime": {
     "end_time": "2018-07-26T23:33:48.290819Z",
     "start_time": "2018-07-26T23:33:48.252919Z"
    }
   },
   "outputs": [],
   "source": [
    "feature_names = vect.get_feature_names()"
   ]
  },
  {
   "cell_type": "code",
   "execution_count": 26,
   "metadata": {
    "ExecuteTime": {
     "end_time": "2018-07-26T23:33:48.299795Z",
     "start_time": "2018-07-26T23:33:48.293810Z"
    }
   },
   "outputs": [
    {
     "name": "stdout",
     "output_type": "stream",
     "text": [
      "Number of features: 27271\n",
      "First 50 features:\n",
      "['00', '000', '007', '00s', '01', '02', '03', '04', '05', '06', '07', '08', '09', '10', '100', '1000', '100th', '101', '102', '103', '104', '105', '107', '108', '10s', '10th', '11', '110', '112', '116', '117', '11th', '12', '120', '12th', '13', '135', '13th', '14', '140', '14th', '15', '150', '15th', '16', '160', '1600', '16mm', '16s', '16th']\n"
     ]
    }
   ],
   "source": [
    "print(\"Number of features: {}\".format(len(feature_names)))\n",
    "print(\"First 50 features:\\n{}\".format(feature_names[:50]))"
   ]
  },
  {
   "cell_type": "markdown",
   "metadata": {},
   "source": [
    "再次运行网格搜索查看模型性能："
   ]
  },
  {
   "cell_type": "code",
   "execution_count": 27,
   "metadata": {
    "ExecuteTime": {
     "end_time": "2018-07-26T23:34:58.732398Z",
     "start_time": "2018-07-26T23:33:48.305779Z"
    }
   },
   "outputs": [
    {
     "name": "stdout",
     "output_type": "stream",
     "text": [
      "Best cv score: 0.89\n"
     ]
    }
   ],
   "source": [
    "grid_search = GridSearchCV(LogisticRegression(), param_grid=param_grid,\n",
    "                           cv=5, n_jobs=-1)\n",
    "grid_search.fit(X_train, y_train)\n",
    "print(\"Best cv score: {:.2f}\".format(grid_search.best_score_))"
   ]
  },
  {
   "cell_type": "markdown",
   "metadata": {},
   "source": [
    "## 7.4 停用词"
   ]
  },
  {
   "cell_type": "markdown",
   "metadata": {
    "ExecuteTime": {
     "end_time": "2018-07-24T00:54:44.309968Z",
     "start_time": "2018-07-24T00:54:44.303985Z"
    }
   },
   "source": [
    "**删除没有信息量的单词**还有另一种方法（第一种方法是**设置`min_df`**），就是**舍弃那些出现次数太多以至于没有信息量的单词**。\n",
    "\n",
    "主要有两种方法：\n",
    "1. 使用特定语言的停用词（stopword）列表；\n",
    "2. 舍弃那些出现过于频繁的单词。"
   ]
  },
  {
   "cell_type": "markdown",
   "metadata": {},
   "source": [
    "**1  skl中的`feature_extraction.text`模块中提供了英语停用词的内置列表**"
   ]
  },
  {
   "cell_type": "code",
   "execution_count": 28,
   "metadata": {
    "ExecuteTime": {
     "end_time": "2018-07-26T23:34:58.740374Z",
     "start_time": "2018-07-26T23:34:58.734391Z"
    }
   },
   "outputs": [
    {
     "name": "stdout",
     "output_type": "stream",
     "text": [
      "Number of stop words: 318\n",
      "First 20 stop words:\n",
      "['alone', 'system', 'ltd', 'can', 'herein', 'put', 'perhaps', 'off', 'we', 'give', 'himself', 'across', 'get', 'therein', 'ourselves', 'was', 'even', 'with', 'become', 'do']\n"
     ]
    }
   ],
   "source": [
    "from sklearn.feature_extraction.text import ENGLISH_STOP_WORDS\n",
    "\n",
    "print(\"Number of stop words: {}\".format(len(ENGLISH_STOP_WORDS)))\n",
    "print(\"First 20 stop words:\\n{}\".format(list(ENGLISH_STOP_WORDS)[:20]))"
   ]
  },
  {
   "cell_type": "code",
   "execution_count": 29,
   "metadata": {
    "ExecuteTime": {
     "end_time": "2018-07-26T23:34:58.749356Z",
     "start_time": "2018-07-26T23:34:58.742374Z"
    }
   },
   "outputs": [
    {
     "data": {
      "text/plain": [
       "frozenset"
      ]
     },
     "execution_count": 29,
     "metadata": {},
     "output_type": "execute_result"
    }
   ],
   "source": [
    "type(ENGLISH_STOP_WORDS)"
   ]
  },
  {
   "cell_type": "code",
   "execution_count": 30,
   "metadata": {
    "ExecuteTime": {
     "end_time": "2018-07-26T23:34:58.764311Z",
     "start_time": "2018-07-26T23:34:58.752345Z"
    }
   },
   "outputs": [
    {
     "data": {
      "text/plain": [
       "frozenset({'a',\n",
       "           'about',\n",
       "           'above',\n",
       "           'across',\n",
       "           'after',\n",
       "           'afterwards',\n",
       "           'again',\n",
       "           'against',\n",
       "           'all',\n",
       "           'almost',\n",
       "           'alone',\n",
       "           'along',\n",
       "           'already',\n",
       "           'also',\n",
       "           'although',\n",
       "           'always',\n",
       "           'am',\n",
       "           'among',\n",
       "           'amongst',\n",
       "           'amoungst',\n",
       "           'amount',\n",
       "           'an',\n",
       "           'and',\n",
       "           'another',\n",
       "           'any',\n",
       "           'anyhow',\n",
       "           'anyone',\n",
       "           'anything',\n",
       "           'anyway',\n",
       "           'anywhere',\n",
       "           'are',\n",
       "           'around',\n",
       "           'as',\n",
       "           'at',\n",
       "           'back',\n",
       "           'be',\n",
       "           'became',\n",
       "           'because',\n",
       "           'become',\n",
       "           'becomes',\n",
       "           'becoming',\n",
       "           'been',\n",
       "           'before',\n",
       "           'beforehand',\n",
       "           'behind',\n",
       "           'being',\n",
       "           'below',\n",
       "           'beside',\n",
       "           'besides',\n",
       "           'between',\n",
       "           'beyond',\n",
       "           'bill',\n",
       "           'both',\n",
       "           'bottom',\n",
       "           'but',\n",
       "           'by',\n",
       "           'call',\n",
       "           'can',\n",
       "           'cannot',\n",
       "           'cant',\n",
       "           'co',\n",
       "           'con',\n",
       "           'could',\n",
       "           'couldnt',\n",
       "           'cry',\n",
       "           'de',\n",
       "           'describe',\n",
       "           'detail',\n",
       "           'do',\n",
       "           'done',\n",
       "           'down',\n",
       "           'due',\n",
       "           'during',\n",
       "           'each',\n",
       "           'eg',\n",
       "           'eight',\n",
       "           'either',\n",
       "           'eleven',\n",
       "           'else',\n",
       "           'elsewhere',\n",
       "           'empty',\n",
       "           'enough',\n",
       "           'etc',\n",
       "           'even',\n",
       "           'ever',\n",
       "           'every',\n",
       "           'everyone',\n",
       "           'everything',\n",
       "           'everywhere',\n",
       "           'except',\n",
       "           'few',\n",
       "           'fifteen',\n",
       "           'fifty',\n",
       "           'fill',\n",
       "           'find',\n",
       "           'fire',\n",
       "           'first',\n",
       "           'five',\n",
       "           'for',\n",
       "           'former',\n",
       "           'formerly',\n",
       "           'forty',\n",
       "           'found',\n",
       "           'four',\n",
       "           'from',\n",
       "           'front',\n",
       "           'full',\n",
       "           'further',\n",
       "           'get',\n",
       "           'give',\n",
       "           'go',\n",
       "           'had',\n",
       "           'has',\n",
       "           'hasnt',\n",
       "           'have',\n",
       "           'he',\n",
       "           'hence',\n",
       "           'her',\n",
       "           'here',\n",
       "           'hereafter',\n",
       "           'hereby',\n",
       "           'herein',\n",
       "           'hereupon',\n",
       "           'hers',\n",
       "           'herself',\n",
       "           'him',\n",
       "           'himself',\n",
       "           'his',\n",
       "           'how',\n",
       "           'however',\n",
       "           'hundred',\n",
       "           'i',\n",
       "           'ie',\n",
       "           'if',\n",
       "           'in',\n",
       "           'inc',\n",
       "           'indeed',\n",
       "           'interest',\n",
       "           'into',\n",
       "           'is',\n",
       "           'it',\n",
       "           'its',\n",
       "           'itself',\n",
       "           'keep',\n",
       "           'last',\n",
       "           'latter',\n",
       "           'latterly',\n",
       "           'least',\n",
       "           'less',\n",
       "           'ltd',\n",
       "           'made',\n",
       "           'many',\n",
       "           'may',\n",
       "           'me',\n",
       "           'meanwhile',\n",
       "           'might',\n",
       "           'mill',\n",
       "           'mine',\n",
       "           'more',\n",
       "           'moreover',\n",
       "           'most',\n",
       "           'mostly',\n",
       "           'move',\n",
       "           'much',\n",
       "           'must',\n",
       "           'my',\n",
       "           'myself',\n",
       "           'name',\n",
       "           'namely',\n",
       "           'neither',\n",
       "           'never',\n",
       "           'nevertheless',\n",
       "           'next',\n",
       "           'nine',\n",
       "           'no',\n",
       "           'nobody',\n",
       "           'none',\n",
       "           'noone',\n",
       "           'nor',\n",
       "           'not',\n",
       "           'nothing',\n",
       "           'now',\n",
       "           'nowhere',\n",
       "           'of',\n",
       "           'off',\n",
       "           'often',\n",
       "           'on',\n",
       "           'once',\n",
       "           'one',\n",
       "           'only',\n",
       "           'onto',\n",
       "           'or',\n",
       "           'other',\n",
       "           'others',\n",
       "           'otherwise',\n",
       "           'our',\n",
       "           'ours',\n",
       "           'ourselves',\n",
       "           'out',\n",
       "           'over',\n",
       "           'own',\n",
       "           'part',\n",
       "           'per',\n",
       "           'perhaps',\n",
       "           'please',\n",
       "           'put',\n",
       "           'rather',\n",
       "           're',\n",
       "           'same',\n",
       "           'see',\n",
       "           'seem',\n",
       "           'seemed',\n",
       "           'seeming',\n",
       "           'seems',\n",
       "           'serious',\n",
       "           'several',\n",
       "           'she',\n",
       "           'should',\n",
       "           'show',\n",
       "           'side',\n",
       "           'since',\n",
       "           'sincere',\n",
       "           'six',\n",
       "           'sixty',\n",
       "           'so',\n",
       "           'some',\n",
       "           'somehow',\n",
       "           'someone',\n",
       "           'something',\n",
       "           'sometime',\n",
       "           'sometimes',\n",
       "           'somewhere',\n",
       "           'still',\n",
       "           'such',\n",
       "           'system',\n",
       "           'take',\n",
       "           'ten',\n",
       "           'than',\n",
       "           'that',\n",
       "           'the',\n",
       "           'their',\n",
       "           'them',\n",
       "           'themselves',\n",
       "           'then',\n",
       "           'thence',\n",
       "           'there',\n",
       "           'thereafter',\n",
       "           'thereby',\n",
       "           'therefore',\n",
       "           'therein',\n",
       "           'thereupon',\n",
       "           'these',\n",
       "           'they',\n",
       "           'thick',\n",
       "           'thin',\n",
       "           'third',\n",
       "           'this',\n",
       "           'those',\n",
       "           'though',\n",
       "           'three',\n",
       "           'through',\n",
       "           'throughout',\n",
       "           'thru',\n",
       "           'thus',\n",
       "           'to',\n",
       "           'together',\n",
       "           'too',\n",
       "           'top',\n",
       "           'toward',\n",
       "           'towards',\n",
       "           'twelve',\n",
       "           'twenty',\n",
       "           'two',\n",
       "           'un',\n",
       "           'under',\n",
       "           'until',\n",
       "           'up',\n",
       "           'upon',\n",
       "           'us',\n",
       "           'very',\n",
       "           'via',\n",
       "           'was',\n",
       "           'we',\n",
       "           'well',\n",
       "           'were',\n",
       "           'what',\n",
       "           'whatever',\n",
       "           'when',\n",
       "           'whence',\n",
       "           'whenever',\n",
       "           'where',\n",
       "           'whereafter',\n",
       "           'whereas',\n",
       "           'whereby',\n",
       "           'wherein',\n",
       "           'whereupon',\n",
       "           'wherever',\n",
       "           'whether',\n",
       "           'which',\n",
       "           'while',\n",
       "           'whither',\n",
       "           'who',\n",
       "           'whoever',\n",
       "           'whole',\n",
       "           'whom',\n",
       "           'whose',\n",
       "           'why',\n",
       "           'will',\n",
       "           'with',\n",
       "           'within',\n",
       "           'without',\n",
       "           'would',\n",
       "           'yet',\n",
       "           'you',\n",
       "           'your',\n",
       "           'yours',\n",
       "           'yourself',\n",
       "           'yourselves'})"
      ]
     },
     "execution_count": 30,
     "metadata": {},
     "output_type": "execute_result"
    }
   ],
   "source": [
    "ENGLISH_STOP_WORDS"
   ]
  },
  {
   "cell_type": "markdown",
   "metadata": {},
   "source": [
    "使用停用词（也可以自己扩展列表并传入自己的列表）："
   ]
  },
  {
   "cell_type": "code",
   "execution_count": 31,
   "metadata": {
    "ExecuteTime": {
     "end_time": "2018-07-26T23:35:06.286867Z",
     "start_time": "2018-07-26T23:34:58.768300Z"
    }
   },
   "outputs": [
    {
     "name": "stdout",
     "output_type": "stream",
     "text": [
      "X_train with stop words and min_df=5:\n",
      "<25000x26966 sparse matrix of type '<class 'numpy.int64'>'\n",
      "\twith 2149958 stored elements in Compressed Sparse Row format>\n"
     ]
    }
   ],
   "source": [
    "# Specifying 'english' use the built-in list\n",
    "vect = CountVectorizer(min_df=5, stop_words='english').fit(text_train)\n",
    "X_train = vect.transform(text_train)\n",
    "print(\"X_train with stop words and min_df=5:\\n{}\".format(repr(X_train)))"
   ]
  },
  {
   "cell_type": "markdown",
   "metadata": {},
   "source": [
    "> 特征数量减少了305个，没有318个，说明大部分停用词（但不是所有）都出现了。"
   ]
  },
  {
   "cell_type": "markdown",
   "metadata": {},
   "source": [
    "再次运行网格搜索："
   ]
  },
  {
   "cell_type": "code",
   "execution_count": 32,
   "metadata": {
    "ExecuteTime": {
     "end_time": "2018-07-26T23:35:34.322467Z",
     "start_time": "2018-07-26T23:35:06.290466Z"
    }
   },
   "outputs": [
    {
     "name": "stdout",
     "output_type": "stream",
     "text": [
      "Best cv score: 0.88\n"
     ]
    }
   ],
   "source": [
    "grid_search = GridSearchCV(LogisticRegression(), param_grid=param_grid,\n",
    "                           cv=5, n_jobs=-1)\n",
    "grid_search.fit(X_train, y_train)\n",
    "print(\"Best cv score: {:.2f}\".format(grid_search.best_score_))"
   ]
  },
  {
   "cell_type": "markdown",
   "metadata": {},
   "source": [
    "2  **设置`CounterVectorizer`的`max_df`选项来舍弃出现最频繁的单词**："
   ]
  },
  {
   "cell_type": "code",
   "execution_count": 33,
   "metadata": {
    "ExecuteTime": {
     "end_time": "2018-07-26T23:35:42.594622Z",
     "start_time": "2018-07-26T23:35:34.325458Z"
    }
   },
   "outputs": [
    {
     "name": "stdout",
     "output_type": "stream",
     "text": [
      "X_train with min_df=5 and max_df=0.5:\n",
      "<25000x27246 sparse matrix of type '<class 'numpy.int64'>'\n",
      "\twith 2906570 stored elements in Compressed Sparse Row format>\n"
     ]
    }
   ],
   "source": [
    "vect = CountVectorizer(min_df=5, max_df=0.5).fit(text_train)\n",
    "X_train = vect.transform(text_train)\n",
    "print(\"X_train with min_df=5 and max_df=0.5:\\n{}\".format(repr(X_train)))"
   ]
  },
  {
   "cell_type": "markdown",
   "metadata": {},
   "source": [
    "再次运行网格索搜："
   ]
  },
  {
   "cell_type": "code",
   "execution_count": 34,
   "metadata": {
    "ExecuteTime": {
     "end_time": "2018-07-26T23:36:21.698667Z",
     "start_time": "2018-07-26T23:35:42.597646Z"
    }
   },
   "outputs": [
    {
     "name": "stdout",
     "output_type": "stream",
     "text": [
      "Best cv score: 0.89\n"
     ]
    }
   ],
   "source": [
    "grid_search = GridSearchCV(LogisticRegression(), param_grid=param_grid,\n",
    "                           cv=5, n_jobs=-1)\n",
    "grid_search.fit(X_train, y_train)\n",
    "print(\"Best cv score: {:.2f}\".format(grid_search.best_score_))"
   ]
  },
  {
   "cell_type": "markdown",
   "metadata": {},
   "source": [
    "## 7.5 用tf-idf缩放数据"
   ]
  },
  {
   "cell_type": "markdown",
   "metadata": {},
   "source": [
    "**按照预计的特征信息量大小来缩放特征，而不是舍弃那些认为不重要的特征。**最常见的一种做法是**词频-逆向文档频率**（term frequency - inverse document frequency, **tf-idf**）方法。\n",
    "\n",
    "这一方法对在某个特定文档中经常出现的术语（term）给予很高的权重，但对在语料库的许多文档中都经常出现的术语给与的权重却不高。如果一个单词在某个特定文档中经常出现，但在许多文档中却不经常出现，那么这个单词很可能是对文档内容的很好描述。\n",
    "\n",
    "skl中在sklearn.feature_extraction.text中的两个类中**实现了tf-idf方法**：\n",
    "1. `TfidfTransformer`，接受`CountVectorizer`生成的稀疏矩阵将其变换；\n",
    "2. `TfidfVectorizer`，接受文本数据并完成词袋特征提取与tf-idf变换，等于先使用`CountVectorizer`，再使用`TfidfTransform`。"
   ]
  },
  {
   "cell_type": "code",
   "execution_count": 40,
   "metadata": {
    "ExecuteTime": {
     "end_time": "2018-07-27T02:02:20.592872Z",
     "start_time": "2018-07-27T02:00:25.298047Z"
    }
   },
   "outputs": [
    {
     "name": "stdout",
     "output_type": "stream",
     "text": [
      "Best cv score: 0.89\n"
     ]
    }
   ],
   "source": [
    "from sklearn.feature_extraction.text import TfidfVectorizer\n",
    "from sklearn.pipeline import make_pipeline\n",
    "\n",
    "pipe = make_pipeline(TfidfVectorizer(min_df=5, norm=None),\n",
    "                     LogisticRegression())\n",
    "param_grid = {\"logisticregression__C\": [0.001, 0.01, 0.1, 1, 10]}\n",
    "grid_search = GridSearchCV(pipe, param_grid, cv=5, n_jobs=-1)\n",
    "grid_search.fit(text_train, y_train)\n",
    "print(\"Best cv score: {:.2f}\".format(grid_search.best_score_))"
   ]
  },
  {
   "cell_type": "markdown",
   "metadata": {},
   "source": [
    "> 使用tf-idf代替仅统计词数对性能有所提高。"
   ]
  },
  {
   "cell_type": "markdown",
   "metadata": {},
   "source": [
    "**tf-idf缩放的目的是找到能够区分文档的单词，但它完全是一种无监督技术**。这里的“重要”不一定与感兴趣的标签相关。"
   ]
  },
  {
   "cell_type": "code",
   "execution_count": 42,
   "metadata": {
    "ExecuteTime": {
     "end_time": "2018-07-27T02:18:25.308242Z",
     "start_time": "2018-07-27T02:18:25.301229Z"
    }
   },
   "outputs": [
    {
     "data": {
      "text/plain": [
       "Pipeline(memory=None,\n",
       "     steps=[('tfidfvectorizer', TfidfVectorizer(analyzer='word', binary=False, decode_error='strict',\n",
       "        dtype=<class 'numpy.int64'>, encoding='utf-8', input='content',\n",
       "        lowercase=True, max_df=1.0, max_features=None, min_df=5,\n",
       "        ngram_range=(1, 1), norm=None, preprocessor=None, smooth_i...ty='l2', random_state=None, solver='liblinear', tol=0.0001,\n",
       "          verbose=0, warm_start=False))])"
      ]
     },
     "execution_count": 42,
     "metadata": {},
     "output_type": "execute_result"
    }
   ],
   "source": [
    "grid_search.best_estimator_"
   ]
  },
  {
   "cell_type": "code",
   "execution_count": 45,
   "metadata": {
    "ExecuteTime": {
     "end_time": "2018-07-27T02:21:57.440601Z",
     "start_time": "2018-07-27T02:21:57.433646Z"
    }
   },
   "outputs": [
    {
     "data": {
      "text/plain": [
       "TfidfVectorizer(analyzer='word', binary=False, decode_error='strict',\n",
       "        dtype=<class 'numpy.int64'>, encoding='utf-8', input='content',\n",
       "        lowercase=True, max_df=1.0, max_features=None, min_df=5,\n",
       "        ngram_range=(1, 1), norm=None, preprocessor=None, smooth_idf=True,\n",
       "        stop_words=None, strip_accents=None, sublinear_tf=False,\n",
       "        token_pattern='(?u)\\\\b\\\\w\\\\w+\\\\b', tokenizer=None, use_idf=True,\n",
       "        vocabulary=None)"
      ]
     },
     "execution_count": 45,
     "metadata": {},
     "output_type": "execute_result"
    }
   ],
   "source": [
    "vectorizer = grid_search.best_estimator_.named_steps[\"tfidfvectorizer\"]\n",
    "vectorizer"
   ]
  },
  {
   "cell_type": "code",
   "execution_count": 47,
   "metadata": {
    "ExecuteTime": {
     "end_time": "2018-07-27T02:22:20.685403Z",
     "start_time": "2018-07-27T02:22:16.347975Z"
    }
   },
   "outputs": [
    {
     "data": {
      "text/plain": [
       "<25000x27271 sparse matrix of type '<class 'numpy.float64'>'\n",
       "\twith 3354014 stored elements in Compressed Sparse Row format>"
      ]
     },
     "execution_count": 47,
     "metadata": {},
     "output_type": "execute_result"
    }
   ],
   "source": [
    "# 变换训练数据集\n",
    "X_train = vectorizer.transform(text_train)\n",
    "X_train"
   ]
  },
  {
   "cell_type": "code",
   "execution_count": 50,
   "metadata": {
    "ExecuteTime": {
     "end_time": "2018-07-27T02:23:14.076596Z",
     "start_time": "2018-07-27T02:23:13.993816Z"
    }
   },
   "outputs": [
    {
     "data": {
      "text/plain": [
       "array([ 20.15985557,  34.37105041,  16.70816476, ...,  25.46284132,\n",
       "        28.0047349 ,   9.33491163])"
      ]
     },
     "execution_count": 50,
     "metadata": {},
     "output_type": "execute_result"
    }
   ],
   "source": [
    "X_train.max(axis=0).toarray().ravel()"
   ]
  },
  {
   "cell_type": "code",
   "execution_count": 51,
   "metadata": {
    "ExecuteTime": {
     "end_time": "2018-07-27T02:24:11.555024Z",
     "start_time": "2018-07-27T02:24:11.474241Z"
    }
   },
   "outputs": [],
   "source": [
    "# 找到数据集中每个特征的最大值\n",
    "max_value = X_train.max(axis=0).toarray().ravel()\n",
    "sorted_by_tfidf = max_value.argsort()"
   ]
  },
  {
   "cell_type": "code",
   "execution_count": 55,
   "metadata": {
    "ExecuteTime": {
     "end_time": "2018-07-27T02:33:03.847334Z",
     "start_time": "2018-07-27T02:33:03.812401Z"
    }
   },
   "outputs": [
    {
     "name": "stdout",
     "output_type": "stream",
     "text": [
      "Features with lowest tfidf:\n",
      "['poignant' 'disagree' 'instantly' 'importantly' 'lacked' 'occurred'\n",
      " 'currently' 'altogether' 'nearby' 'undoubtedly' 'directs' 'fond' 'stinker'\n",
      " 'avoided' 'emphasis' 'commented' 'disappoint' 'realizing' 'downhill'\n",
      " 'inane']\n",
      "\n",
      "Features with highest tfidf:\n",
      "['coop' 'homer' 'dillinger' 'hackenstein' 'gadget' 'taker' 'macarthur'\n",
      " 'vargas' 'jesse' 'basket' 'dominick' 'the' 'victor' 'bridget' 'victoria'\n",
      " 'khouri' 'zizek' 'rob' 'timon' 'titanic']\n"
     ]
    }
   ],
   "source": [
    "# 获取特征名称\n",
    "feature_names = np.array(vectorizer.get_feature_names())\n",
    "print(\"Features with lowest tfidf:\\n{}\".format(feature_names[sorted_by_tfidf[:20]]))\n",
    "print(\"\\nFeatures with highest tfidf:\\n{}\".format(feature_names[sorted_by_tfidf[-20:]]))"
   ]
  },
  {
   "cell_type": "markdown",
   "metadata": {},
   "source": [
    "找到逆向文档频率低的单词，即出现次数很多，但被认为不那么重要的单词。训练集的逆向文档频率值被保存在`if_`属性中："
   ]
  },
  {
   "cell_type": "code",
   "execution_count": 56,
   "metadata": {
    "ExecuteTime": {
     "end_time": "2018-07-27T02:42:29.610512Z",
     "start_time": "2018-07-27T02:42:29.602514Z"
    }
   },
   "outputs": [
    {
     "name": "stdout",
     "output_type": "stream",
     "text": [
      "Features with lowest idf:\n",
      "['the' 'and' 'of' 'to' 'this' 'is' 'it' 'in' 'that' 'but' 'for' 'with'\n",
      " 'was' 'as' 'on' 'movie' 'not' 'have' 'one' 'be' 'film' 'are' 'you' 'all'\n",
      " 'at' 'an' 'by' 'so' 'from' 'like' 'who' 'they' 'there' 'if' 'his' 'out'\n",
      " 'just' 'about' 'he' 'or' 'has' 'what' 'some' 'good' 'can' 'more' 'when'\n",
      " 'time' 'up' 'very' 'even' 'only' 'no' 'would' 'my' 'see' 'really' 'story'\n",
      " 'which' 'well' 'had' 'me' 'than' 'much' 'their' 'get' 'were' 'other'\n",
      " 'been' 'do' 'most' 'don' 'her' 'also' 'into' 'first' 'made' 'how' 'great'\n",
      " 'because' 'will' 'people' 'make' 'way' 'could' 'we' 'bad' 'after' 'any'\n",
      " 'too' 'then' 'them' 'she' 'watch' 'think' 'acting' 'movies' 'seen' 'its'\n",
      " 'him']\n"
     ]
    }
   ],
   "source": [
    "sorted_by_idf = np.argsort(vectorizer.idf_)\n",
    "print(\"Features with lowest idf:\\n{}\".format(feature_names[sorted_by_idf[:100]]))"
   ]
  },
  {
   "cell_type": "markdown",
   "metadata": {},
   "source": [
    "> 大多数都是停用词。但有些单词是电影评论特有的，如moive, film, time, story等。"
   ]
  },
  {
   "cell_type": "code",
   "execution_count": 58,
   "metadata": {
    "ExecuteTime": {
     "end_time": "2018-07-27T02:47:17.007832Z",
     "start_time": "2018-07-27T02:47:17.003830Z"
    },
    "scrolled": true
   },
   "outputs": [
    {
     "name": "stdout",
     "output_type": "stream",
     "text": [
      "Features with highest idf:\n",
      "['preppie' 'teleportation' 'teleprompter' 'preposterously' 'capes' 'capers'\n",
      " 'televisions' 'tellers' 'tellingly' 'temerity' 'graded' 'cantina' 'canted'\n",
      " 'graduating' 'canonical' 'preschool' 'prescott' 'grabber' 'teetering'\n",
      " 'gorge' 'tearfully' 'pretentions' 'goriest' 'gorillas' 'pretenders'\n",
      " 'presumptuous' 'presumption' 'gosha' 'gossiping' 'cardiff' 'premieres'\n",
      " 'pressuring' 'gottfried' 'technobabble' 'technologically' 'gottschalk'\n",
      " 'presidente' 'govern' 'captioning' 'governed' 'capricious' 'goyokin' 'gr'\n",
      " 'gotcha' 'gruner' 'graininess' 'candor' 'grievances' 'cagey' 'grieves'\n",
      " 'grinders' 'cadavers' 'gringo' 'pout' 'cabo' 'tester' 'testicles'\n",
      " 'testifies' 'grittiness' 'cabins' 'c3po' 'texans' 'grouchy' 'buñuel'\n",
      " 'groundwork' 'posteriors' 'posterior' 'grover' 'gruel' 'buttocks'\n",
      " 'cahulawassee' 'greys' 'gremlin' 'gregson' 'predominate' 'tenchu'\n",
      " 'canceling' 'predicable' 'camped' 'tenderly' 'tenement' 'tenements'\n",
      " 'tenets' 'preclude' 'gravelly' 'grandest' 'gravely' 'greendale' 'tenure'\n",
      " 'calligraphy' 'tepper' 'prc' 'greenstreet' 'callaghan' 'caligula'\n",
      " 'pratfall' 'prankster' 'prakash' 'grayce' 'émigré']\n"
     ]
    }
   ],
   "source": [
    "print(\"Features with highest idf:\\n{}\".format(feature_names[sorted_by_idf[-100:]]))"
   ]
  },
  {
   "cell_type": "markdown",
   "metadata": {},
   "source": [
    "> 某个特定文档中经常出现的词。"
   ]
  },
  {
   "cell_type": "markdown",
   "metadata": {},
   "source": [
    "## 7.6 研究模型系数"
   ]
  },
  {
   "cell_type": "markdown",
   "metadata": {},
   "source": [
    "查看Logistic回归模型从数据中实际学到的内容。因为特征数量非常多（删除出现次数不多的特征后仍有27271个），故不能同时查看所有系数，可以查看最大的系数，并且所对应的单词。"
   ]
  },
  {
   "cell_type": "code",
   "execution_count": 65,
   "metadata": {
    "ExecuteTime": {
     "end_time": "2018-07-27T03:07:20.835942Z",
     "start_time": "2018-07-27T03:07:20.807010Z"
    }
   },
   "outputs": [],
   "source": [
    "# LogisticRegression学到的系数\n",
    "coefs = grid_search.best_estimator_.named_steps['logisticregression'].coef_\n",
    "coefs = coefs.ravel()\n",
    "# 获取特征名称\n",
    "feature_names = vectorizer.get_feature_names()"
   ]
  },
  {
   "cell_type": "code",
   "execution_count": 66,
   "metadata": {
    "ExecuteTime": {
     "end_time": "2018-07-27T03:08:51.776068Z",
     "start_time": "2018-07-27T03:08:51.767065Z"
    }
   },
   "outputs": [],
   "source": [
    "pos_coefs = np.argsort(coefs)[-40:]\n",
    "neg_coefs = np.argsort(coefs)[:40]"
   ]
  },
  {
   "cell_type": "code",
   "execution_count": 68,
   "metadata": {
    "ExecuteTime": {
     "end_time": "2018-07-27T03:09:07.988427Z",
     "start_time": "2018-07-27T03:09:07.983418Z"
    }
   },
   "outputs": [
    {
     "data": {
      "text/plain": [
       "array([12985, 22017, 11506, 10143, 23506, 17796, 23160,  8202, 19635,\n",
       "       12339,  2279,  8262, 23724, 23721, 14487,  8946, 26907, 19441,\n",
       "        2618, 14193,  6369, 13183, 19758,  9939,  8203,  3218, 26572,\n",
       "       11493,  8205, 23638,  9917, 24644,  9035,  1032, 14491, 26906,\n",
       "        2483, 17792,  8577, 10643], dtype=int64)"
      ]
     },
     "execution_count": 68,
     "metadata": {},
     "output_type": "execute_result"
    }
   ],
   "source": [
    "pos_coefs"
   ]
  },
  {
   "cell_type": "code",
   "execution_count": 69,
   "metadata": {
    "ExecuteTime": {
     "end_time": "2018-07-27T03:09:58.409712Z",
     "start_time": "2018-07-27T03:09:58.400724Z"
    }
   },
   "outputs": [],
   "source": [
    "pos_coefs = np.argsort(coefs)[-40:]\n",
    "neg_coefs = np.argsort(coefs)[:40]\n",
    "interesting_coefs = np.hstack((neg_coefs, pos_coefs))"
   ]
  },
  {
   "cell_type": "code",
   "execution_count": 77,
   "metadata": {
    "ExecuteTime": {
     "end_time": "2018-07-27T04:20:18.340782Z",
     "start_time": "2018-07-27T04:20:17.576858Z"
    }
   },
   "outputs": [
    {
     "data": {
      "image/png": "[encoded data removed]",
      "text/plain": [
       "<Figure size 1080x360 with 1 Axes>"
      ]
     },
     "metadata": {},
     "output_type": "display_data"
    }
   ],
   "source": [
    "plt.figure(figsize=(15, 5))\n",
    "colors = ['r' if c < 0 else 'b' for c in coefs[interesting_coefs]]\n",
    "plt.bar(np.arange(2 * 40), coefs[interesting_coefs], color=colors)\n",
    "plt.xticks(range(1, 1 + 2 * 40), np.array(feature_names)[interesting_coefs],\n",
    "           ha='right', rotation=90)\n",
    "plt.subplots_adjust(bottom=0.3)\n",
    "plt.xlabel(\"Feature\")\n",
    "plt.ylabel(\"Coefficient magnitude\")\n",
    "plt.show()"
   ]
  },
  {
   "cell_type": "markdown",
   "metadata": {},
   "source": [
    "## 7.7 多个单词的词袋（n元分词）"
   ]
  },
  {
   "cell_type": "markdown",
   "metadata": {},
   "source": [
    "使用词袋表示的主要缺点之一是完全舍弃了单词顺序。使用词袋表示时有一种获取上下文的方法，就是不仅考虑单一词例的计数，而且还考虑相邻的两个或三个词例的计数。"
   ]
  },
  {
   "cell_type": "code",
   "execution_count": 78,
   "metadata": {
    "ExecuteTime": {
     "end_time": "2018-07-27T07:38:12.516101Z",
     "start_time": "2018-07-27T07:38:12.512106Z"
    }
   },
   "outputs": [
    {
     "data": {
      "text/plain": [
       "['The fool doth think he is wise,',\n",
       " 'but the wise man knows himself to be a fool']"
      ]
     },
     "execution_count": 78,
     "metadata": {},
     "output_type": "execute_result"
    }
   ],
   "source": [
    "bards_words"
   ]
  },
  {
   "cell_type": "markdown",
   "metadata": {},
   "source": [
    "默认情况下，为每个长度最小为1，最大也为1的词例序列（刚好一个词）创建一个特征："
   ]
  },
  {
   "cell_type": "code",
   "execution_count": 81,
   "metadata": {
    "ExecuteTime": {
     "end_time": "2018-07-27T07:49:17.428578Z",
     "start_time": "2018-07-27T07:49:17.421593Z"
    }
   },
   "outputs": [
    {
     "name": "stdout",
     "output_type": "stream",
     "text": [
      "Vocabulary size: 13\n",
      "Vocabuluary:\n",
      "['be', 'but', 'doth', 'fool', 'he', 'himself', 'is', 'knows', 'man', 'the', 'think', 'to', 'wise']\n"
     ]
    }
   ],
   "source": [
    "cv = CountVectorizer(ngram_range=(1, 1)).fit(bards_words)\n",
    "print(\"Vocabulary size: {}\".format(len(cv.vocabulary_)))\n",
    "print(\"Vocabuluary:\\n{}\".format(cv.get_feature_names()))"
   ]
  },
  {
   "cell_type": "markdown",
   "metadata": {},
   "source": [
    "查看仅二元分词（即仅查看由两个相邻词例组成的序列），设置`ngram_range`为(2, 2):"
   ]
  },
  {
   "cell_type": "code",
   "execution_count": 84,
   "metadata": {
    "ExecuteTime": {
     "end_time": "2018-07-27T07:51:36.081296Z",
     "start_time": "2018-07-27T07:51:36.067354Z"
    }
   },
   "outputs": [
    {
     "name": "stdout",
     "output_type": "stream",
     "text": [
      "Vocabulary size: 14\n",
      "Vocabuluary:\n",
      "['be fool', 'but the', 'doth think', 'fool doth', 'he is', 'himself to', 'is wise', 'knows himself', 'man knows', 'the fool', 'the wise', 'think he', 'to be', 'wise man']\n"
     ]
    }
   ],
   "source": [
    "cv = CountVectorizer(ngram_range=(2, 2)).fit(bards_words)\n",
    "print(\"Vocabulary size: {}\".format(len(cv.vocabulary_)))\n",
    "print(\"Vocabuluary:\\n{}\".format(cv.get_feature_names()))"
   ]
  },
  {
   "cell_type": "code",
   "execution_count": 86,
   "metadata": {
    "ExecuteTime": {
     "end_time": "2018-07-27T07:59:17.749675Z",
     "start_time": "2018-07-27T07:59:17.742693Z"
    }
   },
   "outputs": [
    {
     "name": "stdout",
     "output_type": "stream",
     "text": [
      "Transformed data (dense):\n",
      "[[0 0 1 1 1 0 1 0 0 1 0 1 0 0]\n",
      " [1 1 0 0 0 1 0 1 1 0 1 0 1 1]]\n"
     ]
    }
   ],
   "source": [
    "print(\"Transformed data (dense):\\n{}\".format(cv.transform(bards_words).toarray()))"
   ]
  },
  {
   "cell_type": "code",
   "execution_count": 88,
   "metadata": {
    "ExecuteTime": {
     "end_time": "2018-07-27T07:59:57.798815Z",
     "start_time": "2018-07-27T07:59:57.792821Z"
    }
   },
   "outputs": [
    {
     "name": "stdout",
     "output_type": "stream",
     "text": [
      "  (0, 2)\t1\n",
      "  (0, 3)\t1\n",
      "  (0, 4)\t1\n",
      "  (0, 6)\t1\n",
      "  (0, 9)\t1\n",
      "  (0, 11)\t1\n",
      "  (1, 0)\t1\n",
      "  (1, 1)\t1\n",
      "  (1, 5)\t1\n",
      "  (1, 7)\t1\n",
      "  (1, 8)\t1\n",
      "  (1, 10)\t1\n",
      "  (1, 12)\t1\n",
      "  (1, 13)\t1\n"
     ]
    }
   ],
   "source": [
    "print(cv.transform(bards_words))"
   ]
  },
  {
   "cell_type": "code",
   "execution_count": 89,
   "metadata": {
    "ExecuteTime": {
     "end_time": "2018-07-27T08:04:26.180023Z",
     "start_time": "2018-07-27T08:04:26.174037Z"
    }
   },
   "outputs": [
    {
     "data": {
      "text/plain": [
       "<2x14 sparse matrix of type '<class 'numpy.int64'>'\n",
       "\twith 14 stored elements in Compressed Sparse Row format>"
      ]
     },
     "execution_count": 89,
     "metadata": {},
     "output_type": "execute_result"
    }
   ],
   "source": [
    "cv.transform(bards_words)"
   ]
  },
  {
   "cell_type": "markdown",
   "metadata": {},
   "source": [
    "在bards_words上使用一元分词、二元分词："
   ]
  },
  {
   "cell_type": "code",
   "execution_count": 90,
   "metadata": {
    "ExecuteTime": {
     "end_time": "2018-07-27T08:06:45.637172Z",
     "start_time": "2018-07-27T08:06:45.629163Z"
    }
   },
   "outputs": [
    {
     "name": "stdout",
     "output_type": "stream",
     "text": [
      "Vocabulary size: 27\n",
      "Vocabuluary:\n",
      "['be', 'be fool', 'but', 'but the', 'doth', 'doth think', 'fool', 'fool doth', 'he', 'he is', 'himself', 'himself to', 'is', 'is wise', 'knows', 'knows himself', 'man', 'man knows', 'the', 'the fool', 'the wise', 'think', 'think he', 'to', 'to be', 'wise', 'wise man']\n"
     ]
    }
   ],
   "source": [
    "cv = CountVectorizer(ngram_range=(1, 2)).fit(bards_words)\n",
    "print(\"Vocabulary size: {}\".format(len(cv.vocabulary_)))\n",
    "print(\"Vocabuluary:\\n{}\".format(cv.get_feature_names()))"
   ]
  },
  {
   "cell_type": "markdown",
   "metadata": {
    "ExecuteTime": {
     "end_time": "2018-07-27T08:08:09.274671Z",
     "start_time": "2018-07-27T08:08:09.266690Z"
    }
   },
   "source": [
    "在bards_words上使用一元分词、二元分词和三元分词："
   ]
  },
  {
   "cell_type": "code",
   "execution_count": 92,
   "metadata": {
    "ExecuteTime": {
     "end_time": "2018-07-27T08:08:17.902850Z",
     "start_time": "2018-07-27T08:08:17.894903Z"
    }
   },
   "outputs": [
    {
     "name": "stdout",
     "output_type": "stream",
     "text": [
      "Vocabulary size: 39\n",
      "Vocabuluary:\n",
      "['be', 'be fool', 'but', 'but the', 'but the wise', 'doth', 'doth think', 'doth think he', 'fool', 'fool doth', 'fool doth think', 'he', 'he is', 'he is wise', 'himself', 'himself to', 'himself to be', 'is', 'is wise', 'knows', 'knows himself', 'knows himself to', 'man', 'man knows', 'man knows himself', 'the', 'the fool', 'the fool doth', 'the wise', 'the wise man', 'think', 'think he', 'think he is', 'to', 'to be', 'to be fool', 'wise', 'wise man', 'wise man knows']\n"
     ]
    }
   ],
   "source": [
    "cv = CountVectorizer(ngram_range=(1, 3)).fit(bards_words)\n",
    "print(\"Vocabulary size: {}\".format(len(cv.vocabulary_)))\n",
    "print(\"Vocabuluary:\\n{}\".format(cv.get_feature_names()))"
   ]
  },
  {
   "cell_type": "markdown",
   "metadata": {},
   "source": [
    "在IMDb电影评论数据上使用`TfidfVectorizer`，并利用网格搜索找出n元分词的最佳设置："
   ]
  },
  {
   "cell_type": "code",
   "execution_count": 93,
   "metadata": {
    "ExecuteTime": {
     "end_time": "2018-07-27T14:42:51.145770Z",
     "start_time": "2018-07-27T14:25:05.942923Z"
    }
   },
   "outputs": [
    {
     "name": "stdout",
     "output_type": "stream",
     "text": [
      "Best cv score: 0.91\n",
      "Best parameters: \n",
      "{'logisticregression__C': 1000, 'tfidfvectorizer__ngram_range': (1, 3)}\n"
     ]
    }
   ],
   "source": [
    "pipe = make_pipeline(TfidfVectorizer(min_df=5),\n",
    "                     LogisticRegression())\n",
    "param_grid = {'logisticregression__C': [0.001, 0.01, 0.1, 1, 10, 100, 1000],\n",
    "              'tfidfvectorizer__ngram_range': [(1, 1), (1, 2), (1, 3)]}\n",
    "grid_search = GridSearchCV(pipe, param_grid=param_grid, cv=5, n_jobs=-1)\n",
    "grid_search.fit(text_train, y_train)\n",
    "print(\"Best cv score: {:.2f}\".format(grid_search.best_score_))\n",
    "print(\"Best parameters: \\n{}\".format(grid_search.best_params_))"
   ]
  },
  {
   "cell_type": "markdown",
   "metadata": {},
   "source": [
    "将交叉验证精度作为`ngram_range`和`C`参数的函数并用热图可视化："
   ]
  },
  {
   "cell_type": "code",
   "execution_count": 99,
   "metadata": {
    "ExecuteTime": {
     "end_time": "2018-07-27T15:10:19.835755Z",
     "start_time": "2018-07-27T15:10:19.702114Z"
    }
   },
   "outputs": [
    {
     "data": {
      "image/png": "[encoded data removed]",
      "text/plain": [
       "<Figure size 432x288 with 1 Axes>"
      ]
     },
     "metadata": {},
     "output_type": "display_data"
    }
   ],
   "source": [
    "# 从网格搜索中提取分数\n",
    "scores = grid_search.cv_results_['mean_test_score'].reshape(-1, 3).T\n",
    "\n",
    "fig, ax = plt.subplots()\n",
    "im = ax.imshow(scores)\n",
    "\n",
    "ax.set_xlabel(\"C\")\n",
    "ax.set_ylabel(\"ngram_range\")\n",
    "xticklabels = param_grid['logisticregression__C']\n",
    "yticklabels = param_grid['tfidfvectorizer__ngram_range']\n",
    "ax.set_xticks(np.arange(len(xticklabels)))\n",
    "ax.set_yticks(np.arange(len(yticklabels)))\n",
    "ax.set_xticklabels(xticklabels)\n",
    "ax.set_yticklabels(yticklabels)\n",
    "\n",
    "# Loop over data dimensions and create text annotations\n",
    "for i in range(len(yticklabels)):\n",
    "    for j in range(len(xticklabels)):\n",
    "        text = ax.text(j, i, scores[i, j], ha='center', va='center', color='k')\n",
    "fig.tight_layout()\n",
    "plt.show()"
   ]
  },
  {
   "cell_type": "markdown",
   "metadata": {},
   "source": [
    "> 使用二元分词对性能有很大提高，而添加三元分词对精度只有很小贡献。"
   ]
  },
  {
   "cell_type": "markdown",
   "metadata": {},
   "source": [
    "将最佳模型的重要系数可视化："
   ]
  },
  {
   "cell_type": "code",
   "execution_count": 105,
   "metadata": {
    "ExecuteTime": {
     "end_time": "2018-07-27T15:24:04.457184Z",
     "start_time": "2018-07-27T15:24:03.402999Z"
    }
   },
   "outputs": [
    {
     "data": {
      "image/png": "[encoded data removed]",
      "text/plain": [
       "<Figure size 1080x360 with 1 Axes>"
      ]
     },
     "metadata": {},
     "output_type": "display_data"
    }
   ],
   "source": [
    "vect = grid_search.best_estimator_.named_steps['tfidfvectorizer']\n",
    "feature_names = np.array(vect.get_feature_names())\n",
    "coefs = grid_search.best_estimator_.named_steps['logisticregression'].coef_\n",
    "coefs = coefs.ravel()\n",
    "pos_coefs = np.argsort(coefs)[-40:]\n",
    "neg_coefs = np.argsort(coefs)[:40]\n",
    "interesting_coefs = np.hstack((neg_coefs, pos_coefs))\n",
    "\n",
    "plt.figure(figsize=(15, 5))\n",
    "colors = ['r' if x < 0 else 'g' for x in coefs[interesting_coefs]]\n",
    "plt.bar(np.arange(2 * 40), coefs[interesting_coefs], color=colors)\n",
    "plt.xticks(range(1, 1 + 2 * 40), np.array(feature_names[interesting_coefs]),\n",
    "           ha='right', rotation=90)\n",
    "plt.xlabel(\"Feature\")\n",
    "plt.ylabel(\"Coefficient magnitude\")\n",
    "plt.show()"
   ]
  },
  {
   "cell_type": "markdown",
   "metadata": {},
   "source": [
    "> 同时使用tf-idf缩放与一元分词、二元分词和三元分词时的特征（最重要和最不重要）"
   ]
  },
  {
   "cell_type": "markdown",
   "metadata": {},
   "source": [
    "只将三元分词可视化："
   ]
  },
  {
   "cell_type": "code",
   "execution_count": 114,
   "metadata": {
    "ExecuteTime": {
     "end_time": "2018-07-27T15:32:10.651441Z",
     "start_time": "2018-07-27T15:32:09.405759Z"
    }
   },
   "outputs": [
    {
     "data": {
      "image/png": "[encoded data removed]",
      "text/plain": [
       "<Figure size 1080x360 with 1 Axes>"
      ]
     },
     "metadata": {},
     "output_type": "display_data"
    }
   ],
   "source": [
    "vect = grid_search.best_estimator_.named_steps['tfidfvectorizer']\n",
    "mask = np.array([len(feature.split(\" \")) for feature in feature_names]) == 3\n",
    "feature_names = feature_names[mask]\n",
    "feature_names = np.array(vect.get_feature_names())\n",
    "coefs = grid_search.best_estimator_.named_steps['logisticregression'].coef_\n",
    "coefs = coefs.ravel()[mask]\n",
    "pos_coefs = np.argsort(coefs)[-40:]\n",
    "neg_coefs = np.argsort(coefs)[:40]\n",
    "interesting_coefs = np.hstack((neg_coefs, pos_coefs))\n",
    "\n",
    "plt.figure(figsize=(15, 5))\n",
    "colors = ['r' if x < 0 else 'g' for x in coefs[interesting_coefs]]\n",
    "plt.bar(np.arange(2 * 40), coefs[interesting_coefs], color=colors)\n",
    "plt.xticks(range(1, 1 + 2 * 40), np.array(feature_names[interesting_coefs]),\n",
    "           ha='right', rotation=90)\n",
    "plt.xlabel(\"Feature\")\n",
    "plt.ylabel(\"Coefficient magnitude\")\n",
    "plt.ylim((-20, 20))\n",
    "plt.show()"
   ]
  },
  {
   "cell_type": "markdown",
   "metadata": {},
   "source": [
    "> 许多有用的二元分词和三元分词都由常见的单词组成，这些单词本身可能没有什么信息量。  \n",
    "与一元分词重要的特征性相比，这些特征（三元分词）的影响非常有限。"
   ]
  },
  {
   "cell_type": "markdown",
   "metadata": {},
   "source": [
    "## 7.8 高级分词、词干提取与词形还原"
   ]
  },
  {
   "cell_type": "markdown",
   "metadata": {},
   "source": [
    "## 7.9 主题建模与文档聚类"
   ]
  },
  {
   "cell_type": "markdown",
   "metadata": {},
   "source": [
    "**主题建模（topic modeling）**是描述将每个文档分配给一个或多个主题的任务（通常是无监督的）的概括性术语。如果为每个文档分配一个主题，那么这是一个文档聚类任务。如果每个文档可以有多个主题，那么这个任务与分解方法（PCA、NMF等）有关。学到的每个成分对应一个主题，文档表示中的成分系数告诉我们这个文档与该主题的相关性强弱。通常来说，在谈论主题建模时，指的是一种叫做**隐含狄利克雷分布（Latent Dirichlet Allocation, LDA）**的特定分布。"
   ]
  },
  {
   "cell_type": "markdown",
   "metadata": {},
   "source": [
    "直观上来看，LDA模型试图找出频繁共同出现的单词群组（即主题）。LDA还要求，每个文档可以被理解为主题子集的“混合”。"
   ]
  },
  {
   "cell_type": "markdown",
   "metadata": {},
   "source": [
    "对于无监督的文本文档模型，通常最好删除非常常见的单词，否则它们可能会支配分析过程。"
   ]
  },
  {
   "cell_type": "markdown",
   "metadata": {
    "ExecuteTime": {
     "end_time": "2018-07-28T02:40:19.512195Z",
     "start_time": "2018-07-28T02:40:19.503204Z"
    }
   },
   "source": [
    "将LDA应用于电影评论集："
   ]
  },
  {
   "cell_type": "markdown",
   "metadata": {},
   "source": [
    "删除至少在15%文档中出现过的单词，并在删除前15%之后，将词袋模型限定为最常见的10000个单词："
   ]
  },
  {
   "cell_type": "code",
   "execution_count": 122,
   "metadata": {
    "ExecuteTime": {
     "end_time": "2018-07-28T02:53:04.765883Z",
     "start_time": "2018-07-28T02:52:59.045181Z"
    }
   },
   "outputs": [],
   "source": [
    "vect = CountVectorizer(max_features=10000, max_df=0.15)\n",
    "X = vect.fit_transform(text_train)"
   ]
  },
  {
   "cell_type": "code",
   "execution_count": 124,
   "metadata": {
    "ExecuteTime": {
     "end_time": "2018-07-28T02:57:14.337688Z",
     "start_time": "2018-07-28T02:57:14.331704Z"
    }
   },
   "outputs": [
    {
     "data": {
      "text/plain": [
       "<25000x10000 sparse matrix of type '<class 'numpy.int64'>'\n",
       "\twith 1948677 stored elements in Compressed Sparse Row format>"
      ]
     },
     "execution_count": 124,
     "metadata": {},
     "output_type": "execute_result"
    }
   ],
   "source": [
    "X"
   ]
  },
  {
   "cell_type": "markdown",
   "metadata": {},
   "source": [
    "学习一个包含10个主题的主题模型："
   ]
  },
  {
   "cell_type": "code",
   "execution_count": 126,
   "metadata": {
    "ExecuteTime": {
     "end_time": "2018-07-28T03:09:17.396003Z",
     "start_time": "2018-07-28T03:03:02.936705Z"
    }
   },
   "outputs": [],
   "source": [
    "from sklearn.decomposition import LatentDirichletAllocation\n",
    "\n",
    "# 使用batch方法，比online(默认)稍慢，但给出更好的结果\n",
    "# 增大max_iter，会得到更好的模型\n",
    "lda = LatentDirichletAllocation(n_components=10, learning_method='batch',\n",
    "                                max_iter=25, random_state=0)\n",
    "document_topics = lda.fit_transform(X)"
   ]
  },
  {
   "cell_type": "markdown",
   "metadata": {
    "ExecuteTime": {
     "end_time": "2018-07-28T04:33:47.853464Z",
     "start_time": "2018-07-28T04:33:47.847481Z"
    }
   },
   "source": [
    "lda.components_属性保存了每个单词对每个主题的重要性："
   ]
  },
  {
   "cell_type": "code",
   "execution_count": 129,
   "metadata": {
    "ExecuteTime": {
     "end_time": "2018-07-28T04:34:01.804424Z",
     "start_time": "2018-07-28T04:34:01.798473Z"
    }
   },
   "outputs": [
    {
     "data": {
      "text/plain": [
       "(10, 10000)"
      ]
     },
     "execution_count": 129,
     "metadata": {},
     "output_type": "execute_result"
    }
   ],
   "source": [
    "lda.components_.shape  # (n_topics, n_words)"
   ]
  },
  {
   "cell_type": "code",
   "execution_count": 130,
   "metadata": {
    "ExecuteTime": {
     "end_time": "2018-07-28T04:34:47.542037Z",
     "start_time": "2018-07-28T04:34:47.535055Z"
    }
   },
   "outputs": [
    {
     "data": {
      "text/plain": [
       "array([[  1.00008486e-01,   1.00013189e-01,   2.92462887e+02, ...,\n",
       "          1.00008441e-01,   1.00001041e-01,   1.00011322e-01],\n",
       "       [  1.00023754e-01,   7.38846180e+01,   1.23643614e+02, ...,\n",
       "          1.00038364e-01,   1.00008016e-01,   4.10997933e+01],\n",
       "       [  1.54089717e+01,   3.09788112e+01,   8.86029433e+02, ...,\n",
       "          2.17772720e+00,   1.00006122e-01,   1.00005977e-01],\n",
       "       ..., \n",
       "       [  1.60452574e-01,   7.44217167e+00,   5.19173853e+01, ...,\n",
       "          1.00022325e-01,   5.90999435e+01,   1.00012920e-01],\n",
       "       [  1.48224257e+00,   7.02425119e+00,   2.38128005e+02, ...,\n",
       "          3.60839141e-01,   1.00002324e-01,   1.00000197e-01],\n",
       "       [  2.85702750e+01,   1.17810172e+02,   1.42082626e+02, ...,\n",
       "          7.78326414e+00,   1.00006686e-01,   1.00002372e-01]])"
      ]
     },
     "execution_count": 130,
     "metadata": {},
     "output_type": "execute_result"
    }
   ],
   "source": [
    "lda.components_"
   ]
  },
  {
   "cell_type": "markdown",
   "metadata": {},
   "source": [
    "查看每个主题中最重要的单词(前10个）："
   ]
  },
  {
   "cell_type": "code",
   "execution_count": 141,
   "metadata": {
    "ExecuteTime": {
     "end_time": "2018-07-28T04:56:04.393706Z",
     "start_time": "2018-07-28T04:56:04.329845Z"
    }
   },
   "outputs": [
    {
     "name": "stdout",
     "output_type": "stream",
     "text": [
      "topic 0:\n",
      "['between' 'young' 'family' 'real' 'performance' 'beautiful' 'work' 'each'\n",
      " 'both' 'director'] \n",
      "\n",
      "topic 1:\n",
      "['war' 'world' 'us' 'our' 'american' 'documentary' 'history' 'new' 'own'\n",
      " 'point'] \n",
      "\n",
      "topic 2:\n",
      "['funny' 'worst' 'comedy' 'thing' 'guy' 're' 'stupid' 'actually' 'nothing'\n",
      " 'want'] \n",
      "\n",
      "topic 3:\n",
      "['show' 'series' 'episode' 'tv' 'episodes' 'shows' 'season' 'new'\n",
      " 'television' 'years'] \n",
      "\n",
      "topic 4:\n",
      "['didn' 'saw' 'am' 'thought' 'years' 'book' 'watched' 'now' 'dvd' 'got'] \n",
      "\n",
      "topic 5:\n",
      "['horror' 'action' 'effects' 'budget' 'nothing' 'original' 'director'\n",
      " 'minutes' 'pretty' 'doesn'] \n",
      "\n",
      "topic 6:\n",
      "['kids' 'action' 'animation' 'game' 'fun' 'disney' 'children' '10' 'kid'\n",
      " 'old'] \n",
      "\n",
      "topic 7:\n",
      "['cast' 'role' 'john' 'version' 'novel' 'both' 'director' 'played'\n",
      " 'performance' 'mr'] \n",
      "\n",
      "topic 8:\n",
      "['performance' 'role' 'john' 'actor' 'oscar' 'cast' 'plays' 'jack' 'joe'\n",
      " 'performances'] \n",
      "\n",
      "topic 9:\n",
      "['house' 'woman' 'gets' 'killer' 'girl' 'wife' 'horror' 'young' 'goes'\n",
      " 'around'] \n",
      "\n"
     ]
    }
   ],
   "source": [
    "sorting = np.argsort(lda.components_, axis=1)[:, ::-1]\n",
    "feature_names = np.array(vect.get_feature_names())\n",
    "\n",
    "for i in range(lda.n_components):\n",
    "    print(\"topic {}:\".format(i))\n",
    "    print(feature_names[sorting[i, :10]], \"\\n\")"
   ]
  },
  {
   "cell_type": "markdown",
   "metadata": {},
   "source": [
    "> 仅使用10个主题，每个主题都需要非常宽泛，才能共同涵盖数据集中所有不同类型的评论。"
   ]
  },
  {
   "cell_type": "markdown",
   "metadata": {},
   "source": [
    "学习一个包含100个主题的模型："
   ]
  },
  {
   "cell_type": "code",
   "execution_count": 142,
   "metadata": {
    "ExecuteTime": {
     "end_time": "2018-07-28T05:11:51.336230Z",
     "start_time": "2018-07-28T05:02:13.554573Z"
    }
   },
   "outputs": [],
   "source": [
    "lda_100_components = LatentDirichletAllocation(n_components=100,\n",
    "                                               learning_method='batch',\n",
    "                                               max_iter=25, random_state=0)\n",
    "document_100_topics = lda_100_components.fit_transform(X)"
   ]
  },
  {
   "cell_type": "code",
   "execution_count": 148,
   "metadata": {
    "ExecuteTime": {
     "end_time": "2018-07-28T08:13:45.743570Z",
     "start_time": "2018-07-28T08:13:45.737562Z"
    }
   },
   "outputs": [
    {
     "data": {
      "text/plain": [
       "(25000, 100)"
      ]
     },
     "execution_count": 148,
     "metadata": {},
     "output_type": "execute_result"
    }
   ],
   "source": [
    "document_100_topics.shape  # (n_documents, n_topics)"
   ]
  },
  {
   "cell_type": "code",
   "execution_count": 149,
   "metadata": {
    "ExecuteTime": {
     "end_time": "2018-07-28T08:13:48.886141Z",
     "start_time": "2018-07-28T08:13:48.767457Z"
    }
   },
   "outputs": [
    {
     "name": "stdout",
     "output_type": "stream",
     "text": [
      "topic i: 7\n",
      "['thriller' 'suspense' 'horror' 'atmosphere' 'mystery' 'house' 'director'\n",
      " 'quite' 'bit' 'de' 'performances' 'dark' 'twist' 'hitchcock' 'tension'\n",
      " 'interesting' 'mysterious' 'murder' 'ending' 'creepy'] \n",
      "\n",
      "topic i: 16\n",
      "['worst' 'awful' 'boring' 'horrible' 'stupid' 'thing' 'terrible' 'script'\n",
      " 'nothing' 'worse' 'waste' 'pretty' 'minutes' 'didn' 'actors' 'actually'\n",
      " 're' 'supposed' 'mean' 'want'] \n",
      "\n",
      "topic i: 24\n",
      "['german' 'hitler' 'nazi' 'midnight' 'joe' 'germany' 'years' 'history'\n",
      " 'new' 'modesty' 'cowboy' 'jewish' 'past' 'kirk' 'young' 'spanish'\n",
      " 'enterprise' 'von' 'nazis' 'spock'] \n",
      "\n",
      "topic i: 25\n",
      "['car' 'gets' 'guy' 'around' 'down' 'kill' 'goes' 'killed' 'going' 'house'\n",
      " 'away' 'head' 'take' 'another' 'getting' 'doesn' 'now' 'night' 'right'\n",
      " 'woman'] \n",
      "\n",
      "topic i: 28\n",
      "['beautiful' 'young' 'old' 'romantic' 'between' 'romance' 'wonderful'\n",
      " 'heart' 'feel' 'year' 'each' 'french' 'sweet' 'boy' 'loved' 'girl'\n",
      " 'relationship' 'saw' 'both' 'simple'] \n",
      "\n",
      "topic i: 36\n",
      "['performance' 'role' 'actor' 'cast' 'play' 'actors' 'performances'\n",
      " 'played' 'supporting' 'director' 'oscar' 'roles' 'actress' 'excellent'\n",
      " 'screen' 'plays' 'award' 'work' 'playing' 'gives'] \n",
      "\n",
      "topic i: 37\n",
      "['excellent' 'highly' 'amazing' 'wonderful' 'truly' 'superb' 'actors'\n",
      " 'brilliant' 'recommend' 'quite' 'performance' 'performances' 'perfect'\n",
      " 'drama' 'without' 'beautiful' 'human' 'moving' 'world' 'recommended'] \n",
      "\n",
      "topic i: 41\n",
      "['war' 'american' 'world' 'soldiers' 'military' 'army' 'tarzan' 'soldier'\n",
      " 'america' 'country' 'americans' 'during' 'men' 'us' 'government' 'jungle'\n",
      " 'vietnam' 'ii' 'political' 'against'] \n",
      "\n",
      "topic i: 45\n",
      "['music' 'song' 'songs' 'rock' 'band' 'soundtrack' 'singing' 'voice'\n",
      " 'singer' 'sing' 'musical' 'roll' 'fan' 'metal' 'concert' 'playing' 'hear'\n",
      " 'fans' 'prince' 'especially'] \n",
      "\n",
      "topic i: 51\n",
      "['earth' 'space' 'planet' 'superman' 'alien' 'world' 'evil' 'humans'\n",
      " 'aliens' 'human' 'creatures' 'miike' 'monsters' 'apes' 'clark' 'burton'\n",
      " 'tim' 'outer' 'men' 'moon'] \n",
      "\n",
      "topic i: 53\n",
      "['scott' 'gary' 'streisand' 'star' 'hart' 'lundgren' 'dolph' 'career'\n",
      " 'sabrina' 'role' 'temple' 'phantom' 'judy' 'melissa' 'zorro' 'gets'\n",
      " 'barbra' 'cast' 'short' 'serial'] \n",
      "\n",
      "topic i: 54\n",
      "['money' 'budget' 'actors' 'low' 'worst' 'waste' '10' 'give' 'want'\n",
      " 'nothing' 'terrible' 'crap' 'must' 'reviews' 'imdb' 'director' 'thing'\n",
      " 'believe' 'am' 'actually'] \n",
      "\n",
      "topic i: 63\n",
      "['funny' 'comedy' 'laugh' 'jokes' 'humor' 'hilarious' 'laughs' 'fun' 're'\n",
      " 'funniest' 'laughing' 'joke' 'few' 'moments' 'guy' 'unfunny' 'times'\n",
      " 'laughed' 'comedies' 'isn'] \n",
      "\n",
      "topic i: 89\n",
      "['dead' 'zombie' 'gore' 'zombies' 'blood' 'horror' 'flesh' 'minutes' 'body'\n",
      " 'living' 'eating' 'flick' 'budget' 'head' 'gory' 'evil' 'shot' 'low'\n",
      " 'fulci' 're'] \n",
      "\n",
      "topic i: 97\n",
      "['didn' 'thought' 'wasn' 'ending' 'minutes' 'got' 'felt' 'part' 'going'\n",
      " 'seemed' 'bit' 'found' 'though' 'nothing' 'lot' 'saw' 'long' 'interesting'\n",
      " 'few' 'half'] \n",
      "\n"
     ]
    }
   ],
   "source": [
    "topics = np.array([7, 16, 24, 25, 28, 36, 37, 41, 45, 51, 53, 54, 63, 89, 97])\n",
    "\n",
    "sorting = np.argsort(lda_100_components.components_, axis=1)[:, ::-1]\n",
    "feature_names = np.array(vect.get_feature_names())\n",
    "for i in topics:\n",
    "    print(\"topic i: {}\".format(i))\n",
    "    print(feature_names[sorting[i, :20]], '\\n')"
   ]
  },
  {
   "cell_type": "markdown",
   "metadata": {},
   "source": [
    "> 使用更多的主题，将使得分析过程更加困难，但更可能使主题专门针对于某个有趣的数据子集。"
   ]
  },
  {
   "cell_type": "markdown",
   "metadata": {},
   "source": [
    "**想要利用发现的主题做出进一步的推断，应该查看分配给这些主题的文档，以验证通过查看每个主题排名最靠前的单词所得到的直觉。**"
   ]
  },
  {
   "cell_type": "markdown",
   "metadata": {},
   "source": [
    "主题45似乎是关于音乐的，查看哪些评论被分配给这个主题："
   ]
  },
  {
   "cell_type": "code",
   "execution_count": 157,
   "metadata": {
    "ExecuteTime": {
     "end_time": "2018-07-28T08:20:04.319097Z",
     "start_time": "2018-07-28T08:20:04.296158Z"
    }
   },
   "outputs": [
    {
     "name": "stdout",
     "output_type": "stream",
     "text": [
      "b'I love this movie and never get tired of watching. The music in it is great.\\n'\n",
      "b\"I enjoyed Still Crazy more than any film I have seen in years. A successful band from the 70's decide to give it another try.\\n\"\n",
      "b'Hollywood Hotel was the last movie musical that Busby Berkeley directed for Warner Bros. His directing style had changed or evolved to the point that this film does not contain his signature overhead shots or huge production numbers with thousands of extras.\\n'\n",
      "b\"What happens to washed up rock-n-roll stars in the late 1990's? They launch a comeback / reunion tour. At least, that's what the members of Strange Fruit, a (fictional) 70's stadium rock group do.\\n\"\n",
      "b'As a big-time Prince fan of the last three to four years, I really can\\'t believe I\\'ve only just got round to watching \"Purple Rain\". The brand new 2-disc anniversary Special Edition led me to buy it.\\n'\n",
      "b\"This film is worth seeing alone for Jared Harris' outstanding portrayal of John Lennon. It doesn't matter that Harris doesn't exactly resemble Lennon; his mannerisms, expressions, posture, accent and attitude are pure Lennon.\\n\"\n",
      "b\"The funky, yet strictly second-tier British glam-rock band Strange Fruit breaks up at the end of the wild'n'wacky excess-ridden 70's. The individual band members go their separate ways and uncomfortably settle into lackluster middle age in the dull and uneventful 90's: morose keyboardist Stephen Rea winds up penniless and down on his luck, vain, neurotic, pretentious lead singer Bill Nighy tries (and fails) to pursue a floundering solo career, paranoid drummer Timothy Spall resides in obscurity on a remote farm so he can avoid paying a hefty back taxes debt, and surly bass player Jimmy Nail installs roofs for a living.\\n\"\n",
      "b\"I just finished reading a book on Anita Loos' work and the photo in TCM Magazine of MacDonald in her angel costume looked great (impressive wings), so I thought I'd watch this movie. I'd never heard of the film before, so I had no preconceived notions about it whatsoever.\\n\"\n",
      "b'I love this movie!!! Purple Rain came out the year I was born and it has had my heart since I can remember. Prince is so tight in this movie.\\n'\n",
      "b\"This movie is sort of a Carrie meets Heavy Metal. It's about a highschool guy who gets picked on alot and he totally gets revenge with the help of a Heavy Metal ghost.\\n\"\n"
     ]
    }
   ],
   "source": [
    "# 按主题45进行排序\n",
    "music = np.argsort(document_100_topics[:, 45])[::-1]\n",
    "# Print the five documents where the topic is most important\n",
    "for i in music[:10]:\n",
    "    # 显示前两个句子\n",
    "    print(b\".\".join(text_train[i].split(b\".\")[:2]) + b'.\\n')"
   ]
  },
  {
   "cell_type": "markdown",
   "metadata": {},
   "source": [
    "**查看主题**还有一种有趣的方法，就是**通过对所有评论的`document_topics`进行求和来查看每个主题所获得的整体权重**。"
   ]
  },
  {
   "cell_type": "code",
   "execution_count": 166,
   "metadata": {
    "ExecuteTime": {
     "end_time": "2018-07-28T08:44:32.127296Z",
     "start_time": "2018-07-28T08:44:30.857690Z"
    },
    "scrolled": false
   },
   "outputs": [
    {
     "data": {
      "image/png": "[encoded data removed]",
      "text/plain": [
       "<Figure size 720x2160 with 1 Axes>"
      ]
     },
     "metadata": {},
     "output_type": "display_data"
    }
   ],
   "source": [
    "fig, ax = plt.subplots(figsize=(10, 30))\n",
    "topic_names = [\"{:>2} \".format(i) + \" \".join(words)\n",
    "               for i, words in enumerate(feature_names[sorting[:, :2]])]\n",
    "plt.barh(np.arange(100), np.sum(document_100_topics, axis=0))\n",
    "plt.yticks(np.arange(100) + 0.5, topic_names, ha=\"left\")\n",
    "ax = plt.gca()\n",
    "ax.invert_yaxis()\n",
    "yax = ax.get_yaxis()\n",
    "yax.set_tick_params(pad=110)"
   ]
  },
  {
   "cell_type": "markdown",
   "metadata": {},
   "source": [
    "> LDA似乎主要发现了两种主题：特定类型的主题与特定评分的主题。"
   ]
  }
 ],
 "metadata": {
  "kernelspec": {
   "display_name": "Python 3",
   "language": "python",
   "name": "python3"
  },
  "language_info": {
   "codemirror_mode": {
    "name": "ipython",
    "version": 3
   },
   "file_extension": ".py",
   "mimetype": "text/x-python",
   "name": "python",
   "nbconvert_exporter": "python",
   "pygments_lexer": "ipython3",
   "version": "3.6.4"
  },
  "latex_envs": {
   "LaTeX_envs_menu_present": true,
   "autoclose": false,
   "autocomplete": true,
   "bibliofile": "biblio.bib",
   "cite_by": "apalike",
   "current_citInitial": 1,
   "eqLabelWithNumbers": true,
   "eqNumInitial": 1,
   "hotkeys": {
    "equation": "Ctrl-E",
    "itemize": "Ctrl-I"
   },
   "labels_anchors": false,
   "latex_user_defs": false,
   "report_style_numbering": false,
   "user_envs_cfg": false
  },
  "nbTranslate": {
   "displayLangs": [
    "*"
   ],
   "hotkey": "alt-t",
   "langInMainMenu": true,
   "sourceLang": "en",
   "targetLang": "fr",
   "useGoogleTranslate": true
  }
 },
 "nbformat": 4,
 "nbformat_minor": 2
}
